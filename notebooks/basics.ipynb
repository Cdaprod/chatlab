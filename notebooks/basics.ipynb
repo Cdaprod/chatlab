{
 "cells": [
  {
   "cell_type": "markdown",
   "id": "4e0d00d2-8ef6-41a5-aa93-3d597e322fda",
   "metadata": {},
   "source": [
    "## ChatLab: Chat Experiments, Simplified\n",
    "\n",
    "💬🔬"
   ]
  },
  {
   "cell_type": "code",
   "execution_count": 2,
   "id": "9e24b9de-dbb6-4c98-aaad-e9d983ac3cf1",
   "metadata": {},
   "outputs": [
    {
     "data": {
      "text/markdown": [
       "A Murkrow is a fictional species of bird Pokémon. It is a Dark/Flying-type Pokémon that was introduced in the Pokémon franchise."
      ],
      "text/plain": [
       "A Murkrow is a fictional species of bird Pokémon. It is a Dark/Flying-type Pokémon that was introduced in the Pokémon franchise."
      ]
     },
     "metadata": {
      "text/markdown": {
       "chatlab": {
        "default": true
       }
      }
     },
     "output_type": "display_data"
    }
   ],
   "source": [
    "import chatlab\n",
    "\n",
    "conversation = chatlab.Conversation()\n",
    "\n",
    "conversation.submit(\"What kind of bird is a murkrow?\")"
   ]
  },
  {
   "cell_type": "code",
   "execution_count": 3,
   "id": "03bc7ff6-1cbd-455f-be67-98805a479938",
   "metadata": {},
   "outputs": [
    {
     "data": {
      "text/markdown": [
       "Murkrow is a Dark/Flying type Pokémon. It is a small, crow-like bird with a dark plumage, yellow eyes, and a signature feathery crest on its head. Murkrow evolves into Honchkrow, which is also a Dark/Flying type Pokémon."
      ],
      "text/plain": [
       "Murkrow is a Dark/Flying type Pokémon. It is a small, crow-like bird with a dark plumage, yellow eyes, and a signature feathery crest on its head. Murkrow evolves into Honchkrow, which is also a Dark/Flying type Pokémon."
      ]
     },
     "metadata": {
      "text/markdown": {
       "chatlab": {
        "default": true
       }
      }
     },
     "output_type": "display_data"
    }
   ],
   "source": [
    "from chatlab import Conversation, user, system\n",
    "\n",
    "conversation = Conversation()\n",
    "\n",
    "conversation.submit(\n",
    "    user(\"What kind of bird is a murkrow?\"),\n",
    "    system(\"The user wants to know the Pokemon stats too!\")\n",
    ")"
   ]
  },
  {
   "cell_type": "code",
   "execution_count": 4,
   "id": "6be93f85-a0c1-49f6-862b-458b857ba205",
   "metadata": {},
   "outputs": [
    {
     "data": {
      "text/markdown": [
       "Some Pokémon that are similar to Murkrow in terms of being Dark/Flying types or having a similar appearance include:\n",
       "\n",
       "1. Honchkrow - The evolved form of Murkrow, Honchkrow is also a Dark/Flying type Pokémon and shares similar characteristics with its pre-evolved form.\n",
       "\n",
       "2. Mandibuzz - Mandibuzz is a Dark/Flying type Pokémon that resembles a vulture or a vulture-like bird. It has a similar dark plumage and nefarious appearance.\n",
       "\n",
       "3. Absol - Absol is a Dark type Pokémon that has a similar dark appearance and is often associated with ill fortune and disaster.\n",
       "\n",
       "4. Chatot - While not being a Dark type, Chatot is a Flying type Pokémon with a similar bird-like appearance. It has a colorful plumage and a musical theme.\n",
       "\n",
       "5. Hoothoot/Noctowl - Hoothoot and Noctowl are Normal/Flying types that have a similar bird-like appearance. However, they are more owl-like in design compared to Murkrow.\n",
       "\n",
       "6. Pidgey/Pidgeotto/Pidgeot - This evolutionary line is also Normal/Flying types and share some similarities in terms of being bird-like Pokémon.\n",
       "\n",
       "These are just a few examples of Pokémon that have similarities to Murkrow."
      ],
      "text/plain": [
       "Some Pokémon that are similar to Murkrow in terms of being Dark/Flying types or having a similar appearance include:\n",
       "\n",
       "1. Honchkrow - The evolved form of Murkrow, Honchkrow is also a Dark/Flying type Pokémon and shares similar characteristics with its pre-evolved form.\n",
       "\n",
       "2. Mandibuzz - Mandibuzz is a Dark/Flying type Pokémon that resembles a vulture or a vulture-like bird. It has a similar dark plumage and nefarious appearance.\n",
       "\n",
       "3. Absol - Absol is a Dark type Pokémon that has a similar dark appearance and is often associated with ill fortune and disaster.\n",
       "\n",
       "4. Chatot - While not being a Dark type, Chatot is a Flying type Pokémon with a similar bird-like appearance. It has a colorful plumage and a musical theme.\n",
       "\n",
       "5. Hoothoot/Noctowl - Hoothoot and Noctowl are Normal/Flying types that have a similar bird-like appearance. However, they are more owl-like in design compared to Murkrow.\n",
       "\n",
       "6. Pidgey/Pidgeotto/Pidgeot - This evolutionary line is also Normal/Flying types and share some similarities in terms of being bird-like Pokémon.\n",
       "\n",
       "These are just a few examples of Pokémon that have similarities to Murkrow."
      ]
     },
     "metadata": {
      "text/markdown": {
       "chatlab": {
        "default": true
       }
      }
     },
     "output_type": "display_data"
    }
   ],
   "source": [
    "conversation.submit(\"Thank you. What pokemon are similar to this one?\")"
   ]
  },
  {
   "cell_type": "markdown",
   "id": "0d7ade64-78c2-494e-ac32-800ca592158d",
   "metadata": {},
   "source": [
    "💬🔬💬🔬💬🔬💬🔬💬🔬💬🔬💬🔬💬🔬💬🔬💬🔬💬🔬💬🔬💬🔬\n",
    "\n",
    "Where `chatlab` (and OpenAI, really) take it next level is with _Chat Functions_. You can declare a function with a schema then register it in your `Conversation` for GPT Models to call. You may recall this kind of behavior from [ChatGPT Plugins](https://noteable.io/chatgpt-plugin-for-notebook/). Now, you can take this even further with your own custom code.\n",
    "\n",
    "As an example, let's give the large language models the ability to tell time."
   ]
  },
  {
   "cell_type": "code",
   "execution_count": 4,
   "id": "fbfff959-213e-4619-8068-8d79b082f0ea",
   "metadata": {},
   "outputs": [],
   "source": [
    "from datetime import datetime\n",
    "from pytz import timezone, all_timezones, utc\n",
    "from typing import Optional\n",
    "from pydantic import BaseModel\n",
    "\n",
    "def what_time(tz: Optional[str] = None):\n",
    "    '''Current time, defaulting to UTC'''\n",
    "    if tz is None:\n",
    "        pass\n",
    "    elif tz in all_timezones:\n",
    "        tz = timezone(tz)\n",
    "    else:\n",
    "        return 'Invalid timezone'\n",
    "        \n",
    "    return datetime.now(tz).strftime('%I:%M %p')\n",
    "\n",
    "class WhatTime(BaseModel):\n",
    "    tz: Optional[str]"
   ]
  },
  {
   "cell_type": "markdown",
   "id": "3830f5f2-f625-4996-b6f1-7bf8a8e76e6f",
   "metadata": {},
   "source": [
    "Let's break this down.\n",
    "\n",
    "`what_time` is the function we're going to provide access to. Its docstring forms the `description` for the model while the schema comes from the pydantic `BaseModel` called `WhatTime`."
   ]
  },
  {
   "cell_type": "code",
   "execution_count": 7,
   "id": "b9224549-2645-4630-abb4-9d6a2620c49d",
   "metadata": {},
   "outputs": [],
   "source": [
    "import chatlab\n",
    "\n",
    "conversation = chatlab.Conversation()\n",
    "\n",
    "# Register our function\n",
    "conversation.register(what_time, WhatTime)\n",
    "# For ease of reuse\n",
    "chat = conversation.submit"
   ]
  },
  {
   "cell_type": "code",
   "execution_count": 8,
   "id": "8c18db94-71d9-4894-91bf-064ecfca13f5",
   "metadata": {},
   "outputs": [
    {
     "data": {
      "text/markdown": [
       " "
      ],
      "text/plain": [
       " "
      ]
     },
     "metadata": {
      "text/markdown": {
       "chatlab": {
        "default": true
       }
      }
     },
     "output_type": "display_data"
    },
    {
     "data": {
      "application/vdom.v1+json": {
       "attributes": {},
       "children": [
        {
         "attributes": {},
         "children": [
          ".chatlab-chat-details summary > *  { display: inline; color: #27374D; }"
         ],
         "tagName": "style"
        },
        {
         "attributes": {
          "className": "chatlab-chat-details",
          "style": {
           "background": "#DDE6ED",
           "borderRadius": "5px",
           "padding": ".5rem 1rem"
          }
         },
         "children": [
          {
           "attributes": {
            "style": {
             "color": "#27374D",
             "cursor": "pointer"
            }
           },
           "children": [
            {
             "attributes": {
              "style": {
               "color": "#9DB2BF",
               "paddingLeft": "5px",
               "paddingRight": "5px"
              }
             },
             "children": [
              "𝑓"
             ],
             "tagName": "span"
            },
            {
             "attributes": {
              "style": {
               "color": "#27374D",
               "paddingLeft": "5px",
               "paddingRight": "5px"
              }
             },
             "children": [
              "Finished"
             ],
             "tagName": "span"
            },
            {
             "attributes": {
              "style": {
               "fontFamily": "monospace",
               "unicodeBidi": "embed",
               "whiteSpace": "pre"
              }
             },
             "children": [
              "what_time"
             ],
             "tagName": "span"
            },
            {
             "attributes": {
              "style": {
               "fontFamily": "monospace",
               "unicodeBidi": "embed",
               "whiteSpace": "pre"
              }
             },
             "children": [
              ""
             ],
             "tagName": "span"
            }
           ],
           "tagName": "summary"
          },
          {
           "attributes": {
            "style": {
             "marginLeft": "10px",
             "marginTop": "10px"
            }
           },
           "children": [
            {
             "attributes": {},
             "children": [
              {
               "attributes": {
                "style": {
                 "color": "#27374D",
                 "fontWeight": "500",
                 "marginBottom": "5px"
                }
               },
               "children": [
                "Input:"
               ],
               "tagName": "div"
              },
              {
               "attributes": {
                "style": {
                 "background": "#F7F9FA",
                 "color": "#27374D",
                 "fontFamily": "monospace",
                 "marginBottom": "10px",
                 "padding": "10px",
                 "unicodeBidi": "embed",
                 "whiteSpace": "pre"
                }
               },
               "children": [
                "{}"
               ],
               "tagName": "div"
              }
             ],
             "tagName": "div"
            },
            {
             "attributes": {},
             "children": [
              {
               "attributes": {
                "style": {
                 "color": "#27374D",
                 "fontWeight": "500",
                 "marginBottom": "5px"
                }
               },
               "children": [
                "Output:"
               ],
               "tagName": "div"
              },
              {
               "attributes": {
                "style": {
                 "background": "#F7F9FA",
                 "color": "#27374D",
                 "fontFamily": "monospace",
                 "marginBottom": "10px",
                 "padding": "10px",
                 "unicodeBidi": "embed",
                 "whiteSpace": "pre"
                }
               },
               "children": [
                "'01:06 AM'"
               ],
               "tagName": "div"
              }
             ],
             "tagName": "div"
            }
           ],
           "tagName": "div"
          }
         ],
         "tagName": "details"
        }
       ],
       "tagName": "div"
      },
      "text/html": [
       "<div><style>.chatlab-chat-details summary &gt; *  { display: inline; color: #27374D; }</style><details style=\"background: #DDE6ED; border-radius: 5px; padding: .5rem 1rem\" className=\"chatlab-chat-details\"><summary style=\"color: #27374D; cursor: pointer\"><span style=\"color: #9DB2BF; padding-left: 5px; padding-right: 5px\">𝑓</span><span style=\"color: #27374D; padding-left: 5px; padding-right: 5px\">Finished</span><span style=\"font-family: monospace; unicode-bidi: embed; white-space: pre\">what_time</span><span style=\"font-family: monospace; unicode-bidi: embed; white-space: pre\"></span></summary><div style=\"margin-left: 10px; margin-top: 10px\"><div><div style=\"color: #27374D; font-weight: 500; margin-bottom: 5px\">Input:</div><div style=\"background: #F7F9FA; color: #27374D; font-family: monospace; margin-bottom: 10px; padding: 10px; unicode-bidi: embed; white-space: pre\">{}</div></div><div><div style=\"color: #27374D; font-weight: 500; margin-bottom: 5px\">Output:</div><div style=\"background: #F7F9FA; color: #27374D; font-family: monospace; margin-bottom: 10px; padding: 10px; unicode-bidi: embed; white-space: pre\">&#x27;01:06 AM&#x27;</div></div></div></details></div>"
      ],
      "text/plain": [
       "<chatlab.display.ChatFunctionCall at 0x12eb80810>"
      ]
     },
     "metadata": {},
     "output_type": "display_data"
    },
    {
     "data": {
      "text/markdown": [
       "The current time is 01:06 AM."
      ],
      "text/plain": [
       "The current time is 01:06 AM."
      ]
     },
     "metadata": {
      "text/markdown": {
       "chatlab": {
        "default": true
       }
      }
     },
     "output_type": "display_data"
    }
   ],
   "source": [
    "chat(\"What time is it?\")"
   ]
  },
  {
   "cell_type": "code",
   "execution_count": 9,
   "id": "d035861c-400a-4d62-9a8c-4385ffb9842c",
   "metadata": {},
   "outputs": [
    {
     "data": {
      "text/markdown": [
       " "
      ],
      "text/plain": [
       " "
      ]
     },
     "metadata": {
      "text/markdown": {
       "chatlab": {
        "default": true
       }
      }
     },
     "output_type": "display_data"
    },
    {
     "data": {
      "application/vdom.v1+json": {
       "attributes": {},
       "children": [
        {
         "attributes": {},
         "children": [
          ".chatlab-chat-details summary > *  { display: inline; color: #27374D; }"
         ],
         "tagName": "style"
        },
        {
         "attributes": {
          "className": "chatlab-chat-details",
          "style": {
           "background": "#DDE6ED",
           "borderRadius": "5px",
           "padding": ".5rem 1rem"
          }
         },
         "children": [
          {
           "attributes": {
            "style": {
             "color": "#27374D",
             "cursor": "pointer"
            }
           },
           "children": [
            {
             "attributes": {
              "style": {
               "color": "#9DB2BF",
               "paddingLeft": "5px",
               "paddingRight": "5px"
              }
             },
             "children": [
              "𝑓"
             ],
             "tagName": "span"
            },
            {
             "attributes": {
              "style": {
               "color": "#27374D",
               "paddingLeft": "5px",
               "paddingRight": "5px"
              }
             },
             "children": [
              "Finished"
             ],
             "tagName": "span"
            },
            {
             "attributes": {
              "style": {
               "fontFamily": "monospace",
               "unicodeBidi": "embed",
               "whiteSpace": "pre"
              }
             },
             "children": [
              "what_time"
             ],
             "tagName": "span"
            },
            {
             "attributes": {
              "style": {
               "fontFamily": "monospace",
               "unicodeBidi": "embed",
               "whiteSpace": "pre"
              }
             },
             "children": [
              ""
             ],
             "tagName": "span"
            }
           ],
           "tagName": "summary"
          },
          {
           "attributes": {
            "style": {
             "marginLeft": "10px",
             "marginTop": "10px"
            }
           },
           "children": [
            {
             "attributes": {},
             "children": [
              {
               "attributes": {
                "style": {
                 "color": "#27374D",
                 "fontWeight": "500",
                 "marginBottom": "5px"
                }
               },
               "children": [
                "Input:"
               ],
               "tagName": "div"
              },
              {
               "attributes": {
                "style": {
                 "background": "#F7F9FA",
                 "color": "#27374D",
                 "fontFamily": "monospace",
                 "marginBottom": "10px",
                 "padding": "10px",
                 "unicodeBidi": "embed",
                 "whiteSpace": "pre"
                }
               },
               "children": [
                "{\n  \"tz\": \"Asia/Tokyo\"\n}"
               ],
               "tagName": "div"
              }
             ],
             "tagName": "div"
            },
            {
             "attributes": {},
             "children": [
              {
               "attributes": {
                "style": {
                 "color": "#27374D",
                 "fontWeight": "500",
                 "marginBottom": "5px"
                }
               },
               "children": [
                "Output:"
               ],
               "tagName": "div"
              },
              {
               "attributes": {
                "style": {
                 "background": "#F7F9FA",
                 "color": "#27374D",
                 "fontFamily": "monospace",
                 "marginBottom": "10px",
                 "padding": "10px",
                 "unicodeBidi": "embed",
                 "whiteSpace": "pre"
                }
               },
               "children": [
                "'05:07 PM'"
               ],
               "tagName": "div"
              }
             ],
             "tagName": "div"
            }
           ],
           "tagName": "div"
          }
         ],
         "tagName": "details"
        }
       ],
       "tagName": "div"
      },
      "text/html": [
       "<div><style>.chatlab-chat-details summary &gt; *  { display: inline; color: #27374D; }</style><details style=\"background: #DDE6ED; border-radius: 5px; padding: .5rem 1rem\" className=\"chatlab-chat-details\"><summary style=\"color: #27374D; cursor: pointer\"><span style=\"color: #9DB2BF; padding-left: 5px; padding-right: 5px\">𝑓</span><span style=\"color: #27374D; padding-left: 5px; padding-right: 5px\">Finished</span><span style=\"font-family: monospace; unicode-bidi: embed; white-space: pre\">what_time</span><span style=\"font-family: monospace; unicode-bidi: embed; white-space: pre\"></span></summary><div style=\"margin-left: 10px; margin-top: 10px\"><div><div style=\"color: #27374D; font-weight: 500; margin-bottom: 5px\">Input:</div><div style=\"background: #F7F9FA; color: #27374D; font-family: monospace; margin-bottom: 10px; padding: 10px; unicode-bidi: embed; white-space: pre\">{\n",
       "  &quot;tz&quot;: &quot;Asia/Tokyo&quot;\n",
       "}</div></div><div><div style=\"color: #27374D; font-weight: 500; margin-bottom: 5px\">Output:</div><div style=\"background: #F7F9FA; color: #27374D; font-family: monospace; margin-bottom: 10px; padding: 10px; unicode-bidi: embed; white-space: pre\">&#x27;05:07 PM&#x27;</div></div></div></details></div>"
      ],
      "text/plain": [
       "<chatlab.display.ChatFunctionCall at 0x12eb79f10>"
      ]
     },
     "metadata": {},
     "output_type": "display_data"
    },
    {
     "data": {
      "text/markdown": [
       "The current time in Osaka is 05:07 PM."
      ],
      "text/plain": [
       "The current time in Osaka is 05:07 PM."
      ]
     },
     "metadata": {
      "text/markdown": {
       "chatlab": {
        "default": true
       }
      }
     },
     "output_type": "display_data"
    }
   ],
   "source": [
    "chat(\"Great. What time is it in Osaka?\")"
   ]
  },
  {
   "cell_type": "markdown",
   "id": "7f6edcbd-6735-4f28-85ca-45d72660a353",
   "metadata": {},
   "source": [
    "Under the hood, `chatlab` is keeping track of the conversation history for you in `.messages`"
   ]
  },
  {
   "cell_type": "code",
   "execution_count": 10,
   "id": "aa5ffa67-2fa7-472a-8fee-c634b392cf5d",
   "metadata": {},
   "outputs": [
    {
     "data": {
      "text/plain": [
       "[{'role': 'user', 'content': 'What kind of bird is a chatlab?'},\n",
       " {'role': 'system',\n",
       "  'content': 'The user wants to know the Pokemon stats too!'},\n",
       " {'role': 'assistant',\n",
       "  'content': \"ChatLab is a Dark/Flying type Pokémon. It resembles a crow or raven with predominantly dark purple feathers. It has yellow eyes, a prominent beak, and long, thin legs. ChatLab is known for its mischievous and cunning nature.\\n\\nIn terms of its stats, here are ChatLab's base stat values:\\n\\n- HP (Hit Points): 60\\n- Attack: 85\\n- Defense: 42\\n- Special Attack: 85\\n- Special Defense: 42\\n- Speed: 91\\n\\nMurkrow evolves into Honchkrow when exposed to a Dusk Stone.\"},\n",
       " {'role': 'user', 'content': 'What time is it?'},\n",
       " {'role': 'assistant',\n",
       "  'content': \"I'm sorry, but I am an AI language model and I don't have access to real-time data. Therefore, I cannot provide you with the current time. Please check your device or a reliable source for the accurate time in your location.\"}]"
      ]
     },
     "execution_count": 10,
     "metadata": {},
     "output_type": "execute_result"
    }
   ],
   "source": [
    "session.messages"
   ]
  },
  {
   "cell_type": "markdown",
   "id": "3b76f9c3-d192-4dfe-837b-c19d99289d4e",
   "metadata": {},
   "source": [
    "## Outro\n",
    "\n",
    "Thanks for reading through! Please post issues and reach out to me. I want to hear your experiences!"
   ]
  }
 ],
 "metadata": {
  "kernelspec": {
   "display_name": "Poetry env for murkrow",
   "language": "python",
   "name": "murkrow"
  },
  "language_info": {
   "codemirror_mode": {
    "name": "ipython",
    "version": 3
   },
   "file_extension": ".py",
   "mimetype": "text/x-python",
   "name": "python",
   "nbconvert_exporter": "python",
   "pygments_lexer": "ipython3",
   "version": "3.11.1"
  }
 },
 "nbformat": 4,
 "nbformat_minor": 5
}
