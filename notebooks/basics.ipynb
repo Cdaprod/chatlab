{
 "cells": [
  {
   "cell_type": "markdown",
   "id": "4e0d00d2-8ef6-41a5-aa93-3d597e322fda",
   "metadata": {},
   "source": [
    "## Supercharge Your Chat Sessions with _Functions_ Using Murkrow!\n",
    "\n",
    "<img src=\"https://i.pinimg.com/originals/95/53/a9/9553a99cefa0b27f0d83dc0cbf358759.png\" style=\"height:100px\" />\n",
    "<br />\n",
    "\n",
    "Welcome to the exciting world of programmatic chat with OpenAI's chat models, using the `murkrow` Python package. At its simplest, you can install `murkrow`, set your `OPENAI_API_KEY`, and begin some simple chats:"
   ]
  },
  {
   "cell_type": "code",
   "execution_count": 1,
   "id": "9e24b9de-dbb6-4c98-aaad-e9d983ac3cf1",
   "metadata": {},
   "outputs": [
    {
     "data": {
      "text/markdown": [
       "Murkrow is a Dark/Flying type Pokémon species from the popular video game franchise Pokémon. While Murkrow is inspired by various bird species, it does not correspond to any specific real-world bird. Its appearance incorporates elements from crows or ravens, having a predominantly black body, a long beak, and a feathery crest on its head."
      ],
      "text/plain": [
       "Murkrow is a Dark/Flying type Pokémon species from the popular video game franchise Pokémon. While Murkrow is inspired by various bird species, it does not correspond to any specific real-world bird. Its appearance incorporates elements from crows or ravens, having a predominantly black body, a long beak, and a feathery crest on its head."
      ]
     },
     "metadata": {
      "text/markdown": {
       "murkrow": {
        "default": true
       }
      }
     },
     "output_type": "display_data"
    }
   ],
   "source": [
    "import murkrow\n",
    "\n",
    "conversation = murkrow.Conversation()\n",
    "\n",
    "conversation.submit(\"What kind of bird is a murkrow?\")"
   ]
  },
  {
   "cell_type": "code",
   "execution_count": 2,
   "id": "03bc7ff6-1cbd-455f-be67-98805a479938",
   "metadata": {},
   "outputs": [
    {
     "data": {
      "text/markdown": [
       "Murkrow is a Dark/Flying type Pokémon. It resembles a crow or raven with predominantly dark purple feathers. It has yellow eyes, a prominent beak, and long, thin legs. Murkrow is known for its mischievous and cunning nature.\n",
       "\n",
       "In terms of its stats, here are Murkrow's base stat values:\n",
       "\n",
       "- HP (Hit Points): 60\n",
       "- Attack: 85\n",
       "- Defense: 42\n",
       "- Special Attack: 85\n",
       "- Special Defense: 42\n",
       "- Speed: 91\n",
       "\n",
       "Murkrow evolves into Honchkrow when exposed to a Dusk Stone."
      ],
      "text/plain": [
       "Murkrow is a Dark/Flying type Pokémon. It resembles a crow or raven with predominantly dark purple feathers. It has yellow eyes, a prominent beak, and long, thin legs. Murkrow is known for its mischievous and cunning nature.\n",
       "\n",
       "In terms of its stats, here are Murkrow's base stat values:\n",
       "\n",
       "- HP (Hit Points): 60\n",
       "- Attack: 85\n",
       "- Defense: 42\n",
       "- Special Attack: 85\n",
       "- Special Defense: 42\n",
       "- Speed: 91\n",
       "\n",
       "Murkrow evolves into Honchkrow when exposed to a Dusk Stone."
      ]
     },
     "metadata": {
      "text/markdown": {
       "murkrow": {
        "default": true
       }
      }
     },
     "output_type": "display_data"
    }
   ],
   "source": [
    "from murkrow import Conversation, user, system\n",
    "\n",
    "conversation = Conversation()\n",
    "\n",
    "conversation.submit(\n",
    "    user(\"What kind of bird is a murkrow?\"),\n",
    "    system(\"The user wants to know the Pokemon stats too!\")\n",
    ")"
   ]
  },
  {
   "cell_type": "code",
   "execution_count": 3,
   "id": "6be93f85-a0c1-49f6-862b-458b857ba205",
   "metadata": {},
   "outputs": [
    {
     "data": {
      "text/markdown": [
       "Some Pokémon that are similar to Murkrow in terms of being Dark/Flying type or sharing certain characteristics include:\n",
       "\n",
       "1. Honchkrow: Honchkrow is the evolved form of Murkrow and also belongs to the Dark/Flying type. It has a more refined and sinister appearance, resembling a gangster or a mob boss with its hat and cane.\n",
       "\n",
       "2. Mandibuzz: Mandibuzz is another Dark/Flying type Pokémon that shares some similarities with Murkrow. It resembles a vulture or a scavenger bird, with a vulture-like appearance, skull-like mask, and large wingspan.\n",
       "\n",
       "3. Absol: Absol is a Dark type Pokémon that also has a similar dark and mysterious aesthetic. While it is not a Flying type, Absol possesses a similar dark and shadowy aura as Murkrow.\n",
       "\n",
       "4. Houndoom: Houndoom is a Dark/Fire type Pokémon, so it differs from Murkrow in terms of its secondary type. However, both Pokémon have a slightly menacing appearance and dark attributes.\n",
       "\n",
       "5. Crowbat: Crowbat is a Poison/Flying type Pokémon and shares some similarities with Murkrow in terms of its flying abilities and overall appearance. However, its poison attribute and bat-like appearance differ from Murkrow's dark and crow-like attributes.\n",
       "\n",
       "It's important to note that these Pokémon are not identical to Murkrow but rather share certain traits or types that make them somewhat similar."
      ],
      "text/plain": [
       "Some Pokémon that are similar to Murkrow in terms of being Dark/Flying type or sharing certain characteristics include:\n",
       "\n",
       "1. Honchkrow: Honchkrow is the evolved form of Murkrow and also belongs to the Dark/Flying type. It has a more refined and sinister appearance, resembling a gangster or a mob boss with its hat and cane.\n",
       "\n",
       "2. Mandibuzz: Mandibuzz is another Dark/Flying type Pokémon that shares some similarities with Murkrow. It resembles a vulture or a scavenger bird, with a vulture-like appearance, skull-like mask, and large wingspan.\n",
       "\n",
       "3. Absol: Absol is a Dark type Pokémon that also has a similar dark and mysterious aesthetic. While it is not a Flying type, Absol possesses a similar dark and shadowy aura as Murkrow.\n",
       "\n",
       "4. Houndoom: Houndoom is a Dark/Fire type Pokémon, so it differs from Murkrow in terms of its secondary type. However, both Pokémon have a slightly menacing appearance and dark attributes.\n",
       "\n",
       "5. Crowbat: Crowbat is a Poison/Flying type Pokémon and shares some similarities with Murkrow in terms of its flying abilities and overall appearance. However, its poison attribute and bat-like appearance differ from Murkrow's dark and crow-like attributes.\n",
       "\n",
       "It's important to note that these Pokémon are not identical to Murkrow but rather share certain traits or types that make them somewhat similar."
      ]
     },
     "metadata": {
      "text/markdown": {
       "murkrow": {
        "default": true
       }
      }
     },
     "output_type": "display_data"
    }
   ],
   "source": [
    "conversation.submit(\"Thank you. What pokemon are similar to this one?\")"
   ]
  },
  {
   "cell_type": "markdown",
   "id": "0d7ade64-78c2-494e-ac32-800ca592158d",
   "metadata": {},
   "source": [
    "<center><img src=\"https://cdn.donmai.us/original/64/e7/64e78d7968c8317b84a95e152e4a087b.png\" height=\"100\" \n",
    " style=\"height:100px\" /></center>\n",
    "<br />\n",
    "\n",
    "Where `murkrow` (and OpenAI, really) take it next level is with _Chat Functions_. You can declare a function with a schema then register it in your chat `Session` for GPT Models to call. You may recall this kind of behavior from [ChatGPT Plugins](https://noteable.io/chatgpt-plugin-for-notebook/). Now, you can take this even further with your own custom code.\n",
    "\n",
    "As an example, let's give the large language models the ability to tell time."
   ]
  },
  {
   "cell_type": "code",
   "execution_count": 4,
   "id": "fbfff959-213e-4619-8068-8d79b082f0ea",
   "metadata": {},
   "outputs": [],
   "source": [
    "from datetime import datetime\n",
    "from pytz import timezone, all_timezones, utc\n",
    "from typing import Optional\n",
    "from pydantic import BaseModel\n",
    "\n",
    "def what_time(tz: Optional[str] = None):\n",
    "    '''Current time, defaulting to UTC'''\n",
    "    if tz is None:\n",
    "        pass\n",
    "    elif tz in all_timezones:\n",
    "        tz = timezone(tz)\n",
    "    else:\n",
    "        return 'Invalid timezone'\n",
    "        \n",
    "    return datetime.now(tz).strftime('%I:%M %p')\n",
    "\n",
    "class WhatTime(BaseModel):\n",
    "    tz: Optional[str]"
   ]
  },
  {
   "cell_type": "markdown",
   "id": "3830f5f2-f625-4996-b6f1-7bf8a8e76e6f",
   "metadata": {},
   "source": [
    "Let's break this down.\n",
    "\n",
    "`what_time` is the function we're going to provide access to. Its docstring forms the `description` for the model while the schema comes from the pydantic `BaseModel` called `WhatTime`."
   ]
  },
  {
   "cell_type": "code",
   "execution_count": 7,
   "id": "b9224549-2645-4630-abb4-9d6a2620c49d",
   "metadata": {},
   "outputs": [],
   "source": [
    "import murkrow\n",
    "\n",
    "conversation = murkrow.Conversation()\n",
    "\n",
    "# Register our function\n",
    "conversation.register(what_time, WhatTime)\n",
    "# For ease of reuse\n",
    "chat = conversation.submit"
   ]
  },
  {
   "cell_type": "code",
   "execution_count": 8,
   "id": "8c18db94-71d9-4894-91bf-064ecfca13f5",
   "metadata": {},
   "outputs": [
    {
     "data": {
      "text/markdown": [
       " "
      ],
      "text/plain": [
       " "
      ]
     },
     "metadata": {
      "text/markdown": {
       "murkrow": {
        "default": true
       }
      }
     },
     "output_type": "display_data"
    },
    {
     "data": {
      "application/vdom.v1+json": {
       "attributes": {},
       "children": [
        {
         "attributes": {},
         "children": [
          ".murkrow-chat-details summary > *  { display: inline; color: #27374D; }"
         ],
         "tagName": "style"
        },
        {
         "attributes": {
          "className": "murkrow-chat-details",
          "style": {
           "background": "#DDE6ED",
           "borderRadius": "5px",
           "padding": ".5rem 1rem"
          }
         },
         "children": [
          {
           "attributes": {
            "style": {
             "color": "#27374D",
             "cursor": "pointer"
            }
           },
           "children": [
            {
             "attributes": {
              "style": {
               "color": "#9DB2BF",
               "paddingLeft": "5px",
               "paddingRight": "5px"
              }
             },
             "children": [
              "𝑓"
             ],
             "tagName": "span"
            },
            {
             "attributes": {
              "style": {
               "color": "#27374D",
               "paddingLeft": "5px",
               "paddingRight": "5px"
              }
             },
             "children": [
              "Finished"
             ],
             "tagName": "span"
            },
            {
             "attributes": {
              "style": {
               "fontFamily": "monospace",
               "unicodeBidi": "embed",
               "whiteSpace": "pre"
              }
             },
             "children": [
              "what_time"
             ],
             "tagName": "span"
            },
            {
             "attributes": {
              "style": {
               "fontFamily": "monospace",
               "unicodeBidi": "embed",
               "whiteSpace": "pre"
              }
             },
             "children": [
              ""
             ],
             "tagName": "span"
            }
           ],
           "tagName": "summary"
          },
          {
           "attributes": {
            "style": {
             "marginLeft": "10px",
             "marginTop": "10px"
            }
           },
           "children": [
            {
             "attributes": {},
             "children": [
              {
               "attributes": {
                "style": {
                 "color": "#27374D",
                 "fontWeight": "500",
                 "marginBottom": "5px"
                }
               },
               "children": [
                "Input:"
               ],
               "tagName": "div"
              },
              {
               "attributes": {
                "style": {
                 "background": "#F7F9FA",
                 "color": "#27374D",
                 "fontFamily": "monospace",
                 "marginBottom": "10px",
                 "padding": "10px",
                 "unicodeBidi": "embed",
                 "whiteSpace": "pre"
                }
               },
               "children": [
                "{}"
               ],
               "tagName": "div"
              }
             ],
             "tagName": "div"
            },
            {
             "attributes": {},
             "children": [
              {
               "attributes": {
                "style": {
                 "color": "#27374D",
                 "fontWeight": "500",
                 "marginBottom": "5px"
                }
               },
               "children": [
                "Output:"
               ],
               "tagName": "div"
              },
              {
               "attributes": {
                "style": {
                 "background": "#F7F9FA",
                 "color": "#27374D",
                 "fontFamily": "monospace",
                 "marginBottom": "10px",
                 "padding": "10px",
                 "unicodeBidi": "embed",
                 "whiteSpace": "pre"
                }
               },
               "children": [
                "'01:06 AM'"
               ],
               "tagName": "div"
              }
             ],
             "tagName": "div"
            }
           ],
           "tagName": "div"
          }
         ],
         "tagName": "details"
        }
       ],
       "tagName": "div"
      },
      "text/html": [
       "<div><style>.murkrow-chat-details summary &gt; *  { display: inline; color: #27374D; }</style><details style=\"background: #DDE6ED; border-radius: 5px; padding: .5rem 1rem\" className=\"murkrow-chat-details\"><summary style=\"color: #27374D; cursor: pointer\"><span style=\"color: #9DB2BF; padding-left: 5px; padding-right: 5px\">𝑓</span><span style=\"color: #27374D; padding-left: 5px; padding-right: 5px\">Finished</span><span style=\"font-family: monospace; unicode-bidi: embed; white-space: pre\">what_time</span><span style=\"font-family: monospace; unicode-bidi: embed; white-space: pre\"></span></summary><div style=\"margin-left: 10px; margin-top: 10px\"><div><div style=\"color: #27374D; font-weight: 500; margin-bottom: 5px\">Input:</div><div style=\"background: #F7F9FA; color: #27374D; font-family: monospace; margin-bottom: 10px; padding: 10px; unicode-bidi: embed; white-space: pre\">{}</div></div><div><div style=\"color: #27374D; font-weight: 500; margin-bottom: 5px\">Output:</div><div style=\"background: #F7F9FA; color: #27374D; font-family: monospace; margin-bottom: 10px; padding: 10px; unicode-bidi: embed; white-space: pre\">&#x27;01:06 AM&#x27;</div></div></div></details></div>"
      ],
      "text/plain": [
       "<murkrow.display.ChatFunctionCall at 0x12eb80810>"
      ]
     },
     "metadata": {},
     "output_type": "display_data"
    },
    {
     "data": {
      "text/markdown": [
       "The current time is 01:06 AM."
      ],
      "text/plain": [
       "The current time is 01:06 AM."
      ]
     },
     "metadata": {
      "text/markdown": {
       "murkrow": {
        "default": true
       }
      }
     },
     "output_type": "display_data"
    }
   ],
   "source": [
    "chat(\"What time is it?\")"
   ]
  },
  {
   "cell_type": "code",
   "execution_count": 9,
   "id": "d035861c-400a-4d62-9a8c-4385ffb9842c",
   "metadata": {},
   "outputs": [
    {
     "data": {
      "text/markdown": [
       " "
      ],
      "text/plain": [
       " "
      ]
     },
     "metadata": {
      "text/markdown": {
       "murkrow": {
        "default": true
       }
      }
     },
     "output_type": "display_data"
    },
    {
     "data": {
      "application/vdom.v1+json": {
       "attributes": {},
       "children": [
        {
         "attributes": {},
         "children": [
          ".murkrow-chat-details summary > *  { display: inline; color: #27374D; }"
         ],
         "tagName": "style"
        },
        {
         "attributes": {
          "className": "murkrow-chat-details",
          "style": {
           "background": "#DDE6ED",
           "borderRadius": "5px",
           "padding": ".5rem 1rem"
          }
         },
         "children": [
          {
           "attributes": {
            "style": {
             "color": "#27374D",
             "cursor": "pointer"
            }
           },
           "children": [
            {
             "attributes": {
              "style": {
               "color": "#9DB2BF",
               "paddingLeft": "5px",
               "paddingRight": "5px"
              }
             },
             "children": [
              "𝑓"
             ],
             "tagName": "span"
            },
            {
             "attributes": {
              "style": {
               "color": "#27374D",
               "paddingLeft": "5px",
               "paddingRight": "5px"
              }
             },
             "children": [
              "Finished"
             ],
             "tagName": "span"
            },
            {
             "attributes": {
              "style": {
               "fontFamily": "monospace",
               "unicodeBidi": "embed",
               "whiteSpace": "pre"
              }
             },
             "children": [
              "what_time"
             ],
             "tagName": "span"
            },
            {
             "attributes": {
              "style": {
               "fontFamily": "monospace",
               "unicodeBidi": "embed",
               "whiteSpace": "pre"
              }
             },
             "children": [
              ""
             ],
             "tagName": "span"
            }
           ],
           "tagName": "summary"
          },
          {
           "attributes": {
            "style": {
             "marginLeft": "10px",
             "marginTop": "10px"
            }
           },
           "children": [
            {
             "attributes": {},
             "children": [
              {
               "attributes": {
                "style": {
                 "color": "#27374D",
                 "fontWeight": "500",
                 "marginBottom": "5px"
                }
               },
               "children": [
                "Input:"
               ],
               "tagName": "div"
              },
              {
               "attributes": {
                "style": {
                 "background": "#F7F9FA",
                 "color": "#27374D",
                 "fontFamily": "monospace",
                 "marginBottom": "10px",
                 "padding": "10px",
                 "unicodeBidi": "embed",
                 "whiteSpace": "pre"
                }
               },
               "children": [
                "{\n  \"tz\": \"Asia/Tokyo\"\n}"
               ],
               "tagName": "div"
              }
             ],
             "tagName": "div"
            },
            {
             "attributes": {},
             "children": [
              {
               "attributes": {
                "style": {
                 "color": "#27374D",
                 "fontWeight": "500",
                 "marginBottom": "5px"
                }
               },
               "children": [
                "Output:"
               ],
               "tagName": "div"
              },
              {
               "attributes": {
                "style": {
                 "background": "#F7F9FA",
                 "color": "#27374D",
                 "fontFamily": "monospace",
                 "marginBottom": "10px",
                 "padding": "10px",
                 "unicodeBidi": "embed",
                 "whiteSpace": "pre"
                }
               },
               "children": [
                "'05:07 PM'"
               ],
               "tagName": "div"
              }
             ],
             "tagName": "div"
            }
           ],
           "tagName": "div"
          }
         ],
         "tagName": "details"
        }
       ],
       "tagName": "div"
      },
      "text/html": [
       "<div><style>.murkrow-chat-details summary &gt; *  { display: inline; color: #27374D; }</style><details style=\"background: #DDE6ED; border-radius: 5px; padding: .5rem 1rem\" className=\"murkrow-chat-details\"><summary style=\"color: #27374D; cursor: pointer\"><span style=\"color: #9DB2BF; padding-left: 5px; padding-right: 5px\">𝑓</span><span style=\"color: #27374D; padding-left: 5px; padding-right: 5px\">Finished</span><span style=\"font-family: monospace; unicode-bidi: embed; white-space: pre\">what_time</span><span style=\"font-family: monospace; unicode-bidi: embed; white-space: pre\"></span></summary><div style=\"margin-left: 10px; margin-top: 10px\"><div><div style=\"color: #27374D; font-weight: 500; margin-bottom: 5px\">Input:</div><div style=\"background: #F7F9FA; color: #27374D; font-family: monospace; margin-bottom: 10px; padding: 10px; unicode-bidi: embed; white-space: pre\">{\n",
       "  &quot;tz&quot;: &quot;Asia/Tokyo&quot;\n",
       "}</div></div><div><div style=\"color: #27374D; font-weight: 500; margin-bottom: 5px\">Output:</div><div style=\"background: #F7F9FA; color: #27374D; font-family: monospace; margin-bottom: 10px; padding: 10px; unicode-bidi: embed; white-space: pre\">&#x27;05:07 PM&#x27;</div></div></div></details></div>"
      ],
      "text/plain": [
       "<murkrow.display.ChatFunctionCall at 0x12eb79f10>"
      ]
     },
     "metadata": {},
     "output_type": "display_data"
    },
    {
     "data": {
      "text/markdown": [
       "The current time in Osaka is 05:07 PM."
      ],
      "text/plain": [
       "The current time in Osaka is 05:07 PM."
      ]
     },
     "metadata": {
      "text/markdown": {
       "murkrow": {
        "default": true
       }
      }
     },
     "output_type": "display_data"
    }
   ],
   "source": [
    "chat(\"Great. What time is it in Osaka?\")"
   ]
  },
  {
   "cell_type": "markdown",
   "id": "7f6edcbd-6735-4f28-85ca-45d72660a353",
   "metadata": {},
   "source": [
    "Under the hood, `murkrow` is keeping track of the conversation history for you in `.messages`"
   ]
  },
  {
   "cell_type": "code",
   "execution_count": 10,
   "id": "aa5ffa67-2fa7-472a-8fee-c634b392cf5d",
   "metadata": {},
   "outputs": [
    {
     "data": {
      "text/plain": [
       "[{'role': 'user', 'content': 'What kind of bird is a murkrow?'},\n",
       " {'role': 'system',\n",
       "  'content': 'The user wants to know the Pokemon stats too!'},\n",
       " {'role': 'assistant',\n",
       "  'content': \"Murkrow is a Dark/Flying type Pokémon. It resembles a crow or raven with predominantly dark purple feathers. It has yellow eyes, a prominent beak, and long, thin legs. Murkrow is known for its mischievous and cunning nature.\\n\\nIn terms of its stats, here are Murkrow's base stat values:\\n\\n- HP (Hit Points): 60\\n- Attack: 85\\n- Defense: 42\\n- Special Attack: 85\\n- Special Defense: 42\\n- Speed: 91\\n\\nMurkrow evolves into Honchkrow when exposed to a Dusk Stone.\"},\n",
       " {'role': 'user', 'content': 'What time is it?'},\n",
       " {'role': 'assistant',\n",
       "  'content': \"I'm sorry, but I am an AI language model and I don't have access to real-time data. Therefore, I cannot provide you with the current time. Please check your device or a reliable source for the accurate time in your location.\"}]"
      ]
     },
     "execution_count": 10,
     "metadata": {},
     "output_type": "execute_result"
    }
   ],
   "source": [
    "session.messages"
   ]
  },
  {
   "cell_type": "markdown",
   "id": "3b76f9c3-d192-4dfe-837b-c19d99289d4e",
   "metadata": {},
   "source": [
    "## Outro\n",
    "\n",
    "Thanks for reading through! Please post issues and reach out to me. I want to hear your experiences!"
   ]
  }
 ],
 "metadata": {
  "kernelspec": {
   "display_name": "Poetry env for murkrow",
   "language": "python",
   "name": "murkrow"
  },
  "language_info": {
   "codemirror_mode": {
    "name": "ipython",
    "version": 3
   },
   "file_extension": ".py",
   "mimetype": "text/x-python",
   "name": "python",
   "nbconvert_exporter": "python",
   "pygments_lexer": "ipython3",
   "version": "3.11.1"
  }
 },
 "nbformat": 4,
 "nbformat_minor": 5
}
