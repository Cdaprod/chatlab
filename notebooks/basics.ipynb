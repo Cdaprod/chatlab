{
 "cells": [
  {
   "cell_type": "markdown",
   "id": "4e0d00d2-8ef6-41a5-aa93-3d597e322fda",
   "metadata": {},
   "source": [
    "## ChatLab: Chat Experiments, Simplified\n",
    "\n",
    "💬🔬"
   ]
  },
  {
   "cell_type": "code",
   "execution_count": 14,
   "id": "9e24b9de-dbb6-4c98-aaad-e9d983ac3cf1",
   "metadata": {},
   "outputs": [
    {
     "data": {
      "text/markdown": [
       "Murkrow is a Pokémon species, rather than a real-life bird. It is a Dark/Flying type Pokémon, known for its dark purple coloration, red eyes, and ability to bring bad luck."
      ],
      "text/plain": [
       "Murkrow is a Pokémon species, rather than a real-life bird. It is a Dark/Flying type Pokémon, known for its dark purple coloration, red eyes, and ability to bring bad luck."
      ]
     },
     "metadata": {
      "text/markdown": {
       "chatlab": {
        "default": true
       }
      }
     },
     "output_type": "display_data"
    }
   ],
   "source": [
    "import chatlab\n",
    "\n",
    "conversation = chatlab.Conversation()\n",
    "\n",
    "conversation.submit(\"What kind of bird is a murkrow?\")"
   ]
  },
  {
   "cell_type": "code",
   "execution_count": 17,
   "id": "03bc7ff6-1cbd-455f-be67-98805a479938",
   "metadata": {},
   "outputs": [
    {
     "data": {
      "text/markdown": [
       "Certainly! Let's start by loading the dataset `circulation-grade-6.csv` into a Pandas DataFrame.\n",
       "\n",
       "First, make sure that the CSV file is in the same directory as your Jupyter Notebook. Then, you can use the following code to load the dataset:\n",
       "\n",
       "```python\n",
       "import pandas as pd\n",
       "\n",
       "# Load the CSV file into a DataFrame\n",
       "df = pd.read_csv(\"circulation-grade-6.csv\")\n",
       "\n",
       "# Display the first few rows of the DataFrame\n",
       "df.head()\n",
       "```\n",
       "\n",
       "This code imports the `pandas` library and uses the `read_csv()` function to load the CSV file into a DataFrame called `df`. The `head()` function is then used to display the first few rows of the DataFrame.\n",
       "\n",
       "Once you have loaded the dataset, you can perform various operations on it, such as exploring the data, analyzing it, or visualizing it. Please let me know what specific task or operation you would like assistance with."
      ],
      "text/plain": [
       "Certainly! Let's start by loading the dataset `circulation-grade-6.csv` into a Pandas DataFrame.\n",
       "\n",
       "First, make sure that the CSV file is in the same directory as your Jupyter Notebook. Then, you can use the following code to load the dataset:\n",
       "\n",
       "```python\n",
       "import pandas as pd\n",
       "\n",
       "# Load the CSV file into a DataFrame\n",
       "df = pd.read_csv(\"circulation-grade-6.csv\")\n",
       "\n",
       "# Display the first few rows of the DataFrame\n",
       "df.head()\n",
       "```\n",
       "\n",
       "This code imports the `pandas` library and uses the `read_csv()` function to load the CSV file into a DataFrame called `df`. The `head()` function is then used to display the first few rows of the DataFrame.\n",
       "\n",
       "Once you have loaded the dataset, you can perform various operations on it, such as exploring the data, analyzing it, or visualizing it. Please let me know what specific task or operation you would like assistance with."
      ]
     },
     "metadata": {
      "text/markdown": {
       "chatlab": {
        "default": true
       }
      }
     },
     "output_type": "display_data"
    }
   ],
   "source": [
    "from chatlab import Conversation, user, system\n",
    "\n",
    "conversation = Conversation()\n",
    "\n",
    "conversation.submit(\n",
    "    system(\"You are a data science tutor running inside of a Jupyter \"\n",
    "           \"Notebook environment that has the full NumFOCUS/PyData stack.\"),\n",
    "    user(\"Help me work with circulation-grade-6.csv\"),\n",
    ")"
   ]
  },
  {
   "cell_type": "markdown",
   "id": "0d7ade64-78c2-494e-ac32-800ca592158d",
   "metadata": {},
   "source": [
    "## Introducing Chat Functions\n",
    "\n",
    "Where `chatlab` (and OpenAI, really) take it next level is with _Chat Functions_. You can declare a function with a schema then register it in your `Conversation` for GPT Models to call. You may recall this kind of behavior from [ChatGPT Plugins](https://noteable.io/chatgpt-plugin-for-notebook/). Now, you can take this even further with your own custom code.\n",
    "\n",
    "As an example, let's give the large language models the ability to tell time."
   ]
  },
  {
   "cell_type": "code",
   "execution_count": 4,
   "id": "fbfff959-213e-4619-8068-8d79b082f0ea",
   "metadata": {},
   "outputs": [],
   "source": [
    "from datetime import datetime\n",
    "from pytz import timezone, all_timezones, utc\n",
    "from typing import Optional\n",
    "from pydantic import BaseModel\n",
    "\n",
    "def what_time(tz: Optional[str] = None):\n",
    "    '''Current time, defaulting to UTC'''\n",
    "    if tz is None:\n",
    "        pass\n",
    "    elif tz in all_timezones:\n",
    "        tz = timezone(tz)\n",
    "    else:\n",
    "        return 'Invalid timezone'\n",
    "        \n",
    "    return datetime.now(tz).strftime('%I:%M %p')\n",
    "\n",
    "class WhatTime(BaseModel):\n",
    "    tz: Optional[str]"
   ]
  },
  {
   "cell_type": "markdown",
   "id": "3830f5f2-f625-4996-b6f1-7bf8a8e76e6f",
   "metadata": {},
   "source": [
    "Let's break this down.\n",
    "\n",
    "`what_time` is the function we're going to provide access to. Its docstring forms the `description` for the model while the schema comes from the pydantic `BaseModel` called `WhatTime`."
   ]
  },
  {
   "cell_type": "code",
   "execution_count": 5,
   "id": "b9224549-2645-4630-abb4-9d6a2620c49d",
   "metadata": {},
   "outputs": [],
   "source": [
    "import chatlab\n",
    "\n",
    "conversation = chatlab.Conversation()\n",
    "\n",
    "# Register our function\n",
    "conversation.register(what_time, WhatTime)\n",
    "# For ease of reuse\n",
    "chat = conversation.submit"
   ]
  },
  {
   "cell_type": "code",
   "execution_count": 6,
   "id": "8c18db94-71d9-4894-91bf-064ecfca13f5",
   "metadata": {},
   "outputs": [
    {
     "data": {
      "text/markdown": [
       " "
      ],
      "text/plain": [
       " "
      ]
     },
     "metadata": {
      "text/markdown": {
       "chatlab": {
        "default": true
       }
      }
     },
     "output_type": "display_data"
    },
    {
     "data": {
      "application/vdom.v1+json": {
       "attributes": {},
       "children": [
        {
         "attributes": {},
         "children": [
          ".chatlab-chat-details summary > *  { display: inline; color: #27374D; }"
         ],
         "tagName": "style"
        },
        {
         "attributes": {
          "className": "chatlab-chat-details",
          "style": {
           "background": "#DDE6ED",
           "borderRadius": "5px",
           "padding": ".5rem 1rem"
          }
         },
         "children": [
          {
           "attributes": {
            "style": {
             "color": "#27374D",
             "cursor": "pointer"
            }
           },
           "children": [
            {
             "attributes": {
              "style": {
               "color": "#9DB2BF",
               "paddingLeft": "5px",
               "paddingRight": "5px"
              }
             },
             "children": [
              "𝑓"
             ],
             "tagName": "span"
            },
            {
             "attributes": {
              "style": {
               "color": "#27374D",
               "paddingLeft": "5px",
               "paddingRight": "5px"
              }
             },
             "children": [
              "Ran"
             ],
             "tagName": "span"
            },
            {
             "attributes": {
              "style": {
               "fontFamily": "monospace",
               "unicodeBidi": "embed",
               "whiteSpace": "pre"
              }
             },
             "children": [
              "what_time"
             ],
             "tagName": "span"
            },
            {
             "attributes": {
              "style": {
               "fontFamily": "monospace",
               "unicodeBidi": "embed",
               "whiteSpace": "pre"
              }
             },
             "children": [
              ""
             ],
             "tagName": "span"
            }
           ],
           "tagName": "summary"
          },
          {
           "attributes": {
            "style": {
             "marginLeft": "10px",
             "marginTop": "10px"
            }
           },
           "children": [
            {
             "attributes": {},
             "children": [
              {
               "attributes": {
                "style": {
                 "color": "#27374D",
                 "fontWeight": "500",
                 "marginBottom": "5px"
                }
               },
               "children": [
                "Input:"
               ],
               "tagName": "div"
              },
              {
               "attributes": {
                "style": {
                 "background": "#F7F9FA",
                 "color": "#27374D",
                 "fontFamily": "monospace",
                 "marginBottom": "10px",
                 "padding": "10px",
                 "unicodeBidi": "embed",
                 "whiteSpace": "pre"
                }
               },
               "children": [
                "{}"
               ],
               "tagName": "div"
              }
             ],
             "tagName": "div"
            },
            {
             "attributes": {},
             "children": [
              {
               "attributes": {
                "style": {
                 "color": "#27374D",
                 "fontWeight": "500",
                 "marginBottom": "5px"
                }
               },
               "children": [
                "Output:"
               ],
               "tagName": "div"
              },
              {
               "attributes": {
                "style": {
                 "background": "#F7F9FA",
                 "color": "#27374D",
                 "fontFamily": "monospace",
                 "marginBottom": "10px",
                 "padding": "10px",
                 "unicodeBidi": "embed",
                 "whiteSpace": "pre"
                }
               },
               "children": [
                "'03:06 PM'"
               ],
               "tagName": "div"
              }
             ],
             "tagName": "div"
            }
           ],
           "tagName": "div"
          }
         ],
         "tagName": "details"
        }
       ],
       "tagName": "div"
      },
      "text/html": [
       "<div><style>.chatlab-chat-details summary &gt; *  { display: inline; color: #27374D; }</style><details style=\"background: #DDE6ED; border-radius: 5px; padding: .5rem 1rem\" className=\"chatlab-chat-details\"><summary style=\"color: #27374D; cursor: pointer\"><span style=\"color: #9DB2BF; padding-left: 5px; padding-right: 5px\">𝑓</span><span style=\"color: #27374D; padding-left: 5px; padding-right: 5px\">Ran</span><span style=\"font-family: monospace; unicode-bidi: embed; white-space: pre\">what_time</span><span style=\"font-family: monospace; unicode-bidi: embed; white-space: pre\"></span></summary><div style=\"margin-left: 10px; margin-top: 10px\"><div><div style=\"color: #27374D; font-weight: 500; margin-bottom: 5px\">Input:</div><div style=\"background: #F7F9FA; color: #27374D; font-family: monospace; margin-bottom: 10px; padding: 10px; unicode-bidi: embed; white-space: pre\">{}</div></div><div><div style=\"color: #27374D; font-weight: 500; margin-bottom: 5px\">Output:</div><div style=\"background: #F7F9FA; color: #27374D; font-family: monospace; margin-bottom: 10px; padding: 10px; unicode-bidi: embed; white-space: pre\">&#x27;03:06 PM&#x27;</div></div></div></details></div>"
      ],
      "text/plain": [
       "<chatlab.display.ChatFunctionCall at 0x10fb6b010>"
      ]
     },
     "metadata": {},
     "output_type": "display_data"
    },
    {
     "data": {
      "text/markdown": [
       "The current time is 03:06 PM."
      ],
      "text/plain": [
       "The current time is 03:06 PM."
      ]
     },
     "metadata": {
      "text/markdown": {
       "chatlab": {
        "default": true
       }
      }
     },
     "output_type": "display_data"
    }
   ],
   "source": [
    "chat(\"What time is it?\")"
   ]
  },
  {
   "cell_type": "code",
   "execution_count": 7,
   "id": "e5481e06-69d8-47e6-99d5-601fce1f0e1d",
   "metadata": {},
   "outputs": [
    {
     "data": {
      "text/plain": [
       "[{'role': 'user', 'content': 'What time is it?'},\n",
       " {'role': 'assistant',\n",
       "  'content': None,\n",
       "  'function_call': {'name': 'what_time', 'arguments': '{}'}},\n",
       " {'role': 'function', 'content': \"'03:06 PM'\", 'name': 'what_time'},\n",
       " {'role': 'assistant', 'content': 'The current time is 03:06 PM.'}]"
      ]
     },
     "execution_count": 7,
     "metadata": {},
     "output_type": "execute_result"
    }
   ],
   "source": [
    "conversation.messages"
   ]
  },
  {
   "cell_type": "code",
   "execution_count": 8,
   "id": "d035861c-400a-4d62-9a8c-4385ffb9842c",
   "metadata": {},
   "outputs": [
    {
     "data": {
      "text/markdown": [
       " "
      ],
      "text/plain": [
       " "
      ]
     },
     "metadata": {
      "text/markdown": {
       "chatlab": {
        "default": true
       }
      }
     },
     "output_type": "display_data"
    },
    {
     "data": {
      "application/vdom.v1+json": {
       "attributes": {},
       "children": [
        {
         "attributes": {},
         "children": [
          ".chatlab-chat-details summary > *  { display: inline; color: #27374D; }"
         ],
         "tagName": "style"
        },
        {
         "attributes": {
          "className": "chatlab-chat-details",
          "style": {
           "background": "#DDE6ED",
           "borderRadius": "5px",
           "padding": ".5rem 1rem"
          }
         },
         "children": [
          {
           "attributes": {
            "style": {
             "color": "#27374D",
             "cursor": "pointer"
            }
           },
           "children": [
            {
             "attributes": {
              "style": {
               "color": "#9DB2BF",
               "paddingLeft": "5px",
               "paddingRight": "5px"
              }
             },
             "children": [
              "𝑓"
             ],
             "tagName": "span"
            },
            {
             "attributes": {
              "style": {
               "color": "#27374D",
               "paddingLeft": "5px",
               "paddingRight": "5px"
              }
             },
             "children": [
              "Ran"
             ],
             "tagName": "span"
            },
            {
             "attributes": {
              "style": {
               "fontFamily": "monospace",
               "unicodeBidi": "embed",
               "whiteSpace": "pre"
              }
             },
             "children": [
              "what_time"
             ],
             "tagName": "span"
            },
            {
             "attributes": {
              "style": {
               "fontFamily": "monospace",
               "unicodeBidi": "embed",
               "whiteSpace": "pre"
              }
             },
             "children": [
              ""
             ],
             "tagName": "span"
            }
           ],
           "tagName": "summary"
          },
          {
           "attributes": {
            "style": {
             "marginLeft": "10px",
             "marginTop": "10px"
            }
           },
           "children": [
            {
             "attributes": {},
             "children": [
              {
               "attributes": {
                "style": {
                 "color": "#27374D",
                 "fontWeight": "500",
                 "marginBottom": "5px"
                }
               },
               "children": [
                "Input:"
               ],
               "tagName": "div"
              },
              {
               "attributes": {
                "style": {
                 "background": "#F7F9FA",
                 "color": "#27374D",
                 "fontFamily": "monospace",
                 "marginBottom": "10px",
                 "padding": "10px",
                 "unicodeBidi": "embed",
                 "whiteSpace": "pre"
                }
               },
               "children": [
                "{\n  \"tz\": \"Asia/Tokyo\"\n}"
               ],
               "tagName": "div"
              }
             ],
             "tagName": "div"
            },
            {
             "attributes": {},
             "children": [
              {
               "attributes": {
                "style": {
                 "color": "#27374D",
                 "fontWeight": "500",
                 "marginBottom": "5px"
                }
               },
               "children": [
                "Output:"
               ],
               "tagName": "div"
              },
              {
               "attributes": {
                "style": {
                 "background": "#F7F9FA",
                 "color": "#27374D",
                 "fontFamily": "monospace",
                 "marginBottom": "10px",
                 "padding": "10px",
                 "unicodeBidi": "embed",
                 "whiteSpace": "pre"
                }
               },
               "children": [
                "'07:06 AM'"
               ],
               "tagName": "div"
              }
             ],
             "tagName": "div"
            }
           ],
           "tagName": "div"
          }
         ],
         "tagName": "details"
        }
       ],
       "tagName": "div"
      },
      "text/html": [
       "<div><style>.chatlab-chat-details summary &gt; *  { display: inline; color: #27374D; }</style><details style=\"background: #DDE6ED; border-radius: 5px; padding: .5rem 1rem\" className=\"chatlab-chat-details\"><summary style=\"color: #27374D; cursor: pointer\"><span style=\"color: #9DB2BF; padding-left: 5px; padding-right: 5px\">𝑓</span><span style=\"color: #27374D; padding-left: 5px; padding-right: 5px\">Ran</span><span style=\"font-family: monospace; unicode-bidi: embed; white-space: pre\">what_time</span><span style=\"font-family: monospace; unicode-bidi: embed; white-space: pre\"></span></summary><div style=\"margin-left: 10px; margin-top: 10px\"><div><div style=\"color: #27374D; font-weight: 500; margin-bottom: 5px\">Input:</div><div style=\"background: #F7F9FA; color: #27374D; font-family: monospace; margin-bottom: 10px; padding: 10px; unicode-bidi: embed; white-space: pre\">{\n",
       "  &quot;tz&quot;: &quot;Asia/Tokyo&quot;\n",
       "}</div></div><div><div style=\"color: #27374D; font-weight: 500; margin-bottom: 5px\">Output:</div><div style=\"background: #F7F9FA; color: #27374D; font-family: monospace; margin-bottom: 10px; padding: 10px; unicode-bidi: embed; white-space: pre\">&#x27;07:06 AM&#x27;</div></div></div></details></div>"
      ],
      "text/plain": [
       "<chatlab.display.ChatFunctionCall at 0x10fb6b010>"
      ]
     },
     "metadata": {},
     "output_type": "display_data"
    },
    {
     "data": {
      "text/markdown": [
       "The current time in Osaka is 07:06 AM."
      ],
      "text/plain": [
       "The current time in Osaka is 07:06 AM."
      ]
     },
     "metadata": {
      "text/markdown": {
       "chatlab": {
        "default": true
       }
      }
     },
     "output_type": "display_data"
    }
   ],
   "source": [
    "chat(\"Great. What time is it in Osaka?\")"
   ]
  },
  {
   "cell_type": "markdown",
   "id": "7f6edcbd-6735-4f28-85ca-45d72660a353",
   "metadata": {},
   "source": [
    "Under the hood, `chatlab` is keeping track of the conversation history for you in `.messages`"
   ]
  },
  {
   "cell_type": "code",
   "execution_count": 9,
   "id": "aa5ffa67-2fa7-472a-8fee-c634b392cf5d",
   "metadata": {},
   "outputs": [
    {
     "data": {
      "text/plain": [
       "[{'role': 'user', 'content': 'What time is it?'},\n",
       " {'role': 'assistant',\n",
       "  'content': None,\n",
       "  'function_call': {'name': 'what_time', 'arguments': '{}'}},\n",
       " {'role': 'function', 'content': \"'03:06 PM'\", 'name': 'what_time'},\n",
       " {'role': 'assistant', 'content': 'The current time is 03:06 PM.'},\n",
       " {'role': 'user', 'content': 'Great. What time is it in Osaka?'},\n",
       " {'role': 'assistant',\n",
       "  'content': None,\n",
       "  'function_call': {'name': 'what_time',\n",
       "   'arguments': '{\\n  \"tz\": \"Asia/Tokyo\"\\n}'}},\n",
       " {'role': 'function', 'content': \"'07:06 AM'\", 'name': 'what_time'},\n",
       " {'role': 'assistant', 'content': 'The current time in Osaka is 07:06 AM.'}]"
      ]
     },
     "execution_count": 9,
     "metadata": {},
     "output_type": "execute_result"
    }
   ],
   "source": [
    "conversation.messages"
   ]
  },
  {
   "cell_type": "markdown",
   "id": "3b76f9c3-d192-4dfe-837b-c19d99289d4e",
   "metadata": {},
   "source": [
    "## Outro\n",
    "\n",
    "Thanks for reading through! Please post issues and reach out. I want to hear your experiences!"
   ]
  }
 ],
 "metadata": {
  "kernelspec": {
   "display_name": "Poetry env for murkrow",
   "language": "python",
   "name": "murkrow"
  },
  "language_info": {
   "codemirror_mode": {
    "name": "ipython",
    "version": 3
   },
   "file_extension": ".py",
   "mimetype": "text/x-python",
   "name": "python",
   "nbconvert_exporter": "python",
   "pygments_lexer": "ipython3",
   "version": "3.11.1"
  }
 },
 "nbformat": 4,
 "nbformat_minor": 5
}
