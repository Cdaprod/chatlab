{
 "cells": [
  {
   "cell_type": "markdown",
   "id": "4e0d00d2-8ef6-41a5-aa93-3d597e322fda",
   "metadata": {},
   "source": [
    "## ChatLab: Chat Experiments, Simplified\n",
    "\n",
    "💬🔬"
   ]
  },
  {
   "cell_type": "code",
   "execution_count": 1,
   "id": "9e24b9de-dbb6-4c98-aaad-e9d983ac3cf1",
   "metadata": {},
   "outputs": [
    {
     "data": {
      "text/markdown": [
       "A Murkrow is a dark-type Pokémon species in the Pokémon franchise. Although it is bird-like in appearance, it is not based on any specific real-world bird species."
      ],
      "text/plain": [
       "A Murkrow is a dark-type Pokémon species in the Pokémon franchise. Although it is bird-like in appearance, it is not based on any specific real-world bird species."
      ]
     },
     "metadata": {
      "text/markdown": {
       "chatlab": {
        "default": true
       }
      }
     },
     "output_type": "display_data"
    }
   ],
   "source": [
    "import chatlab\n",
    "\n",
    "chat = chatlab.Chat()\n",
    "\n",
    "await chat(\"What kind of bird is a murkrow?\")"
   ]
  },
  {
   "cell_type": "code",
   "execution_count": 2,
   "id": "03bc7ff6-1cbd-455f-be67-98805a479938",
   "metadata": {},
   "outputs": [
    {
     "data": {
      "text/markdown": [
       "Sure, I can help you work with the \"circulation-grade-6.csv\" file. \n",
       "\n",
       "To get started, we first need to import the necessary libraries. Here, we will use `pandas` for data manipulation and analysis:\n",
       "\n",
       "```python\n",
       "import pandas as pd\n",
       "```\n",
       "\n",
       "Next, we can read the CSV file into a DataFrame using the `read_csv()` function from `pandas`:\n",
       "\n",
       "```python\n",
       "df = pd.read_csv('circulation-grade-6.csv')\n",
       "```\n",
       "\n",
       "Now that we have loaded the data, we can start exploring and analyzing it.\n",
       "\n",
       "To get a quick overview of the data, you can use the `head()` method to display the first few rows of the DataFrame:\n",
       "\n",
       "```python\n",
       "df.head()\n",
       "```\n",
       "\n",
       "To access specific columns in the DataFrame, you can use the column names as keys. For example, to access the \"Student ID\" and \"Circulation Count\" columns, you can use:\n",
       "\n",
       "```python\n",
       "student_id = df['Student ID']\n",
       "circulation_count = df['Circulation Count']\n",
       "```\n",
       "\n",
       "You can perform basic summary statistics on columns using the `describe()` method. For numerical columns like \"Circulation Count\", this will provide information such as mean, standard deviation, minimum, maximum, and quartiles:\n",
       "\n",
       "```python\n",
       "circulation_count.describe()\n",
       "```\n",
       "\n",
       "If you want to filter the data based on certain conditions, you can use Boolean indexing. For example, to select rows where the \"Circulation Count\" is greater than 10, you can do:\n",
       "\n",
       "```python\n",
       "high_circulation = df[df['Circulation Count'] > 10]\n",
       "```\n",
       "\n",
       "You can also perform various aggregations and computations on the DataFrame columns. For instance, to calculate the total circulation count, you can use the `sum()` method:\n",
       "\n",
       "```python\n",
       "total_circulation = df['Circulation Count'].sum()\n",
       "```\n",
       "\n",
       "These are just some basic operations you can perform on the data. Depending on the specific analysis or tasks you have in mind, there may be additional considerations.\n",
       "\n",
       "Let me know if you need any further assistance or if you have any specific questions about the dataset!"
      ],
      "text/plain": [
       "Sure, I can help you work with the \"circulation-grade-6.csv\" file. \n",
       "\n",
       "To get started, we first need to import the necessary libraries. Here, we will use `pandas` for data manipulation and analysis:\n",
       "\n",
       "```python\n",
       "import pandas as pd\n",
       "```\n",
       "\n",
       "Next, we can read the CSV file into a DataFrame using the `read_csv()` function from `pandas`:\n",
       "\n",
       "```python\n",
       "df = pd.read_csv('circulation-grade-6.csv')\n",
       "```\n",
       "\n",
       "Now that we have loaded the data, we can start exploring and analyzing it.\n",
       "\n",
       "To get a quick overview of the data, you can use the `head()` method to display the first few rows of the DataFrame:\n",
       "\n",
       "```python\n",
       "df.head()\n",
       "```\n",
       "\n",
       "To access specific columns in the DataFrame, you can use the column names as keys. For example, to access the \"Student ID\" and \"Circulation Count\" columns, you can use:\n",
       "\n",
       "```python\n",
       "student_id = df['Student ID']\n",
       "circulation_count = df['Circulation Count']\n",
       "```\n",
       "\n",
       "You can perform basic summary statistics on columns using the `describe()` method. For numerical columns like \"Circulation Count\", this will provide information such as mean, standard deviation, minimum, maximum, and quartiles:\n",
       "\n",
       "```python\n",
       "circulation_count.describe()\n",
       "```\n",
       "\n",
       "If you want to filter the data based on certain conditions, you can use Boolean indexing. For example, to select rows where the \"Circulation Count\" is greater than 10, you can do:\n",
       "\n",
       "```python\n",
       "high_circulation = df[df['Circulation Count'] > 10]\n",
       "```\n",
       "\n",
       "You can also perform various aggregations and computations on the DataFrame columns. For instance, to calculate the total circulation count, you can use the `sum()` method:\n",
       "\n",
       "```python\n",
       "total_circulation = df['Circulation Count'].sum()\n",
       "```\n",
       "\n",
       "These are just some basic operations you can perform on the data. Depending on the specific analysis or tasks you have in mind, there may be additional considerations.\n",
       "\n",
       "Let me know if you need any further assistance or if you have any specific questions about the dataset!"
      ]
     },
     "metadata": {
      "text/markdown": {
       "chatlab": {
        "default": true
       }
      }
     },
     "output_type": "display_data"
    }
   ],
   "source": [
    "from chatlab import Chat, user, system\n",
    "\n",
    "chat = Chat()\n",
    "\n",
    "await chat(\n",
    "    system(\"You are a data science tutor running inside of a Jupyter \"\n",
    "           \"Notebook environment that has the full NumFOCUS/PyData stack.\"),\n",
    "    user(\"Help me work with circulation-grade-6.csv\"),\n",
    ")"
   ]
  },
  {
   "cell_type": "markdown",
   "id": "0d7ade64-78c2-494e-ac32-800ca592158d",
   "metadata": {},
   "source": [
    "## Introducing Chat Functions\n",
    "\n",
    "Where `chatlab` (and OpenAI, really) take it next level is with _Chat Functions_. You can declare a function with a schema then register it in your `Chat` for GPT Models to call. You may recall this kind of behavior from [ChatGPT Plugins](https://noteable.io/chatgpt-plugin-for-notebook/). Now, you can take this even further with your own custom code.\n",
    "\n",
    "As an example, let's give the large language models the ability to tell time."
   ]
  },
  {
   "cell_type": "code",
   "execution_count": 3,
   "id": "fbfff959-213e-4619-8068-8d79b082f0ea",
   "metadata": {},
   "outputs": [],
   "source": [
    "from datetime import datetime\n",
    "from pytz import timezone, all_timezones, utc\n",
    "from typing import Optional\n",
    "from pydantic import BaseModel\n",
    "\n",
    "def what_time(tz: Optional[str] = None):\n",
    "    '''Current time, defaulting to UTC'''\n",
    "    if tz is None:\n",
    "        pass\n",
    "    elif tz in all_timezones:\n",
    "        tz = timezone(tz)\n",
    "    else:\n",
    "        return 'Invalid timezone'\n",
    "        \n",
    "    return datetime.now(tz).strftime('%I:%M %p')\n",
    "\n",
    "class WhatTime(BaseModel):\n",
    "    tz: Optional[str]"
   ]
  },
  {
   "cell_type": "markdown",
   "id": "3830f5f2-f625-4996-b6f1-7bf8a8e76e6f",
   "metadata": {},
   "source": [
    "Let's break this down.\n",
    "\n",
    "`what_time` is the function we're going to provide access to. Its docstring forms the `description` for the model while the schema comes from the pydantic `BaseModel` called `WhatTime`."
   ]
  },
  {
   "cell_type": "code",
   "execution_count": 4,
   "id": "b9224549-2645-4630-abb4-9d6a2620c49d",
   "metadata": {},
   "outputs": [
    {
     "data": {
      "text/plain": [
       "{'name': 'what_time',\n",
       " 'description': 'Current time, defaulting to UTC',\n",
       " 'parameters': {'title': 'WhatTime',\n",
       "  'type': 'object',\n",
       "  'properties': {'tz': {'title': 'Tz', 'type': 'string'}}}}"
      ]
     },
     "execution_count": 4,
     "metadata": {},
     "output_type": "execute_result"
    }
   ],
   "source": [
    "import chatlab\n",
    "\n",
    "chat = chatlab.Chat()\n",
    "\n",
    "# Register our function\n",
    "chat.register(what_time, WhatTime)"
   ]
  },
  {
   "cell_type": "code",
   "execution_count": 5,
   "id": "8c18db94-71d9-4894-91bf-064ecfca13f5",
   "metadata": {},
   "outputs": [
    {
     "data": {
      "text/markdown": [
       " "
      ],
      "text/plain": [
       " "
      ]
     },
     "metadata": {
      "text/markdown": {
       "chatlab": {
        "default": true
       }
      }
     },
     "output_type": "display_data"
    },
    {
     "data": {
      "application/vdom.v1+json": {
       "attributes": {},
       "children": [
        {
         "attributes": {},
         "children": [
          ".chatlab-chat-details summary > *  { display: inline; color: #27374D; }"
         ],
         "tagName": "style"
        },
        {
         "attributes": {
          "className": "chatlab-chat-details",
          "style": {
           "background": "#DDE6ED",
           "borderRadius": "5px",
           "padding": ".5rem 1rem"
          }
         },
         "children": [
          {
           "attributes": {
            "style": {
             "color": "#27374D",
             "cursor": "pointer"
            }
           },
           "children": [
            {
             "attributes": {
              "style": {
               "color": "#9DB2BF",
               "paddingLeft": "5px",
               "paddingRight": "5px"
              }
             },
             "children": [
              "𝑓"
             ],
             "tagName": "span"
            },
            {
             "attributes": {
              "style": {
               "color": "#27374D",
               "paddingLeft": "5px",
               "paddingRight": "5px"
              }
             },
             "children": [
              "Ran"
             ],
             "tagName": "span"
            },
            {
             "attributes": {
              "style": {
               "fontFamily": "monospace",
               "unicodeBidi": "embed",
               "whiteSpace": "pre"
              }
             },
             "children": [
              "what_time"
             ],
             "tagName": "span"
            },
            {
             "attributes": {
              "style": {
               "fontFamily": "monospace",
               "unicodeBidi": "embed",
               "whiteSpace": "pre"
              }
             },
             "children": [
              ""
             ],
             "tagName": "span"
            }
           ],
           "tagName": "summary"
          },
          {
           "attributes": {
            "style": {
             "marginLeft": "10px",
             "marginTop": "10px"
            }
           },
           "children": [
            {
             "attributes": {},
             "children": [
              {
               "attributes": {
                "style": {
                 "color": "#27374D",
                 "fontWeight": "500",
                 "marginBottom": "5px"
                }
               },
               "children": [
                "Input:"
               ],
               "tagName": "div"
              },
              {
               "attributes": {
                "style": {
                 "background": "#F7F9FA",
                 "color": "#27374D",
                 "fontFamily": "monospace",
                 "marginBottom": "10px",
                 "overflowX": "auto",
                 "padding": "10px",
                 "unicodeBidi": "embed",
                 "whiteSpace": "pre"
                }
               },
               "children": [
                "{}"
               ],
               "tagName": "div"
              }
             ],
             "tagName": "div"
            },
            {
             "attributes": {},
             "children": [
              {
               "attributes": {
                "style": {
                 "color": "#27374D",
                 "fontWeight": "500",
                 "marginBottom": "5px"
                }
               },
               "children": [
                "Output:"
               ],
               "tagName": "div"
              },
              {
               "attributes": {
                "style": {
                 "background": "#F7F9FA",
                 "color": "#27374D",
                 "fontFamily": "monospace",
                 "marginBottom": "10px",
                 "overflowX": "auto",
                 "padding": "10px",
                 "unicodeBidi": "embed",
                 "whiteSpace": "pre"
                }
               },
               "children": [
                "07:37 AM"
               ],
               "tagName": "div"
              }
             ],
             "tagName": "div"
            }
           ],
           "tagName": "div"
          }
         ],
         "tagName": "details"
        }
       ],
       "tagName": "div"
      },
      "text/html": [
       "<div><style>.chatlab-chat-details summary &gt; *  { display: inline; color: #27374D; }</style><details style=\"background: #DDE6ED; border-radius: 5px; padding: .5rem 1rem\" className=\"chatlab-chat-details\"><summary style=\"color: #27374D; cursor: pointer\"><span style=\"color: #9DB2BF; padding-left: 5px; padding-right: 5px\">𝑓</span><span style=\"color: #27374D; padding-left: 5px; padding-right: 5px\">Ran</span><span style=\"font-family: monospace; unicode-bidi: embed; white-space: pre\">what_time</span><span style=\"font-family: monospace; unicode-bidi: embed; white-space: pre\"></span></summary><div style=\"margin-left: 10px; margin-top: 10px\"><div><div style=\"color: #27374D; font-weight: 500; margin-bottom: 5px\">Input:</div><div style=\"background: #F7F9FA; color: #27374D; font-family: monospace; margin-bottom: 10px; overflow-x: auto; padding: 10px; unicode-bidi: embed; white-space: pre\">{}</div></div><div><div style=\"color: #27374D; font-weight: 500; margin-bottom: 5px\">Output:</div><div style=\"background: #F7F9FA; color: #27374D; font-family: monospace; margin-bottom: 10px; overflow-x: auto; padding: 10px; unicode-bidi: embed; white-space: pre\">07:37 AM</div></div></div></details></div>"
      ],
      "text/plain": [
       "<chatlab.display.ChatFunctionCall at 0x106161e50>"
      ]
     },
     "metadata": {},
     "output_type": "display_data"
    },
    {
     "data": {
      "text/markdown": [
       "The current time is 07:37 AM."
      ],
      "text/plain": [
       "The current time is 07:37 AM."
      ]
     },
     "metadata": {
      "text/markdown": {
       "chatlab": {
        "default": true
       }
      }
     },
     "output_type": "display_data"
    }
   ],
   "source": [
    "await chat(\"What time is it?\")"
   ]
  },
  {
   "cell_type": "code",
   "execution_count": 6,
   "id": "e5481e06-69d8-47e6-99d5-601fce1f0e1d",
   "metadata": {},
   "outputs": [
    {
     "data": {
      "text/plain": [
       "[{'role': 'user', 'content': 'What time is it?'},\n",
       " {'role': 'assistant',\n",
       "  'content': None,\n",
       "  'function_call': {'name': 'what_time', 'arguments': '{}'}},\n",
       " {'role': 'function', 'content': '07:37 AM', 'name': 'what_time'},\n",
       " {'role': 'assistant', 'content': 'The current time is 07:37 AM.'}]"
      ]
     },
     "execution_count": 6,
     "metadata": {},
     "output_type": "execute_result"
    }
   ],
   "source": [
    "chat.messages"
   ]
  },
  {
   "cell_type": "code",
   "execution_count": 7,
   "id": "d035861c-400a-4d62-9a8c-4385ffb9842c",
   "metadata": {},
   "outputs": [
    {
     "data": {
      "text/markdown": [
       " "
      ],
      "text/plain": [
       " "
      ]
     },
     "metadata": {
      "text/markdown": {
       "chatlab": {
        "default": true
       }
      }
     },
     "output_type": "display_data"
    },
    {
     "data": {
      "application/vdom.v1+json": {
       "attributes": {},
       "children": [
        {
         "attributes": {},
         "children": [
          ".chatlab-chat-details summary > *  { display: inline; color: #27374D; }"
         ],
         "tagName": "style"
        },
        {
         "attributes": {
          "className": "chatlab-chat-details",
          "style": {
           "background": "#DDE6ED",
           "borderRadius": "5px",
           "padding": ".5rem 1rem"
          }
         },
         "children": [
          {
           "attributes": {
            "style": {
             "color": "#27374D",
             "cursor": "pointer"
            }
           },
           "children": [
            {
             "attributes": {
              "style": {
               "color": "#9DB2BF",
               "paddingLeft": "5px",
               "paddingRight": "5px"
              }
             },
             "children": [
              "𝑓"
             ],
             "tagName": "span"
            },
            {
             "attributes": {
              "style": {
               "color": "#27374D",
               "paddingLeft": "5px",
               "paddingRight": "5px"
              }
             },
             "children": [
              "Ran"
             ],
             "tagName": "span"
            },
            {
             "attributes": {
              "style": {
               "fontFamily": "monospace",
               "unicodeBidi": "embed",
               "whiteSpace": "pre"
              }
             },
             "children": [
              "what_time"
             ],
             "tagName": "span"
            },
            {
             "attributes": {
              "style": {
               "fontFamily": "monospace",
               "unicodeBidi": "embed",
               "whiteSpace": "pre"
              }
             },
             "children": [
              ""
             ],
             "tagName": "span"
            }
           ],
           "tagName": "summary"
          },
          {
           "attributes": {
            "style": {
             "marginLeft": "10px",
             "marginTop": "10px"
            }
           },
           "children": [
            {
             "attributes": {},
             "children": [
              {
               "attributes": {
                "style": {
                 "color": "#27374D",
                 "fontWeight": "500",
                 "marginBottom": "5px"
                }
               },
               "children": [
                "Input:"
               ],
               "tagName": "div"
              },
              {
               "attributes": {
                "style": {
                 "background": "#F7F9FA",
                 "color": "#27374D",
                 "fontFamily": "monospace",
                 "marginBottom": "10px",
                 "overflowX": "auto",
                 "padding": "10px",
                 "unicodeBidi": "embed",
                 "whiteSpace": "pre"
                }
               },
               "children": [
                "{\n  \"tz\": \"Asia/Tokyo\"\n}"
               ],
               "tagName": "div"
              }
             ],
             "tagName": "div"
            },
            {
             "attributes": {},
             "children": [
              {
               "attributes": {
                "style": {
                 "color": "#27374D",
                 "fontWeight": "500",
                 "marginBottom": "5px"
                }
               },
               "children": [
                "Output:"
               ],
               "tagName": "div"
              },
              {
               "attributes": {
                "style": {
                 "background": "#F7F9FA",
                 "color": "#27374D",
                 "fontFamily": "monospace",
                 "marginBottom": "10px",
                 "overflowX": "auto",
                 "padding": "10px",
                 "unicodeBidi": "embed",
                 "whiteSpace": "pre"
                }
               },
               "children": [
                "11:37 PM"
               ],
               "tagName": "div"
              }
             ],
             "tagName": "div"
            }
           ],
           "tagName": "div"
          }
         ],
         "tagName": "details"
        }
       ],
       "tagName": "div"
      },
      "text/html": [
       "<div><style>.chatlab-chat-details summary &gt; *  { display: inline; color: #27374D; }</style><details style=\"background: #DDE6ED; border-radius: 5px; padding: .5rem 1rem\" className=\"chatlab-chat-details\"><summary style=\"color: #27374D; cursor: pointer\"><span style=\"color: #9DB2BF; padding-left: 5px; padding-right: 5px\">𝑓</span><span style=\"color: #27374D; padding-left: 5px; padding-right: 5px\">Ran</span><span style=\"font-family: monospace; unicode-bidi: embed; white-space: pre\">what_time</span><span style=\"font-family: monospace; unicode-bidi: embed; white-space: pre\"></span></summary><div style=\"margin-left: 10px; margin-top: 10px\"><div><div style=\"color: #27374D; font-weight: 500; margin-bottom: 5px\">Input:</div><div style=\"background: #F7F9FA; color: #27374D; font-family: monospace; margin-bottom: 10px; overflow-x: auto; padding: 10px; unicode-bidi: embed; white-space: pre\">{\n",
       "  &quot;tz&quot;: &quot;Asia/Tokyo&quot;\n",
       "}</div></div><div><div style=\"color: #27374D; font-weight: 500; margin-bottom: 5px\">Output:</div><div style=\"background: #F7F9FA; color: #27374D; font-family: monospace; margin-bottom: 10px; overflow-x: auto; padding: 10px; unicode-bidi: embed; white-space: pre\">11:37 PM</div></div></div></details></div>"
      ],
      "text/plain": [
       "<chatlab.display.ChatFunctionCall at 0x11fb4bd90>"
      ]
     },
     "metadata": {},
     "output_type": "display_data"
    },
    {
     "data": {
      "text/markdown": [
       "The current time in Osaka is 11:37 PM."
      ],
      "text/plain": [
       "The current time in Osaka is 11:37 PM."
      ]
     },
     "metadata": {
      "text/markdown": {
       "chatlab": {
        "default": true
       }
      }
     },
     "output_type": "display_data"
    }
   ],
   "source": [
    "await chat(\"Great. What time is it in Osaka?\")"
   ]
  },
  {
   "cell_type": "markdown",
   "id": "7f6edcbd-6735-4f28-85ca-45d72660a353",
   "metadata": {},
   "source": [
    "Under the hood, `chatlab` is keeping track of the conversation history for you in `.messages`"
   ]
  },
  {
   "cell_type": "code",
   "execution_count": 8,
   "id": "aa5ffa67-2fa7-472a-8fee-c634b392cf5d",
   "metadata": {},
   "outputs": [
    {
     "data": {
      "text/plain": [
       "[{'role': 'user', 'content': 'What time is it?'},\n",
       " {'role': 'assistant',\n",
       "  'content': None,\n",
       "  'function_call': {'name': 'what_time', 'arguments': '{}'}},\n",
       " {'role': 'function', 'content': '07:37 AM', 'name': 'what_time'},\n",
       " {'role': 'assistant', 'content': 'The current time is 07:37 AM.'},\n",
       " {'role': 'user', 'content': 'Great. What time is it in Osaka?'},\n",
       " {'role': 'assistant',\n",
       "  'content': None,\n",
       "  'function_call': {'name': 'what_time',\n",
       "   'arguments': '{\\n  \"tz\": \"Asia/Tokyo\"\\n}'}},\n",
       " {'role': 'function', 'content': '11:37 PM', 'name': 'what_time'},\n",
       " {'role': 'assistant', 'content': 'The current time in Osaka is 11:37 PM.'}]"
      ]
     },
     "execution_count": 8,
     "metadata": {},
     "output_type": "execute_result"
    }
   ],
   "source": [
    "chat.messages"
   ]
  },
  {
   "cell_type": "markdown",
   "id": "3b76f9c3-d192-4dfe-837b-c19d99289d4e",
   "metadata": {},
   "source": [
    "## Outro\n",
    "\n",
    "Thanks for reading through! Please post issues and reach out. I want to hear your experiences!"
   ]
  }
 ],
 "metadata": {
  "kernelspec": {
   "display_name": "Python (chatlab-dev)",
   "language": "python",
   "name": "python-chatlab-dev"
  },
  "language_info": {
   "codemirror_mode": {
    "name": "ipython",
    "version": 3
   },
   "file_extension": ".py",
   "mimetype": "text/x-python",
   "name": "python",
   "nbconvert_exporter": "python",
   "pygments_lexer": "ipython3",
   "version": "3.11.1"
  }
 },
 "nbformat": 4,
 "nbformat_minor": 5
}
