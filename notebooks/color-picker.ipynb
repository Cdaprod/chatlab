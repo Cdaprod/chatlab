{
 "cells": [
  {
   "cell_type": "code",
   "execution_count": 1,
   "metadata": {},
   "outputs": [],
   "source": [
    "from chatlab import Chat, models, system\n",
    "from chatlab.builtins.colors import show_colors\n",
    "\n",
    "chat = Chat(\n",
    "    system(\"Format responses in markdown,. You are a skilled designer.\"),\n",
    "    chat_functions=[show_colors],\n",
    "    model=models.GPT_4_1106_PREVIEW,\n",
    ")"
   ]
  },
  {
   "cell_type": "code",
   "execution_count": 2,
   "metadata": {},
   "outputs": [
    {
     "data": {
      "text/html": [
       "<div><style>.chatlab-chat-details summary &gt; *  { display: inline; color: #27374D; }</style><details style=\"background: #DDE6ED; border-radius: 5px; padding: .5rem 1rem\" className=\"chatlab-chat-details\"><summary style=\"color: #27374D; cursor: pointer\"><span style=\"color: #9DB2BF; padding-left: 5px; padding-right: 5px\">𝑓</span><span style=\"color: #27374D; padding-left: 5px; padding-right: 5px\">Ran</span><span style=\"font-family: monospace; unicode-bidi: embed; white-space: pre\">show_colors</span><span style=\"font-family: monospace; unicode-bidi: embed; white-space: pre\"></span></summary><div style=\"margin-left: 10px; margin-top: 10px\"><div><div style=\"color: #27374D; font-weight: 500; margin-bottom: 5px\">Input:</div><div style=\"background: #F7F9FA; color: #27374D; font-family: monospace; margin-bottom: 10px; overflow-x: auto; padding: 10px; unicode-bidi: embed; white-space: pre\">{&quot;colors&quot;:[&quot;#1A1A1D&quot;,&quot;#4E4E50&quot;,&quot;#6F2232&quot;,&quot;#950740&quot;,&quot;#C3073F&quot;,&quot;#10A674&quot;,&quot;#A1D6E2&quot;,&quot;#1995AD&quot;]}</div></div><div><div style=\"color: #27374D; font-weight: 500; margin-bottom: 5px\">Output:</div><div style=\"background: #F7F9FA; color: #27374D; font-family: monospace; margin-bottom: 10px; overflow-x: auto; padding: 10px; unicode-bidi: embed; white-space: pre\">Displayed colors for user and stored as `palettes[&#x27;palette-b63311ad114c9aca3f933c3d5cfcd7b6d8de202b&#x27;]`.</div></div></div></details></div>"
      ],
      "text/plain": [
       "<chatlab.display.ChatFunctionCall at 0x120706750>"
      ]
     },
     "metadata": {},
     "output_type": "display_data"
    },
    {
     "data": {
      "text/html": [
       "<div><div style=\"background-color:#1A1A1D; width:50px; height:50px; display:inline-block;\"></div><div style=\"background-color:#4E4E50; width:50px; height:50px; display:inline-block;\"></div><div style=\"background-color:#6F2232; width:50px; height:50px; display:inline-block;\"></div><div style=\"background-color:#950740; width:50px; height:50px; display:inline-block;\"></div><div style=\"background-color:#C3073F; width:50px; height:50px; display:inline-block;\"></div><div style=\"background-color:#10A674; width:50px; height:50px; display:inline-block;\"></div><div style=\"background-color:#A1D6E2; width:50px; height:50px; display:inline-block;\"></div><div style=\"background-color:#1995AD; width:50px; height:50px; display:inline-block;\"></div></div>"
      ],
      "text/plain": [
       "Palette(['#1A1A1D', '#4E4E50', '#6F2232', '#950740', '#C3073F', '#10A674', '#A1D6E2', '#1995AD'], palette-b63311ad114c9aca3f933c3d5cfcd7b6d8de202b)"
      ]
     },
     "metadata": {},
     "output_type": "display_data"
    },
    {
     "data": {
      "text/markdown": [
       "For your portfolio site with a dark theme, I've created a color palette that balances dark tones with vibrant accents to give it a modern and professional look. Here's the breakdown of the palette:\n",
       "\n",
       "1. **#1A1A1D** - This deep, dark gray serves as the primary background color, providing a sleek and unobtrusive backdrop for your content.\n",
       "\n",
       "2. **#4E4E50** - A slightly lighter shade of gray, perfect for secondary elements, such as sidebars or footers, to create a subtle contrast against the primary background.\n",
       "\n",
       "3. **#6F2232** - A dark, rich burgundy that can be used for important call-to-action buttons or for highlighting key achievements, adding a touch of elegance and seriousness.\n",
       "\n",
       "4. **#950740** - A brighter shade of red, which can be used sparingly to draw attention to specific elements like badges or progress bars.\n",
       "\n",
       "5. **#C3073F** - A vivid crimson for accents that demand immediate attention, such as notifications or error messages.\n",
       "\n",
       "6. **#10A674** - A calming teal that provides a refreshing contrast to the warm reds, ideal for links, icons, or progress indicators.\n",
       "\n",
       "7. **#A1D6E2** - A soft, light blue for background highlights or for large areas that need a touch of color without overwhelming the dark theme.\n",
       "\n",
       "8. **#1995AD** - A strong cyan that can be used for headings or to emphasize important text, ensuring readability and maintaining the site's dynamic feel.\n",
       "\n",
       "This palette combines the depth and sophistication of dark shades with the energy and clarity of brighter, accentuating colors. It's designed to create a visually appealing and user-friendly interface that will make your portfolio stand out. Remember to use the brighter colors judiciously to maintain the overall dark theme and to ensure that the content remains the focal point."
      ],
      "text/plain": [
       "For your portfolio site with a dark theme, I've created a color palette that balances dark tones with vibrant accents to give it a modern and professional look. Here's the breakdown of the palette:\n",
       "\n",
       "1. **#1A1A1D** - This deep, dark gray serves as the primary background color, providing a sleek and unobtrusive backdrop for your content.\n",
       "\n",
       "2. **#4E4E50** - A slightly lighter shade of gray, perfect for secondary elements, such as sidebars or footers, to create a subtle contrast against the primary background.\n",
       "\n",
       "3. **#6F2232** - A dark, rich burgundy that can be used for important call-to-action buttons or for highlighting key achievements, adding a touch of elegance and seriousness.\n",
       "\n",
       "4. **#950740** - A brighter shade of red, which can be used sparingly to draw attention to specific elements like badges or progress bars.\n",
       "\n",
       "5. **#C3073F** - A vivid crimson for accents that demand immediate attention, such as notifications or error messages.\n",
       "\n",
       "6. **#10A674** - A calming teal that provides a refreshing contrast to the warm reds, ideal for links, icons, or progress indicators.\n",
       "\n",
       "7. **#A1D6E2** - A soft, light blue for background highlights or for large areas that need a touch of color without overwhelming the dark theme.\n",
       "\n",
       "8. **#1995AD** - A strong cyan that can be used for headings or to emphasize important text, ensuring readability and maintaining the site's dynamic feel.\n",
       "\n",
       "This palette combines the depth and sophistication of dark shades with the energy and clarity of brighter, accentuating colors. It's designed to create a visually appealing and user-friendly interface that will make your portfolio stand out. Remember to use the brighter colors judiciously to maintain the overall dark theme and to ensure that the content remains the focal point."
      ]
     },
     "metadata": {
      "text/markdown": {
       "chatlab": {
        "default": true
       }
      }
     },
     "output_type": "display_data"
    }
   ],
   "source": [
    "await chat(\"Create a palette for a portfolio site with a dark theme.\")"
   ]
  },
  {
   "cell_type": "code",
   "execution_count": 3,
   "metadata": {},
   "outputs": [
    {
     "data": {
      "text/html": [
       "<div><style>.chatlab-chat-details summary &gt; *  { display: inline; color: #27374D; }</style><details style=\"background: #DDE6ED; border-radius: 5px; padding: .5rem 1rem\" className=\"chatlab-chat-details\"><summary style=\"color: #27374D; cursor: pointer\"><span style=\"color: #9DB2BF; padding-left: 5px; padding-right: 5px\">𝑓</span><span style=\"color: #27374D; padding-left: 5px; padding-right: 5px\">Ran</span><span style=\"font-family: monospace; unicode-bidi: embed; white-space: pre\">show_colors</span><span style=\"font-family: monospace; unicode-bidi: embed; white-space: pre\"></span></summary><div style=\"margin-left: 10px; margin-top: 10px\"><div><div style=\"color: #27374D; font-weight: 500; margin-bottom: 5px\">Input:</div><div style=\"background: #F7F9FA; color: #27374D; font-family: monospace; margin-bottom: 10px; overflow-x: auto; padding: 10px; unicode-bidi: embed; white-space: pre\">{&quot;colors&quot;:[&quot;#0F0F0F&quot;,&quot;#212121&quot;,&quot;#2BFF00&quot;,&quot;#00FFFF&quot;,&quot;#FF00FF&quot;,&quot;#FF0000&quot;,&quot;#FFD300&quot;,&quot;#FFFFFF&quot;]}</div></div><div><div style=\"color: #27374D; font-weight: 500; margin-bottom: 5px\">Output:</div><div style=\"background: #F7F9FA; color: #27374D; font-family: monospace; margin-bottom: 10px; overflow-x: auto; padding: 10px; unicode-bidi: embed; white-space: pre\">Displayed colors for user and stored as `palettes[&#x27;palette-cc4e5aa4fe6075fe6cca355d3c407a76f5f89e2c&#x27;]`.</div></div></div></details></div>"
      ],
      "text/plain": [
       "<chatlab.display.ChatFunctionCall at 0x121860710>"
      ]
     },
     "metadata": {},
     "output_type": "display_data"
    },
    {
     "data": {
      "text/html": [
       "<div><div style=\"background-color:#0F0F0F; width:50px; height:50px; display:inline-block;\"></div><div style=\"background-color:#212121; width:50px; height:50px; display:inline-block;\"></div><div style=\"background-color:#2BFF00; width:50px; height:50px; display:inline-block;\"></div><div style=\"background-color:#00FFFF; width:50px; height:50px; display:inline-block;\"></div><div style=\"background-color:#FF00FF; width:50px; height:50px; display:inline-block;\"></div><div style=\"background-color:#FF0000; width:50px; height:50px; display:inline-block;\"></div><div style=\"background-color:#FFD300; width:50px; height:50px; display:inline-block;\"></div><div style=\"background-color:#FFFFFF; width:50px; height:50px; display:inline-block;\"></div></div>"
      ],
      "text/plain": [
       "Palette(['#0F0F0F', '#212121', '#2BFF00', '#00FFFF', '#FF00FF', '#FF0000', '#FFD300', '#FFFFFF'], palette-cc4e5aa4fe6075fe6cca355d3c407a76f5f89e2c)"
      ]
     },
     "metadata": {},
     "output_type": "display_data"
    },
    {
     "data": {
      "text/markdown": [
       "For a neon-themed portfolio site with a dark background, I've curated a palette that combines the intensity of neon colors with a deep, dark base to ensure that the vivid colors truly pop. Here's the breakdown of the neon palette:\n",
       "\n",
       "1. **#0F0F0F** - A very dark, almost black color that will serve as the primary background, creating a canvas that makes neon colors stand out sharply.\n",
       "\n",
       "2. **#212121** - A slightly lighter shade of dark gray for secondary backgrounds or to differentiate sections without detracting from the neon effect.\n",
       "\n",
       "3. **#2BFF00** - A bright, electric neon green for highlights and interactive elements like buttons or links, ensuring they catch the user's eye.\n",
       "\n",
       "4. **#00FFFF** - Neon cyan for informational callouts or to accentuate key areas such as skill bars or active menu items.\n",
       "\n",
       "5. **#FF00FF** - A vibrant neon magenta to draw attention to special achievements, awards, or for hover states on interactive elements.\n",
       "\n",
       "6. **#FF0000** - A bold neon red that can be used for urgent notifications, warnings, or as a dynamic accent color for important content.\n",
       "\n",
       "7. **#FFD300** - A glowing neon yellow for less critical information that still requires emphasis, such as tags or category labels.\n",
       "\n",
       "8. **#FFFFFF** - Pure white for text and icons to ensure maximum readability against the dark, neon-lit background.\n",
       "\n",
       "This neon palette is designed to give your portfolio a striking, futuristic look that is both engaging and memorable. The key to using this palette effectively is to balance the bright neon colors with plenty of dark space to avoid overwhelming the viewer and to maintain a clean, professional appearance. Use the neon colors strategically to guide visitors through your portfolio and highlight the most important aspects of your work."
      ],
      "text/plain": [
       "For a neon-themed portfolio site with a dark background, I've curated a palette that combines the intensity of neon colors with a deep, dark base to ensure that the vivid colors truly pop. Here's the breakdown of the neon palette:\n",
       "\n",
       "1. **#0F0F0F** - A very dark, almost black color that will serve as the primary background, creating a canvas that makes neon colors stand out sharply.\n",
       "\n",
       "2. **#212121** - A slightly lighter shade of dark gray for secondary backgrounds or to differentiate sections without detracting from the neon effect.\n",
       "\n",
       "3. **#2BFF00** - A bright, electric neon green for highlights and interactive elements like buttons or links, ensuring they catch the user's eye.\n",
       "\n",
       "4. **#00FFFF** - Neon cyan for informational callouts or to accentuate key areas such as skill bars or active menu items.\n",
       "\n",
       "5. **#FF00FF** - A vibrant neon magenta to draw attention to special achievements, awards, or for hover states on interactive elements.\n",
       "\n",
       "6. **#FF0000** - A bold neon red that can be used for urgent notifications, warnings, or as a dynamic accent color for important content.\n",
       "\n",
       "7. **#FFD300** - A glowing neon yellow for less critical information that still requires emphasis, such as tags or category labels.\n",
       "\n",
       "8. **#FFFFFF** - Pure white for text and icons to ensure maximum readability against the dark, neon-lit background.\n",
       "\n",
       "This neon palette is designed to give your portfolio a striking, futuristic look that is both engaging and memorable. The key to using this palette effectively is to balance the bright neon colors with plenty of dark space to avoid overwhelming the viewer and to maintain a clean, professional appearance. Use the neon colors strategically to guide visitors through your portfolio and highlight the most important aspects of your work."
      ]
     },
     "metadata": {
      "text/markdown": {
       "chatlab": {
        "default": true
       }
      }
     },
     "output_type": "display_data"
    }
   ],
   "source": [
    "await chat(\"Can you make a neon version now?\")"
   ]
  }
 ],
 "metadata": {
  "kernelspec": {
   "display_name": "chatlab-3kMKfU-i-py3.11",
   "language": "python",
   "name": "python3"
  },
  "language_info": {
   "codemirror_mode": {
    "name": "ipython",
    "version": 3
   },
   "file_extension": ".py",
   "mimetype": "text/x-python",
   "name": "python",
   "nbconvert_exporter": "python",
   "pygments_lexer": "ipython3",
   "version": "3.11.1"
  }
 },
 "nbformat": 4,
 "nbformat_minor": 2
}
