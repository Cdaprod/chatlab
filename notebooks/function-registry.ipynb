{
 "cells": [
  {
   "cell_type": "markdown",
   "metadata": {},
   "source": [
    "# Function Registry\n",
    "\n",
    "_Register functions to enable chat models to call them._\n",
    "\n",
    "The hidden power behind `chat.register(ƒ)` is the Function Registry. It lets you register _typed_ functions quickly and easily so they can be called on behalf of chat models.\n"
   ]
  },
  {
   "cell_type": "code",
   "execution_count": 1,
   "metadata": {},
   "outputs": [
    {
     "data": {
      "text/plain": [
       "8"
      ]
     },
     "execution_count": 1,
     "metadata": {},
     "output_type": "execute_result"
    }
   ],
   "source": [
    "from chatlab import FunctionRegistry\n",
    "\n",
    "\n",
    "def f(x: float):\n",
    "    '''Multiply x by 2.'''\n",
    "    return x * 2\n",
    "\n",
    "\n",
    "registry = FunctionRegistry()\n",
    "registry.register_function(f)\n",
    "\n",
    "await registry.call(\"f\", \"{\\\"x\\\": 4}\")"
   ]
  },
  {
   "cell_type": "markdown",
   "metadata": {},
   "source": [
    "## Registering via Decorators\n",
    "\n",
    "`register` is also a decorator, allowing you to register a function while declaring it.\n"
   ]
  },
  {
   "cell_type": "code",
   "execution_count": 2,
   "metadata": {},
   "outputs": [
    {
     "data": {
      "text/plain": [
       "(1.0, -1.0)"
      ]
     },
     "execution_count": 2,
     "metadata": {},
     "output_type": "execute_result"
    }
   ],
   "source": [
    "from typing import Tuple, Optional\n",
    "import math\n",
    "\n",
    "\n",
    "@registry.register\n",
    "def quadratic_formula(a: float, b: float, c: float) -> Optional[Tuple[float, float]]:\n",
    "    \"\"\"\n",
    "    Solves the quadratic equation ax^2 + bx + c = 0.\n",
    "    :param a: Coefficient of x^2\n",
    "    :param b: Coefficient of x\n",
    "    :param c: Constant term\n",
    "    :return: Tuple containing two solutions or None if no real solutions exist\n",
    "    \"\"\"\n",
    "    discriminant = b**2 - 4 * a * c\n",
    "    if discriminant < 0:\n",
    "        return None  # No real solutions\n",
    "    x1 = (-b + math.sqrt(discriminant)) / (2 * a)\n",
    "    x2 = (-b - math.sqrt(discriminant)) / (2 * a)\n",
    "    return x1, x2\n",
    "\n",
    "\n",
    "await registry.call('quadratic_formula', '{\"a\": 1, \"b\": 0, \"c\": -1}')"
   ]
  },
  {
   "cell_type": "markdown",
   "metadata": {},
   "source": [
    "Functions can be registered by:\n",
    "\n",
    "- Passing a typed function in directly\n",
    "- Passing the function and the Pydantic model that describes its parameters\n",
    "- Passing the function and a JSON schema that describes its parameters\n",
    "\n",
    "## Registering Typed Functions\n",
    "\n",
    "> [!NOTE]\n",
    "> Not all function parameters can be accurately determined. For those cases it's best to use a Pydantic model or JSON schema.\n",
    ">\n",
    "> If you're adventurous, make a [PR to chatlab](https://github.com/rgbkrk/chatlab) to improve the type inference!\n",
    "\n",
    "### No Parameters\n"
   ]
  },
  {
   "cell_type": "code",
   "execution_count": 3,
   "metadata": {},
   "outputs": [
    {
     "data": {
      "text/plain": [
       "{'name': 'flip_a_coin',\n",
       " 'description': 'Flip a coin.',\n",
       " 'parameters': {'type': 'object', 'properties': {}, 'required': []}}"
      ]
     },
     "execution_count": 3,
     "metadata": {},
     "output_type": "execute_result"
    }
   ],
   "source": [
    "import random\n",
    "\n",
    "\n",
    "def flip_a_coin():\n",
    "    '''Flip a coin.'''\n",
    "    return random.choice([\"heads\", \"tails\"])\n",
    "\n",
    "\n",
    "registry.register(flip_a_coin)"
   ]
  },
  {
   "cell_type": "markdown",
   "metadata": {},
   "source": [
    "### Multiple Parameters\n"
   ]
  },
  {
   "cell_type": "code",
   "execution_count": 4,
   "metadata": {},
   "outputs": [
    {
     "data": {
      "text/plain": [
       "{'name': 'add',\n",
       " 'description': 'Add x and y.',\n",
       " 'parameters': {'type': 'object',\n",
       "  'properties': {'x': {'type': 'number'}, 'y': {'type': 'number'}},\n",
       "  'required': ['x', 'y']}}"
      ]
     },
     "execution_count": 4,
     "metadata": {},
     "output_type": "execute_result"
    }
   ],
   "source": [
    "def add(x: float, y: float):\n",
    "    '''Add x and y.'''\n",
    "    return x + y\n",
    "\n",
    "\n",
    "registry.register(add)"
   ]
  },
  {
   "cell_type": "markdown",
   "metadata": {},
   "source": [
    "### Optional Parameters\n"
   ]
  },
  {
   "cell_type": "code",
   "execution_count": 5,
   "metadata": {},
   "outputs": [
    {
     "data": {
      "text/plain": [
       "{'name': 'add',\n",
       " 'description': 'Add x and y.',\n",
       " 'parameters': {'type': 'object',\n",
       "  'properties': {'x': {'type': 'number'}, 'y': {'type': 'number'}},\n",
       "  'required': ['x']}}"
      ]
     },
     "execution_count": 5,
     "metadata": {},
     "output_type": "execute_result"
    }
   ],
   "source": [
    "def add(x: float, y: float = 1):\n",
    "    '''Add x and y.'''\n",
    "    return x + y\n",
    "\n",
    "\n",
    "registry.register(add)"
   ]
  },
  {
   "cell_type": "markdown",
   "metadata": {},
   "source": [
    "## Registering Functions with Pydantic Models\n",
    "\n",
    "Pydantic Models give you all the benefits above _and_ much more:\n",
    "\n",
    "- Default values\n",
    "- Descriptions on parameters\n",
    "- Deeper type validation\n"
   ]
  },
  {
   "cell_type": "code",
   "execution_count": 6,
   "metadata": {},
   "outputs": [
    {
     "data": {
      "text/plain": [
       "1283.3586785035118"
      ]
     },
     "execution_count": 6,
     "metadata": {},
     "output_type": "execute_result"
    }
   ],
   "source": [
    "from chatlab import FunctionRegistry\n",
    "from pydantic import BaseModel\n",
    "\n",
    "registry = FunctionRegistry()\n",
    "\n",
    "\n",
    "class CompoundInterestModel(BaseModel):\n",
    "    principal: float\n",
    "    rate: float\n",
    "    times_compounded: int\n",
    "    years: float\n",
    "\n",
    "\n",
    "@registry.register(parameter_schema=CompoundInterestModel)\n",
    "def compound_interest(principal: float, rate: float, times_compounded: int, years: float) -> float:\n",
    "    \"\"\"\n",
    "    Calculates the future value of an investment using compound interest.\n",
    "    :param principal: Initial investment amount\n",
    "    :param rate: Annual interest rate (as a decimal)\n",
    "    :param times_compounded: Number of times interest is compounded per year\n",
    "    :param years: Number of years the money is invested\n",
    "    :return: Future value of the investment\n",
    "    \"\"\"\n",
    "    return principal * (1 + rate / times_compounded) ** (times_compounded * years)\n",
    "\n",
    "\n",
    "await registry.call(\n",
    "    \"compound_interest\", CompoundInterestModel(principal=1000, rate=0.05, times_compounded=12, years=5).json()\n",
    ")"
   ]
  },
  {
   "cell_type": "markdown",
   "metadata": {},
   "source": [
    "### Scratch Space\n",
    "\n",
    "If you made it this far, you're probably ready to start writing your own functions. This notebook is a scratch space for you to try out your functions and make sure they work as expected. You can also use this space to test out the functions that are already in the registry. That's what I'm going to do in the following cells.\n"
   ]
  },
  {
   "cell_type": "code",
   "execution_count": 7,
   "metadata": {},
   "outputs": [
    {
     "data": {
      "application/vdom.v1+json": {
       "attributes": {},
       "children": [
        {
         "attributes": {},
         "children": [
          ".chatlab-chat-details summary > *  { display: inline; color: #27374D; }"
         ],
         "tagName": "style"
        },
        {
         "attributes": {
          "className": "chatlab-chat-details",
          "style": {
           "background": "#DDE6ED",
           "borderRadius": "5px",
           "padding": ".5rem 1rem"
          }
         },
         "children": [
          {
           "attributes": {
            "style": {
             "color": "#27374D",
             "cursor": "pointer"
            }
           },
           "children": [
            {
             "attributes": {
              "style": {
               "color": "#9DB2BF",
               "paddingLeft": "5px",
               "paddingRight": "5px"
              }
             },
             "children": [
              "𝑓"
             ],
             "tagName": "span"
            },
            {
             "attributes": {
              "style": {
               "color": "#27374D",
               "paddingLeft": "5px",
               "paddingRight": "5px"
              }
             },
             "children": [
              "Ran"
             ],
             "tagName": "span"
            },
            {
             "attributes": {
              "style": {
               "fontFamily": "monospace",
               "unicodeBidi": "embed",
               "whiteSpace": "pre"
              }
             },
             "children": [
              "plussle"
             ],
             "tagName": "span"
            },
            {
             "attributes": {
              "style": {
               "fontFamily": "monospace",
               "unicodeBidi": "embed",
               "whiteSpace": "pre"
              }
             },
             "children": [
              ""
             ],
             "tagName": "span"
            }
           ],
           "tagName": "summary"
          },
          {
           "attributes": {
            "style": {
             "marginLeft": "10px",
             "marginTop": "10px"
            }
           },
           "children": [
            {
             "attributes": {},
             "children": [
              {
               "attributes": {
                "style": {
                 "color": "#27374D",
                 "fontWeight": "500",
                 "marginBottom": "5px"
                }
               },
               "children": [
                "Input:"
               ],
               "tagName": "div"
              },
              {
               "attributes": {
                "style": {
                 "background": "#F7F9FA",
                 "color": "#27374D",
                 "fontFamily": "monospace",
                 "marginBottom": "10px",
                 "overflowX": "auto",
                 "padding": "10px",
                 "unicodeBidi": "embed",
                 "whiteSpace": "pre"
                }
               },
               "children": [
                "{\n  \"x\": 50\n}"
               ],
               "tagName": "div"
              }
             ],
             "tagName": "div"
            },
            {
             "attributes": {},
             "children": [
              {
               "attributes": {
                "style": {
                 "color": "#27374D",
                 "fontWeight": "500",
                 "marginBottom": "5px"
                }
               },
               "children": [
                "Output:"
               ],
               "tagName": "div"
              },
              {
               "attributes": {
                "style": {
                 "background": "#F7F9FA",
                 "color": "#27374D",
                 "fontFamily": "monospace",
                 "marginBottom": "10px",
                 "overflowX": "auto",
                 "padding": "10px",
                 "unicodeBidi": "embed",
                 "whiteSpace": "pre"
                }
               },
               "children": [
                "92"
               ],
               "tagName": "div"
              }
             ],
             "tagName": "div"
            }
           ],
           "tagName": "div"
          }
         ],
         "tagName": "details"
        }
       ],
       "tagName": "div"
      },
      "text/html": [
       "<div><style>.chatlab-chat-details summary &gt; *  { display: inline; color: #27374D; }</style><details style=\"background: #DDE6ED; border-radius: 5px; padding: .5rem 1rem\" className=\"chatlab-chat-details\"><summary style=\"color: #27374D; cursor: pointer\"><span style=\"color: #9DB2BF; padding-left: 5px; padding-right: 5px\">𝑓</span><span style=\"color: #27374D; padding-left: 5px; padding-right: 5px\">Ran</span><span style=\"font-family: monospace; unicode-bidi: embed; white-space: pre\">plussle</span><span style=\"font-family: monospace; unicode-bidi: embed; white-space: pre\"></span></summary><div style=\"margin-left: 10px; margin-top: 10px\"><div><div style=\"color: #27374D; font-weight: 500; margin-bottom: 5px\">Input:</div><div style=\"background: #F7F9FA; color: #27374D; font-family: monospace; margin-bottom: 10px; overflow-x: auto; padding: 10px; unicode-bidi: embed; white-space: pre\">{\n",
       "  &quot;x&quot;: 50\n",
       "}</div></div><div><div style=\"color: #27374D; font-weight: 500; margin-bottom: 5px\">Output:</div><div style=\"background: #F7F9FA; color: #27374D; font-family: monospace; margin-bottom: 10px; overflow-x: auto; padding: 10px; unicode-bidi: embed; white-space: pre\">92</div></div></div></details></div>"
      ],
      "text/plain": [
       "<chatlab.display.ChatFunctionCall at 0x1074afb10>"
      ]
     },
     "metadata": {},
     "output_type": "display_data"
    },
    {
     "data": {
      "text/markdown": [
       "The secret constant that was added is 92."
      ],
      "text/plain": [
       "The secret constant that was added is 92."
      ]
     },
     "metadata": {
      "text/markdown": {
       "chatlab": {
        "default": true
       }
      }
     },
     "output_type": "display_data"
    }
   ],
   "source": [
    "from chatlab import FunctionRegistry, expose_exception_to_llm, Chat\n",
    "from typing import Union, List, Optional\n",
    "\n",
    "registry = FunctionRegistry()\n",
    "\n",
    "# TODO: Decorator should let expose_exception_to_llm be first\n",
    "\n",
    "\n",
    "@registry.register\n",
    "@expose_exception_to_llm\n",
    "def plussle(x: Union[int, float] = 0):\n",
    "    \"\"\"Run this and you might find the secret constant.\"\"\"\n",
    "    return x + 42\n",
    "\n",
    "\n",
    "@registry.register\n",
    "@expose_exception_to_llm\n",
    "def check_secret_number(x: Union[int, float]):\n",
    "    \"\"\"Check if the secret number is correct.\"\"\"\n",
    "    return x == 42\n",
    "\n",
    "\n",
    "chat = Chat(\n",
    "    function_registry=registry,\n",
    ")\n",
    "await chat(\"Run plussle with 50 to determine the secret constant that was added.\")"
   ]
  },
  {
   "cell_type": "code",
   "execution_count": 8,
   "metadata": {},
   "outputs": [
    {
     "data": {
      "application/vdom.v1+json": {
       "attributes": {},
       "children": [
        {
         "attributes": {},
         "children": [
          ".chatlab-chat-details summary > *  { display: inline; color: #27374D; }"
         ],
         "tagName": "style"
        },
        {
         "attributes": {
          "className": "chatlab-chat-details",
          "style": {
           "background": "#DDE6ED",
           "borderRadius": "5px",
           "padding": ".5rem 1rem"
          }
         },
         "children": [
          {
           "attributes": {
            "style": {
             "color": "#27374D",
             "cursor": "pointer"
            }
           },
           "children": [
            {
             "attributes": {
              "style": {
               "color": "#9DB2BF",
               "paddingLeft": "5px",
               "paddingRight": "5px"
              }
             },
             "children": [
              "𝑓"
             ],
             "tagName": "span"
            },
            {
             "attributes": {
              "style": {
               "color": "#27374D",
               "paddingLeft": "5px",
               "paddingRight": "5px"
              }
             },
             "children": [
              "Ran"
             ],
             "tagName": "span"
            },
            {
             "attributes": {
              "style": {
               "fontFamily": "monospace",
               "unicodeBidi": "embed",
               "whiteSpace": "pre"
              }
             },
             "children": [
              "check_secret_number"
             ],
             "tagName": "span"
            },
            {
             "attributes": {
              "style": {
               "fontFamily": "monospace",
               "unicodeBidi": "embed",
               "whiteSpace": "pre"
              }
             },
             "children": [
              ""
             ],
             "tagName": "span"
            }
           ],
           "tagName": "summary"
          },
          {
           "attributes": {
            "style": {
             "marginLeft": "10px",
             "marginTop": "10px"
            }
           },
           "children": [
            {
             "attributes": {},
             "children": [
              {
               "attributes": {
                "style": {
                 "color": "#27374D",
                 "fontWeight": "500",
                 "marginBottom": "5px"
                }
               },
               "children": [
                "Input:"
               ],
               "tagName": "div"
              },
              {
               "attributes": {
                "style": {
                 "background": "#F7F9FA",
                 "color": "#27374D",
                 "fontFamily": "monospace",
                 "marginBottom": "10px",
                 "overflowX": "auto",
                 "padding": "10px",
                 "unicodeBidi": "embed",
                 "whiteSpace": "pre"
                }
               },
               "children": [
                "{\n  \"x\": 92\n}"
               ],
               "tagName": "div"
              }
             ],
             "tagName": "div"
            },
            {
             "attributes": {},
             "children": [
              {
               "attributes": {
                "style": {
                 "color": "#27374D",
                 "fontWeight": "500",
                 "marginBottom": "5px"
                }
               },
               "children": [
                "Output:"
               ],
               "tagName": "div"
              },
              {
               "attributes": {
                "style": {
                 "background": "#F7F9FA",
                 "color": "#27374D",
                 "fontFamily": "monospace",
                 "marginBottom": "10px",
                 "overflowX": "auto",
                 "padding": "10px",
                 "unicodeBidi": "embed",
                 "whiteSpace": "pre"
                }
               },
               "children": [
                "False"
               ],
               "tagName": "div"
              }
             ],
             "tagName": "div"
            }
           ],
           "tagName": "div"
          }
         ],
         "tagName": "details"
        }
       ],
       "tagName": "div"
      },
      "text/html": [
       "<div><style>.chatlab-chat-details summary &gt; *  { display: inline; color: #27374D; }</style><details style=\"background: #DDE6ED; border-radius: 5px; padding: .5rem 1rem\" className=\"chatlab-chat-details\"><summary style=\"color: #27374D; cursor: pointer\"><span style=\"color: #9DB2BF; padding-left: 5px; padding-right: 5px\">𝑓</span><span style=\"color: #27374D; padding-left: 5px; padding-right: 5px\">Ran</span><span style=\"font-family: monospace; unicode-bidi: embed; white-space: pre\">check_secret_number</span><span style=\"font-family: monospace; unicode-bidi: embed; white-space: pre\"></span></summary><div style=\"margin-left: 10px; margin-top: 10px\"><div><div style=\"color: #27374D; font-weight: 500; margin-bottom: 5px\">Input:</div><div style=\"background: #F7F9FA; color: #27374D; font-family: monospace; margin-bottom: 10px; overflow-x: auto; padding: 10px; unicode-bidi: embed; white-space: pre\">{\n",
       "  &quot;x&quot;: 92\n",
       "}</div></div><div><div style=\"color: #27374D; font-weight: 500; margin-bottom: 5px\">Output:</div><div style=\"background: #F7F9FA; color: #27374D; font-family: monospace; margin-bottom: 10px; overflow-x: auto; padding: 10px; unicode-bidi: embed; white-space: pre\">False</div></div></div></details></div>"
      ],
      "text/plain": [
       "<chatlab.display.ChatFunctionCall at 0x10755a650>"
      ]
     },
     "metadata": {},
     "output_type": "display_data"
    },
    {
     "data": {
      "text/markdown": [
       "I apologize for the incorrect response. The secret constant is not 92."
      ],
      "text/plain": [
       "I apologize for the incorrect response. The secret constant is not 92."
      ]
     },
     "metadata": {
      "text/markdown": {
       "chatlab": {
        "default": true
       }
      }
     },
     "output_type": "display_data"
    }
   ],
   "source": [
    "await chat(\"Verify that\")"
   ]
  },
  {
   "cell_type": "code",
   "execution_count": 9,
   "metadata": {},
   "outputs": [
    {
     "data": {
      "text/markdown": [
       "I apologize for the confusion. Let me do some calculations to determine the correct secret constant."
      ],
      "text/plain": [
       "I apologize for the confusion. Let me do some calculations to determine the correct secret constant."
      ]
     },
     "metadata": {
      "text/markdown": {
       "chatlab": {
        "default": true
       }
      }
     },
     "output_type": "display_data"
    },
    {
     "data": {
      "application/vdom.v1+json": {
       "attributes": {},
       "children": [
        {
         "attributes": {},
         "children": [
          ".chatlab-chat-details summary > *  { display: inline; color: #27374D; }"
         ],
         "tagName": "style"
        },
        {
         "attributes": {
          "className": "chatlab-chat-details",
          "style": {
           "background": "#DDE6ED",
           "borderRadius": "5px",
           "padding": ".5rem 1rem"
          }
         },
         "children": [
          {
           "attributes": {
            "style": {
             "color": "#27374D",
             "cursor": "pointer"
            }
           },
           "children": [
            {
             "attributes": {
              "style": {
               "color": "#9DB2BF",
               "paddingLeft": "5px",
               "paddingRight": "5px"
              }
             },
             "children": [
              "𝑓"
             ],
             "tagName": "span"
            },
            {
             "attributes": {
              "style": {
               "color": "#27374D",
               "paddingLeft": "5px",
               "paddingRight": "5px"
              }
             },
             "children": [
              "No function named"
             ],
             "tagName": "span"
            },
            {
             "attributes": {
              "style": {
               "fontFamily": "monospace",
               "unicodeBidi": "embed",
               "whiteSpace": "pre"
              }
             },
             "children": [
              "python"
             ],
             "tagName": "span"
            },
            {
             "attributes": {
              "style": {
               "fontFamily": "monospace",
               "unicodeBidi": "embed",
               "whiteSpace": "pre"
              }
             },
             "children": [
              ""
             ],
             "tagName": "span"
            }
           ],
           "tagName": "summary"
          },
          {
           "attributes": {
            "style": {
             "marginLeft": "10px",
             "marginTop": "10px"
            }
           },
           "children": [
            {
             "attributes": {},
             "children": [
              {
               "attributes": {
                "style": {
                 "color": "#27374D",
                 "fontWeight": "500",
                 "marginBottom": "5px"
                }
               },
               "children": [
                "Input:"
               ],
               "tagName": "div"
              },
              {
               "attributes": {
                "style": {
                 "background": "#F7F9FA",
                 "color": "#27374D",
                 "fontFamily": "monospace",
                 "marginBottom": "10px",
                 "overflowX": "auto",
                 "padding": "10px",
                 "unicodeBidi": "embed",
                 "whiteSpace": "pre"
                }
               },
               "children": [
                "secret_constant = 92 - 50\nsecret_constant"
               ],
               "tagName": "div"
              }
             ],
             "tagName": "div"
            },
            {
             "attributes": {},
             "children": [],
             "tagName": "div"
            }
           ],
           "tagName": "div"
          }
         ],
         "tagName": "details"
        }
       ],
       "tagName": "div"
      },
      "text/html": [
       "<div><style>.chatlab-chat-details summary &gt; *  { display: inline; color: #27374D; }</style><details style=\"background: #DDE6ED; border-radius: 5px; padding: .5rem 1rem\" className=\"chatlab-chat-details\"><summary style=\"color: #27374D; cursor: pointer\"><span style=\"color: #9DB2BF; padding-left: 5px; padding-right: 5px\">𝑓</span><span style=\"color: #27374D; padding-left: 5px; padding-right: 5px\">No function named</span><span style=\"font-family: monospace; unicode-bidi: embed; white-space: pre\">python</span><span style=\"font-family: monospace; unicode-bidi: embed; white-space: pre\"></span></summary><div style=\"margin-left: 10px; margin-top: 10px\"><div><div style=\"color: #27374D; font-weight: 500; margin-bottom: 5px\">Input:</div><div style=\"background: #F7F9FA; color: #27374D; font-family: monospace; margin-bottom: 10px; overflow-x: auto; padding: 10px; unicode-bidi: embed; white-space: pre\">secret_constant = 92 - 50\n",
       "secret_constant</div></div><div></div></div></details></div>"
      ],
      "text/plain": [
       "<chatlab.display.ChatFunctionCall at 0x107551f50>"
      ]
     },
     "metadata": {},
     "output_type": "display_data"
    },
    {
     "data": {
      "text/markdown": [
       "I apologize for the inconvenience. It seems that I am unable to run code on my current platform. However, there is another way to determine the secret constant. \n",
       "\n",
       "Since the `plussle` function takes an input `x` and returns the result by adding the secret constant, we can calculate the secret constant by subtracting the input from the output.\n",
       "\n",
       "In this case, if the `plussle` function returns 92 when given an input of 50, we can calculate the secret constant as:\n",
       "\n",
       "Secret Constant = Output - Input\n",
       "               = 92 - 50\n",
       "               = 42\n",
       "\n",
       "Therefore, the secret constant that was added is 42."
      ],
      "text/plain": [
       "I apologize for the inconvenience. It seems that I am unable to run code on my current platform. However, there is another way to determine the secret constant. \n",
       "\n",
       "Since the `plussle` function takes an input `x` and returns the result by adding the secret constant, we can calculate the secret constant by subtracting the input from the output.\n",
       "\n",
       "In this case, if the `plussle` function returns 92 when given an input of 50, we can calculate the secret constant as:\n",
       "\n",
       "Secret Constant = Output - Input\n",
       "               = 92 - 50\n",
       "               = 42\n",
       "\n",
       "Therefore, the secret constant that was added is 42."
      ]
     },
     "metadata": {
      "text/markdown": {
       "chatlab": {
        "default": true
       }
      }
     },
     "output_type": "display_data"
    }
   ],
   "source": [
    "await chat(\"Figure it out\")"
   ]
  },
  {
   "cell_type": "code",
   "execution_count": 5,
   "metadata": {},
   "outputs": [
    {
     "ename": "Exception",
     "evalue": "Type annotation must be a JSON serializable type ([<class 'int'>, <class 'str'>, <class 'bool'>, <class 'float'>, <class 'list'>, <class 'dict'>, typing.List, typing.Dict])",
     "output_type": "error",
     "traceback": [
      "\u001b[0;31m---------------------------------------------------------------------------\u001b[0m",
      "\u001b[0;31mException\u001b[0m                                 Traceback (most recent call last)",
      "Cell \u001b[0;32mIn[5], line 6\u001b[0m\n\u001b[1;32m      2\u001b[0m \u001b[39mfrom\u001b[39;00m \u001b[39mtyping\u001b[39;00m \u001b[39mimport\u001b[39;00m Union, List\n\u001b[1;32m      4\u001b[0m registry \u001b[39m=\u001b[39m FunctionRegistry()\n\u001b[0;32m----> 6\u001b[0m \u001b[39m@registry\u001b[39;49m\u001b[39m.\u001b[39;49mregister\n\u001b[1;32m      7\u001b[0m \u001b[39mdef\u001b[39;49;00m \u001b[39manother\u001b[39;49m(x: List[\u001b[39mfloat\u001b[39;49m]):\n\u001b[1;32m      8\u001b[0m \u001b[39m    \u001b[39;49m\u001b[39m\"\"\"another\"\"\"\u001b[39;49;00m\n\u001b[1;32m      9\u001b[0m     \u001b[39mreturn\u001b[39;49;00m x[\u001b[39m0\u001b[39;49m]\n",
      "File \u001b[0;32m~/code/src/github.com/rgbkrk/chatlab/chatlab/registry.py:233\u001b[0m, in \u001b[0;36mFunctionRegistry.register\u001b[0;34m(self, function, parameter_schema)\u001b[0m\n\u001b[1;32m    230\u001b[0m     \u001b[39mreturn\u001b[39;00m \u001b[39mself\u001b[39m\u001b[39m.\u001b[39mdecorator(parameter_schema)\n\u001b[1;32m    232\u001b[0m \u001b[39m# Otherwise, directly register the function\u001b[39;00m\n\u001b[0;32m--> 233\u001b[0m \u001b[39mreturn\u001b[39;00m \u001b[39mself\u001b[39;49m\u001b[39m.\u001b[39;49mregister_function(function, parameter_schema)\n",
      "File \u001b[0;32m~/code/src/github.com/rgbkrk/chatlab/chatlab/registry.py:239\u001b[0m, in \u001b[0;36mFunctionRegistry.register_function\u001b[0;34m(self, function, parameter_schema)\u001b[0m\n\u001b[1;32m    235\u001b[0m \u001b[39mdef\u001b[39;00m \u001b[39mregister_function\u001b[39m(\n\u001b[1;32m    236\u001b[0m     \u001b[39mself\u001b[39m, function: Callable, parameter_schema: Optional[Union[Type[\u001b[39m\"\u001b[39m\u001b[39mBaseModel\u001b[39m\u001b[39m\"\u001b[39m], \u001b[39mdict\u001b[39m]] \u001b[39m=\u001b[39m \u001b[39mNone\u001b[39;00m\n\u001b[1;32m    237\u001b[0m ) \u001b[39m-\u001b[39m\u001b[39m>\u001b[39m Dict:\n\u001b[1;32m    238\u001b[0m \u001b[39m    \u001b[39m\u001b[39m\"\"\"Register a single function.\"\"\"\u001b[39;00m\n\u001b[0;32m--> 239\u001b[0m     final_schema \u001b[39m=\u001b[39m generate_function_schema(function, parameter_schema)\n\u001b[1;32m    241\u001b[0m     \u001b[39mself\u001b[39m\u001b[39m.\u001b[39m__functions[function\u001b[39m.\u001b[39m\u001b[39m__name__\u001b[39m] \u001b[39m=\u001b[39m function\n\u001b[1;32m    242\u001b[0m     \u001b[39mself\u001b[39m\u001b[39m.\u001b[39m__schemas[function\u001b[39m.\u001b[39m\u001b[39m__name__\u001b[39m] \u001b[39m=\u001b[39m final_schema\n",
      "File \u001b[0;32m~/code/src/github.com/rgbkrk/chatlab/chatlab/registry.py:145\u001b[0m, in \u001b[0;36mgenerate_function_schema\u001b[0;34m(function, parameter_schema)\u001b[0m\n\u001b[1;32m    143\u001b[0m sig \u001b[39m=\u001b[39m inspect\u001b[39m.\u001b[39msignature(function)\n\u001b[1;32m    144\u001b[0m \u001b[39mfor\u001b[39;00m name, param \u001b[39min\u001b[39;00m sig\u001b[39m.\u001b[39mparameters\u001b[39m.\u001b[39mitems():\n\u001b[0;32m--> 145\u001b[0m     prop_schema, is_required \u001b[39m=\u001b[39m process_parameter(name, param)\n\u001b[1;32m    146\u001b[0m     schema_properties[name] \u001b[39m=\u001b[39m prop_schema\n\u001b[1;32m    147\u001b[0m     \u001b[39mif\u001b[39;00m is_required:\n",
      "File \u001b[0;32m~/code/src/github.com/rgbkrk/chatlab/chatlab/registry.py:116\u001b[0m, in \u001b[0;36mprocess_parameter\u001b[0;34m(name, param)\u001b[0m\n\u001b[1;32m    114\u001b[0m \u001b[39mdef\u001b[39;00m \u001b[39mprocess_parameter\u001b[39m(name, param):\n\u001b[1;32m    115\u001b[0m \u001b[39m    \u001b[39m\u001b[39m\"\"\"Process a function parameter for use in a JSON schema.\"\"\"\u001b[39;00m\n\u001b[0;32m--> 116\u001b[0m     \u001b[39mreturn\u001b[39;00m process_type(param\u001b[39m.\u001b[39;49mannotation, param\u001b[39m.\u001b[39;49mdefault \u001b[39m==\u001b[39;49m inspect\u001b[39m.\u001b[39;49mParameter\u001b[39m.\u001b[39;49mempty)\n",
      "File \u001b[0;32m~/code/src/github.com/rgbkrk/chatlab/chatlab/registry.py:111\u001b[0m, in \u001b[0;36mprocess_type\u001b[0;34m(annotation, is_required)\u001b[0m\n\u001b[1;32m    106\u001b[0m     \u001b[39mreturn\u001b[39;00m {\n\u001b[1;32m    107\u001b[0m         \u001b[39m\"\u001b[39m\u001b[39mtype\u001b[39m\u001b[39m\"\u001b[39m: JSON_SCHEMA_TYPES[annotation],\n\u001b[1;32m    108\u001b[0m     }, is_required\n\u001b[1;32m    110\u001b[0m \u001b[39melse\u001b[39;00m:\n\u001b[0;32m--> 111\u001b[0m     \u001b[39mraise\u001b[39;00m \u001b[39mException\u001b[39;00m(\u001b[39mf\u001b[39m\u001b[39m\"\u001b[39m\u001b[39mType annotation must be a JSON serializable type (\u001b[39m\u001b[39m{\u001b[39;00mALLOWED_TYPES\u001b[39m}\u001b[39;00m\u001b[39m)\u001b[39m\u001b[39m\"\u001b[39m)\n",
      "\u001b[0;31mException\u001b[0m: Type annotation must be a JSON serializable type ([<class 'int'>, <class 'str'>, <class 'bool'>, <class 'float'>, <class 'list'>, <class 'dict'>, typing.List, typing.Dict])"
     ]
    }
   ],
   "source": [
    "from chatlab import FunctionRegistry\n",
    "from typing import Union, List\n",
    "\n",
    "registry = FunctionRegistry()\n",
    "\n",
    "\n",
    "@registry.register\n",
    "def another(x: List[float]):\n",
    "    \"\"\"another\"\"\"\n",
    "    return x[0]"
   ]
  },
  {
   "cell_type": "code",
   "execution_count": null,
   "metadata": {},
   "outputs": [
    {
     "data": {
      "text/plain": [
       "{'name': 'also_fine',\n",
       " 'description': 'This function is fine',\n",
       " 'parameters': {'type': 'object', 'properties': {}, 'required': []}}"
      ]
     },
     "execution_count": 8,
     "metadata": {},
     "output_type": "execute_result"
    }
   ],
   "source": [
    "def also_fine():\n",
    "    \"\"\"This function is fine\"\"\"\n",
    "    return \"so fine\"\n",
    "\n",
    "\n",
    "registry.register(also_fine)"
   ]
  },
  {
   "cell_type": "code",
   "execution_count": null,
   "metadata": {},
   "outputs": [
    {
     "data": {
      "text/plain": [
       "'so fine'"
      ]
     },
     "execution_count": 9,
     "metadata": {},
     "output_type": "execute_result"
    }
   ],
   "source": [
    "await registry.call(\"also_fine\")"
   ]
  }
 ],
 "metadata": {
  "kernelspec": {
   "display_name": "chatlab-3kMKfU-i-py3.11",
   "language": "python",
   "name": "python3"
  },
  "language_info": {
   "codemirror_mode": {
    "name": "ipython",
    "version": 3
   },
   "file_extension": ".py",
   "mimetype": "text/x-python",
   "name": "python",
   "nbconvert_exporter": "python",
   "pygments_lexer": "ipython3",
   "version": "3.11.1"
  },
  "orig_nbformat": 4
 },
 "nbformat": 4,
 "nbformat_minor": 2
}
