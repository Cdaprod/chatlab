{
 "cells": [
  {
   "cell_type": "markdown",
   "metadata": {},
   "source": [
    "# Function Registry\n",
    "\n",
    "_Register functions to enable chat models to call them._\n",
    "\n",
    "The hidden power behind `chat.register(ƒ)` is the Function Registry. It lets you register _typed_ functions quickly and easily so they can be called on behalf of chat models.\n"
   ]
  },
  {
   "cell_type": "code",
   "execution_count": 2,
   "metadata": {},
   "outputs": [
    {
     "data": {
      "text/plain": [
       "8"
      ]
     },
     "execution_count": 2,
     "metadata": {},
     "output_type": "execute_result"
    }
   ],
   "source": [
    "from chatlab import FunctionRegistry\n",
    "\n",
    "\n",
    "def f(x: float):\n",
    "    '''Multiply x by 2.'''\n",
    "    return x * 2\n",
    "\n",
    "\n",
    "registry = FunctionRegistry()\n",
    "registry.register_function(f)\n",
    "\n",
    "await registry.call(\"f\", \"{\\\"x\\\": 4}\")"
   ]
  },
  {
   "cell_type": "markdown",
   "metadata": {},
   "source": [
    "## Registering via Decorators\n",
    "\n",
    "`register` is also a decorator, allowing you to register a function while declaring it.\n"
   ]
  },
  {
   "cell_type": "code",
   "execution_count": 13,
   "metadata": {},
   "outputs": [
    {
     "data": {
      "text/plain": [
       "(1.0, -1.0)"
      ]
     },
     "execution_count": 13,
     "metadata": {},
     "output_type": "execute_result"
    }
   ],
   "source": [
    "from typing import Tuple, Optional\n",
    "import math\n",
    "\n",
    "\n",
    "@registry.register\n",
    "def quadratic_formula(a: float, b: float, c: float) -> Optional[Tuple[float, float]]:\n",
    "    \"\"\"\n",
    "    Solves the quadratic equation ax^2 + bx + c = 0.\n",
    "    :param a: Coefficient of x^2\n",
    "    :param b: Coefficient of x\n",
    "    :param c: Constant term\n",
    "    :return: Tuple containing two solutions or None if no real solutions exist\n",
    "    \"\"\"\n",
    "    discriminant = b**2 - 4 * a * c\n",
    "    if discriminant < 0:\n",
    "        return None  # No real solutions\n",
    "    x1 = (-b + math.sqrt(discriminant)) / (2 * a)\n",
    "    x2 = (-b - math.sqrt(discriminant)) / (2 * a)\n",
    "    return x1, x2\n",
    "\n",
    "\n",
    "await registry.call('quadratic_formula', '{\"a\": 1, \"b\": 0, \"c\": -1}')"
   ]
  },
  {
   "cell_type": "markdown",
   "metadata": {},
   "source": [
    "Functions can be registered by:\n",
    "\n",
    "- Passing a typed function in directly\n",
    "- Passing the function and the Pydantic model that describes its parameters\n",
    "- Passing the function and a JSON schema that describes its parameters\n",
    "\n",
    "## Registering Typed Functions\n",
    "\n",
    "> [!NOTE]\n",
    "> Not all function parameters can be accurately determined. For those cases it's best to use a Pydantic model or JSON schema.\n",
    ">\n",
    "> If you're adventurous, make a [PR to chatlab](https://github.com/rgbkrk/chatlab) to improve the type inference!\n",
    "\n",
    "### No Parameters\n"
   ]
  },
  {
   "cell_type": "code",
   "execution_count": 4,
   "metadata": {},
   "outputs": [
    {
     "data": {
      "text/plain": [
       "{'name': 'flip_a_coin',\n",
       " 'description': 'Flip a coin.',\n",
       " 'parameters': {'type': 'object', 'properties': {}, 'required': []}}"
      ]
     },
     "execution_count": 4,
     "metadata": {},
     "output_type": "execute_result"
    }
   ],
   "source": [
    "import random\n",
    "\n",
    "\n",
    "def flip_a_coin():\n",
    "    '''Flip a coin.'''\n",
    "    return random.choice([\"heads\", \"tails\"])\n",
    "\n",
    "\n",
    "registry.register(flip_a_coin)"
   ]
  },
  {
   "cell_type": "markdown",
   "metadata": {},
   "source": [
    "### Multiple Parameters\n"
   ]
  },
  {
   "cell_type": "code",
   "execution_count": 5,
   "metadata": {},
   "outputs": [
    {
     "data": {
      "text/plain": [
       "{'name': 'add',\n",
       " 'description': 'Add x and y.',\n",
       " 'parameters': {'type': 'object',\n",
       "  'properties': {'x': {'type': 'number'}, 'y': {'type': 'number'}},\n",
       "  'required': ['x', 'y']}}"
      ]
     },
     "execution_count": 5,
     "metadata": {},
     "output_type": "execute_result"
    }
   ],
   "source": [
    "def add(x: float, y: float):\n",
    "    '''Add x and y.'''\n",
    "    return x + y\n",
    "\n",
    "\n",
    "registry.register(add)"
   ]
  },
  {
   "cell_type": "markdown",
   "metadata": {},
   "source": [
    "### Optional Parameters\n"
   ]
  },
  {
   "cell_type": "code",
   "execution_count": 8,
   "metadata": {},
   "outputs": [
    {
     "data": {
      "text/plain": [
       "{'name': 'add',\n",
       " 'description': 'Add x and y.',\n",
       " 'parameters': {'type': 'object',\n",
       "  'properties': {'x': {'type': 'number'}, 'y': {'type': 'number'}},\n",
       "  'required': ['x']}}"
      ]
     },
     "execution_count": 8,
     "metadata": {},
     "output_type": "execute_result"
    }
   ],
   "source": [
    "def add(x: float, y: float = 1):\n",
    "    '''Add x and y.'''\n",
    "    return x + y\n",
    "\n",
    "\n",
    "registry.register(add)"
   ]
  },
  {
   "cell_type": "markdown",
   "metadata": {},
   "source": [
    "## Registering Functions with Pydantic Models\n",
    "\n",
    "Pydantic Models give you all the benefits above _and_ much more:\n",
    "\n",
    "- Default values\n",
    "- Descriptions on parameters\n",
    "- Deeper type validation\n"
   ]
  },
  {
   "cell_type": "code",
   "execution_count": 19,
   "metadata": {},
   "outputs": [
    {
     "data": {
      "text/plain": [
       "1283.3586785035118"
      ]
     },
     "execution_count": 19,
     "metadata": {},
     "output_type": "execute_result"
    }
   ],
   "source": [
    "from chatlab import FunctionRegistry\n",
    "from pydantic import BaseModel\n",
    "\n",
    "registry = FunctionRegistry()\n",
    "\n",
    "\n",
    "class CompoundInterestModel(BaseModel):\n",
    "    principal: float\n",
    "    rate: float\n",
    "    times_compounded: int\n",
    "    years: float\n",
    "\n",
    "\n",
    "@registry.register(parameter_schema=CompoundInterestModel)\n",
    "def compound_interest(principal: float, rate: float, times_compounded: int, years: float) -> float:\n",
    "    \"\"\"\n",
    "    Calculates the future value of an investment using compound interest.\n",
    "    :param principal: Initial investment amount\n",
    "    :param rate: Annual interest rate (as a decimal)\n",
    "    :param times_compounded: Number of times interest is compounded per year\n",
    "    :param years: Number of years the money is invested\n",
    "    :return: Future value of the investment\n",
    "    \"\"\"\n",
    "    return principal * (1 + rate / times_compounded) ** (times_compounded * years)\n",
    "\n",
    "\n",
    "await registry.call(\n",
    "    \"compound_interest\", CompoundInterestModel(principal=1000, rate=0.05, times_compounded=12, years=5).json()\n",
    ")"
   ]
  },
  {
   "cell_type": "code",
   "execution_count": 5,
   "metadata": {},
   "outputs": [
    {
     "data": {
      "text/plain": [
       "'ok'"
      ]
     },
     "execution_count": 5,
     "metadata": {},
     "output_type": "execute_result"
    }
   ],
   "source": [
    "from chatlab import FunctionRegistry\n",
    "\n",
    "registry = FunctionRegistry()\n",
    "\n",
    "\n",
    "@registry.register\n",
    "def ok():\n",
    "    \"\"\"fine\"\"\"\n",
    "    return \"ok\"\n",
    "\n",
    "\n",
    "await registry.call('ok')"
   ]
  },
  {
   "cell_type": "code",
   "execution_count": 8,
   "metadata": {},
   "outputs": [
    {
     "data": {
      "text/plain": [
       "{'name': 'also_fine',\n",
       " 'description': 'This function is fine',\n",
       " 'parameters': {'type': 'object', 'properties': {}, 'required': []}}"
      ]
     },
     "execution_count": 8,
     "metadata": {},
     "output_type": "execute_result"
    }
   ],
   "source": [
    "def also_fine():\n",
    "    \"\"\"This function is fine\"\"\"\n",
    "    return \"so fine\"\n",
    "\n",
    "\n",
    "registry.register(also_fine)"
   ]
  },
  {
   "cell_type": "code",
   "execution_count": 9,
   "metadata": {},
   "outputs": [
    {
     "data": {
      "text/plain": [
       "'so fine'"
      ]
     },
     "execution_count": 9,
     "metadata": {},
     "output_type": "execute_result"
    }
   ],
   "source": [
    "await registry.call(\"also_fine\")"
   ]
  }
 ],
 "metadata": {
  "kernelspec": {
   "display_name": "chatlab-3kMKfU-i-py3.11",
   "language": "python",
   "name": "python3"
  },
  "language_info": {
   "codemirror_mode": {
    "name": "ipython",
    "version": 3
   },
   "file_extension": ".py",
   "mimetype": "text/x-python",
   "name": "python",
   "nbconvert_exporter": "python",
   "pygments_lexer": "ipython3",
   "version": "3.11.1"
  },
  "orig_nbformat": 4
 },
 "nbformat": 4,
 "nbformat_minor": 2
}
