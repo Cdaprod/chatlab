{
 "cells": [
  {
   "cell_type": "code",
   "execution_count": 1,
   "id": "6945d0a0-6564-4a02-9a56-e05d730e886b",
   "metadata": {},
   "outputs": [],
   "source": [
    "import murkrow"
   ]
  },
  {
   "cell_type": "code",
   "execution_count": 2,
   "id": "cdf1f8b0-ec2b-4b9b-b0dc-c150b8a4b073",
   "metadata": {},
   "outputs": [],
   "source": [
    "from datetime import datetime\n",
    "from pytz import timezone, all_timezones, utc\n",
    "from typing import Optional\n",
    "\n",
    "import time\n",
    "\n",
    "def what_time(tz: str = None):\n",
    "    '''Current time, defaulting to the user's current timezone'''\n",
    "    time.sleep(1)\n",
    "    if tz is None:\n",
    "        pass\n",
    "    elif tz in all_timezones:\n",
    "        tz = timezone(tz)\n",
    "    else:\n",
    "        return 'Invalid timezone'\n",
    "        \n",
    "    return datetime.now(tz).strftime('%I:%M %p')\n",
    "\n",
    "import murkrow\n",
    "\n",
    "conversation = murkrow.Conversation(auto_continue=True)\n",
    "conversation.register(what_time)"
   ]
  },
  {
   "cell_type": "code",
   "execution_count": 3,
   "id": "3d2fbe5a-574a-47ed-b034-86f37d24f33a",
   "metadata": {},
   "outputs": [
    {
     "data": {
      "text/markdown": [
       " "
      ],
      "text/plain": [
       " "
      ]
     },
     "metadata": {
      "text/markdown": {
       "murkrow": {
        "default": true
       }
      }
     },
     "output_type": "display_data"
    },
    {
     "data": {
      "application/vdom.v1+json": {
       "attributes": {},
       "children": [
        {
         "attributes": {},
         "children": [
          ".murkrow-chat-details summary > *  { display: inline; color: #27374D; }"
         ],
         "tagName": "style"
        },
        {
         "attributes": {
          "className": "murkrow-chat-details",
          "style": {
           "background": "#DDE6ED",
           "borderRadius": "5px",
           "padding": ".5rem 1rem"
          }
         },
         "children": [
          {
           "attributes": {
            "style": {
             "color": "#27374D",
             "cursor": "pointer"
            }
           },
           "children": [
            {
             "attributes": {
              "style": {
               "color": "#9DB2BF",
               "paddingLeft": "5px",
               "paddingRight": "5px"
              }
             },
             "children": [
              "𝑓"
             ],
             "tagName": "span"
            },
            {
             "attributes": {
              "style": {
               "color": "#27374D",
               "paddingLeft": "5px",
               "paddingRight": "5px"
              }
             },
             "children": [
              "Finished"
             ],
             "tagName": "span"
            },
            {
             "attributes": {
              "style": {
               "fontFamily": "monospace",
               "unicodeBidi": "embed",
               "whiteSpace": "pre"
              }
             },
             "children": [
              "what_time"
             ],
             "tagName": "span"
            },
            {
             "attributes": {
              "style": {
               "fontFamily": "monospace",
               "unicodeBidi": "embed",
               "whiteSpace": "pre"
              }
             },
             "children": [
              ""
             ],
             "tagName": "span"
            }
           ],
           "tagName": "summary"
          },
          {
           "attributes": {
            "style": {
             "marginLeft": "10px",
             "marginTop": "10px"
            }
           },
           "children": [
            {
             "attributes": {},
             "children": [
              {
               "attributes": {
                "style": {
                 "color": "#27374D",
                 "fontWeight": "500",
                 "marginBottom": "5px"
                }
               },
               "children": [
                "Input:"
               ],
               "tagName": "div"
              },
              {
               "attributes": {
                "style": {
                 "background": "#F7F9FA",
                 "color": "#27374D",
                 "fontFamily": "monospace",
                 "marginBottom": "10px",
                 "padding": "10px",
                 "unicodeBidi": "embed",
                 "whiteSpace": "pre"
                }
               },
               "children": [
                "{}"
               ],
               "tagName": "div"
              }
             ],
             "tagName": "div"
            },
            {
             "attributes": {},
             "children": [
              {
               "attributes": {
                "style": {
                 "color": "#27374D",
                 "fontWeight": "500",
                 "marginBottom": "5px"
                }
               },
               "children": [
                "Output:"
               ],
               "tagName": "div"
              },
              {
               "attributes": {
                "style": {
                 "background": "#F7F9FA",
                 "color": "#27374D",
                 "fontFamily": "monospace",
                 "marginBottom": "10px",
                 "padding": "10px",
                 "unicodeBidi": "embed",
                 "whiteSpace": "pre"
                }
               },
               "children": [
                "'12:59 AM'"
               ],
               "tagName": "div"
              }
             ],
             "tagName": "div"
            }
           ],
           "tagName": "div"
          }
         ],
         "tagName": "details"
        }
       ],
       "tagName": "div"
      },
      "text/html": [
       "<div><style>.murkrow-chat-details summary &gt; *  { display: inline; color: #27374D; }</style><details style=\"background: #DDE6ED; border-radius: 5px; padding: .5rem 1rem\" className=\"murkrow-chat-details\"><summary style=\"color: #27374D; cursor: pointer\"><span style=\"color: #9DB2BF; padding-left: 5px; padding-right: 5px\">𝑓</span><span style=\"color: #27374D; padding-left: 5px; padding-right: 5px\">Finished</span><span style=\"font-family: monospace; unicode-bidi: embed; white-space: pre\">what_time</span><span style=\"font-family: monospace; unicode-bidi: embed; white-space: pre\"></span></summary><div style=\"margin-left: 10px; margin-top: 10px\"><div><div style=\"color: #27374D; font-weight: 500; margin-bottom: 5px\">Input:</div><div style=\"background: #F7F9FA; color: #27374D; font-family: monospace; margin-bottom: 10px; padding: 10px; unicode-bidi: embed; white-space: pre\">{}</div></div><div><div style=\"color: #27374D; font-weight: 500; margin-bottom: 5px\">Output:</div><div style=\"background: #F7F9FA; color: #27374D; font-family: monospace; margin-bottom: 10px; padding: 10px; unicode-bidi: embed; white-space: pre\">&#x27;12:59 AM&#x27;</div></div></div></details></div>"
      ],
      "text/plain": [
       "<murkrow.display.ChatFunctionCall at 0x10ef53d90>"
      ]
     },
     "metadata": {},
     "output_type": "display_data"
    },
    {
     "data": {
      "text/markdown": [
       "The current time is 12:59 AM."
      ],
      "text/plain": [
       "The current time is 12:59 AM."
      ]
     },
     "metadata": {
      "text/markdown": {
       "murkrow": {
        "default": true
       }
      }
     },
     "output_type": "display_data"
    }
   ],
   "source": [
    "conversation.submit(\"What time is it\")"
   ]
  },
  {
   "cell_type": "code",
   "execution_count": 4,
   "id": "4912db15-0be4-4d3c-84c8-2f1b95fb66e5",
   "metadata": {},
   "outputs": [
    {
     "data": {
      "text/markdown": [
       " "
      ],
      "text/plain": [
       " "
      ]
     },
     "metadata": {
      "text/markdown": {
       "murkrow": {
        "default": true
       }
      }
     },
     "output_type": "display_data"
    },
    {
     "data": {
      "application/vdom.v1+json": {
       "attributes": {},
       "children": [
        {
         "attributes": {},
         "children": [
          ".murkrow-chat-details summary > *  { display: inline; color: #27374D; }"
         ],
         "tagName": "style"
        },
        {
         "attributes": {
          "className": "murkrow-chat-details",
          "style": {
           "background": "#DDE6ED",
           "borderRadius": "5px",
           "padding": ".5rem 1rem"
          }
         },
         "children": [
          {
           "attributes": {
            "style": {
             "color": "#27374D",
             "cursor": "pointer"
            }
           },
           "children": [
            {
             "attributes": {
              "style": {
               "color": "#9DB2BF",
               "paddingLeft": "5px",
               "paddingRight": "5px"
              }
             },
             "children": [
              "𝑓"
             ],
             "tagName": "span"
            },
            {
             "attributes": {
              "style": {
               "color": "#27374D",
               "paddingLeft": "5px",
               "paddingRight": "5px"
              }
             },
             "children": [
              "Finished"
             ],
             "tagName": "span"
            },
            {
             "attributes": {
              "style": {
               "fontFamily": "monospace",
               "unicodeBidi": "embed",
               "whiteSpace": "pre"
              }
             },
             "children": [
              "what_time"
             ],
             "tagName": "span"
            },
            {
             "attributes": {
              "style": {
               "fontFamily": "monospace",
               "unicodeBidi": "embed",
               "whiteSpace": "pre"
              }
             },
             "children": [
              ""
             ],
             "tagName": "span"
            }
           ],
           "tagName": "summary"
          },
          {
           "attributes": {
            "style": {
             "marginLeft": "10px",
             "marginTop": "10px"
            }
           },
           "children": [
            {
             "attributes": {},
             "children": [
              {
               "attributes": {
                "style": {
                 "color": "#27374D",
                 "fontWeight": "500",
                 "marginBottom": "5px"
                }
               },
               "children": [
                "Input:"
               ],
               "tagName": "div"
              },
              {
               "attributes": {
                "style": {
                 "background": "#F7F9FA",
                 "color": "#27374D",
                 "fontFamily": "monospace",
                 "marginBottom": "10px",
                 "padding": "10px",
                 "unicodeBidi": "embed",
                 "whiteSpace": "pre"
                }
               },
               "children": [
                "{\n  \"tz\": \"Asia/Kuala_Lumpur\"\n}"
               ],
               "tagName": "div"
              }
             ],
             "tagName": "div"
            },
            {
             "attributes": {},
             "children": [
              {
               "attributes": {
                "style": {
                 "color": "#27374D",
                 "fontWeight": "500",
                 "marginBottom": "5px"
                }
               },
               "children": [
                "Output:"
               ],
               "tagName": "div"
              },
              {
               "attributes": {
                "style": {
                 "background": "#F7F9FA",
                 "color": "#27374D",
                 "fontFamily": "monospace",
                 "marginBottom": "10px",
                 "padding": "10px",
                 "unicodeBidi": "embed",
                 "whiteSpace": "pre"
                }
               },
               "children": [
                "'04:00 PM'"
               ],
               "tagName": "div"
              }
             ],
             "tagName": "div"
            }
           ],
           "tagName": "div"
          }
         ],
         "tagName": "details"
        }
       ],
       "tagName": "div"
      },
      "text/html": [
       "<div><style>.murkrow-chat-details summary &gt; *  { display: inline; color: #27374D; }</style><details style=\"background: #DDE6ED; border-radius: 5px; padding: .5rem 1rem\" className=\"murkrow-chat-details\"><summary style=\"color: #27374D; cursor: pointer\"><span style=\"color: #9DB2BF; padding-left: 5px; padding-right: 5px\">𝑓</span><span style=\"color: #27374D; padding-left: 5px; padding-right: 5px\">Finished</span><span style=\"font-family: monospace; unicode-bidi: embed; white-space: pre\">what_time</span><span style=\"font-family: monospace; unicode-bidi: embed; white-space: pre\"></span></summary><div style=\"margin-left: 10px; margin-top: 10px\"><div><div style=\"color: #27374D; font-weight: 500; margin-bottom: 5px\">Input:</div><div style=\"background: #F7F9FA; color: #27374D; font-family: monospace; margin-bottom: 10px; padding: 10px; unicode-bidi: embed; white-space: pre\">{\n",
       "  &quot;tz&quot;: &quot;Asia/Kuala_Lumpur&quot;\n",
       "}</div></div><div><div style=\"color: #27374D; font-weight: 500; margin-bottom: 5px\">Output:</div><div style=\"background: #F7F9FA; color: #27374D; font-family: monospace; margin-bottom: 10px; padding: 10px; unicode-bidi: embed; white-space: pre\">&#x27;04:00 PM&#x27;</div></div></div></details></div>"
      ],
      "text/plain": [
       "<murkrow.display.ChatFunctionCall at 0x11e04c450>"
      ]
     },
     "metadata": {},
     "output_type": "display_data"
    },
    {
     "data": {
      "text/markdown": [
       "The current time in Kuala Lumpur is 04:00 PM."
      ],
      "text/plain": [
       "The current time in Kuala Lumpur is 04:00 PM."
      ]
     },
     "metadata": {
      "text/markdown": {
       "murkrow": {
        "default": true
       }
      }
     },
     "output_type": "display_data"
    }
   ],
   "source": [
    "conversation.submit(\"What time is it in Kuala Lumpur?\")"
   ]
  },
  {
   "cell_type": "code",
   "execution_count": 5,
   "id": "291eaca9-e6fc-4a0c-82b3-087a31a5a078",
   "metadata": {},
   "outputs": [
    {
     "ename": "NameError",
     "evalue": "name 'session' is not defined",
     "output_type": "error",
     "traceback": [
      "\u001b[0;31m---------------------------------------------------------------------------\u001b[0m",
      "\u001b[0;31mNameError\u001b[0m                                 Traceback (most recent call last)",
      "Cell \u001b[0;32mIn[5], line 3\u001b[0m\n\u001b[1;32m      1\u001b[0m \u001b[38;5;28;01mfrom\u001b[39;00m \u001b[38;5;21;01mIPython\u001b[39;00m\u001b[38;5;21;01m.\u001b[39;00m\u001b[38;5;21;01mdisplay\u001b[39;00m \u001b[38;5;28;01mimport\u001b[39;00m JSON\n\u001b[0;32m----> 3\u001b[0m JSON(\u001b[43msession\u001b[49m\u001b[38;5;241m.\u001b[39mmessages, expanded\u001b[38;5;241m=\u001b[39m\u001b[38;5;28;01mTrue\u001b[39;00m)\n",
      "\u001b[0;31mNameError\u001b[0m: name 'session' is not defined"
     ]
    }
   ],
   "source": [
    "from IPython.display import JSON\n",
    "\n",
    "JSON(conversation.messages, expanded=True)"
   ]
  }
 ],
 "metadata": {
  "kernelspec": {
   "display_name": "Poetry env for murkrow",
   "language": "python",
   "name": "murkrow"
  },
  "language_info": {
   "codemirror_mode": {
    "name": "ipython",
    "version": 3
   },
   "file_extension": ".py",
   "mimetype": "text/x-python",
   "name": "python",
   "nbconvert_exporter": "python",
   "pygments_lexer": "ipython3",
   "version": "3.11.1"
  }
 },
 "nbformat": 4,
 "nbformat_minor": 5
}
