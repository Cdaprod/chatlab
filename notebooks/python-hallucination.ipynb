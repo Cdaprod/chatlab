{
 "cells": [
  {
   "cell_type": "markdown",
   "id": "5129461e-3484-4332-bec0-0b29278d70ef",
   "metadata": {},
   "source": [
    "# The `python` hallucination\n",
    "\n",
    "Sometimes ChatGPT will hallucinate a function endpoint called `python` when chat functions are enabled. We've all been there. Who doesn't dream in `python`?\n",
    "\n",
    "Even if you register a function to run code directly, like with `run_cell` below, the model will try to run `python` even though it's not in the functions the model was provided."
   ]
  },
  {
   "cell_type": "code",
   "execution_count": 1,
   "id": "856b3c0c-c965-42fd-8f56-97a53282ecde",
   "metadata": {},
   "outputs": [
    {
     "data": {
      "text/plain": [
       "{'name': 'run_cell',\n",
       " 'description': 'Execute code in python and return the result.',\n",
       " 'parameters': {'type': 'object',\n",
       "  'properties': {'code': {'type': 'string'}},\n",
       "  'required': ['code']}}"
      ]
     },
     "execution_count": 1,
     "metadata": {},
     "output_type": "execute_result"
    }
   ],
   "source": [
    "from chatlab import Conversation, system\n",
    "\n",
    "from chatlab.builtins import run_cell\n",
    "\n",
    "conversation = Conversation(\n",
    "    system(\"You are a data science tutor\")\n",
    ")\n",
    "\n",
    "# We register `run_cell` and yet `python` is run... without the JSON payload\n",
    "conversation.register(run_cell)"
   ]
  },
  {
   "cell_type": "code",
   "execution_count": 2,
   "id": "8e56b60e-4c7c-443f-b5df-de8239ff81c5",
   "metadata": {},
   "outputs": [
    {
     "data": {
      "text/markdown": [
       " "
      ],
      "text/plain": [
       " "
      ]
     },
     "metadata": {
      "text/markdown": {
       "chatlab": {
        "default": true
       }
      }
     },
     "output_type": "display_data"
    },
    {
     "data": {
      "application/vdom.v1+json": {
       "attributes": {},
       "children": [
        {
         "attributes": {},
         "children": [
          ".chatlab-chat-details summary > *  { display: inline; color: #27374D; }"
         ],
         "tagName": "style"
        },
        {
         "attributes": {
          "className": "chatlab-chat-details",
          "style": {
           "background": "#DDE6ED",
           "borderRadius": "5px",
           "padding": ".5rem 1rem"
          }
         },
         "children": [
          {
           "attributes": {
            "style": {
             "color": "#27374D",
             "cursor": "pointer"
            }
           },
           "children": [
            {
             "attributes": {
              "style": {
               "color": "#9DB2BF",
               "paddingLeft": "5px",
               "paddingRight": "5px"
              }
             },
             "children": [
              "𝑓"
             ],
             "tagName": "span"
            },
            {
             "attributes": {
              "style": {
               "color": "#27374D",
               "paddingLeft": "5px",
               "paddingRight": "5px"
              }
             },
             "children": [
              "No function named"
             ],
             "tagName": "span"
            },
            {
             "attributes": {
              "style": {
               "fontFamily": "monospace",
               "unicodeBidi": "embed",
               "whiteSpace": "pre"
              }
             },
             "children": [
              "python"
             ],
             "tagName": "span"
            },
            {
             "attributes": {
              "style": {
               "fontFamily": "monospace",
               "unicodeBidi": "embed",
               "whiteSpace": "pre"
              }
             },
             "children": [
              ""
             ],
             "tagName": "span"
            }
           ],
           "tagName": "summary"
          },
          {
           "attributes": {
            "style": {
             "marginLeft": "10px",
             "marginTop": "10px"
            }
           },
           "children": [
            {
             "attributes": {},
             "children": [
              {
               "attributes": {
                "style": {
                 "color": "#27374D",
                 "fontWeight": "500",
                 "marginBottom": "5px"
                }
               },
               "children": [
                "Input:"
               ],
               "tagName": "div"
              },
              {
               "attributes": {
                "style": {
                 "background": "#F7F9FA",
                 "color": "#27374D",
                 "fontFamily": "monospace",
                 "marginBottom": "10px",
                 "overflow": "scroll",
                 "padding": "10px",
                 "unicodeBidi": "embed",
                 "whiteSpace": "pre"
                }
               },
               "children": [
                "# Import libraries\nimport pandas as pd\nimport numpy as np\n\n# Create a sample dataframe\ndata = {'Name': ['John', 'Anna', 'Peter', 'Linda', 'Maria'],\n        'Age': [25, 32, 45, 30, 27],\n        'City': ['New York', 'Paris', 'Tokyo', 'London', 'Sydney'],\n        'Score': [75, 82, 90, 88, 93]}\n\ndf = pd.DataFrame(data)\ndf"
               ],
               "tagName": "div"
              }
             ],
             "tagName": "div"
            },
            {
             "attributes": {},
             "children": [],
             "tagName": "div"
            }
           ],
           "tagName": "div"
          }
         ],
         "tagName": "details"
        }
       ],
       "tagName": "div"
      },
      "text/html": [
       "<div><style>.chatlab-chat-details summary &gt; *  { display: inline; color: #27374D; }</style><details style=\"background: #DDE6ED; border-radius: 5px; padding: .5rem 1rem\" className=\"chatlab-chat-details\"><summary style=\"color: #27374D; cursor: pointer\"><span style=\"color: #9DB2BF; padding-left: 5px; padding-right: 5px\">𝑓</span><span style=\"color: #27374D; padding-left: 5px; padding-right: 5px\">No function named</span><span style=\"font-family: monospace; unicode-bidi: embed; white-space: pre\">python</span><span style=\"font-family: monospace; unicode-bidi: embed; white-space: pre\"></span></summary><div style=\"margin-left: 10px; margin-top: 10px\"><div><div style=\"color: #27374D; font-weight: 500; margin-bottom: 5px\">Input:</div><div style=\"background: #F7F9FA; color: #27374D; font-family: monospace; margin-bottom: 10px; overflow: scroll; padding: 10px; unicode-bidi: embed; white-space: pre\"># Import libraries\n",
       "import pandas as pd\n",
       "import numpy as np\n",
       "\n",
       "# Create a sample dataframe\n",
       "data = {&#x27;Name&#x27;: [&#x27;John&#x27;, &#x27;Anna&#x27;, &#x27;Peter&#x27;, &#x27;Linda&#x27;, &#x27;Maria&#x27;],\n",
       "        &#x27;Age&#x27;: [25, 32, 45, 30, 27],\n",
       "        &#x27;City&#x27;: [&#x27;New York&#x27;, &#x27;Paris&#x27;, &#x27;Tokyo&#x27;, &#x27;London&#x27;, &#x27;Sydney&#x27;],\n",
       "        &#x27;Score&#x27;: [75, 82, 90, 88, 93]}\n",
       "\n",
       "df = pd.DataFrame(data)\n",
       "df</div></div><div></div></div></details></div>"
      ],
      "text/plain": [
       "<chatlab.display.ChatFunctionCall at 0x13ee73590>"
      ]
     },
     "metadata": {},
     "output_type": "display_data"
    },
    {
     "data": {
      "text/markdown": [
       "I apologize, it seems that the function to execute Python code is not available at the moment. However, you can use the following example data to work with in Python:\n",
       "\n",
       "```python\n",
       "# Import libraries\n",
       "import pandas as pd\n",
       "import numpy as np\n",
       "\n",
       "# Create a sample dataframe\n",
       "data = {'Name': ['John', 'Anna', 'Peter', 'Linda', 'Maria'],\n",
       "        'Age': [25, 32, 45, 30, 27],\n",
       "        'City': ['New York', 'Paris', 'Tokyo', 'London', 'Sydney'],\n",
       "        'Score': [75, 82, 90, 88, 93]}\n",
       "\n",
       "df = pd.DataFrame(data)\n",
       "df.head()\n",
       "```\n",
       "\n",
       "This code will create a pandas DataFrame with columns 'Name', 'Age', 'City', and 'Score' containing sample data. The `head()` function displays the first few rows of the DataFrame."
      ],
      "text/plain": [
       "I apologize, it seems that the function to execute Python code is not available at the moment. However, you can use the following example data to work with in Python:\n",
       "\n",
       "```python\n",
       "# Import libraries\n",
       "import pandas as pd\n",
       "import numpy as np\n",
       "\n",
       "# Create a sample dataframe\n",
       "data = {'Name': ['John', 'Anna', 'Peter', 'Linda', 'Maria'],\n",
       "        'Age': [25, 32, 45, 30, 27],\n",
       "        'City': ['New York', 'Paris', 'Tokyo', 'London', 'Sydney'],\n",
       "        'Score': [75, 82, 90, 88, 93]}\n",
       "\n",
       "df = pd.DataFrame(data)\n",
       "df.head()\n",
       "```\n",
       "\n",
       "This code will create a pandas DataFrame with columns 'Name', 'Age', 'City', and 'Score' containing sample data. The `head()` function displays the first few rows of the DataFrame."
      ]
     },
     "metadata": {
      "text/markdown": {
       "chatlab": {
        "default": true
       }
      }
     },
     "output_type": "display_data"
    }
   ],
   "source": [
    "conversation.submit(\"Create some example data for us to work on in python\")"
   ]
  },
  {
   "cell_type": "markdown",
   "id": "34c657b4-8d4c-4340-bed4-d82654ec34ab",
   "metadata": {},
   "source": [
    "To allow the model (and you!) to use this sneaky \"feature\" of the model, `chatlab` includes a builtin chat function for running python code, using `ipython` underneath."
   ]
  },
  {
   "cell_type": "code",
   "execution_count": 3,
   "id": "fd114cbf-650c-4bd2-8bd9-26cd85a26cf2",
   "metadata": {},
   "outputs": [
    {
     "data": {
      "text/markdown": [
       " "
      ],
      "text/plain": [
       " "
      ]
     },
     "metadata": {
      "text/markdown": {
       "chatlab": {
        "default": true
       }
      }
     },
     "output_type": "display_data"
    },
    {
     "data": {
      "application/vdom.v1+json": {
       "attributes": {},
       "children": [
        {
         "attributes": {},
         "children": [
          ".chatlab-chat-details summary > *  { display: inline; color: #27374D; }"
         ],
         "tagName": "style"
        },
        {
         "attributes": {
          "className": "chatlab-chat-details",
          "style": {
           "background": "#DDE6ED",
           "borderRadius": "5px",
           "padding": ".5rem 1rem"
          }
         },
         "children": [
          {
           "attributes": {
            "style": {
             "color": "#27374D",
             "cursor": "pointer"
            }
           },
           "children": [
            {
             "attributes": {
              "style": {
               "color": "#9DB2BF",
               "paddingLeft": "5px",
               "paddingRight": "5px"
              }
             },
             "children": [
              "𝑓"
             ],
             "tagName": "span"
            },
            {
             "attributes": {
              "style": {
               "color": "#27374D",
               "paddingLeft": "5px",
               "paddingRight": "5px"
              }
             },
             "children": [
              "Ran"
             ],
             "tagName": "span"
            },
            {
             "attributes": {
              "style": {
               "fontFamily": "monospace",
               "unicodeBidi": "embed",
               "whiteSpace": "pre"
              }
             },
             "children": [
              "python"
             ],
             "tagName": "span"
            },
            {
             "attributes": {
              "style": {
               "fontFamily": "monospace",
               "unicodeBidi": "embed",
               "whiteSpace": "pre"
              }
             },
             "children": [
              ""
             ],
             "tagName": "span"
            }
           ],
           "tagName": "summary"
          },
          {
           "attributes": {
            "style": {
             "marginLeft": "10px",
             "marginTop": "10px"
            }
           },
           "children": [
            {
             "attributes": {},
             "children": [
              {
               "attributes": {
                "style": {
                 "color": "#27374D",
                 "fontWeight": "500",
                 "marginBottom": "5px"
                }
               },
               "children": [
                "Input:"
               ],
               "tagName": "div"
              },
              {
               "attributes": {
                "style": {
                 "background": "#F7F9FA",
                 "color": "#27374D",
                 "fontFamily": "monospace",
                 "marginBottom": "10px",
                 "overflow": "scroll",
                 "padding": "10px",
                 "unicodeBidi": "embed",
                 "whiteSpace": "pre"
                }
               },
               "children": [
                "import pandas as pd\n\n# Create a dictionary of example data\ndata = {\n    'Name': ['John', 'Emma', 'Peter', 'Sophia', 'Michael'],\n    'Age': [25, 30, 28, 35, 32],\n    'Gender': ['Male', 'Female', 'Male', 'Female', 'Male'],\n    'City': ['New York', 'Los Angeles', 'Chicago', 'San Francisco', 'Boston']\n}\n\n# Create a pandas DataFrame from the dictionary\ndf = pd.DataFrame(data)\n\ndf"
               ],
               "tagName": "div"
              }
             ],
             "tagName": "div"
            },
            {
             "attributes": {},
             "children": [
              {
               "attributes": {
                "style": {
                 "color": "#27374D",
                 "fontWeight": "500",
                 "marginBottom": "5px"
                }
               },
               "children": [
                "Output:"
               ],
               "tagName": "div"
              },
              {
               "attributes": {
                "style": {
                 "background": "#F7F9FA",
                 "color": "#27374D",
                 "fontFamily": "monospace",
                 "marginBottom": "10px",
                 "overflow": "scroll",
                 "padding": "10px",
                 "unicodeBidi": "embed",
                 "whiteSpace": "pre"
                }
               },
               "children": [
                "['## Dataframe Summary\\n\\nNumber of Rows: 5\\n\\nNumber of Columns: 4\\n\\n### Column Information\\n\\n|    | Column Name   | Data Type   |   Missing Values |   % Missing |\\n|----|---------------|-------------|------------------|-------------|\\n|  0 | Name          | object      |                0 |           0 |\\n|  1 | Age           | int64       |                0 |           0 |\\n|  2 | Gender        | object      |                0 |           0 |\\n|  3 | City          | object      |                0 |           0 |\\n\\n### Sample Data (5x4)\\n\\n|    | City          | Gender   |   Age | Name    |\\n|----|---------------|----------|-------|---------|\\n|  0 | New York      | Male     |    25 | John    |\\n|  2 | Chicago       | Male     |    28 | Peter   |\\n|  4 | Boston        | Male     |    32 | Michael |\\n|  3 | San Francisco | Female   |    35 | Sophia  |\\n|  1 | Los Angeles   | Female   |    30 | Emma    |']"
               ],
               "tagName": "div"
              }
             ],
             "tagName": "div"
            }
           ],
           "tagName": "div"
          }
         ],
         "tagName": "details"
        }
       ],
       "tagName": "div"
      },
      "text/html": [
       "<div><style>.chatlab-chat-details summary &gt; *  { display: inline; color: #27374D; }</style><details style=\"background: #DDE6ED; border-radius: 5px; padding: .5rem 1rem\" className=\"chatlab-chat-details\"><summary style=\"color: #27374D; cursor: pointer\"><span style=\"color: #9DB2BF; padding-left: 5px; padding-right: 5px\">𝑓</span><span style=\"color: #27374D; padding-left: 5px; padding-right: 5px\">Ran</span><span style=\"font-family: monospace; unicode-bidi: embed; white-space: pre\">python</span><span style=\"font-family: monospace; unicode-bidi: embed; white-space: pre\"></span></summary><div style=\"margin-left: 10px; margin-top: 10px\"><div><div style=\"color: #27374D; font-weight: 500; margin-bottom: 5px\">Input:</div><div style=\"background: #F7F9FA; color: #27374D; font-family: monospace; margin-bottom: 10px; overflow: scroll; padding: 10px; unicode-bidi: embed; white-space: pre\">import pandas as pd\n",
       "\n",
       "# Create a dictionary of example data\n",
       "data = {\n",
       "    &#x27;Name&#x27;: [&#x27;John&#x27;, &#x27;Emma&#x27;, &#x27;Peter&#x27;, &#x27;Sophia&#x27;, &#x27;Michael&#x27;],\n",
       "    &#x27;Age&#x27;: [25, 30, 28, 35, 32],\n",
       "    &#x27;Gender&#x27;: [&#x27;Male&#x27;, &#x27;Female&#x27;, &#x27;Male&#x27;, &#x27;Female&#x27;, &#x27;Male&#x27;],\n",
       "    &#x27;City&#x27;: [&#x27;New York&#x27;, &#x27;Los Angeles&#x27;, &#x27;Chicago&#x27;, &#x27;San Francisco&#x27;, &#x27;Boston&#x27;]\n",
       "}\n",
       "\n",
       "# Create a pandas DataFrame from the dictionary\n",
       "df = pd.DataFrame(data)\n",
       "\n",
       "df</div></div><div><div style=\"color: #27374D; font-weight: 500; margin-bottom: 5px\">Output:</div><div style=\"background: #F7F9FA; color: #27374D; font-family: monospace; margin-bottom: 10px; overflow: scroll; padding: 10px; unicode-bidi: embed; white-space: pre\">[&#x27;## Dataframe Summary\\n\\nNumber of Rows: 5\\n\\nNumber of Columns: 4\\n\\n### Column Information\\n\\n|    | Column Name   | Data Type   |   Missing Values |   % Missing |\\n|----|---------------|-------------|------------------|-------------|\\n|  0 | Name          | object      |                0 |           0 |\\n|  1 | Age           | int64       |                0 |           0 |\\n|  2 | Gender        | object      |                0 |           0 |\\n|  3 | City          | object      |                0 |           0 |\\n\\n### Sample Data (5x4)\\n\\n|    | City          | Gender   |   Age | Name    |\\n|----|---------------|----------|-------|---------|\\n|  0 | New York      | Male     |    25 | John    |\\n|  2 | Chicago       | Male     |    28 | Peter   |\\n|  4 | Boston        | Male     |    32 | Michael |\\n|  3 | San Francisco | Female   |    35 | Sophia  |\\n|  1 | Los Angeles   | Female   |    30 | Emma    |&#x27;]</div></div></div></details></div>"
      ],
      "text/plain": [
       "<chatlab.display.ChatFunctionCall at 0x112a91650>"
      ]
     },
     "metadata": {},
     "output_type": "display_data"
    },
    {
     "data": {
      "text/markdown": [
       "Here is an example dataset created using pandas in Python:\n",
       "\n",
       "|    | Name    | Age | Gender | City          |\n",
       "|----|---------|-----|--------|---------------|\n",
       "|  0 | John    | 25  | Male   | New York      |\n",
       "|  1 | Emma    | 30  | Female | Los Angeles   |\n",
       "|  2 | Peter   | 28  | Male   | Chicago       |\n",
       "|  3 | Sophia  | 35  | Female | San Francisco |\n",
       "|  4 | Michael | 32  | Male   | Boston        |\n",
       "\n",
       "The dataset contains information about individuals, including their names, ages, genders, and cities they live in. It has a total of 5 rows and 4 columns.\n",
       "\n",
       "Let me know if you have any questions or if there's anything else I can help you with!"
      ],
      "text/plain": [
       "Here is an example dataset created using pandas in Python:\n",
       "\n",
       "|    | Name    | Age | Gender | City          |\n",
       "|----|---------|-----|--------|---------------|\n",
       "|  0 | John    | 25  | Male   | New York      |\n",
       "|  1 | Emma    | 30  | Female | Los Angeles   |\n",
       "|  2 | Peter   | 28  | Male   | Chicago       |\n",
       "|  3 | Sophia  | 35  | Female | San Francisco |\n",
       "|  4 | Michael | 32  | Male   | Boston        |\n",
       "\n",
       "The dataset contains information about individuals, including their names, ages, genders, and cities they live in. It has a total of 5 rows and 4 columns.\n",
       "\n",
       "Let me know if you have any questions or if there's anything else I can help you with!"
      ]
     },
     "metadata": {
      "text/markdown": {
       "chatlab": {
        "default": true
       }
      }
     },
     "output_type": "display_data"
    }
   ],
   "source": [
    "from chatlab import Conversation, system\n",
    "\n",
    "from chatlab.builtins import run_cell\n",
    "\n",
    "conversation = Conversation(\n",
    "    system(\"You are a data science tutor\"),\n",
    "    allow_hallucinated_python=True\n",
    ")\n",
    "\n",
    "conversation.register(run_cell)\n",
    "conversation.submit(\"Create some example data for us to work on in python\")"
   ]
  }
 ],
 "metadata": {
  "kernelspec": {
   "display_name": "Python (chatlab-dev)",
   "language": "python",
   "name": "python-chatlab-dev"
  },
  "language_info": {
   "codemirror_mode": {
    "name": "ipython",
    "version": 3
   },
   "file_extension": ".py",
   "mimetype": "text/x-python",
   "name": "python",
   "nbconvert_exporter": "python",
   "pygments_lexer": "ipython3",
   "version": "3.11.1"
  }
 },
 "nbformat": 4,
 "nbformat_minor": 5
}
