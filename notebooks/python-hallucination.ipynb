{
 "cells": [
  {
   "cell_type": "markdown",
   "id": "5129461e-3484-4332-bec0-0b29278d70ef",
   "metadata": {},
   "source": [
    "# The `python` hallucination\n",
    "\n",
    "Sometimes ChatGPT will hallucinate a function endpoint called `python` when chat functions are enabled. We've all been there. Who doesn't dream in `python`?\n",
    "\n",
    "Even if you register a function to run code directly, like with `run_cell` below, the model will try to run `python` even though it's not in the functions the model was provided."
   ]
  },
  {
   "cell_type": "code",
   "execution_count": 1,
   "id": "856b3c0c-c965-42fd-8f56-97a53282ecde",
   "metadata": {},
   "outputs": [],
   "source": [
    "from murkrow import Session, system\n",
    "\n",
    "from murkrow.builtins import run_cell\n",
    "\n",
    "session = Session(\n",
    "    system(\"You are a data science tutor\")\n",
    ")\n",
    "\n",
    "# We register `run_cell` and yet `python` is run... without the JSON payload\n",
    "session.register(run_cell)"
   ]
  },
  {
   "cell_type": "code",
   "execution_count": 2,
   "id": "8e56b60e-4c7c-443f-b5df-de8239ff81c5",
   "metadata": {},
   "outputs": [
    {
     "data": {
      "text/markdown": [
       " "
      ],
      "text/plain": [
       " "
      ]
     },
     "metadata": {
      "text/markdown": {
       "murkrow": {
        "default": true
       }
      }
     },
     "output_type": "display_data"
    },
    {
     "data": {
      "application/vdom.v1+json": {
       "attributes": {},
       "children": [
        {
         "attributes": {},
         "children": [
          ".murkrow-chat-details summary > *  { display: inline; color: #27374D; }"
         ],
         "tagName": "style"
        },
        {
         "attributes": {
          "className": "murkrow-chat-details",
          "style": {
           "background": "#DDE6ED",
           "borderRadius": "5px",
           "padding": ".5rem 1rem"
          }
         },
         "children": [
          {
           "attributes": {
            "style": {
             "color": "#27374D",
             "cursor": "pointer"
            }
           },
           "children": [
            {
             "attributes": {
              "style": {
               "color": "#9DB2BF",
               "paddingLeft": "5px",
               "paddingRight": "5px"
              }
             },
             "children": [
              "𝑓"
             ],
             "tagName": "span"
            },
            {
             "attributes": {
              "style": {
               "color": "#27374D",
               "paddingLeft": "5px",
               "paddingRight": "5px"
              }
             },
             "children": [
              "No function named"
             ],
             "tagName": "span"
            },
            {
             "attributes": {
              "style": {
               "fontFamily": "monospace",
               "unicodeBidi": "embed",
               "whiteSpace": "pre"
              }
             },
             "children": [
              "python"
             ],
             "tagName": "span"
            },
            {
             "attributes": {
              "style": {
               "fontFamily": "monospace",
               "unicodeBidi": "embed",
               "whiteSpace": "pre"
              }
             },
             "children": [
              ""
             ],
             "tagName": "span"
            }
           ],
           "tagName": "summary"
          },
          {
           "attributes": {
            "style": {
             "marginLeft": "10px",
             "marginTop": "10px"
            }
           },
           "children": [
            {
             "attributes": {},
             "children": [
              {
               "attributes": {
                "style": {
                 "color": "#27374D",
                 "fontWeight": "500",
                 "marginBottom": "5px"
                }
               },
               "children": [
                "Input:"
               ],
               "tagName": "div"
              },
              {
               "attributes": {
                "style": {
                 "background": "#F7F9FA",
                 "color": "#27374D",
                 "fontFamily": "monospace",
                 "marginBottom": "10px",
                 "padding": "10px",
                 "unicodeBidi": "embed",
                 "whiteSpace": "pre"
                }
               },
               "children": [
                "import pandas as pd\nimport numpy as np\n\n# Create example data\ndata = {\n    'name': ['John', 'Alice', 'Bob', 'Mark', 'Lisa'],\n    'age': [25, 30, 35, 20, 28],\n    'gender': ['M', 'F', 'M', 'M', 'F'],\n    'city': ['New York', 'London', 'Paris', 'Tokyo', 'Sydney'],\n    'score': [80, 90, 75, 85, 95]\n}\n\ndf = pd.DataFrame(data)\ndf"
               ],
               "tagName": "div"
              }
             ],
             "tagName": "div"
            },
            {
             "attributes": {},
             "children": [],
             "tagName": "div"
            }
           ],
           "tagName": "div"
          }
         ],
         "tagName": "details"
        }
       ],
       "tagName": "div"
      },
      "text/html": [
       "<div><style>.murkrow-chat-details summary &gt; *  { display: inline; color: #27374D; }</style><details style=\"background: #DDE6ED; border-radius: 5px; padding: .5rem 1rem\" className=\"murkrow-chat-details\"><summary style=\"color: #27374D; cursor: pointer\"><span style=\"color: #9DB2BF; padding-left: 5px; padding-right: 5px\">𝑓</span><span style=\"color: #27374D; padding-left: 5px; padding-right: 5px\">No function named</span><span style=\"font-family: monospace; unicode-bidi: embed; white-space: pre\">python</span><span style=\"font-family: monospace; unicode-bidi: embed; white-space: pre\"></span></summary><div style=\"margin-left: 10px; margin-top: 10px\"><div><div style=\"color: #27374D; font-weight: 500; margin-bottom: 5px\">Input:</div><div style=\"background: #F7F9FA; color: #27374D; font-family: monospace; margin-bottom: 10px; padding: 10px; unicode-bidi: embed; white-space: pre\">import pandas as pd\n",
       "import numpy as np\n",
       "\n",
       "# Create example data\n",
       "data = {\n",
       "    &#x27;name&#x27;: [&#x27;John&#x27;, &#x27;Alice&#x27;, &#x27;Bob&#x27;, &#x27;Mark&#x27;, &#x27;Lisa&#x27;],\n",
       "    &#x27;age&#x27;: [25, 30, 35, 20, 28],\n",
       "    &#x27;gender&#x27;: [&#x27;M&#x27;, &#x27;F&#x27;, &#x27;M&#x27;, &#x27;M&#x27;, &#x27;F&#x27;],\n",
       "    &#x27;city&#x27;: [&#x27;New York&#x27;, &#x27;London&#x27;, &#x27;Paris&#x27;, &#x27;Tokyo&#x27;, &#x27;Sydney&#x27;],\n",
       "    &#x27;score&#x27;: [80, 90, 75, 85, 95]\n",
       "}\n",
       "\n",
       "df = pd.DataFrame(data)\n",
       "df</div></div><div></div></div></details></div>"
      ],
      "text/plain": [
       "<murkrow.display.ChatFunctionCall at 0x1175883d0>"
      ]
     },
     "metadata": {},
     "output_type": "display_data"
    },
    {
     "data": {
      "text/markdown": [
       "Apologies for the error. Let me fix that and try again."
      ],
      "text/plain": [
       "Apologies for the error. Let me fix that and try again."
      ]
     },
     "metadata": {
      "text/markdown": {
       "murkrow": {
        "default": true
       }
      }
     },
     "output_type": "display_data"
    },
    {
     "data": {
      "application/vdom.v1+json": {
       "attributes": {},
       "children": [
        {
         "attributes": {},
         "children": [
          ".murkrow-chat-details summary > *  { display: inline; color: #27374D; }"
         ],
         "tagName": "style"
        },
        {
         "attributes": {
          "className": "murkrow-chat-details",
          "style": {
           "background": "#DDE6ED",
           "borderRadius": "5px",
           "padding": ".5rem 1rem"
          }
         },
         "children": [
          {
           "attributes": {
            "style": {
             "color": "#27374D",
             "cursor": "pointer"
            }
           },
           "children": [
            {
             "attributes": {
              "style": {
               "color": "#9DB2BF",
               "paddingLeft": "5px",
               "paddingRight": "5px"
              }
             },
             "children": [
              "𝑓"
             ],
             "tagName": "span"
            },
            {
             "attributes": {
              "style": {
               "color": "#27374D",
               "paddingLeft": "5px",
               "paddingRight": "5px"
              }
             },
             "children": [
              "Finished"
             ],
             "tagName": "span"
            },
            {
             "attributes": {
              "style": {
               "fontFamily": "monospace",
               "unicodeBidi": "embed",
               "whiteSpace": "pre"
              }
             },
             "children": [
              "run_cell"
             ],
             "tagName": "span"
            },
            {
             "attributes": {
              "style": {
               "fontFamily": "monospace",
               "unicodeBidi": "embed",
               "whiteSpace": "pre"
              }
             },
             "children": [
              ""
             ],
             "tagName": "span"
            }
           ],
           "tagName": "summary"
          },
          {
           "attributes": {
            "style": {
             "marginLeft": "10px",
             "marginTop": "10px"
            }
           },
           "children": [
            {
             "attributes": {},
             "children": [
              {
               "attributes": {
                "style": {
                 "color": "#27374D",
                 "fontWeight": "500",
                 "marginBottom": "5px"
                }
               },
               "children": [
                "Input:"
               ],
               "tagName": "div"
              },
              {
               "attributes": {
                "style": {
                 "background": "#F7F9FA",
                 "color": "#27374D",
                 "fontFamily": "monospace",
                 "marginBottom": "10px",
                 "padding": "10px",
                 "unicodeBidi": "embed",
                 "whiteSpace": "pre"
                }
               },
               "children": [
                "{\n  \"code\": \"import pandas as pd\\nimport numpy as np\\n\\n# Create example data\\ndata = {\\n    'name': ['John', 'Alice', 'Bob', 'Mark', 'Lisa'],\\n    'age': [25, 30, 35, 20, 28],\\n    'gender': ['M', 'F', 'M', 'M', 'F'],\\n    'city': ['New York', 'London', 'Paris', 'Tokyo', 'Sydney'],\\n    'score': [80, 90, 75, 85, 95]\\n}\\n\\ndf = pd.DataFrame(data)\\ndf\"\n}"
               ],
               "tagName": "div"
              }
             ],
             "tagName": "div"
            },
            {
             "attributes": {},
             "children": [
              {
               "attributes": {
                "style": {
                 "color": "#27374D",
                 "fontWeight": "500",
                 "marginBottom": "5px"
                }
               },
               "children": [
                "Output:"
               ],
               "tagName": "div"
              },
              {
               "attributes": {
                "style": {
                 "background": "#F7F9FA",
                 "color": "#27374D",
                 "fontFamily": "monospace",
                 "marginBottom": "10px",
                 "padding": "10px",
                 "unicodeBidi": "embed",
                 "whiteSpace": "pre"
                }
               },
               "children": [
                "None"
               ],
               "tagName": "div"
              }
             ],
             "tagName": "div"
            }
           ],
           "tagName": "div"
          }
         ],
         "tagName": "details"
        }
       ],
       "tagName": "div"
      },
      "text/html": [
       "<div><style>.murkrow-chat-details summary &gt; *  { display: inline; color: #27374D; }</style><details style=\"background: #DDE6ED; border-radius: 5px; padding: .5rem 1rem\" className=\"murkrow-chat-details\"><summary style=\"color: #27374D; cursor: pointer\"><span style=\"color: #9DB2BF; padding-left: 5px; padding-right: 5px\">𝑓</span><span style=\"color: #27374D; padding-left: 5px; padding-right: 5px\">Finished</span><span style=\"font-family: monospace; unicode-bidi: embed; white-space: pre\">run_cell</span><span style=\"font-family: monospace; unicode-bidi: embed; white-space: pre\"></span></summary><div style=\"margin-left: 10px; margin-top: 10px\"><div><div style=\"color: #27374D; font-weight: 500; margin-bottom: 5px\">Input:</div><div style=\"background: #F7F9FA; color: #27374D; font-family: monospace; margin-bottom: 10px; padding: 10px; unicode-bidi: embed; white-space: pre\">{\n",
       "  &quot;code&quot;: &quot;import pandas as pd\\nimport numpy as np\\n\\n# Create example data\\ndata = {\\n    &#x27;name&#x27;: [&#x27;John&#x27;, &#x27;Alice&#x27;, &#x27;Bob&#x27;, &#x27;Mark&#x27;, &#x27;Lisa&#x27;],\\n    &#x27;age&#x27;: [25, 30, 35, 20, 28],\\n    &#x27;gender&#x27;: [&#x27;M&#x27;, &#x27;F&#x27;, &#x27;M&#x27;, &#x27;M&#x27;, &#x27;F&#x27;],\\n    &#x27;city&#x27;: [&#x27;New York&#x27;, &#x27;London&#x27;, &#x27;Paris&#x27;, &#x27;Tokyo&#x27;, &#x27;Sydney&#x27;],\\n    &#x27;score&#x27;: [80, 90, 75, 85, 95]\\n}\\n\\ndf = pd.DataFrame(data)\\ndf&quot;\n",
       "}</div></div><div><div style=\"color: #27374D; font-weight: 500; margin-bottom: 5px\">Output:</div><div style=\"background: #F7F9FA; color: #27374D; font-family: monospace; margin-bottom: 10px; padding: 10px; unicode-bidi: embed; white-space: pre\">None</div></div></div></details></div>"
      ],
      "text/plain": [
       "<murkrow.display.ChatFunctionCall at 0x10a4d91d0>"
      ]
     },
     "metadata": {},
     "output_type": "display_data"
    },
    {
     "data": {
      "text/markdown": [
       "Here is an example dataset created using Python:\n",
       "\n",
       "```\n",
       "   name  age gender       city  score\n",
       "0  John   25      M   New York     80\n",
       "1  Alice  30      F     London     90\n",
       "2   Bob   35      M      Paris     75\n",
       "3  Mark   20      M      Tokyo     85\n",
       "4  Lisa   28      F     Sydney     95\n",
       "```\n",
       "\n",
       "The dataset consists of five columns: `name`, `age`, `gender`, `city`, and `score`. Each column represents a different attribute of a person."
      ],
      "text/plain": [
       "Here is an example dataset created using Python:\n",
       "\n",
       "```\n",
       "   name  age gender       city  score\n",
       "0  John   25      M   New York     80\n",
       "1  Alice  30      F     London     90\n",
       "2   Bob   35      M      Paris     75\n",
       "3  Mark   20      M      Tokyo     85\n",
       "4  Lisa   28      F     Sydney     95\n",
       "```\n",
       "\n",
       "The dataset consists of five columns: `name`, `age`, `gender`, `city`, and `score`. Each column represents a different attribute of a person."
      ]
     },
     "metadata": {
      "text/markdown": {
       "murkrow": {
        "default": true
       }
      }
     },
     "output_type": "display_data"
    }
   ],
   "source": [
    "session.chat(\"Create some example data for us to work on in python\")"
   ]
  },
  {
   "cell_type": "markdown",
   "id": "34c657b4-8d4c-4340-bed4-d82654ec34ab",
   "metadata": {},
   "source": [
    "To allow the model (and you!) to use this sneaky \"feature\" of the model, `murkrow` includes a builtin chat function for running python code, using `ipython` underneath."
   ]
  },
  {
   "cell_type": "code",
   "execution_count": 3,
   "id": "fd114cbf-650c-4bd2-8bd9-26cd85a26cf2",
   "metadata": {},
   "outputs": [
    {
     "data": {
      "text/markdown": [
       " "
      ],
      "text/plain": [
       " "
      ]
     },
     "metadata": {
      "text/markdown": {
       "murkrow": {
        "default": true
       }
      }
     },
     "output_type": "display_data"
    },
    {
     "data": {
      "application/vdom.v1+json": {
       "attributes": {},
       "children": [
        {
         "attributes": {},
         "children": [
          ".murkrow-chat-details summary > *  { display: inline; color: #27374D; }"
         ],
         "tagName": "style"
        },
        {
         "attributes": {
          "className": "murkrow-chat-details",
          "style": {
           "background": "#DDE6ED",
           "borderRadius": "5px",
           "padding": ".5rem 1rem"
          }
         },
         "children": [
          {
           "attributes": {
            "style": {
             "color": "#27374D",
             "cursor": "pointer"
            }
           },
           "children": [
            {
             "attributes": {
              "style": {
               "color": "#9DB2BF",
               "paddingLeft": "5px",
               "paddingRight": "5px"
              }
             },
             "children": [
              "𝑓"
             ],
             "tagName": "span"
            },
            {
             "attributes": {
              "style": {
               "color": "#27374D",
               "paddingLeft": "5px",
               "paddingRight": "5px"
              }
             },
             "children": [
              "Finished"
             ],
             "tagName": "span"
            },
            {
             "attributes": {
              "style": {
               "fontFamily": "monospace",
               "unicodeBidi": "embed",
               "whiteSpace": "pre"
              }
             },
             "children": [
              "python"
             ],
             "tagName": "span"
            },
            {
             "attributes": {
              "style": {
               "fontFamily": "monospace",
               "unicodeBidi": "embed",
               "whiteSpace": "pre"
              }
             },
             "children": [
              ""
             ],
             "tagName": "span"
            }
           ],
           "tagName": "summary"
          },
          {
           "attributes": {
            "style": {
             "marginLeft": "10px",
             "marginTop": "10px"
            }
           },
           "children": [
            {
             "attributes": {},
             "children": [
              {
               "attributes": {
                "style": {
                 "color": "#27374D",
                 "fontWeight": "500",
                 "marginBottom": "5px"
                }
               },
               "children": [
                "Input:"
               ],
               "tagName": "div"
              },
              {
               "attributes": {
                "style": {
                 "background": "#F7F9FA",
                 "color": "#27374D",
                 "fontFamily": "monospace",
                 "marginBottom": "10px",
                 "padding": "10px",
                 "unicodeBidi": "embed",
                 "whiteSpace": "pre"
                }
               },
               "children": [
                "# Importing the required libraries\nimport pandas as pd\nimport numpy as np\n\n# Creating example data\ndata = {'Name': ['John', 'Emma', 'Peter', 'Sarah', 'Michael'],\n        'Age': [25, 30, 27, 22, 35],\n        'City': ['New York', 'London', 'Paris', 'Sydney', 'Toronto'],\n        'Salary': [50000, 60000, 55000, 45000, 70000]}\n\ndf = pd.DataFrame(data)\ndf"
               ],
               "tagName": "div"
              }
             ],
             "tagName": "div"
            },
            {
             "attributes": {},
             "children": [
              {
               "attributes": {
                "style": {
                 "color": "#27374D",
                 "fontWeight": "500",
                 "marginBottom": "5px"
                }
               },
               "children": [
                "Output:"
               ],
               "tagName": "div"
              },
              {
               "attributes": {
                "style": {
                 "background": "#F7F9FA",
                 "color": "#27374D",
                 "fontFamily": "monospace",
                 "marginBottom": "10px",
                 "padding": "10px",
                 "unicodeBidi": "embed",
                 "whiteSpace": "pre"
                }
               },
               "children": [
                "None"
               ],
               "tagName": "div"
              }
             ],
             "tagName": "div"
            }
           ],
           "tagName": "div"
          }
         ],
         "tagName": "details"
        }
       ],
       "tagName": "div"
      },
      "text/html": [
       "<div><style>.murkrow-chat-details summary &gt; *  { display: inline; color: #27374D; }</style><details style=\"background: #DDE6ED; border-radius: 5px; padding: .5rem 1rem\" className=\"murkrow-chat-details\"><summary style=\"color: #27374D; cursor: pointer\"><span style=\"color: #9DB2BF; padding-left: 5px; padding-right: 5px\">𝑓</span><span style=\"color: #27374D; padding-left: 5px; padding-right: 5px\">Finished</span><span style=\"font-family: monospace; unicode-bidi: embed; white-space: pre\">python</span><span style=\"font-family: monospace; unicode-bidi: embed; white-space: pre\"></span></summary><div style=\"margin-left: 10px; margin-top: 10px\"><div><div style=\"color: #27374D; font-weight: 500; margin-bottom: 5px\">Input:</div><div style=\"background: #F7F9FA; color: #27374D; font-family: monospace; margin-bottom: 10px; padding: 10px; unicode-bidi: embed; white-space: pre\"># Importing the required libraries\n",
       "import pandas as pd\n",
       "import numpy as np\n",
       "\n",
       "# Creating example data\n",
       "data = {&#x27;Name&#x27;: [&#x27;John&#x27;, &#x27;Emma&#x27;, &#x27;Peter&#x27;, &#x27;Sarah&#x27;, &#x27;Michael&#x27;],\n",
       "        &#x27;Age&#x27;: [25, 30, 27, 22, 35],\n",
       "        &#x27;City&#x27;: [&#x27;New York&#x27;, &#x27;London&#x27;, &#x27;Paris&#x27;, &#x27;Sydney&#x27;, &#x27;Toronto&#x27;],\n",
       "        &#x27;Salary&#x27;: [50000, 60000, 55000, 45000, 70000]}\n",
       "\n",
       "df = pd.DataFrame(data)\n",
       "df</div></div><div><div style=\"color: #27374D; font-weight: 500; margin-bottom: 5px\">Output:</div><div style=\"background: #F7F9FA; color: #27374D; font-family: monospace; margin-bottom: 10px; padding: 10px; unicode-bidi: embed; white-space: pre\">None</div></div></div></details></div>"
      ],
      "text/plain": [
       "<murkrow.display.ChatFunctionCall at 0x108371c50>"
      ]
     },
     "metadata": {},
     "output_type": "display_data"
    },
    {
     "data": {
      "text/markdown": [
       "I have created some example data for us to work on. The data consists of a DataFrame with four columns: Name, Age, City, and Salary. Here is how the data looks like:\n",
       "\n",
       "|    | Name     | Age | City      | Salary |\n",
       "|----|----------|-----|-----------|--------|\n",
       "| 0  | John     | 25  | New York  | 50000  |\n",
       "| 1  | Emma     | 30  | London    | 60000  |\n",
       "| 2  | Peter    | 27  | Paris     | 55000  |\n",
       "| 3  | Sarah    | 22  | Sydney    | 45000  |\n",
       "| 4  | Michael  | 35  | Toronto   | 70000  |\n",
       "\n",
       "We can use this data for various data analysis and manipulation tasks. Let me know what specific task you would like to perform with this data."
      ],
      "text/plain": [
       "I have created some example data for us to work on. The data consists of a DataFrame with four columns: Name, Age, City, and Salary. Here is how the data looks like:\n",
       "\n",
       "|    | Name     | Age | City      | Salary |\n",
       "|----|----------|-----|-----------|--------|\n",
       "| 0  | John     | 25  | New York  | 50000  |\n",
       "| 1  | Emma     | 30  | London    | 60000  |\n",
       "| 2  | Peter    | 27  | Paris     | 55000  |\n",
       "| 3  | Sarah    | 22  | Sydney    | 45000  |\n",
       "| 4  | Michael  | 35  | Toronto   | 70000  |\n",
       "\n",
       "We can use this data for various data analysis and manipulation tasks. Let me know what specific task you would like to perform with this data."
      ]
     },
     "metadata": {
      "text/markdown": {
       "murkrow": {
        "default": true
       }
      }
     },
     "output_type": "display_data"
    }
   ],
   "source": [
    "from murkrow import Session, system\n",
    "\n",
    "from murkrow.builtins import run_cell\n",
    "\n",
    "session = Session(\n",
    "    system(\"You are a data science tutor\"),\n",
    "    include_builtin_python=True\n",
    ")\n",
    "\n",
    "session.register(run_cell)\n",
    "session.chat(\"Create some example data for us to work on in python\")"
   ]
  },
  {
   "cell_type": "code",
   "execution_count": null,
   "id": "e3422c29-6208-47e1-ac22-dd6d4636f3ad",
   "metadata": {},
   "outputs": [],
   "source": []
  },
  {
   "cell_type": "code",
   "execution_count": null,
   "id": "074a081d-1a72-4326-93a8-8e6d602cdd8c",
   "metadata": {},
   "outputs": [],
   "source": []
  }
 ],
 "metadata": {
  "kernelspec": {
   "display_name": "Poetry env for murkrow",
   "language": "python",
   "name": "murkrow"
  },
  "language_info": {
   "codemirror_mode": {
    "name": "ipython",
    "version": 3
   },
   "file_extension": ".py",
   "mimetype": "text/x-python",
   "name": "python",
   "nbconvert_exporter": "python",
   "pygments_lexer": "ipython3",
   "version": "3.11.1"
  }
 },
 "nbformat": 4,
 "nbformat_minor": 5
}
