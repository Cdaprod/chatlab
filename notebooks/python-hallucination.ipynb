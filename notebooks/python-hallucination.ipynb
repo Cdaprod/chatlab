{
 "cells": [
  {
   "cell_type": "markdown",
   "id": "5129461e-3484-4332-bec0-0b29278d70ef",
   "metadata": {},
   "source": [
    "# The `python` hallucination\n",
    "\n",
    "Sometimes ChatGPT will hallucinate a function endpoint called `python` when chat functions are enabled. We've all been there. Who doesn't dream in `python`?\n",
    "\n",
    "Even if you register a function to run code directly, like with `run_cell` below, the model will try to run `python` even though it's not in the functions the model was provided."
   ]
  },
  {
   "cell_type": "code",
   "execution_count": 1,
   "id": "856b3c0c-c965-42fd-8f56-97a53282ecde",
   "metadata": {},
   "outputs": [],
   "source": [
    "from chatlab import Conversation, system\n",
    "\n",
    "from chatlab.builtins import run_cell\n",
    "\n",
    "conversation = Conversation(\n",
    "    system(\"You are a data science tutor\")\n",
    ")\n",
    "\n",
    "# We register `run_cell` and yet `python` is run... without the JSON payload\n",
    "conversation.register(run_cell)"
   ]
  },
  {
   "cell_type": "code",
   "execution_count": 2,
   "id": "8e56b60e-4c7c-443f-b5df-de8239ff81c5",
   "metadata": {},
   "outputs": [
    {
     "data": {
      "text/markdown": [
       " "
      ],
      "text/plain": [
       " "
      ]
     },
     "metadata": {
      "text/markdown": {
       "chatlab": {
        "default": true
       }
      }
     },
     "output_type": "display_data"
    },
    {
     "data": {
      "application/vdom.v1+json": {
       "attributes": {},
       "children": [
        {
         "attributes": {},
         "children": [
          ".chatlab-chat-details summary > *  { display: inline; color: #27374D; }"
         ],
         "tagName": "style"
        },
        {
         "attributes": {
          "className": "chatlab-chat-details",
          "style": {
           "background": "#DDE6ED",
           "borderRadius": "5px",
           "padding": ".5rem 1rem"
          }
         },
         "children": [
          {
           "attributes": {
            "style": {
             "color": "#27374D",
             "cursor": "pointer"
            }
           },
           "children": [
            {
             "attributes": {
              "style": {
               "color": "#9DB2BF",
               "paddingLeft": "5px",
               "paddingRight": "5px"
              }
             },
             "children": [
              "𝑓"
             ],
             "tagName": "span"
            },
            {
             "attributes": {
              "style": {
               "color": "#27374D",
               "paddingLeft": "5px",
               "paddingRight": "5px"
              }
             },
             "children": [
              "No function named"
             ],
             "tagName": "span"
            },
            {
             "attributes": {
              "style": {
               "fontFamily": "monospace",
               "unicodeBidi": "embed",
               "whiteSpace": "pre"
              }
             },
             "children": [
              "python"
             ],
             "tagName": "span"
            },
            {
             "attributes": {
              "style": {
               "fontFamily": "monospace",
               "unicodeBidi": "embed",
               "whiteSpace": "pre"
              }
             },
             "children": [
              ""
             ],
             "tagName": "span"
            }
           ],
           "tagName": "summary"
          },
          {
           "attributes": {
            "style": {
             "marginLeft": "10px",
             "marginTop": "10px"
            }
           },
           "children": [
            {
             "attributes": {},
             "children": [
              {
               "attributes": {
                "style": {
                 "color": "#27374D",
                 "fontWeight": "500",
                 "marginBottom": "5px"
                }
               },
               "children": [
                "Input:"
               ],
               "tagName": "div"
              },
              {
               "attributes": {
                "style": {
                 "background": "#F7F9FA",
                 "color": "#27374D",
                 "fontFamily": "monospace",
                 "marginBottom": "10px",
                 "padding": "10px",
                 "unicodeBidi": "embed",
                 "whiteSpace": "pre"
                }
               },
               "children": [
                "import pandas as pd\n\n# create example data\ndata = {\n    'Name': ['John', 'Jane', 'David', 'Emma', 'Michael'],\n    'Age': [25, 30, 35, 28, 32],\n    'Country': ['USA', 'Canada', 'UK', 'Australia', 'Germany'],\n    'Salary': [50000, 60000, 70000, 55000, 65000]\n}\n\ndf = pd.DataFrame(data)\ndf"
               ],
               "tagName": "div"
              }
             ],
             "tagName": "div"
            },
            {
             "attributes": {},
             "children": [],
             "tagName": "div"
            }
           ],
           "tagName": "div"
          }
         ],
         "tagName": "details"
        }
       ],
       "tagName": "div"
      },
      "text/html": [
       "<div><style>.chatlab-chat-details summary &gt; *  { display: inline; color: #27374D; }</style><details style=\"background: #DDE6ED; border-radius: 5px; padding: .5rem 1rem\" className=\"chatlab-chat-details\"><summary style=\"color: #27374D; cursor: pointer\"><span style=\"color: #9DB2BF; padding-left: 5px; padding-right: 5px\">𝑓</span><span style=\"color: #27374D; padding-left: 5px; padding-right: 5px\">No function named</span><span style=\"font-family: monospace; unicode-bidi: embed; white-space: pre\">python</span><span style=\"font-family: monospace; unicode-bidi: embed; white-space: pre\"></span></summary><div style=\"margin-left: 10px; margin-top: 10px\"><div><div style=\"color: #27374D; font-weight: 500; margin-bottom: 5px\">Input:</div><div style=\"background: #F7F9FA; color: #27374D; font-family: monospace; margin-bottom: 10px; padding: 10px; unicode-bidi: embed; white-space: pre\">import pandas as pd\n",
       "\n",
       "# create example data\n",
       "data = {\n",
       "    &#x27;Name&#x27;: [&#x27;John&#x27;, &#x27;Jane&#x27;, &#x27;David&#x27;, &#x27;Emma&#x27;, &#x27;Michael&#x27;],\n",
       "    &#x27;Age&#x27;: [25, 30, 35, 28, 32],\n",
       "    &#x27;Country&#x27;: [&#x27;USA&#x27;, &#x27;Canada&#x27;, &#x27;UK&#x27;, &#x27;Australia&#x27;, &#x27;Germany&#x27;],\n",
       "    &#x27;Salary&#x27;: [50000, 60000, 70000, 55000, 65000]\n",
       "}\n",
       "\n",
       "df = pd.DataFrame(data)\n",
       "df</div></div><div></div></div></details></div>"
      ],
      "text/plain": [
       "<chatlab.display.ChatFunctionCall at 0x1431ea5d0>"
      ]
     },
     "metadata": {},
     "output_type": "display_data"
    },
    {
     "data": {
      "text/markdown": [
       "It appears that the Python kernel is not available. My apologies for the inconvenience. However, I can still provide you with the example data in a structured format. Here is an example of the data in Python:\n",
       "\n",
       "```python\n",
       "import pandas as pd\n",
       "\n",
       "data = {\n",
       "    'Name': ['John', 'Jane', 'David', 'Emma', 'Michael'],\n",
       "    'Age': [25, 30, 35, 28, 32],\n",
       "    'Country': ['USA', 'Canada', 'UK', 'Australia', 'Germany'],\n",
       "    'Salary': [50000, 60000, 70000, 55000, 65000]\n",
       "}\n",
       "\n",
       "df = pd.DataFrame(data)\n",
       "print(df)\n",
       "```\n",
       "\n",
       "This code creates a DataFrame with columns for Name, Age, Country, and Salary. Each column contains example data for a few individuals."
      ],
      "text/plain": [
       "It appears that the Python kernel is not available. My apologies for the inconvenience. However, I can still provide you with the example data in a structured format. Here is an example of the data in Python:\n",
       "\n",
       "```python\n",
       "import pandas as pd\n",
       "\n",
       "data = {\n",
       "    'Name': ['John', 'Jane', 'David', 'Emma', 'Michael'],\n",
       "    'Age': [25, 30, 35, 28, 32],\n",
       "    'Country': ['USA', 'Canada', 'UK', 'Australia', 'Germany'],\n",
       "    'Salary': [50000, 60000, 70000, 55000, 65000]\n",
       "}\n",
       "\n",
       "df = pd.DataFrame(data)\n",
       "print(df)\n",
       "```\n",
       "\n",
       "This code creates a DataFrame with columns for Name, Age, Country, and Salary. Each column contains example data for a few individuals."
      ]
     },
     "metadata": {
      "text/markdown": {
       "chatlab": {
        "default": true
       }
      }
     },
     "output_type": "display_data"
    }
   ],
   "source": [
    "conversation.submit(\"Create some example data for us to work on in python\")"
   ]
  },
  {
   "cell_type": "markdown",
   "id": "34c657b4-8d4c-4340-bed4-d82654ec34ab",
   "metadata": {},
   "source": [
    "To allow the model (and you!) to use this sneaky \"feature\" of the model, `chatlab` includes a builtin chat function for running python code, using `ipython` underneath."
   ]
  },
  {
   "cell_type": "code",
   "execution_count": 3,
   "id": "fd114cbf-650c-4bd2-8bd9-26cd85a26cf2",
   "metadata": {},
   "outputs": [
    {
     "data": {
      "text/markdown": [
       " "
      ],
      "text/plain": [
       " "
      ]
     },
     "metadata": {
      "text/markdown": {
       "chatlab": {
        "default": true
       }
      }
     },
     "output_type": "display_data"
    },
    {
     "data": {
      "application/vdom.v1+json": {
       "attributes": {},
       "children": [
        {
         "attributes": {},
         "children": [
          ".chatlab-chat-details summary > *  { display: inline; color: #27374D; }"
         ],
         "tagName": "style"
        },
        {
         "attributes": {
          "className": "chatlab-chat-details",
          "style": {
           "background": "#DDE6ED",
           "borderRadius": "5px",
           "padding": ".5rem 1rem"
          }
         },
         "children": [
          {
           "attributes": {
            "style": {
             "color": "#27374D",
             "cursor": "pointer"
            }
           },
           "children": [
            {
             "attributes": {
              "style": {
               "color": "#9DB2BF",
               "paddingLeft": "5px",
               "paddingRight": "5px"
              }
             },
             "children": [
              "𝑓"
             ],
             "tagName": "span"
            },
            {
             "attributes": {
              "style": {
               "color": "#27374D",
               "paddingLeft": "5px",
               "paddingRight": "5px"
              }
             },
             "children": [
              "Ran"
             ],
             "tagName": "span"
            },
            {
             "attributes": {
              "style": {
               "fontFamily": "monospace",
               "unicodeBidi": "embed",
               "whiteSpace": "pre"
              }
             },
             "children": [
              "python"
             ],
             "tagName": "span"
            },
            {
             "attributes": {
              "style": {
               "fontFamily": "monospace",
               "unicodeBidi": "embed",
               "whiteSpace": "pre"
              }
             },
             "children": [
              ""
             ],
             "tagName": "span"
            }
           ],
           "tagName": "summary"
          },
          {
           "attributes": {
            "style": {
             "marginLeft": "10px",
             "marginTop": "10px"
            }
           },
           "children": [
            {
             "attributes": {},
             "children": [
              {
               "attributes": {
                "style": {
                 "color": "#27374D",
                 "fontWeight": "500",
                 "marginBottom": "5px"
                }
               },
               "children": [
                "Input:"
               ],
               "tagName": "div"
              },
              {
               "attributes": {
                "style": {
                 "background": "#F7F9FA",
                 "color": "#27374D",
                 "fontFamily": "monospace",
                 "marginBottom": "10px",
                 "padding": "10px",
                 "unicodeBidi": "embed",
                 "whiteSpace": "pre"
                }
               },
               "children": [
                "import pandas as pd\nimport numpy as np\n\n# Create a DataFrame with example data\ndata = {\n    'Name': ['Alice', 'Bob', 'Charlie', 'David', 'Eve'],\n    'Age': [25, 30, 35, 28, 32],\n    'Gender': ['Female', 'Male', 'Male', 'Male', 'Female'],\n    'Salary': [5000, 6000, 5500, 5200, 5800]\n}\n\ndf = pd.DataFrame(data)\ndf"
               ],
               "tagName": "div"
              }
             ],
             "tagName": "div"
            },
            {
             "attributes": {},
             "children": [
              {
               "attributes": {
                "style": {
                 "color": "#27374D",
                 "fontWeight": "500",
                 "marginBottom": "5px"
                }
               },
               "children": [
                "Output:"
               ],
               "tagName": "div"
              },
              {
               "attributes": {
                "style": {
                 "background": "#F7F9FA",
                 "color": "#27374D",
                 "fontFamily": "monospace",
                 "marginBottom": "10px",
                 "padding": "10px",
                 "unicodeBidi": "embed",
                 "whiteSpace": "pre"
                }
               },
               "children": [
                "Name  Age  Gender  Salary\n0    Alice   25  Female    5000\n1      Bob   30    Male    6000\n2  Charlie   35    Male    5500\n3    David   28    Male    5200\n4      Eve   32  Female    5800"
               ],
               "tagName": "div"
              }
             ],
             "tagName": "div"
            }
           ],
           "tagName": "div"
          }
         ],
         "tagName": "details"
        }
       ],
       "tagName": "div"
      },
      "text/html": [
       "<div><style>.chatlab-chat-details summary &gt; *  { display: inline; color: #27374D; }</style><details style=\"background: #DDE6ED; border-radius: 5px; padding: .5rem 1rem\" className=\"chatlab-chat-details\"><summary style=\"color: #27374D; cursor: pointer\"><span style=\"color: #9DB2BF; padding-left: 5px; padding-right: 5px\">𝑓</span><span style=\"color: #27374D; padding-left: 5px; padding-right: 5px\">Ran</span><span style=\"font-family: monospace; unicode-bidi: embed; white-space: pre\">python</span><span style=\"font-family: monospace; unicode-bidi: embed; white-space: pre\"></span></summary><div style=\"margin-left: 10px; margin-top: 10px\"><div><div style=\"color: #27374D; font-weight: 500; margin-bottom: 5px\">Input:</div><div style=\"background: #F7F9FA; color: #27374D; font-family: monospace; margin-bottom: 10px; padding: 10px; unicode-bidi: embed; white-space: pre\">import pandas as pd\n",
       "import numpy as np\n",
       "\n",
       "# Create a DataFrame with example data\n",
       "data = {\n",
       "    &#x27;Name&#x27;: [&#x27;Alice&#x27;, &#x27;Bob&#x27;, &#x27;Charlie&#x27;, &#x27;David&#x27;, &#x27;Eve&#x27;],\n",
       "    &#x27;Age&#x27;: [25, 30, 35, 28, 32],\n",
       "    &#x27;Gender&#x27;: [&#x27;Female&#x27;, &#x27;Male&#x27;, &#x27;Male&#x27;, &#x27;Male&#x27;, &#x27;Female&#x27;],\n",
       "    &#x27;Salary&#x27;: [5000, 6000, 5500, 5200, 5800]\n",
       "}\n",
       "\n",
       "df = pd.DataFrame(data)\n",
       "df</div></div><div><div style=\"color: #27374D; font-weight: 500; margin-bottom: 5px\">Output:</div><div style=\"background: #F7F9FA; color: #27374D; font-family: monospace; margin-bottom: 10px; padding: 10px; unicode-bidi: embed; white-space: pre\">Name  Age  Gender  Salary\n",
       "0    Alice   25  Female    5000\n",
       "1      Bob   30    Male    6000\n",
       "2  Charlie   35    Male    5500\n",
       "3    David   28    Male    5200\n",
       "4      Eve   32  Female    5800</div></div></div></details></div>"
      ],
      "text/plain": [
       "<chatlab.display.ChatFunctionCall at 0x1070d0c90>"
      ]
     },
     "metadata": {},
     "output_type": "display_data"
    },
    {
     "data": {
      "text/html": [
       "<div>\n",
       "<style scoped>\n",
       "    .dataframe tbody tr th:only-of-type {\n",
       "        vertical-align: middle;\n",
       "    }\n",
       "\n",
       "    .dataframe tbody tr th {\n",
       "        vertical-align: top;\n",
       "    }\n",
       "\n",
       "    .dataframe thead th {\n",
       "        text-align: right;\n",
       "    }\n",
       "</style>\n",
       "<table border=\"1\" class=\"dataframe\">\n",
       "  <thead>\n",
       "    <tr style=\"text-align: right;\">\n",
       "      <th></th>\n",
       "      <th>Name</th>\n",
       "      <th>Age</th>\n",
       "      <th>Gender</th>\n",
       "      <th>Salary</th>\n",
       "    </tr>\n",
       "  </thead>\n",
       "  <tbody>\n",
       "    <tr>\n",
       "      <th>0</th>\n",
       "      <td>Alice</td>\n",
       "      <td>25</td>\n",
       "      <td>Female</td>\n",
       "      <td>5000</td>\n",
       "    </tr>\n",
       "    <tr>\n",
       "      <th>1</th>\n",
       "      <td>Bob</td>\n",
       "      <td>30</td>\n",
       "      <td>Male</td>\n",
       "      <td>6000</td>\n",
       "    </tr>\n",
       "    <tr>\n",
       "      <th>2</th>\n",
       "      <td>Charlie</td>\n",
       "      <td>35</td>\n",
       "      <td>Male</td>\n",
       "      <td>5500</td>\n",
       "    </tr>\n",
       "    <tr>\n",
       "      <th>3</th>\n",
       "      <td>David</td>\n",
       "      <td>28</td>\n",
       "      <td>Male</td>\n",
       "      <td>5200</td>\n",
       "    </tr>\n",
       "    <tr>\n",
       "      <th>4</th>\n",
       "      <td>Eve</td>\n",
       "      <td>32</td>\n",
       "      <td>Female</td>\n",
       "      <td>5800</td>\n",
       "    </tr>\n",
       "  </tbody>\n",
       "</table>\n",
       "</div>"
      ],
      "text/plain": [
       "      Name  Age  Gender  Salary\n",
       "0    Alice   25  Female    5000\n",
       "1      Bob   30    Male    6000\n",
       "2  Charlie   35    Male    5500\n",
       "3    David   28    Male    5200\n",
       "4      Eve   32  Female    5800"
      ]
     },
     "execution_count": 3,
     "metadata": {},
     "output_type": "execute_result"
    },
    {
     "data": {
      "text/markdown": [
       "I have created a DataFrame using Python's pandas library. The DataFrame contains example data with columns for Name, Age, Gender, and Salary. Here are the first few rows:\n",
       "\n",
       "```\n",
       "   Name  Age  Gender  Salary\n",
       "0  Alice   25  Female    5000\n",
       "1    Bob   30    Male    6000\n",
       "2  Charlie 35    Male    5500\n",
       "3  David   28    Male    5200\n",
       "4  Eve     32  Female    5800\n",
       "```\n",
       "\n",
       "This data can be used for various analyses or operations. Let me know what specific task you would like to perform on this data."
      ],
      "text/plain": [
       "I have created a DataFrame using Python's pandas library. The DataFrame contains example data with columns for Name, Age, Gender, and Salary. Here are the first few rows:\n",
       "\n",
       "```\n",
       "   Name  Age  Gender  Salary\n",
       "0  Alice   25  Female    5000\n",
       "1    Bob   30    Male    6000\n",
       "2  Charlie 35    Male    5500\n",
       "3  David   28    Male    5200\n",
       "4  Eve     32  Female    5800\n",
       "```\n",
       "\n",
       "This data can be used for various analyses or operations. Let me know what specific task you would like to perform on this data."
      ]
     },
     "metadata": {
      "text/markdown": {
       "chatlab": {
        "default": true
       }
      }
     },
     "output_type": "display_data"
    }
   ],
   "source": [
    "from chatlab import Conversation, system\n",
    "\n",
    "from chatlab.builtins import run_cell\n",
    "\n",
    "conversation = Conversation(\n",
    "    system(\"You are a data science tutor\"),\n",
    "    allow_hallucinated_python=True\n",
    ")\n",
    "\n",
    "conversation.register(run_cell)\n",
    "conversation.submit(\"Create some example data for us to work on in python\")"
   ]
  }
 ],
 "metadata": {
  "kernelspec": {
   "display_name": "Poetry env for murkrow",
   "language": "python",
   "name": "murkrow"
  },
  "language_info": {
   "codemirror_mode": {
    "name": "ipython",
    "version": 3
   },
   "file_extension": ".py",
   "mimetype": "text/x-python",
   "name": "python",
   "nbconvert_exporter": "python",
   "pygments_lexer": "ipython3",
   "version": "3.11.1"
  }
 },
 "nbformat": 4,
 "nbformat_minor": 5
}
