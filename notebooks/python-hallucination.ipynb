{
 "cells": [
  {
   "cell_type": "markdown",
   "id": "5129461e-3484-4332-bec0-0b29278d70ef",
   "metadata": {},
   "source": [
    "# The `python` hallucination\n",
    "\n",
    "Sometimes ChatGPT will hallucinate a function endpoint called `python` when chat functions are enabled. We've all been there. Who doesn't dream in `python`?\n",
    "\n",
    "Even if you register a function to run code directly, like with `run_cell` below, the model will try to run `python` even though it's not in the functions the model was provided."
   ]
  },
  {
   "cell_type": "code",
   "execution_count": 1,
   "id": "856b3c0c-c965-42fd-8f56-97a53282ecde",
   "metadata": {},
   "outputs": [],
   "source": [
    "from murkrow import Conversation, system\n",
    "\n",
    "from murkrow.builtins import run_cell\n",
    "\n",
    "conversation = Conversation(\n",
    "    system(\"You are a data science tutor\")\n",
    ")\n",
    "\n",
    "# We register `run_cell` and yet `python` is run... without the JSON payload\n",
    "conversation.register(run_cell)"
   ]
  },
  {
   "cell_type": "code",
   "execution_count": 2,
   "id": "8e56b60e-4c7c-443f-b5df-de8239ff81c5",
   "metadata": {},
   "outputs": [
    {
     "data": {
      "text/markdown": [
       " "
      ],
      "text/plain": [
       " "
      ]
     },
     "metadata": {
      "text/markdown": {
       "murkrow": {
        "default": true
       }
      }
     },
     "output_type": "display_data"
    },
    {
     "data": {
      "application/vdom.v1+json": {
       "attributes": {},
       "children": [
        {
         "attributes": {},
         "children": [
          ".murkrow-chat-details summary > *  { display: inline; color: #27374D; }"
         ],
         "tagName": "style"
        },
        {
         "attributes": {
          "className": "murkrow-chat-details",
          "style": {
           "background": "#DDE6ED",
           "borderRadius": "5px",
           "padding": ".5rem 1rem"
          }
         },
         "children": [
          {
           "attributes": {
            "style": {
             "color": "#27374D",
             "cursor": "pointer"
            }
           },
           "children": [
            {
             "attributes": {
              "style": {
               "color": "#9DB2BF",
               "paddingLeft": "5px",
               "paddingRight": "5px"
              }
             },
             "children": [
              "𝑓"
             ],
             "tagName": "span"
            },
            {
             "attributes": {
              "style": {
               "color": "#27374D",
               "paddingLeft": "5px",
               "paddingRight": "5px"
              }
             },
             "children": [
              "No function named"
             ],
             "tagName": "span"
            },
            {
             "attributes": {
              "style": {
               "fontFamily": "monospace",
               "unicodeBidi": "embed",
               "whiteSpace": "pre"
              }
             },
             "children": [
              "python"
             ],
             "tagName": "span"
            },
            {
             "attributes": {
              "style": {
               "fontFamily": "monospace",
               "unicodeBidi": "embed",
               "whiteSpace": "pre"
              }
             },
             "children": [
              ""
             ],
             "tagName": "span"
            }
           ],
           "tagName": "summary"
          },
          {
           "attributes": {
            "style": {
             "marginLeft": "10px",
             "marginTop": "10px"
            }
           },
           "children": [
            {
             "attributes": {},
             "children": [
              {
               "attributes": {
                "style": {
                 "color": "#27374D",
                 "fontWeight": "500",
                 "marginBottom": "5px"
                }
               },
               "children": [
                "Input:"
               ],
               "tagName": "div"
              },
              {
               "attributes": {
                "style": {
                 "background": "#F7F9FA",
                 "color": "#27374D",
                 "fontFamily": "monospace",
                 "marginBottom": "10px",
                 "padding": "10px",
                 "unicodeBidi": "embed",
                 "whiteSpace": "pre"
                }
               },
               "children": [
                "import pandas as pd\n\n# create a data frame\ndata = {'Name': ['John', 'Jane', 'Steve', 'Emily'],\n        'Age': [25, 30, 35, 28],\n        'City': ['New York', 'London', 'Paris', 'Tokyo']}\ndf = pd.DataFrame(data)\n\ndf"
               ],
               "tagName": "div"
              }
             ],
             "tagName": "div"
            },
            {
             "attributes": {},
             "children": [],
             "tagName": "div"
            }
           ],
           "tagName": "div"
          }
         ],
         "tagName": "details"
        }
       ],
       "tagName": "div"
      },
      "text/html": [
       "<div><style>.murkrow-chat-details summary &gt; *  { display: inline; color: #27374D; }</style><details style=\"background: #DDE6ED; border-radius: 5px; padding: .5rem 1rem\" className=\"murkrow-chat-details\"><summary style=\"color: #27374D; cursor: pointer\"><span style=\"color: #9DB2BF; padding-left: 5px; padding-right: 5px\">𝑓</span><span style=\"color: #27374D; padding-left: 5px; padding-right: 5px\">No function named</span><span style=\"font-family: monospace; unicode-bidi: embed; white-space: pre\">python</span><span style=\"font-family: monospace; unicode-bidi: embed; white-space: pre\"></span></summary><div style=\"margin-left: 10px; margin-top: 10px\"><div><div style=\"color: #27374D; font-weight: 500; margin-bottom: 5px\">Input:</div><div style=\"background: #F7F9FA; color: #27374D; font-family: monospace; margin-bottom: 10px; padding: 10px; unicode-bidi: embed; white-space: pre\">import pandas as pd\n",
       "\n",
       "# create a data frame\n",
       "data = {&#x27;Name&#x27;: [&#x27;John&#x27;, &#x27;Jane&#x27;, &#x27;Steve&#x27;, &#x27;Emily&#x27;],\n",
       "        &#x27;Age&#x27;: [25, 30, 35, 28],\n",
       "        &#x27;City&#x27;: [&#x27;New York&#x27;, &#x27;London&#x27;, &#x27;Paris&#x27;, &#x27;Tokyo&#x27;]}\n",
       "df = pd.DataFrame(data)\n",
       "\n",
       "df</div></div><div></div></div></details></div>"
      ],
      "text/plain": [
       "<murkrow.display.ChatFunctionCall at 0x127829790>"
      ]
     },
     "metadata": {},
     "output_type": "display_data"
    },
    {
     "data": {
      "text/markdown": [
       "Apologies, it seems that the Python function is not available in the function registry. However, I can provide you with the Python code to create the example data:\n",
       "\n",
       "```python\n",
       "import pandas as pd\n",
       "\n",
       "# create a data frame\n",
       "data = {'Name': ['John', 'Jane', 'Steve', 'Emily'],\n",
       "        'Age': [25, 30, 35, 28],\n",
       "        'City': ['New York', 'London', 'Paris', 'Tokyo']}\n",
       "df = pd.DataFrame(data)\n",
       "\n",
       "df\n",
       "```\n",
       "\n",
       "You can copy and execute this code in a Python environment or Jupyter notebook to get the desired output."
      ],
      "text/plain": [
       "Apologies, it seems that the Python function is not available in the function registry. However, I can provide you with the Python code to create the example data:\n",
       "\n",
       "```python\n",
       "import pandas as pd\n",
       "\n",
       "# create a data frame\n",
       "data = {'Name': ['John', 'Jane', 'Steve', 'Emily'],\n",
       "        'Age': [25, 30, 35, 28],\n",
       "        'City': ['New York', 'London', 'Paris', 'Tokyo']}\n",
       "df = pd.DataFrame(data)\n",
       "\n",
       "df\n",
       "```\n",
       "\n",
       "You can copy and execute this code in a Python environment or Jupyter notebook to get the desired output."
      ]
     },
     "metadata": {
      "text/markdown": {
       "murkrow": {
        "default": true
       }
      }
     },
     "output_type": "display_data"
    }
   ],
   "source": [
    "conversation.submit(\"Create some example data for us to work on in python\")"
   ]
  },
  {
   "cell_type": "markdown",
   "id": "34c657b4-8d4c-4340-bed4-d82654ec34ab",
   "metadata": {},
   "source": [
    "To allow the model (and you!) to use this sneaky \"feature\" of the model, `murkrow` includes a builtin chat function for running python code, using `ipython` underneath."
   ]
  },
  {
   "cell_type": "code",
   "execution_count": 3,
   "id": "fd114cbf-650c-4bd2-8bd9-26cd85a26cf2",
   "metadata": {},
   "outputs": [
    {
     "data": {
      "text/markdown": [
       " "
      ],
      "text/plain": [
       " "
      ]
     },
     "metadata": {
      "text/markdown": {
       "murkrow": {
        "default": true
       }
      }
     },
     "output_type": "display_data"
    },
    {
     "data": {
      "application/vdom.v1+json": {
       "attributes": {},
       "children": [
        {
         "attributes": {},
         "children": [
          ".murkrow-chat-details summary > *  { display: inline; color: #27374D; }"
         ],
         "tagName": "style"
        },
        {
         "attributes": {
          "className": "murkrow-chat-details",
          "style": {
           "background": "#DDE6ED",
           "borderRadius": "5px",
           "padding": ".5rem 1rem"
          }
         },
         "children": [
          {
           "attributes": {
            "style": {
             "color": "#27374D",
             "cursor": "pointer"
            }
           },
           "children": [
            {
             "attributes": {
              "style": {
               "color": "#9DB2BF",
               "paddingLeft": "5px",
               "paddingRight": "5px"
              }
             },
             "children": [
              "𝑓"
             ],
             "tagName": "span"
            },
            {
             "attributes": {
              "style": {
               "color": "#27374D",
               "paddingLeft": "5px",
               "paddingRight": "5px"
              }
             },
             "children": [
              "Finished"
             ],
             "tagName": "span"
            },
            {
             "attributes": {
              "style": {
               "fontFamily": "monospace",
               "unicodeBidi": "embed",
               "whiteSpace": "pre"
              }
             },
             "children": [
              "python"
             ],
             "tagName": "span"
            },
            {
             "attributes": {
              "style": {
               "fontFamily": "monospace",
               "unicodeBidi": "embed",
               "whiteSpace": "pre"
              }
             },
             "children": [
              ""
             ],
             "tagName": "span"
            }
           ],
           "tagName": "summary"
          },
          {
           "attributes": {
            "style": {
             "marginLeft": "10px",
             "marginTop": "10px"
            }
           },
           "children": [
            {
             "attributes": {},
             "children": [
              {
               "attributes": {
                "style": {
                 "color": "#27374D",
                 "fontWeight": "500",
                 "marginBottom": "5px"
                }
               },
               "children": [
                "Input:"
               ],
               "tagName": "div"
              },
              {
               "attributes": {
                "style": {
                 "background": "#F7F9FA",
                 "color": "#27374D",
                 "fontFamily": "monospace",
                 "marginBottom": "10px",
                 "padding": "10px",
                 "unicodeBidi": "embed",
                 "whiteSpace": "pre"
                }
               },
               "children": [
                "import pandas as pd\nimport numpy as np\n\n# Create example data\ndata = {\n    'Name': ['John', 'Emma', 'David', 'Sophia', 'Michael'],\n    'Age': [25, 30, 28, 32, 27],\n    'Gender': ['Male', 'Female', 'Male', 'Female', 'Male'],\n    'Salary': [50000, 60000, 55000, 70000, 52000],\n    'Country': ['USA', 'Canada', 'USA', 'USA', 'Canada'],\n    'Education': ['Bachelor', 'Master', 'Master', 'PhD', 'Bachelor']\n}\n\ndf = pd.DataFrame(data)\ndf"
               ],
               "tagName": "div"
              }
             ],
             "tagName": "div"
            },
            {
             "attributes": {},
             "children": [
              {
               "attributes": {
                "style": {
                 "color": "#27374D",
                 "fontWeight": "500",
                 "marginBottom": "5px"
                }
               },
               "children": [
                "Output:"
               ],
               "tagName": "div"
              },
              {
               "attributes": {
                "style": {
                 "background": "#F7F9FA",
                 "color": "#27374D",
                 "fontFamily": "monospace",
                 "marginBottom": "10px",
                 "padding": "10px",
                 "unicodeBidi": "embed",
                 "whiteSpace": "pre"
                }
               },
               "children": [
                "None"
               ],
               "tagName": "div"
              }
             ],
             "tagName": "div"
            }
           ],
           "tagName": "div"
          }
         ],
         "tagName": "details"
        }
       ],
       "tagName": "div"
      },
      "text/html": [
       "<div><style>.murkrow-chat-details summary &gt; *  { display: inline; color: #27374D; }</style><details style=\"background: #DDE6ED; border-radius: 5px; padding: .5rem 1rem\" className=\"murkrow-chat-details\"><summary style=\"color: #27374D; cursor: pointer\"><span style=\"color: #9DB2BF; padding-left: 5px; padding-right: 5px\">𝑓</span><span style=\"color: #27374D; padding-left: 5px; padding-right: 5px\">Finished</span><span style=\"font-family: monospace; unicode-bidi: embed; white-space: pre\">python</span><span style=\"font-family: monospace; unicode-bidi: embed; white-space: pre\"></span></summary><div style=\"margin-left: 10px; margin-top: 10px\"><div><div style=\"color: #27374D; font-weight: 500; margin-bottom: 5px\">Input:</div><div style=\"background: #F7F9FA; color: #27374D; font-family: monospace; margin-bottom: 10px; padding: 10px; unicode-bidi: embed; white-space: pre\">import pandas as pd\n",
       "import numpy as np\n",
       "\n",
       "# Create example data\n",
       "data = {\n",
       "    &#x27;Name&#x27;: [&#x27;John&#x27;, &#x27;Emma&#x27;, &#x27;David&#x27;, &#x27;Sophia&#x27;, &#x27;Michael&#x27;],\n",
       "    &#x27;Age&#x27;: [25, 30, 28, 32, 27],\n",
       "    &#x27;Gender&#x27;: [&#x27;Male&#x27;, &#x27;Female&#x27;, &#x27;Male&#x27;, &#x27;Female&#x27;, &#x27;Male&#x27;],\n",
       "    &#x27;Salary&#x27;: [50000, 60000, 55000, 70000, 52000],\n",
       "    &#x27;Country&#x27;: [&#x27;USA&#x27;, &#x27;Canada&#x27;, &#x27;USA&#x27;, &#x27;USA&#x27;, &#x27;Canada&#x27;],\n",
       "    &#x27;Education&#x27;: [&#x27;Bachelor&#x27;, &#x27;Master&#x27;, &#x27;Master&#x27;, &#x27;PhD&#x27;, &#x27;Bachelor&#x27;]\n",
       "}\n",
       "\n",
       "df = pd.DataFrame(data)\n",
       "df</div></div><div><div style=\"color: #27374D; font-weight: 500; margin-bottom: 5px\">Output:</div><div style=\"background: #F7F9FA; color: #27374D; font-family: monospace; margin-bottom: 10px; padding: 10px; unicode-bidi: embed; white-space: pre\">None</div></div></div></details></div>"
      ],
      "text/plain": [
       "<murkrow.display.ChatFunctionCall at 0x12782b290>"
      ]
     },
     "metadata": {},
     "output_type": "display_data"
    },
    {
     "data": {
      "text/markdown": [
       "I have created a sample dataframe with the following columns: 'Name', 'Age', 'Gender', 'Salary', 'Country', and 'Education'. Here is the example data:\n",
       "\n",
       "| Name    | Age | Gender | Salary | Country | Education |\n",
       "|---------|-----|--------|--------|---------|-----------|\n",
       "| John    | 25  | Male   | 50000  | USA     | Bachelor  |\n",
       "| Emma    | 30  | Female | 60000  | Canada  | Master    |\n",
       "| David   | 28  | Male   | 55000  | USA     | Master    |\n",
       "| Sophia  | 32  | Female | 70000  | USA     | PhD       |\n",
       "| Michael | 27  | Male   | 52000  | Canada  | Bachelor  |\n"
      ],
      "text/plain": [
       "I have created a sample dataframe with the following columns: 'Name', 'Age', 'Gender', 'Salary', 'Country', and 'Education'. Here is the example data:\n",
       "\n",
       "| Name    | Age | Gender | Salary | Country | Education |\n",
       "|---------|-----|--------|--------|---------|-----------|\n",
       "| John    | 25  | Male   | 50000  | USA     | Bachelor  |\n",
       "| Emma    | 30  | Female | 60000  | Canada  | Master    |\n",
       "| David   | 28  | Male   | 55000  | USA     | Master    |\n",
       "| Sophia  | 32  | Female | 70000  | USA     | PhD       |\n",
       "| Michael | 27  | Male   | 52000  | Canada  | Bachelor  |"
      ]
     },
     "metadata": {
      "text/markdown": {
       "murkrow": {
        "default": true
       }
      }
     },
     "output_type": "display_data"
    }
   ],
   "source": [
    "from murkrow import Conversation, system\n",
    "\n",
    "from murkrow.builtins import run_cell\n",
    "\n",
    "conversation = Conversation(\n",
    "    system(\"You are a data science tutor\"),\n",
    "    allow_hallucinated_python=True\n",
    ")\n",
    "\n",
    "conversation.register(run_cell)\n",
    "conversation.submit(\"Create some example data for us to work on in python\")"
   ]
  }
 ],
 "metadata": {
  "kernelspec": {
   "display_name": "Poetry env for murkrow",
   "language": "python",
   "name": "murkrow"
  },
  "language_info": {
   "codemirror_mode": {
    "name": "ipython",
    "version": 3
   },
   "file_extension": ".py",
   "mimetype": "text/x-python",
   "name": "python",
   "nbconvert_exporter": "python",
   "pygments_lexer": "ipython3",
   "version": "3.11.1"
  }
 },
 "nbformat": 4,
 "nbformat_minor": 5
}
