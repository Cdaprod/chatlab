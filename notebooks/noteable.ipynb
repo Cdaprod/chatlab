{
 "cells": [
  {
   "cell_type": "markdown",
   "metadata": {},
   "source": [
    "## Noteable Plugin\n",
    "\n",
    "```bash\n",
    "pip install chatlab[noteable]\n",
    "```\n",
    "\n",
    "ChatLab can optionally be installed with a Noteable `NotebookClient`. Using this, you can re-create the Noteable Plugin experience in your own Jupyter Notebook environment. The `NotebookClient` allows you to pass only the functionsw you want, allowing you to tailor how the LLM responds. There's also a significant speed improvement over the Noteable Plugin because:\n",
    "\n",
    "- The `NotebookClient` maintains a copy of the realtime notebook, allowing for faster cell creation and retrieval\n",
    "- The one notebook per conversation model allows for faster LLM operations since it doesn't have to \"type out\" file IDs and project IDs continuously\n",
    "\n",
    "You can even use this to create your own isolated version of the code interpreter. It's up to you to mix and match the functions you want to expose to the LLM.\n"
   ]
  },
  {
   "cell_type": "code",
   "execution_count": 14,
   "metadata": {},
   "outputs": [],
   "source": [
    "from chatlab import models, Chat, FunctionRegistry, system\n",
    "from chatlab.builtins.noteable import NotebookClient"
   ]
  },
  {
   "cell_type": "markdown",
   "metadata": {},
   "source": [
    "In order to get the closest experience to the plugin, we'll grab the \"plugin prompt\" that comes in the Noteable manifest for the ChatGPT Plugin. We can then provide this in a `system` prompt for the model.\n"
   ]
  },
  {
   "cell_type": "code",
   "execution_count": 15,
   "metadata": {},
   "outputs": [
    {
     "name": "stdout",
     "output_type": "stream",
     "text": [
      "On https://app.noteable.io, create and run Jupyter notebooks with code, markdown, and SQL...\n"
     ]
    }
   ],
   "source": [
    "import requests\n",
    "\n",
    "plugin_prompt = requests.get(\"https://chat.noteable.io/.well-known/ai-plugin.json\").json()['description_for_model']\n",
    "\n",
    "print(plugin_prompt[:90].strip() + \"...\")"
   ]
  },
  {
   "cell_type": "code",
   "execution_count": 16,
   "metadata": {},
   "outputs": [
    {
     "data": {
      "text/plain": [
       "{'name': 'create_notebook',\n",
       " 'description': 'Create a notebook to use in this conversation',\n",
       " 'parameters': {'type': 'object',\n",
       "  'properties': {'file_name': {'type': 'string'}},\n",
       "  'required': ['file_name']}}"
      ]
     },
     "execution_count": 16,
     "metadata": {},
     "output_type": "execute_result"
    }
   ],
   "source": [
    "import os\n",
    "\n",
    "registry = FunctionRegistry()\n",
    "\n",
    "\n",
    "async def create_notebook(file_name: str):\n",
    "    \"\"\"Create a notebook to use in this conversation\"\"\"\n",
    "    nc = await NotebookClient.create(file_name=file_name, token=os.environ.get(\"NOTEABLE_TOKEN\"))\n",
    "\n",
    "    # Register all the regular notebook operations\n",
    "    registry.register_functions(nc.chat_functions)\n",
    "    # Let the model do `python` (which creates and runs a cell)\n",
    "    registry.python_hallucination_function = nc.python\n",
    "\n",
    "    return f\"Notebook created at {nc.notebook_url}\"\n",
    "\n",
    "\n",
    "registry.register(create_notebook)"
   ]
  },
  {
   "cell_type": "code",
   "execution_count": 17,
   "metadata": {},
   "outputs": [],
   "source": [
    "chat = Chat(system(plugin_prompt), model=models.GPT_3_5_TURBO_16K_0613, function_registry=registry)"
   ]
  },
  {
   "cell_type": "code",
   "execution_count": 18,
   "metadata": {},
   "outputs": [
    {
     "data": {
      "application/vdom.v1+json": {
       "attributes": {},
       "children": [
        {
         "attributes": {},
         "children": [
          ".chatlab-chat-details summary > *  { display: inline; color: #27374D; }"
         ],
         "tagName": "style"
        },
        {
         "attributes": {
          "className": "chatlab-chat-details",
          "style": {
           "background": "#DDE6ED",
           "borderRadius": "5px",
           "padding": ".5rem 1rem"
          }
         },
         "children": [
          {
           "attributes": {
            "style": {
             "color": "#27374D",
             "cursor": "pointer"
            }
           },
           "children": [
            {
             "attributes": {
              "style": {
               "color": "#9DB2BF",
               "paddingLeft": "5px",
               "paddingRight": "5px"
              }
             },
             "children": [
              "𝑓"
             ],
             "tagName": "span"
            },
            {
             "attributes": {
              "style": {
               "color": "#27374D",
               "paddingLeft": "5px",
               "paddingRight": "5px"
              }
             },
             "children": [
              "Ran"
             ],
             "tagName": "span"
            },
            {
             "attributes": {
              "style": {
               "fontFamily": "monospace",
               "unicodeBidi": "embed",
               "whiteSpace": "pre"
              }
             },
             "children": [
              "create_notebook"
             ],
             "tagName": "span"
            },
            {
             "attributes": {
              "style": {
               "fontFamily": "monospace",
               "unicodeBidi": "embed",
               "whiteSpace": "pre"
              }
             },
             "children": [
              ""
             ],
             "tagName": "span"
            }
           ],
           "tagName": "summary"
          },
          {
           "attributes": {
            "style": {
             "marginLeft": "10px",
             "marginTop": "10px"
            }
           },
           "children": [
            {
             "attributes": {},
             "children": [
              {
               "attributes": {
                "style": {
                 "color": "#27374D",
                 "fontWeight": "500",
                 "marginBottom": "5px"
                }
               },
               "children": [
                "Input:"
               ],
               "tagName": "div"
              },
              {
               "attributes": {
                "style": {
                 "background": "#F7F9FA",
                 "color": "#27374D",
                 "fontFamily": "monospace",
                 "marginBottom": "10px",
                 "overflowX": "auto",
                 "padding": "10px",
                 "unicodeBidi": "embed",
                 "whiteSpace": "pre"
                }
               },
               "children": [
                "{\n  \"file_name\": \"Berkeley_311_Analysis.ipynb\"\n}"
               ],
               "tagName": "div"
              }
             ],
             "tagName": "div"
            },
            {
             "attributes": {},
             "children": [
              {
               "attributes": {
                "style": {
                 "color": "#27374D",
                 "fontWeight": "500",
                 "marginBottom": "5px"
                }
               },
               "children": [
                "Output:"
               ],
               "tagName": "div"
              },
              {
               "attributes": {
                "style": {
                 "background": "#F7F9FA",
                 "color": "#27374D",
                 "fontFamily": "monospace",
                 "marginBottom": "10px",
                 "overflowX": "auto",
                 "padding": "10px",
                 "unicodeBidi": "embed",
                 "whiteSpace": "pre"
                }
               },
               "children": [
                "Notebook created at https://app.noteable.io/f/e59108a5-344f-45a3-af90-c40d964db9e9"
               ],
               "tagName": "div"
              }
             ],
             "tagName": "div"
            }
           ],
           "tagName": "div"
          }
         ],
         "tagName": "details"
        }
       ],
       "tagName": "div"
      },
      "text/html": [
       "<div><style>.chatlab-chat-details summary &gt; *  { display: inline; color: #27374D; }</style><details style=\"background: #DDE6ED; border-radius: 5px; padding: .5rem 1rem\" className=\"chatlab-chat-details\"><summary style=\"color: #27374D; cursor: pointer\"><span style=\"color: #9DB2BF; padding-left: 5px; padding-right: 5px\">𝑓</span><span style=\"color: #27374D; padding-left: 5px; padding-right: 5px\">Ran</span><span style=\"font-family: monospace; unicode-bidi: embed; white-space: pre\">create_notebook</span><span style=\"font-family: monospace; unicode-bidi: embed; white-space: pre\"></span></summary><div style=\"margin-left: 10px; margin-top: 10px\"><div><div style=\"color: #27374D; font-weight: 500; margin-bottom: 5px\">Input:</div><div style=\"background: #F7F9FA; color: #27374D; font-family: monospace; margin-bottom: 10px; overflow-x: auto; padding: 10px; unicode-bidi: embed; white-space: pre\">{\n",
       "  &quot;file_name&quot;: &quot;Berkeley_311_Analysis.ipynb&quot;\n",
       "}</div></div><div><div style=\"color: #27374D; font-weight: 500; margin-bottom: 5px\">Output:</div><div style=\"background: #F7F9FA; color: #27374D; font-family: monospace; margin-bottom: 10px; overflow-x: auto; padding: 10px; unicode-bidi: embed; white-space: pre\">Notebook created at https://app.noteable.io/f/e59108a5-344f-45a3-af90-c40d964db9e9</div></div></div></details></div>"
      ],
      "text/plain": [
       "<chatlab.display.ChatFunctionCall at 0x136346050>"
      ]
     },
     "metadata": {},
     "output_type": "display_data"
    },
    {
     "data": {
      "application/vdom.v1+json": {
       "attributes": {},
       "children": [
        {
         "attributes": {},
         "children": [
          ".chatlab-chat-details summary > *  { display: inline; color: #27374D; }"
         ],
         "tagName": "style"
        },
        {
         "attributes": {
          "className": "chatlab-chat-details",
          "style": {
           "background": "#DDE6ED",
           "borderRadius": "5px",
           "padding": ".5rem 1rem"
          }
         },
         "children": [
          {
           "attributes": {
            "style": {
             "color": "#27374D",
             "cursor": "pointer"
            }
           },
           "children": [
            {
             "attributes": {
              "style": {
               "color": "#9DB2BF",
               "paddingLeft": "5px",
               "paddingRight": "5px"
              }
             },
             "children": [
              "𝑓"
             ],
             "tagName": "span"
            },
            {
             "attributes": {
              "style": {
               "color": "#27374D",
               "paddingLeft": "5px",
               "paddingRight": "5px"
              }
             },
             "children": [
              "Ran"
             ],
             "tagName": "span"
            },
            {
             "attributes": {
              "style": {
               "fontFamily": "monospace",
               "unicodeBidi": "embed",
               "whiteSpace": "pre"
              }
             },
             "children": [
              "create_cell"
             ],
             "tagName": "span"
            },
            {
             "attributes": {
              "style": {
               "fontFamily": "monospace",
               "unicodeBidi": "embed",
               "whiteSpace": "pre"
              }
             },
             "children": [
              ""
             ],
             "tagName": "span"
            }
           ],
           "tagName": "summary"
          },
          {
           "attributes": {
            "style": {
             "marginLeft": "10px",
             "marginTop": "10px"
            }
           },
           "children": [
            {
             "attributes": {},
             "children": [
              {
               "attributes": {
                "style": {
                 "color": "#27374D",
                 "fontWeight": "500",
                 "marginBottom": "5px"
                }
               },
               "children": [
                "Input:"
               ],
               "tagName": "div"
              },
              {
               "attributes": {
                "style": {
                 "background": "#F7F9FA",
                 "color": "#27374D",
                 "fontFamily": "monospace",
                 "marginBottom": "10px",
                 "overflowX": "auto",
                 "padding": "10px",
                 "unicodeBidi": "embed",
                 "whiteSpace": "pre"
                }
               },
               "children": [
                "{\n  \"source\": \"# Importing necessary libraries\\nimport requests\\nimport pandas as pd\\nimport matplotlib.pyplot as plt\\n%matplotlib inline\"\n}"
               ],
               "tagName": "div"
              }
             ],
             "tagName": "div"
            },
            {
             "attributes": {},
             "children": [
              {
               "attributes": {
                "style": {
                 "color": "#27374D",
                 "fontWeight": "500",
                 "marginBottom": "5px"
                }
               },
               "children": [
                "Output:"
               ],
               "tagName": "div"
              },
              {
               "attributes": {
                "style": {
                 "background": "#F7F9FA",
                 "color": "#27374D",
                 "fontFamily": "monospace",
                 "marginBottom": "10px",
                 "overflowX": "auto",
                 "padding": "10px",
                 "unicodeBidi": "embed",
                 "whiteSpace": "pre"
                }
               },
               "children": [
                "No output."
               ],
               "tagName": "div"
              }
             ],
             "tagName": "div"
            }
           ],
           "tagName": "div"
          }
         ],
         "tagName": "details"
        }
       ],
       "tagName": "div"
      },
      "text/html": [
       "<div><style>.chatlab-chat-details summary &gt; *  { display: inline; color: #27374D; }</style><details style=\"background: #DDE6ED; border-radius: 5px; padding: .5rem 1rem\" className=\"chatlab-chat-details\"><summary style=\"color: #27374D; cursor: pointer\"><span style=\"color: #9DB2BF; padding-left: 5px; padding-right: 5px\">𝑓</span><span style=\"color: #27374D; padding-left: 5px; padding-right: 5px\">Ran</span><span style=\"font-family: monospace; unicode-bidi: embed; white-space: pre\">create_cell</span><span style=\"font-family: monospace; unicode-bidi: embed; white-space: pre\"></span></summary><div style=\"margin-left: 10px; margin-top: 10px\"><div><div style=\"color: #27374D; font-weight: 500; margin-bottom: 5px\">Input:</div><div style=\"background: #F7F9FA; color: #27374D; font-family: monospace; margin-bottom: 10px; overflow-x: auto; padding: 10px; unicode-bidi: embed; white-space: pre\">{\n",
       "  &quot;source&quot;: &quot;# Importing necessary libraries\\nimport requests\\nimport pandas as pd\\nimport matplotlib.pyplot as plt\\n%matplotlib inline&quot;\n",
       "}</div></div><div><div style=\"color: #27374D; font-weight: 500; margin-bottom: 5px\">Output:</div><div style=\"background: #F7F9FA; color: #27374D; font-family: monospace; margin-bottom: 10px; overflow-x: auto; padding: 10px; unicode-bidi: embed; white-space: pre\">No output.</div></div></div></details></div>"
      ],
      "text/plain": [
       "<chatlab.display.ChatFunctionCall at 0x1363c8990>"
      ]
     },
     "metadata": {},
     "output_type": "display_data"
    },
    {
     "name": "stderr",
     "output_type": "stream",
     "text": [
      "Received un-modeled RTU message msg.channel='kernels/notebook-kernel-e59108a5344f45a3af90' msg.event='variable_explorer_update_request'\n"
     ]
    },
    {
     "data": {
      "application/vdom.v1+json": {
       "attributes": {},
       "children": [
        {
         "attributes": {},
         "children": [
          ".chatlab-chat-details summary > *  { display: inline; color: #27374D; }"
         ],
         "tagName": "style"
        },
        {
         "attributes": {
          "className": "chatlab-chat-details",
          "style": {
           "background": "#DDE6ED",
           "borderRadius": "5px",
           "padding": ".5rem 1rem"
          }
         },
         "children": [
          {
           "attributes": {
            "style": {
             "color": "#27374D",
             "cursor": "pointer"
            }
           },
           "children": [
            {
             "attributes": {
              "style": {
               "color": "#9DB2BF",
               "paddingLeft": "5px",
               "paddingRight": "5px"
              }
             },
             "children": [
              "𝑓"
             ],
             "tagName": "span"
            },
            {
             "attributes": {
              "style": {
               "color": "#27374D",
               "paddingLeft": "5px",
               "paddingRight": "5px"
              }
             },
             "children": [
              "Ran"
             ],
             "tagName": "span"
            },
            {
             "attributes": {
              "style": {
               "fontFamily": "monospace",
               "unicodeBidi": "embed",
               "whiteSpace": "pre"
              }
             },
             "children": [
              "create_cell"
             ],
             "tagName": "span"
            },
            {
             "attributes": {
              "style": {
               "fontFamily": "monospace",
               "unicodeBidi": "embed",
               "whiteSpace": "pre"
              }
             },
             "children": [
              ""
             ],
             "tagName": "span"
            }
           ],
           "tagName": "summary"
          },
          {
           "attributes": {
            "style": {
             "marginLeft": "10px",
             "marginTop": "10px"
            }
           },
           "children": [
            {
             "attributes": {},
             "children": [
              {
               "attributes": {
                "style": {
                 "color": "#27374D",
                 "fontWeight": "500",
                 "marginBottom": "5px"
                }
               },
               "children": [
                "Input:"
               ],
               "tagName": "div"
              },
              {
               "attributes": {
                "style": {
                 "background": "#F7F9FA",
                 "color": "#27374D",
                 "fontFamily": "monospace",
                 "marginBottom": "10px",
                 "overflowX": "auto",
                 "padding": "10px",
                 "unicodeBidi": "embed",
                 "whiteSpace": "pre"
                }
               },
               "children": [
                "{\n  \"source\": \"# Fetching the Berkeley 311 calls data\\nurl = 'https://data.cityofberkeley.info/resource/bscu-qpbu.json'\\nresponse = requests.get(url)\\ndata = response.json()\\n\\ndf = pd.DataFrame(data)\\ndf.head()\"\n}"
               ],
               "tagName": "div"
              }
             ],
             "tagName": "div"
            },
            {
             "attributes": {},
             "children": [
              {
               "attributes": {
                "style": {
                 "color": "#27374D",
                 "fontWeight": "500",
                 "marginBottom": "5px"
                }
               },
               "children": [
                "Output:"
               ],
               "tagName": "div"
              },
              {
               "attributes": {
                "style": {
                 "background": "#F7F9FA",
                 "color": "#27374D",
                 "fontFamily": "monospace",
                 "marginBottom": "10px",
                 "overflowX": "auto",
                 "padding": "10px",
                 "unicodeBidi": "embed",
                 "whiteSpace": "pre"
                }
               },
               "children": [
                "Out:\n## Dataframe Summary\n\nNumber of Rows: 5\n\nNumber of Columns: 23\n\n### Column Information\n\n|    | Column Name                 | Data Type   |   Missing Values |   % Missing |\n|----|-----------------------------|-------------|------------------|-------------|\n|  0 | case_id                     | object      |                0 |           0 |\n|  1 | date_opened                 | object      |                0 |           0 |\n|  2 | case_status                 | object      |                0 |           0 |\n|  3 | date_closed                 | object      |                1 |          20 |\n|  4 | request_category            | object      |                0 |           0 |\n|  5 | request_subcategory         | object      |                0 |           0 |\n|  6 | request_detail              | object      |                0 |           0 |\n|  7 | object_type                 | object      |                0 |           0 |\n|  8 | street_address              | object      |                2 |          40 |\n|  9 | city                        | object      |                0 |           0 |\n| 10 | state                       | object      |                0 |           0 |\n| 11 | neighborhood                | object      |                0 |           0 |\n| 12 | apn                         | object      |                3 |          60 |\n| 13 | latitude                    | object      |                3 |          60 |\n| 14 | longitude                   | object      |                3 |          60 |\n| 15 | location                    | object      |                3 |          60 |\n| 16 | :@computed_region_b3wi_w8ix | object      |                3 |          60 |\n| 17 | :@computed_region_fhmw_rucx | object      |                3 |          60 |\n| 18 | :@computed_region_u3y2_d2ws | object      |                3 |          60 |\n| 19 | :@computed_region_5s6d_2f32 | object      |                3 |          60 |\n| 20 | :@computed_region_3ini_iehf | object      |                3 |          60 |\n| 21 | :@computed_region_5bih_7r3y | object      |                3 |          60 |\n| 22 | :@computed_region_x3q3_gi3e | object      |                3 |          60 |\n\n### Categorical Summary\n\n| Column Name   |\n|---------------|\n\n### Sample Data (5x16)\n\n|    |   longitude | date_closed             |      case_id |   latitude | city     | apn           | request_category                             | street_address                                     | date_opened             | case_status   | neighborhood   | object_type   | request_detail                | request_subcategory            | location                                                                                                                                          | state   |\n|----|-------------|-------------------------|--------------|------------|----------|---------------|----------------------------------------------|----------------------------------------------------|-------------------------|---------------|----------------|---------------|-------------------------------|--------------------------------|---------------------------------------------------------------------------------------------------------------------------------------------------|---------|\n|  3 |    -122.248 | 2020-11-09T01:41:12.000 | 121000809739 |    37.8848 | Berkeley | 060 249305600 | General Questions/information                | 1411 GRIZZLY PEAK BLVD                             | 2020-11-06T16:38:00.000 | Closed        | Berkeley       | Property      | Miscellaneous Service Request | Miscellaneous                  | {\"latitude\": \"37.88479918\", \"longitude\": \"-122.24787412\", \"human_address\": \"{\\\"address\\\": \\\"\\\", \\\"city\\\": \\\"\\\", \\\"state\\\": \\\"\\\", \\\"zip\\\": \\\"\\\"}\"} | CA      |\n|  0 |     nan     | 2021-09-20T11:22:22.000 | 121000877593 |   nan      | Berkeley | nan           | Facilities, Electrical & Property Management | Intersection of Browning and Addison, BERKELEY, CA | 2021-09-16T06:23:23.000 | Closed        | Berkeley       | Property      | Keys / Locks                  | Parks/Marina Building Services | nan                                                                                                                                               | CA      |\n|  1 |    -122.275 | nan                     | 121000876647 |    37.8627 | Berkeley | 054 180702800 | Refuse and Recycling                         | 1722 DWIGHT WAY                                    | 2021-09-13T10:50:00.000 | Open          | Berkeley       | Property      | Residential Bulky Pickup      | Residential                    | {\"latitude\": \"37.86265624\", \"longitude\": \"-122.27546088\", \"human_address\": \"{\\\"address\\\": \\\"\\\", \\\"city\\\": \\\"\\\", \\\"state\\\": \\\"\\\", \\\"zip\\\": \\\"\\\"}\"} | CA      |\n|  4 |     nan     | 2020-09-01T11:36:00.000 | 121000793663 |   nan      | Berkeley | nan           | Other Account Services and Billing           | nan                                                | 2020-09-01T11:32:00.000 | Closed        | Berkeley       | Individual    | Payment Collection - Marina   | Marina                         | nan                                                                                                                                               | CA      |\n|  2 |     nan     | 2020-11-09T01:52:57.000 | 121000809740 |   nan      | Berkeley | nan           | General Questions/information                | nan                                                | 2020-11-06T16:51:00.000 | Closed        | Berkeley       | Individual    | Miscellaneous Service Request | Miscellaneous                  | nan                                                                                                                                               | CA      |"
               ],
               "tagName": "div"
              }
             ],
             "tagName": "div"
            }
           ],
           "tagName": "div"
          }
         ],
         "tagName": "details"
        }
       ],
       "tagName": "div"
      },
      "text/html": [
       "<div><style>.chatlab-chat-details summary &gt; *  { display: inline; color: #27374D; }</style><details style=\"background: #DDE6ED; border-radius: 5px; padding: .5rem 1rem\" className=\"chatlab-chat-details\"><summary style=\"color: #27374D; cursor: pointer\"><span style=\"color: #9DB2BF; padding-left: 5px; padding-right: 5px\">𝑓</span><span style=\"color: #27374D; padding-left: 5px; padding-right: 5px\">Ran</span><span style=\"font-family: monospace; unicode-bidi: embed; white-space: pre\">create_cell</span><span style=\"font-family: monospace; unicode-bidi: embed; white-space: pre\"></span></summary><div style=\"margin-left: 10px; margin-top: 10px\"><div><div style=\"color: #27374D; font-weight: 500; margin-bottom: 5px\">Input:</div><div style=\"background: #F7F9FA; color: #27374D; font-family: monospace; margin-bottom: 10px; overflow-x: auto; padding: 10px; unicode-bidi: embed; white-space: pre\">{\n",
       "  &quot;source&quot;: &quot;# Fetching the Berkeley 311 calls data\\nurl = &#x27;https://data.cityofberkeley.info/resource/bscu-qpbu.json&#x27;\\nresponse = requests.get(url)\\ndata = response.json()\\n\\ndf = pd.DataFrame(data)\\ndf.head()&quot;\n",
       "}</div></div><div><div style=\"color: #27374D; font-weight: 500; margin-bottom: 5px\">Output:</div><div style=\"background: #F7F9FA; color: #27374D; font-family: monospace; margin-bottom: 10px; overflow-x: auto; padding: 10px; unicode-bidi: embed; white-space: pre\">Out:\n",
       "## Dataframe Summary\n",
       "\n",
       "Number of Rows: 5\n",
       "\n",
       "Number of Columns: 23\n",
       "\n",
       "### Column Information\n",
       "\n",
       "|    | Column Name                 | Data Type   |   Missing Values |   % Missing |\n",
       "|----|-----------------------------|-------------|------------------|-------------|\n",
       "|  0 | case_id                     | object      |                0 |           0 |\n",
       "|  1 | date_opened                 | object      |                0 |           0 |\n",
       "|  2 | case_status                 | object      |                0 |           0 |\n",
       "|  3 | date_closed                 | object      |                1 |          20 |\n",
       "|  4 | request_category            | object      |                0 |           0 |\n",
       "|  5 | request_subcategory         | object      |                0 |           0 |\n",
       "|  6 | request_detail              | object      |                0 |           0 |\n",
       "|  7 | object_type                 | object      |                0 |           0 |\n",
       "|  8 | street_address              | object      |                2 |          40 |\n",
       "|  9 | city                        | object      |                0 |           0 |\n",
       "| 10 | state                       | object      |                0 |           0 |\n",
       "| 11 | neighborhood                | object      |                0 |           0 |\n",
       "| 12 | apn                         | object      |                3 |          60 |\n",
       "| 13 | latitude                    | object      |                3 |          60 |\n",
       "| 14 | longitude                   | object      |                3 |          60 |\n",
       "| 15 | location                    | object      |                3 |          60 |\n",
       "| 16 | :@computed_region_b3wi_w8ix | object      |                3 |          60 |\n",
       "| 17 | :@computed_region_fhmw_rucx | object      |                3 |          60 |\n",
       "| 18 | :@computed_region_u3y2_d2ws | object      |                3 |          60 |\n",
       "| 19 | :@computed_region_5s6d_2f32 | object      |                3 |          60 |\n",
       "| 20 | :@computed_region_3ini_iehf | object      |                3 |          60 |\n",
       "| 21 | :@computed_region_5bih_7r3y | object      |                3 |          60 |\n",
       "| 22 | :@computed_region_x3q3_gi3e | object      |                3 |          60 |\n",
       "\n",
       "### Categorical Summary\n",
       "\n",
       "| Column Name   |\n",
       "|---------------|\n",
       "\n",
       "### Sample Data (5x16)\n",
       "\n",
       "|    |   longitude | date_closed             |      case_id |   latitude | city     | apn           | request_category                             | street_address                                     | date_opened             | case_status   | neighborhood   | object_type   | request_detail                | request_subcategory            | location                                                                                                                                          | state   |\n",
       "|----|-------------|-------------------------|--------------|------------|----------|---------------|----------------------------------------------|----------------------------------------------------|-------------------------|---------------|----------------|---------------|-------------------------------|--------------------------------|---------------------------------------------------------------------------------------------------------------------------------------------------|---------|\n",
       "|  3 |    -122.248 | 2020-11-09T01:41:12.000 | 121000809739 |    37.8848 | Berkeley | 060 249305600 | General Questions/information                | 1411 GRIZZLY PEAK BLVD                             | 2020-11-06T16:38:00.000 | Closed        | Berkeley       | Property      | Miscellaneous Service Request | Miscellaneous                  | {&quot;latitude&quot;: &quot;37.88479918&quot;, &quot;longitude&quot;: &quot;-122.24787412&quot;, &quot;human_address&quot;: &quot;{\\&quot;address\\&quot;: \\&quot;\\&quot;, \\&quot;city\\&quot;: \\&quot;\\&quot;, \\&quot;state\\&quot;: \\&quot;\\&quot;, \\&quot;zip\\&quot;: \\&quot;\\&quot;}&quot;} | CA      |\n",
       "|  0 |     nan     | 2021-09-20T11:22:22.000 | 121000877593 |   nan      | Berkeley | nan           | Facilities, Electrical &amp; Property Management | Intersection of Browning and Addison, BERKELEY, CA | 2021-09-16T06:23:23.000 | Closed        | Berkeley       | Property      | Keys / Locks                  | Parks/Marina Building Services | nan                                                                                                                                               | CA      |\n",
       "|  1 |    -122.275 | nan                     | 121000876647 |    37.8627 | Berkeley | 054 180702800 | Refuse and Recycling                         | 1722 DWIGHT WAY                                    | 2021-09-13T10:50:00.000 | Open          | Berkeley       | Property      | Residential Bulky Pickup      | Residential                    | {&quot;latitude&quot;: &quot;37.86265624&quot;, &quot;longitude&quot;: &quot;-122.27546088&quot;, &quot;human_address&quot;: &quot;{\\&quot;address\\&quot;: \\&quot;\\&quot;, \\&quot;city\\&quot;: \\&quot;\\&quot;, \\&quot;state\\&quot;: \\&quot;\\&quot;, \\&quot;zip\\&quot;: \\&quot;\\&quot;}&quot;} | CA      |\n",
       "|  4 |     nan     | 2020-09-01T11:36:00.000 | 121000793663 |   nan      | Berkeley | nan           | Other Account Services and Billing           | nan                                                | 2020-09-01T11:32:00.000 | Closed        | Berkeley       | Individual    | Payment Collection - Marina   | Marina                         | nan                                                                                                                                               | CA      |\n",
       "|  2 |     nan     | 2020-11-09T01:52:57.000 | 121000809740 |   nan      | Berkeley | nan           | General Questions/information                | nan                                                | 2020-11-06T16:51:00.000 | Closed        | Berkeley       | Individual    | Miscellaneous Service Request | Miscellaneous                  | nan                                                                                                                                               | CA      |</div></div></div></details></div>"
      ],
      "text/plain": [
       "<chatlab.display.ChatFunctionCall at 0x136301cd0>"
      ]
     },
     "metadata": {},
     "output_type": "display_data"
    },
    {
     "data": {
      "application/vdom.v1+json": {
       "attributes": {},
       "children": [
        {
         "attributes": {},
         "children": [
          ".chatlab-chat-details summary > *  { display: inline; color: #27374D; }"
         ],
         "tagName": "style"
        },
        {
         "attributes": {
          "className": "chatlab-chat-details",
          "style": {
           "background": "#DDE6ED",
           "borderRadius": "5px",
           "padding": ".5rem 1rem"
          }
         },
         "children": [
          {
           "attributes": {
            "style": {
             "color": "#27374D",
             "cursor": "pointer"
            }
           },
           "children": [
            {
             "attributes": {
              "style": {
               "color": "#9DB2BF",
               "paddingLeft": "5px",
               "paddingRight": "5px"
              }
             },
             "children": [
              "𝑓"
             ],
             "tagName": "span"
            },
            {
             "attributes": {
              "style": {
               "color": "#27374D",
               "paddingLeft": "5px",
               "paddingRight": "5px"
              }
             },
             "children": [
              "Ran"
             ],
             "tagName": "span"
            },
            {
             "attributes": {
              "style": {
               "fontFamily": "monospace",
               "unicodeBidi": "embed",
               "whiteSpace": "pre"
              }
             },
             "children": [
              "create_cell"
             ],
             "tagName": "span"
            },
            {
             "attributes": {
              "style": {
               "fontFamily": "monospace",
               "unicodeBidi": "embed",
               "whiteSpace": "pre"
              }
             },
             "children": [
              ""
             ],
             "tagName": "span"
            }
           ],
           "tagName": "summary"
          },
          {
           "attributes": {
            "style": {
             "marginLeft": "10px",
             "marginTop": "10px"
            }
           },
           "children": [
            {
             "attributes": {},
             "children": [
              {
               "attributes": {
                "style": {
                 "color": "#27374D",
                 "fontWeight": "500",
                 "marginBottom": "5px"
                }
               },
               "children": [
                "Input:"
               ],
               "tagName": "div"
              },
              {
               "attributes": {
                "style": {
                 "background": "#F7F9FA",
                 "color": "#27374D",
                 "fontFamily": "monospace",
                 "marginBottom": "10px",
                 "overflowX": "auto",
                 "padding": "10px",
                 "unicodeBidi": "embed",
                 "whiteSpace": "pre"
                }
               },
               "children": [
                "{\n  \"source\": \"# Checking the data types of columns\\n\\ndf.dtypes\"\n}"
               ],
               "tagName": "div"
              }
             ],
             "tagName": "div"
            },
            {
             "attributes": {},
             "children": [
              {
               "attributes": {
                "style": {
                 "color": "#27374D",
                 "fontWeight": "500",
                 "marginBottom": "5px"
                }
               },
               "children": [
                "Output:"
               ],
               "tagName": "div"
              },
              {
               "attributes": {
                "style": {
                 "background": "#F7F9FA",
                 "color": "#27374D",
                 "fontFamily": "monospace",
                 "marginBottom": "10px",
                 "overflowX": "auto",
                 "padding": "10px",
                 "unicodeBidi": "embed",
                 "whiteSpace": "pre"
                }
               },
               "children": [
                "Out:\n## Dataframe Summary\n\nNumber of Rows: 23\n\nNumber of Columns: 1\n\n### Column Information\n\n|    |   Column Name | Data Type   |   Missing Values |   % Missing |\n|----|---------------|-------------|------------------|-------------|\n|  0 |             0 | object      |                0 |           0 |\n\n### Categorical Summary\n\n| Column Name   |\n|---------------|\n\n### Sample Data (5x1)\n\n|                             | 0      |\n|-----------------------------|--------|\n| :@computed_region_fhmw_rucx | object |\n| location                    | object |\n| apn                         | object |\n| :@computed_region_x3q3_gi3e | object |\n| :@computed_region_5bih_7r3y | object |"
               ],
               "tagName": "div"
              }
             ],
             "tagName": "div"
            }
           ],
           "tagName": "div"
          }
         ],
         "tagName": "details"
        }
       ],
       "tagName": "div"
      },
      "text/html": [
       "<div><style>.chatlab-chat-details summary &gt; *  { display: inline; color: #27374D; }</style><details style=\"background: #DDE6ED; border-radius: 5px; padding: .5rem 1rem\" className=\"chatlab-chat-details\"><summary style=\"color: #27374D; cursor: pointer\"><span style=\"color: #9DB2BF; padding-left: 5px; padding-right: 5px\">𝑓</span><span style=\"color: #27374D; padding-left: 5px; padding-right: 5px\">Ran</span><span style=\"font-family: monospace; unicode-bidi: embed; white-space: pre\">create_cell</span><span style=\"font-family: monospace; unicode-bidi: embed; white-space: pre\"></span></summary><div style=\"margin-left: 10px; margin-top: 10px\"><div><div style=\"color: #27374D; font-weight: 500; margin-bottom: 5px\">Input:</div><div style=\"background: #F7F9FA; color: #27374D; font-family: monospace; margin-bottom: 10px; overflow-x: auto; padding: 10px; unicode-bidi: embed; white-space: pre\">{\n",
       "  &quot;source&quot;: &quot;# Checking the data types of columns\\n\\ndf.dtypes&quot;\n",
       "}</div></div><div><div style=\"color: #27374D; font-weight: 500; margin-bottom: 5px\">Output:</div><div style=\"background: #F7F9FA; color: #27374D; font-family: monospace; margin-bottom: 10px; overflow-x: auto; padding: 10px; unicode-bidi: embed; white-space: pre\">Out:\n",
       "## Dataframe Summary\n",
       "\n",
       "Number of Rows: 23\n",
       "\n",
       "Number of Columns: 1\n",
       "\n",
       "### Column Information\n",
       "\n",
       "|    |   Column Name | Data Type   |   Missing Values |   % Missing |\n",
       "|----|---------------|-------------|------------------|-------------|\n",
       "|  0 |             0 | object      |                0 |           0 |\n",
       "\n",
       "### Categorical Summary\n",
       "\n",
       "| Column Name   |\n",
       "|---------------|\n",
       "\n",
       "### Sample Data (5x1)\n",
       "\n",
       "|                             | 0      |\n",
       "|-----------------------------|--------|\n",
       "| :@computed_region_fhmw_rucx | object |\n",
       "| location                    | object |\n",
       "| apn                         | object |\n",
       "| :@computed_region_x3q3_gi3e | object |\n",
       "| :@computed_region_5bih_7r3y | object |</div></div></div></details></div>"
      ],
      "text/plain": [
       "<chatlab.display.ChatFunctionCall at 0x110db3510>"
      ]
     },
     "metadata": {},
     "output_type": "display_data"
    },
    {
     "name": "stderr",
     "output_type": "stream",
     "text": [
      "Received un-modeled RTU message msg.channel='kernels/notebook-kernel-e59108a5344f45a3af90' msg.event='variable_explorer_update_request'\n"
     ]
    },
    {
     "data": {
      "application/vdom.v1+json": {
       "attributes": {},
       "children": [
        {
         "attributes": {},
         "children": [
          ".chatlab-chat-details summary > *  { display: inline; color: #27374D; }"
         ],
         "tagName": "style"
        },
        {
         "attributes": {
          "className": "chatlab-chat-details",
          "style": {
           "background": "#DDE6ED",
           "borderRadius": "5px",
           "padding": ".5rem 1rem"
          }
         },
         "children": [
          {
           "attributes": {
            "style": {
             "color": "#27374D",
             "cursor": "pointer"
            }
           },
           "children": [
            {
             "attributes": {
              "style": {
               "color": "#9DB2BF",
               "paddingLeft": "5px",
               "paddingRight": "5px"
              }
             },
             "children": [
              "𝑓"
             ],
             "tagName": "span"
            },
            {
             "attributes": {
              "style": {
               "color": "#27374D",
               "paddingLeft": "5px",
               "paddingRight": "5px"
              }
             },
             "children": [
              "Ran"
             ],
             "tagName": "span"
            },
            {
             "attributes": {
              "style": {
               "fontFamily": "monospace",
               "unicodeBidi": "embed",
               "whiteSpace": "pre"
              }
             },
             "children": [
              "create_cell"
             ],
             "tagName": "span"
            },
            {
             "attributes": {
              "style": {
               "fontFamily": "monospace",
               "unicodeBidi": "embed",
               "whiteSpace": "pre"
              }
             },
             "children": [
              ""
             ],
             "tagName": "span"
            }
           ],
           "tagName": "summary"
          },
          {
           "attributes": {
            "style": {
             "marginLeft": "10px",
             "marginTop": "10px"
            }
           },
           "children": [
            {
             "attributes": {},
             "children": [
              {
               "attributes": {
                "style": {
                 "color": "#27374D",
                 "fontWeight": "500",
                 "marginBottom": "5px"
                }
               },
               "children": [
                "Input:"
               ],
               "tagName": "div"
              },
              {
               "attributes": {
                "style": {
                 "background": "#F7F9FA",
                 "color": "#27374D",
                 "fontFamily": "monospace",
                 "marginBottom": "10px",
                 "overflowX": "auto",
                 "padding": "10px",
                 "unicodeBidi": "embed",
                 "whiteSpace": "pre"
                }
               },
               "children": [
                "{\n  \"source\": \"# Counting the number of missing values in each column\\n\\ndf.isnull().sum()\"\n}"
               ],
               "tagName": "div"
              }
             ],
             "tagName": "div"
            },
            {
             "attributes": {},
             "children": [
              {
               "attributes": {
                "style": {
                 "color": "#27374D",
                 "fontWeight": "500",
                 "marginBottom": "5px"
                }
               },
               "children": [
                "Output:"
               ],
               "tagName": "div"
              },
              {
               "attributes": {
                "style": {
                 "background": "#F7F9FA",
                 "color": "#27374D",
                 "fontFamily": "monospace",
                 "marginBottom": "10px",
                 "overflowX": "auto",
                 "padding": "10px",
                 "unicodeBidi": "embed",
                 "whiteSpace": "pre"
                }
               },
               "children": [
                "Out:\n## Dataframe Summary\n\nNumber of Rows: 23\n\nNumber of Columns: 1\n\n### Column Information\n\n|    |   Column Name | Data Type   |   Missing Values |   % Missing |\n|----|---------------|-------------|------------------|-------------|\n|  0 |             0 | int64       |                0 |           0 |\n\n### Categorical Summary\n\n| Column Name   |\n|---------------|\n\n### Sample Data (5x1)\n\n|                             |   0 |\n|-----------------------------|-----|\n| date_opened                 |   0 |\n| apn                         | 427 |\n| :@computed_region_5s6d_2f32 | 469 |\n| street_address              | 317 |\n| :@computed_region_b3wi_w8ix | 469 |"
               ],
               "tagName": "div"
              }
             ],
             "tagName": "div"
            }
           ],
           "tagName": "div"
          }
         ],
         "tagName": "details"
        }
       ],
       "tagName": "div"
      },
      "text/html": [
       "<div><style>.chatlab-chat-details summary &gt; *  { display: inline; color: #27374D; }</style><details style=\"background: #DDE6ED; border-radius: 5px; padding: .5rem 1rem\" className=\"chatlab-chat-details\"><summary style=\"color: #27374D; cursor: pointer\"><span style=\"color: #9DB2BF; padding-left: 5px; padding-right: 5px\">𝑓</span><span style=\"color: #27374D; padding-left: 5px; padding-right: 5px\">Ran</span><span style=\"font-family: monospace; unicode-bidi: embed; white-space: pre\">create_cell</span><span style=\"font-family: monospace; unicode-bidi: embed; white-space: pre\"></span></summary><div style=\"margin-left: 10px; margin-top: 10px\"><div><div style=\"color: #27374D; font-weight: 500; margin-bottom: 5px\">Input:</div><div style=\"background: #F7F9FA; color: #27374D; font-family: monospace; margin-bottom: 10px; overflow-x: auto; padding: 10px; unicode-bidi: embed; white-space: pre\">{\n",
       "  &quot;source&quot;: &quot;# Counting the number of missing values in each column\\n\\ndf.isnull().sum()&quot;\n",
       "}</div></div><div><div style=\"color: #27374D; font-weight: 500; margin-bottom: 5px\">Output:</div><div style=\"background: #F7F9FA; color: #27374D; font-family: monospace; margin-bottom: 10px; overflow-x: auto; padding: 10px; unicode-bidi: embed; white-space: pre\">Out:\n",
       "## Dataframe Summary\n",
       "\n",
       "Number of Rows: 23\n",
       "\n",
       "Number of Columns: 1\n",
       "\n",
       "### Column Information\n",
       "\n",
       "|    |   Column Name | Data Type   |   Missing Values |   % Missing |\n",
       "|----|---------------|-------------|------------------|-------------|\n",
       "|  0 |             0 | int64       |                0 |           0 |\n",
       "\n",
       "### Categorical Summary\n",
       "\n",
       "| Column Name   |\n",
       "|---------------|\n",
       "\n",
       "### Sample Data (5x1)\n",
       "\n",
       "|                             |   0 |\n",
       "|-----------------------------|-----|\n",
       "| date_opened                 |   0 |\n",
       "| apn                         | 427 |\n",
       "| :@computed_region_5s6d_2f32 | 469 |\n",
       "| street_address              | 317 |\n",
       "| :@computed_region_b3wi_w8ix | 469 |</div></div></div></details></div>"
      ],
      "text/plain": [
       "<chatlab.display.ChatFunctionCall at 0x1370475d0>"
      ]
     },
     "metadata": {},
     "output_type": "display_data"
    },
    {
     "data": {
      "application/vdom.v1+json": {
       "attributes": {},
       "children": [
        {
         "attributes": {},
         "children": [
          ".chatlab-chat-details summary > *  { display: inline; color: #27374D; }"
         ],
         "tagName": "style"
        },
        {
         "attributes": {
          "className": "chatlab-chat-details",
          "style": {
           "background": "#DDE6ED",
           "borderRadius": "5px",
           "padding": ".5rem 1rem"
          }
         },
         "children": [
          {
           "attributes": {
            "style": {
             "color": "#27374D",
             "cursor": "pointer"
            }
           },
           "children": [
            {
             "attributes": {
              "style": {
               "color": "#9DB2BF",
               "paddingLeft": "5px",
               "paddingRight": "5px"
              }
             },
             "children": [
              "𝑓"
             ],
             "tagName": "span"
            },
            {
             "attributes": {
              "style": {
               "color": "#27374D",
               "paddingLeft": "5px",
               "paddingRight": "5px"
              }
             },
             "children": [
              "Ran"
             ],
             "tagName": "span"
            },
            {
             "attributes": {
              "style": {
               "fontFamily": "monospace",
               "unicodeBidi": "embed",
               "whiteSpace": "pre"
              }
             },
             "children": [
              "create_cell"
             ],
             "tagName": "span"
            },
            {
             "attributes": {
              "style": {
               "fontFamily": "monospace",
               "unicodeBidi": "embed",
               "whiteSpace": "pre"
              }
             },
             "children": [
              ""
             ],
             "tagName": "span"
            }
           ],
           "tagName": "summary"
          },
          {
           "attributes": {
            "style": {
             "marginLeft": "10px",
             "marginTop": "10px"
            }
           },
           "children": [
            {
             "attributes": {},
             "children": [
              {
               "attributes": {
                "style": {
                 "color": "#27374D",
                 "fontWeight": "500",
                 "marginBottom": "5px"
                }
               },
               "children": [
                "Input:"
               ],
               "tagName": "div"
              },
              {
               "attributes": {
                "style": {
                 "background": "#F7F9FA",
                 "color": "#27374D",
                 "fontFamily": "monospace",
                 "marginBottom": "10px",
                 "overflowX": "auto",
                 "padding": "10px",
                 "unicodeBidi": "embed",
                 "whiteSpace": "pre"
                }
               },
               "children": [
                "{\n  \"source\": \"# Dropping unnecessary columns\\ndf = df.drop(['apn', 'latitude', 'longitude', 'location', '@computed_region_b3wi_w8ix', '@computed_region_fhmw_rucx', '@computed_region_u3y2_d2ws', '@computed_region_5s6d_2f32', '@computed_region_3ini_iehf', '@computed_region_5bih_7r3y', '@computed_region_x3q3_gi3e'], axis=1)\\ndf.head()\"\n}"
               ],
               "tagName": "div"
              }
             ],
             "tagName": "div"
            },
            {
             "attributes": {},
             "children": [
              {
               "attributes": {
                "style": {
                 "color": "#27374D",
                 "fontWeight": "500",
                 "marginBottom": "5px"
                }
               },
               "children": [
                "Output:"
               ],
               "tagName": "div"
              },
              {
               "attributes": {
                "style": {
                 "background": "#F7F9FA",
                 "color": "#27374D",
                 "fontFamily": "monospace",
                 "marginBottom": "10px",
                 "overflowX": "auto",
                 "padding": "10px",
                 "unicodeBidi": "embed",
                 "whiteSpace": "pre"
                }
               },
               "children": [
                "Out:\nError: KeyError: \"['@computed_region_b3wi_w8ix', '@computed_region_fhmw_rucx', '@computed_region_u3y2_d2ws', '@computed_region_5s6d_2f32', '@computed_region_3ini_iehf', '@computed_region_5bih_7r3y', '@computed_region_x3q3_gi3e'] not found in axis\""
               ],
               "tagName": "div"
              }
             ],
             "tagName": "div"
            }
           ],
           "tagName": "div"
          }
         ],
         "tagName": "details"
        }
       ],
       "tagName": "div"
      },
      "text/html": [
       "<div><style>.chatlab-chat-details summary &gt; *  { display: inline; color: #27374D; }</style><details style=\"background: #DDE6ED; border-radius: 5px; padding: .5rem 1rem\" className=\"chatlab-chat-details\"><summary style=\"color: #27374D; cursor: pointer\"><span style=\"color: #9DB2BF; padding-left: 5px; padding-right: 5px\">𝑓</span><span style=\"color: #27374D; padding-left: 5px; padding-right: 5px\">Ran</span><span style=\"font-family: monospace; unicode-bidi: embed; white-space: pre\">create_cell</span><span style=\"font-family: monospace; unicode-bidi: embed; white-space: pre\"></span></summary><div style=\"margin-left: 10px; margin-top: 10px\"><div><div style=\"color: #27374D; font-weight: 500; margin-bottom: 5px\">Input:</div><div style=\"background: #F7F9FA; color: #27374D; font-family: monospace; margin-bottom: 10px; overflow-x: auto; padding: 10px; unicode-bidi: embed; white-space: pre\">{\n",
       "  &quot;source&quot;: &quot;# Dropping unnecessary columns\\ndf = df.drop([&#x27;apn&#x27;, &#x27;latitude&#x27;, &#x27;longitude&#x27;, &#x27;location&#x27;, &#x27;@computed_region_b3wi_w8ix&#x27;, &#x27;@computed_region_fhmw_rucx&#x27;, &#x27;@computed_region_u3y2_d2ws&#x27;, &#x27;@computed_region_5s6d_2f32&#x27;, &#x27;@computed_region_3ini_iehf&#x27;, &#x27;@computed_region_5bih_7r3y&#x27;, &#x27;@computed_region_x3q3_gi3e&#x27;], axis=1)\\ndf.head()&quot;\n",
       "}</div></div><div><div style=\"color: #27374D; font-weight: 500; margin-bottom: 5px\">Output:</div><div style=\"background: #F7F9FA; color: #27374D; font-family: monospace; margin-bottom: 10px; overflow-x: auto; padding: 10px; unicode-bidi: embed; white-space: pre\">Out:\n",
       "Error: KeyError: &quot;[&#x27;@computed_region_b3wi_w8ix&#x27;, &#x27;@computed_region_fhmw_rucx&#x27;, &#x27;@computed_region_u3y2_d2ws&#x27;, &#x27;@computed_region_5s6d_2f32&#x27;, &#x27;@computed_region_3ini_iehf&#x27;, &#x27;@computed_region_5bih_7r3y&#x27;, &#x27;@computed_region_x3q3_gi3e&#x27;] not found in axis&quot;</div></div></div></details></div>"
      ],
      "text/plain": [
       "<chatlab.display.ChatFunctionCall at 0x1370347d0>"
      ]
     },
     "metadata": {},
     "output_type": "display_data"
    },
    {
     "data": {
      "application/vdom.v1+json": {
       "attributes": {},
       "children": [
        {
         "attributes": {},
         "children": [
          ".chatlab-chat-details summary > *  { display: inline; color: #27374D; }"
         ],
         "tagName": "style"
        },
        {
         "attributes": {
          "className": "chatlab-chat-details",
          "style": {
           "background": "#DDE6ED",
           "borderRadius": "5px",
           "padding": ".5rem 1rem"
          }
         },
         "children": [
          {
           "attributes": {
            "style": {
             "color": "#27374D",
             "cursor": "pointer"
            }
           },
           "children": [
            {
             "attributes": {
              "style": {
               "color": "#9DB2BF",
               "paddingLeft": "5px",
               "paddingRight": "5px"
              }
             },
             "children": [
              "𝑓"
             ],
             "tagName": "span"
            },
            {
             "attributes": {
              "style": {
               "color": "#27374D",
               "paddingLeft": "5px",
               "paddingRight": "5px"
              }
             },
             "children": [
              "Ran"
             ],
             "tagName": "span"
            },
            {
             "attributes": {
              "style": {
               "fontFamily": "monospace",
               "unicodeBidi": "embed",
               "whiteSpace": "pre"
              }
             },
             "children": [
              "create_cell"
             ],
             "tagName": "span"
            },
            {
             "attributes": {
              "style": {
               "fontFamily": "monospace",
               "unicodeBidi": "embed",
               "whiteSpace": "pre"
              }
             },
             "children": [
              ""
             ],
             "tagName": "span"
            }
           ],
           "tagName": "summary"
          },
          {
           "attributes": {
            "style": {
             "marginLeft": "10px",
             "marginTop": "10px"
            }
           },
           "children": [
            {
             "attributes": {},
             "children": [
              {
               "attributes": {
                "style": {
                 "color": "#27374D",
                 "fontWeight": "500",
                 "marginBottom": "5px"
                }
               },
               "children": [
                "Input:"
               ],
               "tagName": "div"
              },
              {
               "attributes": {
                "style": {
                 "background": "#F7F9FA",
                 "color": "#27374D",
                 "fontFamily": "monospace",
                 "marginBottom": "10px",
                 "overflowX": "auto",
                 "padding": "10px",
                 "unicodeBidi": "embed",
                 "whiteSpace": "pre"
                }
               },
               "children": [
                "{\n  \"source\": \"# Dropping unnecessary columns\\ndf = df.drop([':@computed_region_b3wi_w8ix', ':@computed_region_fhmw_rucx', ':@computed_region_u3y2_d2ws', ':@computed_region_5s6d_2f32', ':@computed_region_3ini_iehf', ':@computed_region_5bih_7r3y', ':@computed_region_x3q3_gi3e'], axis=1)\\ndf.head()\"\n}"
               ],
               "tagName": "div"
              }
             ],
             "tagName": "div"
            },
            {
             "attributes": {},
             "children": [
              {
               "attributes": {
                "style": {
                 "color": "#27374D",
                 "fontWeight": "500",
                 "marginBottom": "5px"
                }
               },
               "children": [
                "Output:"
               ],
               "tagName": "div"
              },
              {
               "attributes": {
                "style": {
                 "background": "#F7F9FA",
                 "color": "#27374D",
                 "fontFamily": "monospace",
                 "marginBottom": "10px",
                 "overflowX": "auto",
                 "padding": "10px",
                 "unicodeBidi": "embed",
                 "whiteSpace": "pre"
                }
               },
               "children": [
                "Out:\n## Dataframe Summary\n\nNumber of Rows: 5\n\nNumber of Columns: 16\n\n### Column Information\n\n|    | Column Name         | Data Type   |   Missing Values |   % Missing |\n|----|---------------------|-------------|------------------|-------------|\n|  0 | case_id             | object      |                0 |           0 |\n|  1 | date_opened         | object      |                0 |           0 |\n|  2 | case_status         | object      |                0 |           0 |\n|  3 | date_closed         | object      |                1 |          20 |\n|  4 | request_category    | object      |                0 |           0 |\n|  5 | request_subcategory | object      |                0 |           0 |\n|  6 | request_detail      | object      |                0 |           0 |\n|  7 | object_type         | object      |                0 |           0 |\n|  8 | street_address      | object      |                2 |          40 |\n|  9 | city                | object      |                0 |           0 |\n| 10 | state               | object      |                0 |           0 |\n| 11 | neighborhood        | object      |                0 |           0 |\n| 12 | apn                 | object      |                3 |          60 |\n| 13 | latitude            | object      |                3 |          60 |\n| 14 | longitude           | object      |                3 |          60 |\n| 15 | location            | object      |                3 |          60 |\n\n### Categorical Summary\n\n| Column Name   |\n|---------------|\n\n### Sample Data (5x16)\n\n|    | neighborhood   | request_category                             |   longitude | apn           | request_subcategory            | city     | case_status   | street_address                                     |   latitude | date_opened             |      case_id | state   | location                                                                                                                                          | date_closed             | object_type   | request_detail                |\n|----|----------------|----------------------------------------------|-------------|---------------|--------------------------------|----------|---------------|----------------------------------------------------|------------|-------------------------|--------------|---------|---------------------------------------------------------------------------------------------------------------------------------------------------|-------------------------|---------------|-------------------------------|\n|  0 | Berkeley       | Facilities, Electrical & Property Management |     nan     | nan           | Parks/Marina Building Services | Berkeley | Closed        | Intersection of Browning and Addison, BERKELEY, CA |   nan      | 2021-09-16T06:23:23.000 | 121000877593 | CA      | nan                                                                                                                                               | 2021-09-20T11:22:22.000 | Property      | Keys / Locks                  |\n|  1 | Berkeley       | Refuse and Recycling                         |    -122.275 | 054 180702800 | Residential                    | Berkeley | Open          | 1722 DWIGHT WAY                                    |    37.8627 | 2021-09-13T10:50:00.000 | 121000876647 | CA      | {\"latitude\": \"37.86265624\", \"longitude\": \"-122.27546088\", \"human_address\": \"{\\\"address\\\": \\\"\\\", \\\"city\\\": \\\"\\\", \\\"state\\\": \\\"\\\", \\\"zip\\\": \\\"\\\"}\"} | nan                     | Property      | Residential Bulky Pickup      |\n|  3 | Berkeley       | General Questions/information                |    -122.248 | 060 249305600 | Miscellaneous                  | Berkeley | Closed        | 1411 GRIZZLY PEAK BLVD                             |    37.8848 | 2020-11-06T16:38:00.000 | 121000809739 | CA      | {\"latitude\": \"37.88479918\", \"longitude\": \"-122.24787412\", \"human_address\": \"{\\\"address\\\": \\\"\\\", \\\"city\\\": \\\"\\\", \\\"state\\\": \\\"\\\", \\\"zip\\\": \\\"\\\"}\"} | 2020-11-09T01:41:12.000 | Property      | Miscellaneous Service Request |\n|  4 | Berkeley       | Other Account Services and Billing           |     nan     | nan           | Marina                         | Berkeley | Closed        | nan                                                |   nan      | 2020-09-01T11:32:00.000 | 121000793663 | CA      | nan                                                                                                                                               | 2020-09-01T11:36:00.000 | Individual    | Payment Collection - Marina   |\n|  2 | Berkeley       | General Questions/information                |     nan     | nan           | Miscellaneous                  | Berkeley | Closed        | nan                                                |   nan      | 2020-11-06T16:51:00.000 | 121000809740 | CA      | nan                                                                                                                                               | 2020-11-09T01:52:57.000 | Individual    | Miscellaneous Service Request |"
               ],
               "tagName": "div"
              }
             ],
             "tagName": "div"
            }
           ],
           "tagName": "div"
          }
         ],
         "tagName": "details"
        }
       ],
       "tagName": "div"
      },
      "text/html": [
       "<div><style>.chatlab-chat-details summary &gt; *  { display: inline; color: #27374D; }</style><details style=\"background: #DDE6ED; border-radius: 5px; padding: .5rem 1rem\" className=\"chatlab-chat-details\"><summary style=\"color: #27374D; cursor: pointer\"><span style=\"color: #9DB2BF; padding-left: 5px; padding-right: 5px\">𝑓</span><span style=\"color: #27374D; padding-left: 5px; padding-right: 5px\">Ran</span><span style=\"font-family: monospace; unicode-bidi: embed; white-space: pre\">create_cell</span><span style=\"font-family: monospace; unicode-bidi: embed; white-space: pre\"></span></summary><div style=\"margin-left: 10px; margin-top: 10px\"><div><div style=\"color: #27374D; font-weight: 500; margin-bottom: 5px\">Input:</div><div style=\"background: #F7F9FA; color: #27374D; font-family: monospace; margin-bottom: 10px; overflow-x: auto; padding: 10px; unicode-bidi: embed; white-space: pre\">{\n",
       "  &quot;source&quot;: &quot;# Dropping unnecessary columns\\ndf = df.drop([&#x27;:@computed_region_b3wi_w8ix&#x27;, &#x27;:@computed_region_fhmw_rucx&#x27;, &#x27;:@computed_region_u3y2_d2ws&#x27;, &#x27;:@computed_region_5s6d_2f32&#x27;, &#x27;:@computed_region_3ini_iehf&#x27;, &#x27;:@computed_region_5bih_7r3y&#x27;, &#x27;:@computed_region_x3q3_gi3e&#x27;], axis=1)\\ndf.head()&quot;\n",
       "}</div></div><div><div style=\"color: #27374D; font-weight: 500; margin-bottom: 5px\">Output:</div><div style=\"background: #F7F9FA; color: #27374D; font-family: monospace; margin-bottom: 10px; overflow-x: auto; padding: 10px; unicode-bidi: embed; white-space: pre\">Out:\n",
       "## Dataframe Summary\n",
       "\n",
       "Number of Rows: 5\n",
       "\n",
       "Number of Columns: 16\n",
       "\n",
       "### Column Information\n",
       "\n",
       "|    | Column Name         | Data Type   |   Missing Values |   % Missing |\n",
       "|----|---------------------|-------------|------------------|-------------|\n",
       "|  0 | case_id             | object      |                0 |           0 |\n",
       "|  1 | date_opened         | object      |                0 |           0 |\n",
       "|  2 | case_status         | object      |                0 |           0 |\n",
       "|  3 | date_closed         | object      |                1 |          20 |\n",
       "|  4 | request_category    | object      |                0 |           0 |\n",
       "|  5 | request_subcategory | object      |                0 |           0 |\n",
       "|  6 | request_detail      | object      |                0 |           0 |\n",
       "|  7 | object_type         | object      |                0 |           0 |\n",
       "|  8 | street_address      | object      |                2 |          40 |\n",
       "|  9 | city                | object      |                0 |           0 |\n",
       "| 10 | state               | object      |                0 |           0 |\n",
       "| 11 | neighborhood        | object      |                0 |           0 |\n",
       "| 12 | apn                 | object      |                3 |          60 |\n",
       "| 13 | latitude            | object      |                3 |          60 |\n",
       "| 14 | longitude           | object      |                3 |          60 |\n",
       "| 15 | location            | object      |                3 |          60 |\n",
       "\n",
       "### Categorical Summary\n",
       "\n",
       "| Column Name   |\n",
       "|---------------|\n",
       "\n",
       "### Sample Data (5x16)\n",
       "\n",
       "|    | neighborhood   | request_category                             |   longitude | apn           | request_subcategory            | city     | case_status   | street_address                                     |   latitude | date_opened             |      case_id | state   | location                                                                                                                                          | date_closed             | object_type   | request_detail                |\n",
       "|----|----------------|----------------------------------------------|-------------|---------------|--------------------------------|----------|---------------|----------------------------------------------------|------------|-------------------------|--------------|---------|---------------------------------------------------------------------------------------------------------------------------------------------------|-------------------------|---------------|-------------------------------|\n",
       "|  0 | Berkeley       | Facilities, Electrical &amp; Property Management |     nan     | nan           | Parks/Marina Building Services | Berkeley | Closed        | Intersection of Browning and Addison, BERKELEY, CA |   nan      | 2021-09-16T06:23:23.000 | 121000877593 | CA      | nan                                                                                                                                               | 2021-09-20T11:22:22.000 | Property      | Keys / Locks                  |\n",
       "|  1 | Berkeley       | Refuse and Recycling                         |    -122.275 | 054 180702800 | Residential                    | Berkeley | Open          | 1722 DWIGHT WAY                                    |    37.8627 | 2021-09-13T10:50:00.000 | 121000876647 | CA      | {&quot;latitude&quot;: &quot;37.86265624&quot;, &quot;longitude&quot;: &quot;-122.27546088&quot;, &quot;human_address&quot;: &quot;{\\&quot;address\\&quot;: \\&quot;\\&quot;, \\&quot;city\\&quot;: \\&quot;\\&quot;, \\&quot;state\\&quot;: \\&quot;\\&quot;, \\&quot;zip\\&quot;: \\&quot;\\&quot;}&quot;} | nan                     | Property      | Residential Bulky Pickup      |\n",
       "|  3 | Berkeley       | General Questions/information                |    -122.248 | 060 249305600 | Miscellaneous                  | Berkeley | Closed        | 1411 GRIZZLY PEAK BLVD                             |    37.8848 | 2020-11-06T16:38:00.000 | 121000809739 | CA      | {&quot;latitude&quot;: &quot;37.88479918&quot;, &quot;longitude&quot;: &quot;-122.24787412&quot;, &quot;human_address&quot;: &quot;{\\&quot;address\\&quot;: \\&quot;\\&quot;, \\&quot;city\\&quot;: \\&quot;\\&quot;, \\&quot;state\\&quot;: \\&quot;\\&quot;, \\&quot;zip\\&quot;: \\&quot;\\&quot;}&quot;} | 2020-11-09T01:41:12.000 | Property      | Miscellaneous Service Request |\n",
       "|  4 | Berkeley       | Other Account Services and Billing           |     nan     | nan           | Marina                         | Berkeley | Closed        | nan                                                |   nan      | 2020-09-01T11:32:00.000 | 121000793663 | CA      | nan                                                                                                                                               | 2020-09-01T11:36:00.000 | Individual    | Payment Collection - Marina   |\n",
       "|  2 | Berkeley       | General Questions/information                |     nan     | nan           | Miscellaneous                  | Berkeley | Closed        | nan                                                |   nan      | 2020-11-06T16:51:00.000 | 121000809740 | CA      | nan                                                                                                                                               | 2020-11-09T01:52:57.000 | Individual    | Miscellaneous Service Request |</div></div></div></details></div>"
      ],
      "text/plain": [
       "<chatlab.display.ChatFunctionCall at 0x1363599d0>"
      ]
     },
     "metadata": {},
     "output_type": "display_data"
    },
    {
     "data": {
      "application/vdom.v1+json": {
       "attributes": {},
       "children": [
        {
         "attributes": {},
         "children": [
          ".chatlab-chat-details summary > *  { display: inline; color: #27374D; }"
         ],
         "tagName": "style"
        },
        {
         "attributes": {
          "className": "chatlab-chat-details",
          "style": {
           "background": "#DDE6ED",
           "borderRadius": "5px",
           "padding": ".5rem 1rem"
          }
         },
         "children": [
          {
           "attributes": {
            "style": {
             "color": "#27374D",
             "cursor": "pointer"
            }
           },
           "children": [
            {
             "attributes": {
              "style": {
               "color": "#9DB2BF",
               "paddingLeft": "5px",
               "paddingRight": "5px"
              }
             },
             "children": [
              "𝑓"
             ],
             "tagName": "span"
            },
            {
             "attributes": {
              "style": {
               "color": "#27374D",
               "paddingLeft": "5px",
               "paddingRight": "5px"
              }
             },
             "children": [
              "Ran"
             ],
             "tagName": "span"
            },
            {
             "attributes": {
              "style": {
               "fontFamily": "monospace",
               "unicodeBidi": "embed",
               "whiteSpace": "pre"
              }
             },
             "children": [
              "create_cell"
             ],
             "tagName": "span"
            },
            {
             "attributes": {
              "style": {
               "fontFamily": "monospace",
               "unicodeBidi": "embed",
               "whiteSpace": "pre"
              }
             },
             "children": [
              ""
             ],
             "tagName": "span"
            }
           ],
           "tagName": "summary"
          },
          {
           "attributes": {
            "style": {
             "marginLeft": "10px",
             "marginTop": "10px"
            }
           },
           "children": [
            {
             "attributes": {},
             "children": [
              {
               "attributes": {
                "style": {
                 "color": "#27374D",
                 "fontWeight": "500",
                 "marginBottom": "5px"
                }
               },
               "children": [
                "Input:"
               ],
               "tagName": "div"
              },
              {
               "attributes": {
                "style": {
                 "background": "#F7F9FA",
                 "color": "#27374D",
                 "fontFamily": "monospace",
                 "marginBottom": "10px",
                 "overflowX": "auto",
                 "padding": "10px",
                 "unicodeBidi": "embed",
                 "whiteSpace": "pre"
                }
               },
               "children": [
                "{\n  \"source\": \"# Converting date columns to datetime\\n\\ndf['date_opened'] = pd.to_datetime(df['date_opened'])\\ndf['date_closed'] = pd.to_datetime(df['date_closed'])\\n\\n# Checking the data types of columns\\n\\ndf.dtypes\"\n}"
               ],
               "tagName": "div"
              }
             ],
             "tagName": "div"
            },
            {
             "attributes": {},
             "children": [
              {
               "attributes": {
                "style": {
                 "color": "#27374D",
                 "fontWeight": "500",
                 "marginBottom": "5px"
                }
               },
               "children": [
                "Output:"
               ],
               "tagName": "div"
              },
              {
               "attributes": {
                "style": {
                 "background": "#F7F9FA",
                 "color": "#27374D",
                 "fontFamily": "monospace",
                 "marginBottom": "10px",
                 "overflowX": "auto",
                 "padding": "10px",
                 "unicodeBidi": "embed",
                 "whiteSpace": "pre"
                }
               },
               "children": [
                "Out:\n## Dataframe Summary\n\nNumber of Rows: 16\n\nNumber of Columns: 1\n\n### Column Information\n\n|    |   Column Name | Data Type   |   Missing Values |   % Missing |\n|----|---------------|-------------|------------------|-------------|\n|  0 |             0 | object      |                0 |           0 |\n\n### Categorical Summary\n\n| Column Name   |\n|---------------|\n\n### Sample Data (5x1)\n\n|                     | 0      |\n|---------------------|--------|\n| case_status         | object |\n| request_subcategory | object |\n| apn                 | object |\n| case_id             | object |\n| neighborhood        | object |"
               ],
               "tagName": "div"
              }
             ],
             "tagName": "div"
            }
           ],
           "tagName": "div"
          }
         ],
         "tagName": "details"
        }
       ],
       "tagName": "div"
      },
      "text/html": [
       "<div><style>.chatlab-chat-details summary &gt; *  { display: inline; color: #27374D; }</style><details style=\"background: #DDE6ED; border-radius: 5px; padding: .5rem 1rem\" className=\"chatlab-chat-details\"><summary style=\"color: #27374D; cursor: pointer\"><span style=\"color: #9DB2BF; padding-left: 5px; padding-right: 5px\">𝑓</span><span style=\"color: #27374D; padding-left: 5px; padding-right: 5px\">Ran</span><span style=\"font-family: monospace; unicode-bidi: embed; white-space: pre\">create_cell</span><span style=\"font-family: monospace; unicode-bidi: embed; white-space: pre\"></span></summary><div style=\"margin-left: 10px; margin-top: 10px\"><div><div style=\"color: #27374D; font-weight: 500; margin-bottom: 5px\">Input:</div><div style=\"background: #F7F9FA; color: #27374D; font-family: monospace; margin-bottom: 10px; overflow-x: auto; padding: 10px; unicode-bidi: embed; white-space: pre\">{\n",
       "  &quot;source&quot;: &quot;# Converting date columns to datetime\\n\\ndf[&#x27;date_opened&#x27;] = pd.to_datetime(df[&#x27;date_opened&#x27;])\\ndf[&#x27;date_closed&#x27;] = pd.to_datetime(df[&#x27;date_closed&#x27;])\\n\\n# Checking the data types of columns\\n\\ndf.dtypes&quot;\n",
       "}</div></div><div><div style=\"color: #27374D; font-weight: 500; margin-bottom: 5px\">Output:</div><div style=\"background: #F7F9FA; color: #27374D; font-family: monospace; margin-bottom: 10px; overflow-x: auto; padding: 10px; unicode-bidi: embed; white-space: pre\">Out:\n",
       "## Dataframe Summary\n",
       "\n",
       "Number of Rows: 16\n",
       "\n",
       "Number of Columns: 1\n",
       "\n",
       "### Column Information\n",
       "\n",
       "|    |   Column Name | Data Type   |   Missing Values |   % Missing |\n",
       "|----|---------------|-------------|------------------|-------------|\n",
       "|  0 |             0 | object      |                0 |           0 |\n",
       "\n",
       "### Categorical Summary\n",
       "\n",
       "| Column Name   |\n",
       "|---------------|\n",
       "\n",
       "### Sample Data (5x1)\n",
       "\n",
       "|                     | 0      |\n",
       "|---------------------|--------|\n",
       "| case_status         | object |\n",
       "| request_subcategory | object |\n",
       "| apn                 | object |\n",
       "| case_id             | object |\n",
       "| neighborhood        | object |</div></div></div></details></div>"
      ],
      "text/plain": [
       "<chatlab.display.ChatFunctionCall at 0x1363e4810>"
      ]
     },
     "metadata": {},
     "output_type": "display_data"
    },
    {
     "data": {
      "application/vdom.v1+json": {
       "attributes": {},
       "children": [
        {
         "attributes": {},
         "children": [
          ".chatlab-chat-details summary > *  { display: inline; color: #27374D; }"
         ],
         "tagName": "style"
        },
        {
         "attributes": {
          "className": "chatlab-chat-details",
          "style": {
           "background": "#DDE6ED",
           "borderRadius": "5px",
           "padding": ".5rem 1rem"
          }
         },
         "children": [
          {
           "attributes": {
            "style": {
             "color": "#27374D",
             "cursor": "pointer"
            }
           },
           "children": [
            {
             "attributes": {
              "style": {
               "color": "#9DB2BF",
               "paddingLeft": "5px",
               "paddingRight": "5px"
              }
             },
             "children": [
              "𝑓"
             ],
             "tagName": "span"
            },
            {
             "attributes": {
              "style": {
               "color": "#27374D",
               "paddingLeft": "5px",
               "paddingRight": "5px"
              }
             },
             "children": [
              "Ran"
             ],
             "tagName": "span"
            },
            {
             "attributes": {
              "style": {
               "fontFamily": "monospace",
               "unicodeBidi": "embed",
               "whiteSpace": "pre"
              }
             },
             "children": [
              "create_cell"
             ],
             "tagName": "span"
            },
            {
             "attributes": {
              "style": {
               "fontFamily": "monospace",
               "unicodeBidi": "embed",
               "whiteSpace": "pre"
              }
             },
             "children": [
              ""
             ],
             "tagName": "span"
            }
           ],
           "tagName": "summary"
          },
          {
           "attributes": {
            "style": {
             "marginLeft": "10px",
             "marginTop": "10px"
            }
           },
           "children": [
            {
             "attributes": {},
             "children": [
              {
               "attributes": {
                "style": {
                 "color": "#27374D",
                 "fontWeight": "500",
                 "marginBottom": "5px"
                }
               },
               "children": [
                "Input:"
               ],
               "tagName": "div"
              },
              {
               "attributes": {
                "style": {
                 "background": "#F7F9FA",
                 "color": "#27374D",
                 "fontFamily": "monospace",
                 "marginBottom": "10px",
                 "overflowX": "auto",
                 "padding": "10px",
                 "unicodeBidi": "embed",
                 "whiteSpace": "pre"
                }
               },
               "children": [
                "{\n  \"source\": \"# Counting the number of missing values in each column\\n\\ndf.isnull().sum()\"\n}"
               ],
               "tagName": "div"
              }
             ],
             "tagName": "div"
            },
            {
             "attributes": {},
             "children": [
              {
               "attributes": {
                "style": {
                 "color": "#27374D",
                 "fontWeight": "500",
                 "marginBottom": "5px"
                }
               },
               "children": [
                "Output:"
               ],
               "tagName": "div"
              },
              {
               "attributes": {
                "style": {
                 "background": "#F7F9FA",
                 "color": "#27374D",
                 "fontFamily": "monospace",
                 "marginBottom": "10px",
                 "overflowX": "auto",
                 "padding": "10px",
                 "unicodeBidi": "embed",
                 "whiteSpace": "pre"
                }
               },
               "children": [
                "Out:\n## Dataframe Summary\n\nNumber of Rows: 16\n\nNumber of Columns: 1\n\n### Column Information\n\n|    |   Column Name | Data Type   |   Missing Values |   % Missing |\n|----|---------------|-------------|------------------|-------------|\n|  0 |             0 | int64       |                0 |           0 |\n\n### Categorical Summary\n\n| Column Name   |\n|---------------|\n\n### Sample Data (5x1)\n\n|                  |   0 |\n|------------------|-----|\n| state            |   0 |\n| request_category |   0 |\n| object_type      |   0 |\n| location         | 467 |\n| case_id          |   0 |"
               ],
               "tagName": "div"
              }
             ],
             "tagName": "div"
            }
           ],
           "tagName": "div"
          }
         ],
         "tagName": "details"
        }
       ],
       "tagName": "div"
      },
      "text/html": [
       "<div><style>.chatlab-chat-details summary &gt; *  { display: inline; color: #27374D; }</style><details style=\"background: #DDE6ED; border-radius: 5px; padding: .5rem 1rem\" className=\"chatlab-chat-details\"><summary style=\"color: #27374D; cursor: pointer\"><span style=\"color: #9DB2BF; padding-left: 5px; padding-right: 5px\">𝑓</span><span style=\"color: #27374D; padding-left: 5px; padding-right: 5px\">Ran</span><span style=\"font-family: monospace; unicode-bidi: embed; white-space: pre\">create_cell</span><span style=\"font-family: monospace; unicode-bidi: embed; white-space: pre\"></span></summary><div style=\"margin-left: 10px; margin-top: 10px\"><div><div style=\"color: #27374D; font-weight: 500; margin-bottom: 5px\">Input:</div><div style=\"background: #F7F9FA; color: #27374D; font-family: monospace; margin-bottom: 10px; overflow-x: auto; padding: 10px; unicode-bidi: embed; white-space: pre\">{\n",
       "  &quot;source&quot;: &quot;# Counting the number of missing values in each column\\n\\ndf.isnull().sum()&quot;\n",
       "}</div></div><div><div style=\"color: #27374D; font-weight: 500; margin-bottom: 5px\">Output:</div><div style=\"background: #F7F9FA; color: #27374D; font-family: monospace; margin-bottom: 10px; overflow-x: auto; padding: 10px; unicode-bidi: embed; white-space: pre\">Out:\n",
       "## Dataframe Summary\n",
       "\n",
       "Number of Rows: 16\n",
       "\n",
       "Number of Columns: 1\n",
       "\n",
       "### Column Information\n",
       "\n",
       "|    |   Column Name | Data Type   |   Missing Values |   % Missing |\n",
       "|----|---------------|-------------|------------------|-------------|\n",
       "|  0 |             0 | int64       |                0 |           0 |\n",
       "\n",
       "### Categorical Summary\n",
       "\n",
       "| Column Name   |\n",
       "|---------------|\n",
       "\n",
       "### Sample Data (5x1)\n",
       "\n",
       "|                  |   0 |\n",
       "|------------------|-----|\n",
       "| state            |   0 |\n",
       "| request_category |   0 |\n",
       "| object_type      |   0 |\n",
       "| location         | 467 |\n",
       "| case_id          |   0 |</div></div></div></details></div>"
      ],
      "text/plain": [
       "<chatlab.display.ChatFunctionCall at 0x13701d450>"
      ]
     },
     "metadata": {},
     "output_type": "display_data"
    },
    {
     "data": {
      "application/vdom.v1+json": {
       "attributes": {},
       "children": [
        {
         "attributes": {},
         "children": [
          ".chatlab-chat-details summary > *  { display: inline; color: #27374D; }"
         ],
         "tagName": "style"
        },
        {
         "attributes": {
          "className": "chatlab-chat-details",
          "style": {
           "background": "#DDE6ED",
           "borderRadius": "5px",
           "padding": ".5rem 1rem"
          }
         },
         "children": [
          {
           "attributes": {
            "style": {
             "color": "#27374D",
             "cursor": "pointer"
            }
           },
           "children": [
            {
             "attributes": {
              "style": {
               "color": "#9DB2BF",
               "paddingLeft": "5px",
               "paddingRight": "5px"
              }
             },
             "children": [
              "𝑓"
             ],
             "tagName": "span"
            },
            {
             "attributes": {
              "style": {
               "color": "#27374D",
               "paddingLeft": "5px",
               "paddingRight": "5px"
              }
             },
             "children": [
              "Ran"
             ],
             "tagName": "span"
            },
            {
             "attributes": {
              "style": {
               "fontFamily": "monospace",
               "unicodeBidi": "embed",
               "whiteSpace": "pre"
              }
             },
             "children": [
              "create_cell"
             ],
             "tagName": "span"
            },
            {
             "attributes": {
              "style": {
               "fontFamily": "monospace",
               "unicodeBidi": "embed",
               "whiteSpace": "pre"
              }
             },
             "children": [
              ""
             ],
             "tagName": "span"
            }
           ],
           "tagName": "summary"
          },
          {
           "attributes": {
            "style": {
             "marginLeft": "10px",
             "marginTop": "10px"
            }
           },
           "children": [
            {
             "attributes": {},
             "children": [
              {
               "attributes": {
                "style": {
                 "color": "#27374D",
                 "fontWeight": "500",
                 "marginBottom": "5px"
                }
               },
               "children": [
                "Input:"
               ],
               "tagName": "div"
              },
              {
               "attributes": {
                "style": {
                 "background": "#F7F9FA",
                 "color": "#27374D",
                 "fontFamily": "monospace",
                 "marginBottom": "10px",
                 "overflowX": "auto",
                 "padding": "10px",
                 "unicodeBidi": "embed",
                 "whiteSpace": "pre"
                }
               },
               "children": [
                "{\n  \"source\": \"# Checking the unique values in categorical columns\\ndf['case_status'].value_counts()\"\n}"
               ],
               "tagName": "div"
              }
             ],
             "tagName": "div"
            },
            {
             "attributes": {},
             "children": [
              {
               "attributes": {
                "style": {
                 "color": "#27374D",
                 "fontWeight": "500",
                 "marginBottom": "5px"
                }
               },
               "children": [
                "Output:"
               ],
               "tagName": "div"
              },
              {
               "attributes": {
                "style": {
                 "background": "#F7F9FA",
                 "color": "#27374D",
                 "fontFamily": "monospace",
                 "marginBottom": "10px",
                 "overflowX": "auto",
                 "padding": "10px",
                 "unicodeBidi": "embed",
                 "whiteSpace": "pre"
                }
               },
               "children": [
                "Out:\n## Dataframe Summary\n\nNumber of Rows: 2\n\nNumber of Columns: 1\n\n### Column Information\n\n|    | Column Name   | Data Type   |   Missing Values |   % Missing |\n|----|---------------|-------------|------------------|-------------|\n|  0 | case_status   | int64       |                0 |           0 |\n\n### Categorical Summary\n\n| Column Name   |\n|---------------|\n\n### Sample Data (2x1)\n\n|        |   case_status |\n|--------|---------------|\n| Open   |            67 |\n| Closed |           933 |"
               ],
               "tagName": "div"
              }
             ],
             "tagName": "div"
            }
           ],
           "tagName": "div"
          }
         ],
         "tagName": "details"
        }
       ],
       "tagName": "div"
      },
      "text/html": [
       "<div><style>.chatlab-chat-details summary &gt; *  { display: inline; color: #27374D; }</style><details style=\"background: #DDE6ED; border-radius: 5px; padding: .5rem 1rem\" className=\"chatlab-chat-details\"><summary style=\"color: #27374D; cursor: pointer\"><span style=\"color: #9DB2BF; padding-left: 5px; padding-right: 5px\">𝑓</span><span style=\"color: #27374D; padding-left: 5px; padding-right: 5px\">Ran</span><span style=\"font-family: monospace; unicode-bidi: embed; white-space: pre\">create_cell</span><span style=\"font-family: monospace; unicode-bidi: embed; white-space: pre\"></span></summary><div style=\"margin-left: 10px; margin-top: 10px\"><div><div style=\"color: #27374D; font-weight: 500; margin-bottom: 5px\">Input:</div><div style=\"background: #F7F9FA; color: #27374D; font-family: monospace; margin-bottom: 10px; overflow-x: auto; padding: 10px; unicode-bidi: embed; white-space: pre\">{\n",
       "  &quot;source&quot;: &quot;# Checking the unique values in categorical columns\\ndf[&#x27;case_status&#x27;].value_counts()&quot;\n",
       "}</div></div><div><div style=\"color: #27374D; font-weight: 500; margin-bottom: 5px\">Output:</div><div style=\"background: #F7F9FA; color: #27374D; font-family: monospace; margin-bottom: 10px; overflow-x: auto; padding: 10px; unicode-bidi: embed; white-space: pre\">Out:\n",
       "## Dataframe Summary\n",
       "\n",
       "Number of Rows: 2\n",
       "\n",
       "Number of Columns: 1\n",
       "\n",
       "### Column Information\n",
       "\n",
       "|    | Column Name   | Data Type   |   Missing Values |   % Missing |\n",
       "|----|---------------|-------------|------------------|-------------|\n",
       "|  0 | case_status   | int64       |                0 |           0 |\n",
       "\n",
       "### Categorical Summary\n",
       "\n",
       "| Column Name   |\n",
       "|---------------|\n",
       "\n",
       "### Sample Data (2x1)\n",
       "\n",
       "|        |   case_status |\n",
       "|--------|---------------|\n",
       "| Open   |            67 |\n",
       "| Closed |           933 |</div></div></div></details></div>"
      ],
      "text/plain": [
       "<chatlab.display.ChatFunctionCall at 0x137027990>"
      ]
     },
     "metadata": {},
     "output_type": "display_data"
    },
    {
     "data": {
      "application/vdom.v1+json": {
       "attributes": {},
       "children": [
        {
         "attributes": {},
         "children": [
          ".chatlab-chat-details summary > *  { display: inline; color: #27374D; }"
         ],
         "tagName": "style"
        },
        {
         "attributes": {
          "className": "chatlab-chat-details",
          "style": {
           "background": "#DDE6ED",
           "borderRadius": "5px",
           "padding": ".5rem 1rem"
          }
         },
         "children": [
          {
           "attributes": {
            "style": {
             "color": "#27374D",
             "cursor": "pointer"
            }
           },
           "children": [
            {
             "attributes": {
              "style": {
               "color": "#9DB2BF",
               "paddingLeft": "5px",
               "paddingRight": "5px"
              }
             },
             "children": [
              "𝑓"
             ],
             "tagName": "span"
            },
            {
             "attributes": {
              "style": {
               "color": "#27374D",
               "paddingLeft": "5px",
               "paddingRight": "5px"
              }
             },
             "children": [
              "Ran"
             ],
             "tagName": "span"
            },
            {
             "attributes": {
              "style": {
               "fontFamily": "monospace",
               "unicodeBidi": "embed",
               "whiteSpace": "pre"
              }
             },
             "children": [
              "create_cell"
             ],
             "tagName": "span"
            },
            {
             "attributes": {
              "style": {
               "fontFamily": "monospace",
               "unicodeBidi": "embed",
               "whiteSpace": "pre"
              }
             },
             "children": [
              ""
             ],
             "tagName": "span"
            }
           ],
           "tagName": "summary"
          },
          {
           "attributes": {
            "style": {
             "marginLeft": "10px",
             "marginTop": "10px"
            }
           },
           "children": [
            {
             "attributes": {},
             "children": [
              {
               "attributes": {
                "style": {
                 "color": "#27374D",
                 "fontWeight": "500",
                 "marginBottom": "5px"
                }
               },
               "children": [
                "Input:"
               ],
               "tagName": "div"
              },
              {
               "attributes": {
                "style": {
                 "background": "#F7F9FA",
                 "color": "#27374D",
                 "fontFamily": "monospace",
                 "marginBottom": "10px",
                 "overflowX": "auto",
                 "padding": "10px",
                 "unicodeBidi": "embed",
                 "whiteSpace": "pre"
                }
               },
               "children": [
                "{\n  \"source\": \"# Checking the unique values in categorical columns\\ndf['request_category'].value_counts()\"\n}"
               ],
               "tagName": "div"
              }
             ],
             "tagName": "div"
            },
            {
             "attributes": {},
             "children": [
              {
               "attributes": {
                "style": {
                 "color": "#27374D",
                 "fontWeight": "500",
                 "marginBottom": "5px"
                }
               },
               "children": [
                "Output:"
               ],
               "tagName": "div"
              },
              {
               "attributes": {
                "style": {
                 "background": "#F7F9FA",
                 "color": "#27374D",
                 "fontFamily": "monospace",
                 "marginBottom": "10px",
                 "overflowX": "auto",
                 "padding": "10px",
                 "unicodeBidi": "embed",
                 "whiteSpace": "pre"
                }
               },
               "children": [
                "Out:\n## Dataframe Summary\n\nNumber of Rows: 11\n\nNumber of Columns: 1\n\n### Column Information\n\n|    | Column Name      | Data Type   |   Missing Values |   % Missing |\n|----|------------------|-------------|------------------|-------------|\n|  0 | request_category | int64       |                0 |           0 |\n\n### Categorical Summary\n\n| Column Name   |\n|---------------|\n\n### Sample Data (5x1)\n\n|                                        |   request_category |\n|----------------------------------------|--------------------|\n| Other Account Services and Billing     |                 93 |\n| Streets, Utilities, and Transportation |                170 |\n| Refuse and Recycling                   |                455 |\n| Public Records Act                     |                 19 |\n| Government Activity                    |                 18 |"
               ],
               "tagName": "div"
              }
             ],
             "tagName": "div"
            }
           ],
           "tagName": "div"
          }
         ],
         "tagName": "details"
        }
       ],
       "tagName": "div"
      },
      "text/html": [
       "<div><style>.chatlab-chat-details summary &gt; *  { display: inline; color: #27374D; }</style><details style=\"background: #DDE6ED; border-radius: 5px; padding: .5rem 1rem\" className=\"chatlab-chat-details\"><summary style=\"color: #27374D; cursor: pointer\"><span style=\"color: #9DB2BF; padding-left: 5px; padding-right: 5px\">𝑓</span><span style=\"color: #27374D; padding-left: 5px; padding-right: 5px\">Ran</span><span style=\"font-family: monospace; unicode-bidi: embed; white-space: pre\">create_cell</span><span style=\"font-family: monospace; unicode-bidi: embed; white-space: pre\"></span></summary><div style=\"margin-left: 10px; margin-top: 10px\"><div><div style=\"color: #27374D; font-weight: 500; margin-bottom: 5px\">Input:</div><div style=\"background: #F7F9FA; color: #27374D; font-family: monospace; margin-bottom: 10px; overflow-x: auto; padding: 10px; unicode-bidi: embed; white-space: pre\">{\n",
       "  &quot;source&quot;: &quot;# Checking the unique values in categorical columns\\ndf[&#x27;request_category&#x27;].value_counts()&quot;\n",
       "}</div></div><div><div style=\"color: #27374D; font-weight: 500; margin-bottom: 5px\">Output:</div><div style=\"background: #F7F9FA; color: #27374D; font-family: monospace; margin-bottom: 10px; overflow-x: auto; padding: 10px; unicode-bidi: embed; white-space: pre\">Out:\n",
       "## Dataframe Summary\n",
       "\n",
       "Number of Rows: 11\n",
       "\n",
       "Number of Columns: 1\n",
       "\n",
       "### Column Information\n",
       "\n",
       "|    | Column Name      | Data Type   |   Missing Values |   % Missing |\n",
       "|----|------------------|-------------|------------------|-------------|\n",
       "|  0 | request_category | int64       |                0 |           0 |\n",
       "\n",
       "### Categorical Summary\n",
       "\n",
       "| Column Name   |\n",
       "|---------------|\n",
       "\n",
       "### Sample Data (5x1)\n",
       "\n",
       "|                                        |   request_category |\n",
       "|----------------------------------------|--------------------|\n",
       "| Other Account Services and Billing     |                 93 |\n",
       "| Streets, Utilities, and Transportation |                170 |\n",
       "| Refuse and Recycling                   |                455 |\n",
       "| Public Records Act                     |                 19 |\n",
       "| Government Activity                    |                 18 |</div></div></div></details></div>"
      ],
      "text/plain": [
       "<chatlab.display.ChatFunctionCall at 0x137000b50>"
      ]
     },
     "metadata": {},
     "output_type": "display_data"
    },
    {
     "data": {
      "application/vdom.v1+json": {
       "attributes": {},
       "children": [
        {
         "attributes": {},
         "children": [
          ".chatlab-chat-details summary > *  { display: inline; color: #27374D; }"
         ],
         "tagName": "style"
        },
        {
         "attributes": {
          "className": "chatlab-chat-details",
          "style": {
           "background": "#DDE6ED",
           "borderRadius": "5px",
           "padding": ".5rem 1rem"
          }
         },
         "children": [
          {
           "attributes": {
            "style": {
             "color": "#27374D",
             "cursor": "pointer"
            }
           },
           "children": [
            {
             "attributes": {
              "style": {
               "color": "#9DB2BF",
               "paddingLeft": "5px",
               "paddingRight": "5px"
              }
             },
             "children": [
              "𝑓"
             ],
             "tagName": "span"
            },
            {
             "attributes": {
              "style": {
               "color": "#27374D",
               "paddingLeft": "5px",
               "paddingRight": "5px"
              }
             },
             "children": [
              "Ran"
             ],
             "tagName": "span"
            },
            {
             "attributes": {
              "style": {
               "fontFamily": "monospace",
               "unicodeBidi": "embed",
               "whiteSpace": "pre"
              }
             },
             "children": [
              "create_cell"
             ],
             "tagName": "span"
            },
            {
             "attributes": {
              "style": {
               "fontFamily": "monospace",
               "unicodeBidi": "embed",
               "whiteSpace": "pre"
              }
             },
             "children": [
              ""
             ],
             "tagName": "span"
            }
           ],
           "tagName": "summary"
          },
          {
           "attributes": {
            "style": {
             "marginLeft": "10px",
             "marginTop": "10px"
            }
           },
           "children": [
            {
             "attributes": {},
             "children": [
              {
               "attributes": {
                "style": {
                 "color": "#27374D",
                 "fontWeight": "500",
                 "marginBottom": "5px"
                }
               },
               "children": [
                "Input:"
               ],
               "tagName": "div"
              },
              {
               "attributes": {
                "style": {
                 "background": "#F7F9FA",
                 "color": "#27374D",
                 "fontFamily": "monospace",
                 "marginBottom": "10px",
                 "overflowX": "auto",
                 "padding": "10px",
                 "unicodeBidi": "embed",
                 "whiteSpace": "pre"
                }
               },
               "children": [
                "{\n  \"source\": \"# Checking the unique values in categorical columns\\ndf['object_type'].value_counts()\"\n}"
               ],
               "tagName": "div"
              }
             ],
             "tagName": "div"
            },
            {
             "attributes": {},
             "children": [
              {
               "attributes": {
                "style": {
                 "color": "#27374D",
                 "fontWeight": "500",
                 "marginBottom": "5px"
                }
               },
               "children": [
                "Output:"
               ],
               "tagName": "div"
              },
              {
               "attributes": {
                "style": {
                 "background": "#F7F9FA",
                 "color": "#27374D",
                 "fontFamily": "monospace",
                 "marginBottom": "10px",
                 "overflowX": "auto",
                 "padding": "10px",
                 "unicodeBidi": "embed",
                 "whiteSpace": "pre"
                }
               },
               "children": [
                "Out:\n## Dataframe Summary\n\nNumber of Rows: 5\n\nNumber of Columns: 1\n\n### Column Information\n\n|    | Column Name   | Data Type   |   Missing Values |   % Missing |\n|----|---------------|-------------|------------------|-------------|\n|  0 | object_type   | int64       |                0 |           0 |\n\n### Categorical Summary\n\n| Column Name   |\n|---------------|\n\n### Sample Data (5x1)\n\n|              |   object_type |\n|--------------|---------------|\n| Street       |            11 |\n| Property     |           683 |\n| Individual   |           287 |\n| Unknown      |             7 |\n| Organisation |            12 |"
               ],
               "tagName": "div"
              }
             ],
             "tagName": "div"
            }
           ],
           "tagName": "div"
          }
         ],
         "tagName": "details"
        }
       ],
       "tagName": "div"
      },
      "text/html": [
       "<div><style>.chatlab-chat-details summary &gt; *  { display: inline; color: #27374D; }</style><details style=\"background: #DDE6ED; border-radius: 5px; padding: .5rem 1rem\" className=\"chatlab-chat-details\"><summary style=\"color: #27374D; cursor: pointer\"><span style=\"color: #9DB2BF; padding-left: 5px; padding-right: 5px\">𝑓</span><span style=\"color: #27374D; padding-left: 5px; padding-right: 5px\">Ran</span><span style=\"font-family: monospace; unicode-bidi: embed; white-space: pre\">create_cell</span><span style=\"font-family: monospace; unicode-bidi: embed; white-space: pre\"></span></summary><div style=\"margin-left: 10px; margin-top: 10px\"><div><div style=\"color: #27374D; font-weight: 500; margin-bottom: 5px\">Input:</div><div style=\"background: #F7F9FA; color: #27374D; font-family: monospace; margin-bottom: 10px; overflow-x: auto; padding: 10px; unicode-bidi: embed; white-space: pre\">{\n",
       "  &quot;source&quot;: &quot;# Checking the unique values in categorical columns\\ndf[&#x27;object_type&#x27;].value_counts()&quot;\n",
       "}</div></div><div><div style=\"color: #27374D; font-weight: 500; margin-bottom: 5px\">Output:</div><div style=\"background: #F7F9FA; color: #27374D; font-family: monospace; margin-bottom: 10px; overflow-x: auto; padding: 10px; unicode-bidi: embed; white-space: pre\">Out:\n",
       "## Dataframe Summary\n",
       "\n",
       "Number of Rows: 5\n",
       "\n",
       "Number of Columns: 1\n",
       "\n",
       "### Column Information\n",
       "\n",
       "|    | Column Name   | Data Type   |   Missing Values |   % Missing |\n",
       "|----|---------------|-------------|------------------|-------------|\n",
       "|  0 | object_type   | int64       |                0 |           0 |\n",
       "\n",
       "### Categorical Summary\n",
       "\n",
       "| Column Name   |\n",
       "|---------------|\n",
       "\n",
       "### Sample Data (5x1)\n",
       "\n",
       "|              |   object_type |\n",
       "|--------------|---------------|\n",
       "| Street       |            11 |\n",
       "| Property     |           683 |\n",
       "| Individual   |           287 |\n",
       "| Unknown      |             7 |\n",
       "| Organisation |            12 |</div></div></div></details></div>"
      ],
      "text/plain": [
       "<chatlab.display.ChatFunctionCall at 0x1363d3050>"
      ]
     },
     "metadata": {},
     "output_type": "display_data"
    },
    {
     "data": {
      "application/vdom.v1+json": {
       "attributes": {},
       "children": [
        {
         "attributes": {},
         "children": [
          ".chatlab-chat-details summary > *  { display: inline; color: #27374D; }"
         ],
         "tagName": "style"
        },
        {
         "attributes": {
          "className": "chatlab-chat-details",
          "style": {
           "background": "#DDE6ED",
           "borderRadius": "5px",
           "padding": ".5rem 1rem"
          }
         },
         "children": [
          {
           "attributes": {
            "style": {
             "color": "#27374D",
             "cursor": "pointer"
            }
           },
           "children": [
            {
             "attributes": {
              "style": {
               "color": "#9DB2BF",
               "paddingLeft": "5px",
               "paddingRight": "5px"
              }
             },
             "children": [
              "𝑓"
             ],
             "tagName": "span"
            },
            {
             "attributes": {
              "style": {
               "color": "#27374D",
               "paddingLeft": "5px",
               "paddingRight": "5px"
              }
             },
             "children": [
              "Ran"
             ],
             "tagName": "span"
            },
            {
             "attributes": {
              "style": {
               "fontFamily": "monospace",
               "unicodeBidi": "embed",
               "whiteSpace": "pre"
              }
             },
             "children": [
              "create_cell"
             ],
             "tagName": "span"
            },
            {
             "attributes": {
              "style": {
               "fontFamily": "monospace",
               "unicodeBidi": "embed",
               "whiteSpace": "pre"
              }
             },
             "children": [
              ""
             ],
             "tagName": "span"
            }
           ],
           "tagName": "summary"
          },
          {
           "attributes": {
            "style": {
             "marginLeft": "10px",
             "marginTop": "10px"
            }
           },
           "children": [
            {
             "attributes": {},
             "children": [
              {
               "attributes": {
                "style": {
                 "color": "#27374D",
                 "fontWeight": "500",
                 "marginBottom": "5px"
                }
               },
               "children": [
                "Input:"
               ],
               "tagName": "div"
              },
              {
               "attributes": {
                "style": {
                 "background": "#F7F9FA",
                 "color": "#27374D",
                 "fontFamily": "monospace",
                 "marginBottom": "10px",
                 "overflowX": "auto",
                 "padding": "10px",
                 "unicodeBidi": "embed",
                 "whiteSpace": "pre"
                }
               },
               "children": [
                "{\n  \"source\": \"# Plotting the distribution of case status\\ndf['case_status'].value_counts().plot(kind='bar')\\nplt.xlabel('Case Status')\\nplt.ylabel('Count')\\nplt.title('Distribution of Case Status')\\nplt.show()\"\n}"
               ],
               "tagName": "div"
              }
             ],
             "tagName": "div"
            },
            {
             "attributes": {},
             "children": [
              {
               "attributes": {
                "style": {
                 "color": "#27374D",
                 "fontWeight": "500",
                 "marginBottom": "5px"
                }
               },
               "children": [
                "Output:"
               ],
               "tagName": "div"
              },
              {
               "attributes": {
                "style": {
                 "background": "#F7F9FA",
                 "color": "#27374D",
                 "fontFamily": "monospace",
                 "marginBottom": "10px",
                 "overflowX": "auto",
                 "padding": "10px",
                 "unicodeBidi": "embed",
                 "whiteSpace": "pre"
                }
               },
               "children": [
                "Out:\n<!-- Large output too large for chat. It is available in the notebook that the user can see -->"
               ],
               "tagName": "div"
              }
             ],
             "tagName": "div"
            }
           ],
           "tagName": "div"
          }
         ],
         "tagName": "details"
        }
       ],
       "tagName": "div"
      },
      "text/html": [
       "<div><style>.chatlab-chat-details summary &gt; *  { display: inline; color: #27374D; }</style><details style=\"background: #DDE6ED; border-radius: 5px; padding: .5rem 1rem\" className=\"chatlab-chat-details\"><summary style=\"color: #27374D; cursor: pointer\"><span style=\"color: #9DB2BF; padding-left: 5px; padding-right: 5px\">𝑓</span><span style=\"color: #27374D; padding-left: 5px; padding-right: 5px\">Ran</span><span style=\"font-family: monospace; unicode-bidi: embed; white-space: pre\">create_cell</span><span style=\"font-family: monospace; unicode-bidi: embed; white-space: pre\"></span></summary><div style=\"margin-left: 10px; margin-top: 10px\"><div><div style=\"color: #27374D; font-weight: 500; margin-bottom: 5px\">Input:</div><div style=\"background: #F7F9FA; color: #27374D; font-family: monospace; margin-bottom: 10px; overflow-x: auto; padding: 10px; unicode-bidi: embed; white-space: pre\">{\n",
       "  &quot;source&quot;: &quot;# Plotting the distribution of case status\\ndf[&#x27;case_status&#x27;].value_counts().plot(kind=&#x27;bar&#x27;)\\nplt.xlabel(&#x27;Case Status&#x27;)\\nplt.ylabel(&#x27;Count&#x27;)\\nplt.title(&#x27;Distribution of Case Status&#x27;)\\nplt.show()&quot;\n",
       "}</div></div><div><div style=\"color: #27374D; font-weight: 500; margin-bottom: 5px\">Output:</div><div style=\"background: #F7F9FA; color: #27374D; font-family: monospace; margin-bottom: 10px; overflow-x: auto; padding: 10px; unicode-bidi: embed; white-space: pre\">Out:\n",
       "&lt;!-- Large output too large for chat. It is available in the notebook that the user can see --&gt;</div></div></div></details></div>"
      ],
      "text/plain": [
       "<chatlab.display.ChatFunctionCall at 0x1370029d0>"
      ]
     },
     "metadata": {},
     "output_type": "display_data"
    },
    {
     "data": {
      "application/vdom.v1+json": {
       "attributes": {},
       "children": [
        {
         "attributes": {},
         "children": [
          ".chatlab-chat-details summary > *  { display: inline; color: #27374D; }"
         ],
         "tagName": "style"
        },
        {
         "attributes": {
          "className": "chatlab-chat-details",
          "style": {
           "background": "#DDE6ED",
           "borderRadius": "5px",
           "padding": ".5rem 1rem"
          }
         },
         "children": [
          {
           "attributes": {
            "style": {
             "color": "#27374D",
             "cursor": "pointer"
            }
           },
           "children": [
            {
             "attributes": {
              "style": {
               "color": "#9DB2BF",
               "paddingLeft": "5px",
               "paddingRight": "5px"
              }
             },
             "children": [
              "𝑓"
             ],
             "tagName": "span"
            },
            {
             "attributes": {
              "style": {
               "color": "#27374D",
               "paddingLeft": "5px",
               "paddingRight": "5px"
              }
             },
             "children": [
              "Ran"
             ],
             "tagName": "span"
            },
            {
             "attributes": {
              "style": {
               "fontFamily": "monospace",
               "unicodeBidi": "embed",
               "whiteSpace": "pre"
              }
             },
             "children": [
              "create_cell"
             ],
             "tagName": "span"
            },
            {
             "attributes": {
              "style": {
               "fontFamily": "monospace",
               "unicodeBidi": "embed",
               "whiteSpace": "pre"
              }
             },
             "children": [
              ""
             ],
             "tagName": "span"
            }
           ],
           "tagName": "summary"
          },
          {
           "attributes": {
            "style": {
             "marginLeft": "10px",
             "marginTop": "10px"
            }
           },
           "children": [
            {
             "attributes": {},
             "children": [
              {
               "attributes": {
                "style": {
                 "color": "#27374D",
                 "fontWeight": "500",
                 "marginBottom": "5px"
                }
               },
               "children": [
                "Input:"
               ],
               "tagName": "div"
              },
              {
               "attributes": {
                "style": {
                 "background": "#F7F9FA",
                 "color": "#27374D",
                 "fontFamily": "monospace",
                 "marginBottom": "10px",
                 "overflowX": "auto",
                 "padding": "10px",
                 "unicodeBidi": "embed",
                 "whiteSpace": "pre"
                }
               },
               "children": [
                "{\n  \"source\": \"# Plotting the distribution of request categories\\ndf['request_category'].value_counts().plot(kind='bar')\\nplt.xlabel('Request Category')\\nplt.ylabel('Count')\\nplt.title('Distribution of Request Categories')\\nplt.xticks(rotation='vertical')\\nplt.show()\"\n}"
               ],
               "tagName": "div"
              }
             ],
             "tagName": "div"
            },
            {
             "attributes": {},
             "children": [
              {
               "attributes": {
                "style": {
                 "color": "#27374D",
                 "fontWeight": "500",
                 "marginBottom": "5px"
                }
               },
               "children": [
                "Output:"
               ],
               "tagName": "div"
              },
              {
               "attributes": {
                "style": {
                 "background": "#F7F9FA",
                 "color": "#27374D",
                 "fontFamily": "monospace",
                 "marginBottom": "10px",
                 "overflowX": "auto",
                 "padding": "10px",
                 "unicodeBidi": "embed",
                 "whiteSpace": "pre"
                }
               },
               "children": [
                "Out:\n<!-- Large output too large for chat. It is available in the notebook that the user can see -->"
               ],
               "tagName": "div"
              }
             ],
             "tagName": "div"
            }
           ],
           "tagName": "div"
          }
         ],
         "tagName": "details"
        }
       ],
       "tagName": "div"
      },
      "text/html": [
       "<div><style>.chatlab-chat-details summary &gt; *  { display: inline; color: #27374D; }</style><details style=\"background: #DDE6ED; border-radius: 5px; padding: .5rem 1rem\" className=\"chatlab-chat-details\"><summary style=\"color: #27374D; cursor: pointer\"><span style=\"color: #9DB2BF; padding-left: 5px; padding-right: 5px\">𝑓</span><span style=\"color: #27374D; padding-left: 5px; padding-right: 5px\">Ran</span><span style=\"font-family: monospace; unicode-bidi: embed; white-space: pre\">create_cell</span><span style=\"font-family: monospace; unicode-bidi: embed; white-space: pre\"></span></summary><div style=\"margin-left: 10px; margin-top: 10px\"><div><div style=\"color: #27374D; font-weight: 500; margin-bottom: 5px\">Input:</div><div style=\"background: #F7F9FA; color: #27374D; font-family: monospace; margin-bottom: 10px; overflow-x: auto; padding: 10px; unicode-bidi: embed; white-space: pre\">{\n",
       "  &quot;source&quot;: &quot;# Plotting the distribution of request categories\\ndf[&#x27;request_category&#x27;].value_counts().plot(kind=&#x27;bar&#x27;)\\nplt.xlabel(&#x27;Request Category&#x27;)\\nplt.ylabel(&#x27;Count&#x27;)\\nplt.title(&#x27;Distribution of Request Categories&#x27;)\\nplt.xticks(rotation=&#x27;vertical&#x27;)\\nplt.show()&quot;\n",
       "}</div></div><div><div style=\"color: #27374D; font-weight: 500; margin-bottom: 5px\">Output:</div><div style=\"background: #F7F9FA; color: #27374D; font-family: monospace; margin-bottom: 10px; overflow-x: auto; padding: 10px; unicode-bidi: embed; white-space: pre\">Out:\n",
       "&lt;!-- Large output too large for chat. It is available in the notebook that the user can see --&gt;</div></div></div></details></div>"
      ],
      "text/plain": [
       "<chatlab.display.ChatFunctionCall at 0x137001f90>"
      ]
     },
     "metadata": {},
     "output_type": "display_data"
    },
    {
     "data": {
      "application/vdom.v1+json": {
       "attributes": {},
       "children": [
        {
         "attributes": {},
         "children": [
          ".chatlab-chat-details summary > *  { display: inline; color: #27374D; }"
         ],
         "tagName": "style"
        },
        {
         "attributes": {
          "className": "chatlab-chat-details",
          "style": {
           "background": "#DDE6ED",
           "borderRadius": "5px",
           "padding": ".5rem 1rem"
          }
         },
         "children": [
          {
           "attributes": {
            "style": {
             "color": "#27374D",
             "cursor": "pointer"
            }
           },
           "children": [
            {
             "attributes": {
              "style": {
               "color": "#9DB2BF",
               "paddingLeft": "5px",
               "paddingRight": "5px"
              }
             },
             "children": [
              "𝑓"
             ],
             "tagName": "span"
            },
            {
             "attributes": {
              "style": {
               "color": "#27374D",
               "paddingLeft": "5px",
               "paddingRight": "5px"
              }
             },
             "children": [
              "Ran"
             ],
             "tagName": "span"
            },
            {
             "attributes": {
              "style": {
               "fontFamily": "monospace",
               "unicodeBidi": "embed",
               "whiteSpace": "pre"
              }
             },
             "children": [
              "create_cell"
             ],
             "tagName": "span"
            },
            {
             "attributes": {
              "style": {
               "fontFamily": "monospace",
               "unicodeBidi": "embed",
               "whiteSpace": "pre"
              }
             },
             "children": [
              ""
             ],
             "tagName": "span"
            }
           ],
           "tagName": "summary"
          },
          {
           "attributes": {
            "style": {
             "marginLeft": "10px",
             "marginTop": "10px"
            }
           },
           "children": [
            {
             "attributes": {},
             "children": [
              {
               "attributes": {
                "style": {
                 "color": "#27374D",
                 "fontWeight": "500",
                 "marginBottom": "5px"
                }
               },
               "children": [
                "Input:"
               ],
               "tagName": "div"
              },
              {
               "attributes": {
                "style": {
                 "background": "#F7F9FA",
                 "color": "#27374D",
                 "fontFamily": "monospace",
                 "marginBottom": "10px",
                 "overflowX": "auto",
                 "padding": "10px",
                 "unicodeBidi": "embed",
                 "whiteSpace": "pre"
                }
               },
               "children": [
                "{\n  \"source\": \"# Plotting the distribution of object types\\ndf['object_type'].value_counts().plot(kind='bar')\\nplt.xlabel('Object Type')\\nplt.ylabel('Count')\\nplt.title('Distribution of Object Types')\\nplt.xticks(rotation='vertical')\\nplt.show()\"\n}"
               ],
               "tagName": "div"
              }
             ],
             "tagName": "div"
            },
            {
             "attributes": {},
             "children": [
              {
               "attributes": {
                "style": {
                 "color": "#27374D",
                 "fontWeight": "500",
                 "marginBottom": "5px"
                }
               },
               "children": [
                "Output:"
               ],
               "tagName": "div"
              },
              {
               "attributes": {
                "style": {
                 "background": "#F7F9FA",
                 "color": "#27374D",
                 "fontFamily": "monospace",
                 "marginBottom": "10px",
                 "overflowX": "auto",
                 "padding": "10px",
                 "unicodeBidi": "embed",
                 "whiteSpace": "pre"
                }
               },
               "children": [
                "Out:\n<!-- Large output too large for chat. It is available in the notebook that the user can see -->"
               ],
               "tagName": "div"
              }
             ],
             "tagName": "div"
            }
           ],
           "tagName": "div"
          }
         ],
         "tagName": "details"
        }
       ],
       "tagName": "div"
      },
      "text/html": [
       "<div><style>.chatlab-chat-details summary &gt; *  { display: inline; color: #27374D; }</style><details style=\"background: #DDE6ED; border-radius: 5px; padding: .5rem 1rem\" className=\"chatlab-chat-details\"><summary style=\"color: #27374D; cursor: pointer\"><span style=\"color: #9DB2BF; padding-left: 5px; padding-right: 5px\">𝑓</span><span style=\"color: #27374D; padding-left: 5px; padding-right: 5px\">Ran</span><span style=\"font-family: monospace; unicode-bidi: embed; white-space: pre\">create_cell</span><span style=\"font-family: monospace; unicode-bidi: embed; white-space: pre\"></span></summary><div style=\"margin-left: 10px; margin-top: 10px\"><div><div style=\"color: #27374D; font-weight: 500; margin-bottom: 5px\">Input:</div><div style=\"background: #F7F9FA; color: #27374D; font-family: monospace; margin-bottom: 10px; overflow-x: auto; padding: 10px; unicode-bidi: embed; white-space: pre\">{\n",
       "  &quot;source&quot;: &quot;# Plotting the distribution of object types\\ndf[&#x27;object_type&#x27;].value_counts().plot(kind=&#x27;bar&#x27;)\\nplt.xlabel(&#x27;Object Type&#x27;)\\nplt.ylabel(&#x27;Count&#x27;)\\nplt.title(&#x27;Distribution of Object Types&#x27;)\\nplt.xticks(rotation=&#x27;vertical&#x27;)\\nplt.show()&quot;\n",
       "}</div></div><div><div style=\"color: #27374D; font-weight: 500; margin-bottom: 5px\">Output:</div><div style=\"background: #F7F9FA; color: #27374D; font-family: monospace; margin-bottom: 10px; overflow-x: auto; padding: 10px; unicode-bidi: embed; white-space: pre\">Out:\n",
       "&lt;!-- Large output too large for chat. It is available in the notebook that the user can see --&gt;</div></div></div></details></div>"
      ],
      "text/plain": [
       "<chatlab.display.ChatFunctionCall at 0x13703ec50>"
      ]
     },
     "metadata": {},
     "output_type": "display_data"
    },
    {
     "data": {
      "application/vdom.v1+json": {
       "attributes": {},
       "children": [
        {
         "attributes": {},
         "children": [
          ".chatlab-chat-details summary > *  { display: inline; color: #27374D; }"
         ],
         "tagName": "style"
        },
        {
         "attributes": {
          "className": "chatlab-chat-details",
          "style": {
           "background": "#DDE6ED",
           "borderRadius": "5px",
           "padding": ".5rem 1rem"
          }
         },
         "children": [
          {
           "attributes": {
            "style": {
             "color": "#27374D",
             "cursor": "pointer"
            }
           },
           "children": [
            {
             "attributes": {
              "style": {
               "color": "#9DB2BF",
               "paddingLeft": "5px",
               "paddingRight": "5px"
              }
             },
             "children": [
              "𝑓"
             ],
             "tagName": "span"
            },
            {
             "attributes": {
              "style": {
               "color": "#27374D",
               "paddingLeft": "5px",
               "paddingRight": "5px"
              }
             },
             "children": [
              "Ran"
             ],
             "tagName": "span"
            },
            {
             "attributes": {
              "style": {
               "fontFamily": "monospace",
               "unicodeBidi": "embed",
               "whiteSpace": "pre"
              }
             },
             "children": [
              "create_cell"
             ],
             "tagName": "span"
            },
            {
             "attributes": {
              "style": {
               "fontFamily": "monospace",
               "unicodeBidi": "embed",
               "whiteSpace": "pre"
              }
             },
             "children": [
              ""
             ],
             "tagName": "span"
            }
           ],
           "tagName": "summary"
          },
          {
           "attributes": {
            "style": {
             "marginLeft": "10px",
             "marginTop": "10px"
            }
           },
           "children": [
            {
             "attributes": {},
             "children": [
              {
               "attributes": {
                "style": {
                 "color": "#27374D",
                 "fontWeight": "500",
                 "marginBottom": "5px"
                }
               },
               "children": [
                "Input:"
               ],
               "tagName": "div"
              },
              {
               "attributes": {
                "style": {
                 "background": "#F7F9FA",
                 "color": "#27374D",
                 "fontFamily": "monospace",
                 "marginBottom": "10px",
                 "overflowX": "auto",
                 "padding": "10px",
                 "unicodeBidi": "embed",
                 "whiteSpace": "pre"
                }
               },
               "children": [
                "{\n  \"source\": \"# Grouping data by case status and calculating the average time to close the cases\\ndf_grouped = df.groupby('case_status')['date_closed'].mean().reset_index()\\n\\n# Plotting the average time to close the cases\\ndf_grouped.plot(x='case_status', y='date_closed', kind='bar')\\nplt.xlabel('Case Status')\\nplt.ylabel('Average Time to Close (days)')\\nplt.title('Average Time to Close the Cases by Case Status')\\nplt.show()\"\n}"
               ],
               "tagName": "div"
              }
             ],
             "tagName": "div"
            },
            {
             "attributes": {},
             "children": [
              {
               "attributes": {
                "style": {
                 "color": "#27374D",
                 "fontWeight": "500",
                 "marginBottom": "5px"
                }
               },
               "children": [
                "Output:"
               ],
               "tagName": "div"
              },
              {
               "attributes": {
                "style": {
                 "background": "#F7F9FA",
                 "color": "#27374D",
                 "fontFamily": "monospace",
                 "marginBottom": "10px",
                 "overflowX": "auto",
                 "padding": "10px",
                 "unicodeBidi": "embed",
                 "whiteSpace": "pre"
                }
               },
               "children": [
                "Out:\n<!-- Large output too large for chat. It is available in the notebook that the user can see -->"
               ],
               "tagName": "div"
              }
             ],
             "tagName": "div"
            }
           ],
           "tagName": "div"
          }
         ],
         "tagName": "details"
        }
       ],
       "tagName": "div"
      },
      "text/html": [
       "<div><style>.chatlab-chat-details summary &gt; *  { display: inline; color: #27374D; }</style><details style=\"background: #DDE6ED; border-radius: 5px; padding: .5rem 1rem\" className=\"chatlab-chat-details\"><summary style=\"color: #27374D; cursor: pointer\"><span style=\"color: #9DB2BF; padding-left: 5px; padding-right: 5px\">𝑓</span><span style=\"color: #27374D; padding-left: 5px; padding-right: 5px\">Ran</span><span style=\"font-family: monospace; unicode-bidi: embed; white-space: pre\">create_cell</span><span style=\"font-family: monospace; unicode-bidi: embed; white-space: pre\"></span></summary><div style=\"margin-left: 10px; margin-top: 10px\"><div><div style=\"color: #27374D; font-weight: 500; margin-bottom: 5px\">Input:</div><div style=\"background: #F7F9FA; color: #27374D; font-family: monospace; margin-bottom: 10px; overflow-x: auto; padding: 10px; unicode-bidi: embed; white-space: pre\">{\n",
       "  &quot;source&quot;: &quot;# Grouping data by case status and calculating the average time to close the cases\\ndf_grouped = df.groupby(&#x27;case_status&#x27;)[&#x27;date_closed&#x27;].mean().reset_index()\\n\\n# Plotting the average time to close the cases\\ndf_grouped.plot(x=&#x27;case_status&#x27;, y=&#x27;date_closed&#x27;, kind=&#x27;bar&#x27;)\\nplt.xlabel(&#x27;Case Status&#x27;)\\nplt.ylabel(&#x27;Average Time to Close (days)&#x27;)\\nplt.title(&#x27;Average Time to Close the Cases by Case Status&#x27;)\\nplt.show()&quot;\n",
       "}</div></div><div><div style=\"color: #27374D; font-weight: 500; margin-bottom: 5px\">Output:</div><div style=\"background: #F7F9FA; color: #27374D; font-family: monospace; margin-bottom: 10px; overflow-x: auto; padding: 10px; unicode-bidi: embed; white-space: pre\">Out:\n",
       "&lt;!-- Large output too large for chat. It is available in the notebook that the user can see --&gt;</div></div></div></details></div>"
      ],
      "text/plain": [
       "<chatlab.display.ChatFunctionCall at 0x13700da90>"
      ]
     },
     "metadata": {},
     "output_type": "display_data"
    },
    {
     "data": {
      "text/markdown": [
       "In the notebook [Berkeley_311_Analysis.ipynb](https://app.noteable.io/f/e59108a5-344f-45a3-af90-c40d964db9e9/Berkeley_311_Analysis.ipynb), I have performed the following analysis on the Berkeley 311 calls data:\n",
       "\n",
       "1. Imported necessary libraries.\n",
       "2. Fetched the Berkeley 311 calls data from the provided URL.\n",
       "3. Created a pandas DataFrame from the data.\n",
       "4. Checked the data types of the columns.\n",
       "5. Counted the number of missing values in each column.\n",
       "6. Dropped unnecessary columns from the DataFrame.\n",
       "7. Converted date columns to datetime format.\n",
       "8. Checked the data types of columns again.\n",
       "9. Counted the number of missing values in each column again.\n",
       "10. Checked the unique values in categorical columns.\n",
       "11. Plotted the distribution of case status, request categories, and object types.\n",
       "12. Grouped the data by case status and calculated the average time to close the cases.\n",
       "13. Plotted the average time to close the cases by case status.\n",
       "\n",
       "You can view the complete analysis with code and visualizations in the notebook. Let me know if there is anything specific you would like me to further analyze or if you have any other questions."
      ],
      "text/plain": [
       "In the notebook [Berkeley_311_Analysis.ipynb](https://app.noteable.io/f/e59108a5-344f-45a3-af90-c40d964db9e9/Berkeley_311_Analysis.ipynb), I have performed the following analysis on the Berkeley 311 calls data:\n",
       "\n",
       "1. Imported necessary libraries.\n",
       "2. Fetched the Berkeley 311 calls data from the provided URL.\n",
       "3. Created a pandas DataFrame from the data.\n",
       "4. Checked the data types of the columns.\n",
       "5. Counted the number of missing values in each column.\n",
       "6. Dropped unnecessary columns from the DataFrame.\n",
       "7. Converted date columns to datetime format.\n",
       "8. Checked the data types of columns again.\n",
       "9. Counted the number of missing values in each column again.\n",
       "10. Checked the unique values in categorical columns.\n",
       "11. Plotted the distribution of case status, request categories, and object types.\n",
       "12. Grouped the data by case status and calculated the average time to close the cases.\n",
       "13. Plotted the average time to close the cases by case status.\n",
       "\n",
       "You can view the complete analysis with code and visualizations in the notebook. Let me know if there is anything specific you would like me to further analyze or if you have any other questions."
      ]
     },
     "metadata": {
      "text/markdown": {
       "chatlab": {
        "default": true
       }
      }
     },
     "output_type": "display_data"
    }
   ],
   "source": [
    "await chat(\n",
    "    \"Let's make a notebook to analyze the Berkeley 311 calls from https://data.cityofberkeley.info/resource/bscu-qpbu.json. Please run code, perform analysis, and do the full EDA lifecycle for me. I recommend running the cells yourself as I want you to make sure to work based on the actual data format. Show me your best data scientist.\"\n",
    ")"
   ]
  }
 ],
 "metadata": {
  "kernelspec": {
   "display_name": "chatlab-3kMKfU-i-py3.11",
   "language": "python",
   "name": "python3"
  },
  "language_info": {
   "codemirror_mode": {
    "name": "ipython",
    "version": 3
   },
   "file_extension": ".py",
   "mimetype": "text/x-python",
   "name": "python",
   "nbconvert_exporter": "python",
   "pygments_lexer": "ipython3",
   "version": "3.11.1"
  },
  "orig_nbformat": 4
 },
 "nbformat": 4,
 "nbformat_minor": 2
}
