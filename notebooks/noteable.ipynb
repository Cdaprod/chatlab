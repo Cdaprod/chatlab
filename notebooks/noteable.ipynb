{
 "cells": [
  {
   "cell_type": "markdown",
   "metadata": {},
   "source": [
    "## Noteable Plugin\n",
    "\n",
    "```bash\n",
    "pip install chatlab[noteable]\n",
    "```\n",
    "\n",
    "ChatLab can optionally be installed with a Noteable `NotebookClient`. Using this, you can re-create the Noteable Plugin experience in your own Jupyter Notebook environment. The `NotebookClient` allows you to pass only the functionsw you want, allowing you to tailor how the LLM responds. There's also a significant speed improvement over the Noteable Plugin because:\n",
    "\n",
    "- The `NotebookClient` maintains a copy of the realtime notebook, allowing for faster cell creation and retrieval\n",
    "- The one notebook per conversation model allows for faster LLM operations since it doesn't have to \"type out\" file IDs and project IDs continuously\n",
    "\n",
    "You can even use this to create your own isolated version of the code interpreter. It's up to you to mix and match the functions you want to expose to the LLM.\n"
   ]
  },
  {
   "cell_type": "code",
   "execution_count": 1,
   "metadata": {},
   "outputs": [],
   "source": [
    "from chatlab import models, Chat, FunctionRegistry, system\n",
    "from chatlab.builtins.noteable import NotebookClient"
   ]
  },
  {
   "cell_type": "markdown",
   "metadata": {},
   "source": [
    "In order to get the closest experience to the plugin, we'll grab the \"plugin prompt\" that comes in the Noteable manifest for the ChatGPT Plugin. We can then provide this in a `system` prompt for the model.\n"
   ]
  },
  {
   "cell_type": "code",
   "execution_count": 2,
   "metadata": {},
   "outputs": [
    {
     "name": "stdout",
     "output_type": "stream",
     "text": [
      "On https://app.noteable.io, create and run Jupyter notebooks with code, markdown, and SQL...\n"
     ]
    }
   ],
   "source": [
    "import requests\n",
    "\n",
    "plugin_prompt = requests.get(\"https://chat.noteable.io/.well-known/ai-plugin.json\").json()[\"description_for_model\"]\n",
    "\n",
    "print(plugin_prompt[:90].strip() + \"...\")"
   ]
  },
  {
   "cell_type": "code",
   "execution_count": 3,
   "metadata": {},
   "outputs": [
    {
     "data": {
      "text/plain": [
       "FunctionDefinition(name='create_notebook', parameters={'properties': {'file_name': {'type': 'string'}}, 'required': ['file_name'], 'type': 'object'}, description='Create a notebook to use in this conversation')"
      ]
     },
     "execution_count": 3,
     "metadata": {},
     "output_type": "execute_result"
    }
   ],
   "source": [
    "import os\n",
    "\n",
    "registry = FunctionRegistry()\n",
    "\n",
    "\n",
    "async def create_notebook(file_name: str):\n",
    "    \"\"\"Create a notebook to use in this conversation\"\"\"\n",
    "    nc = await NotebookClient.create(file_name=file_name, token=os.environ.get(\"NOTEABLE_TOKEN\"))\n",
    "\n",
    "    # Register all the regular notebook operations\n",
    "    registry.register_functions(nc.chat_functions)\n",
    "    # Let the model do `python` (which creates and runs a cell)\n",
    "    registry.python_hallucination_function = nc.python\n",
    "\n",
    "    return f\"Notebook created at {nc.notebook_url}\"\n",
    "\n",
    "\n",
    "registry.register(create_notebook)"
   ]
  },
  {
   "cell_type": "code",
   "execution_count": 6,
   "metadata": {},
   "outputs": [
    {
     "data": {
      "text/plain": [
       "{'functions': [{'name': 'create_notebook',\n",
       "   'parameters': {'properties': {'file_name': {'type': 'string'}},\n",
       "    'required': ['file_name'],\n",
       "    'type': 'object'},\n",
       "   'description': 'Create a notebook to use in this conversation'},\n",
       "  {'name': 'create_cell',\n",
       "   'parameters': {'properties': {'source': {'type': 'string'},\n",
       "     'cell_type': {'enum': ['code', 'markdown', 'sql'], 'type': 'string'},\n",
       "     'cell_id': {'default': None, 'type': 'string'},\n",
       "     'and_run': {'default': False, 'type': 'boolean'},\n",
       "     'after_cell_id': {'default': None, 'type': 'string'},\n",
       "     'db_connection': {'default': None, 'type': 'string'},\n",
       "     'assign_results_to': {'default': None, 'type': 'string'}},\n",
       "    'required': ['source', 'cell_type'],\n",
       "    'type': 'object'},\n",
       "   'description': 'Create a code, markdown, or SQL cell.'},\n",
       "  {'name': 'update_cell',\n",
       "   'parameters': {'properties': {'cell_id': {'type': 'string'},\n",
       "     'source': {'default': None, 'type': 'string'},\n",
       "     'cell_type': {'default': None,\n",
       "      'enum': ['code', 'markdown', 'sql'],\n",
       "      'type': 'string'},\n",
       "     'and_run': {'default': False, 'type': 'boolean'},\n",
       "     'db_connection': {'default': None, 'type': 'string'},\n",
       "     'assign_results_to': {'default': None, 'type': 'string'}},\n",
       "    'required': ['cell_id'],\n",
       "    'type': 'object'},\n",
       "   'description': 'Update properties of a cell, including source, cell_type'},\n",
       "  {'name': 'run_cell',\n",
       "   'parameters': {'properties': {'cell_id': {'type': 'string'}},\n",
       "    'required': ['cell_id'],\n",
       "    'type': 'object'},\n",
       "   'description': 'Run a Cell within a Notebook by ID.'},\n",
       "  {'name': 'get_cell',\n",
       "   'parameters': {'properties': {'cell_id': {'type': 'string'},\n",
       "     'with_outputs': {'default': True, 'type': 'boolean'}},\n",
       "    'required': ['cell_id'],\n",
       "    'type': 'object'},\n",
       "   'description': 'Get a cell by ID.'},\n",
       "  {'name': 'get_cell_ids',\n",
       "   'parameters': {'properties': {}, 'type': 'object', 'required': []},\n",
       "   'description': 'Get a list of cell IDs.'},\n",
       "  {'name': 'read_notebook',\n",
       "   'parameters': {'properties': {}, 'type': 'object', 'required': []},\n",
       "   'description': 'Get enough of the notebook to make follow up calls to get_cell'},\n",
       "  {'name': 'get_datasources',\n",
       "   'parameters': {'properties': {}, 'type': 'object', 'required': []},\n",
       "   'description': 'Get a list of databases, AKA datasources.'}],\n",
       " 'function_call': 'auto'}"
      ]
     },
     "execution_count": 6,
     "metadata": {},
     "output_type": "execute_result"
    }
   ],
   "source": [
    "chat = Chat(system(plugin_prompt), model=models.GPT_4_1106_PREVIEW, function_registry=registry)\n",
    "chat.function_registry.api_manifest()"
   ]
  },
  {
   "cell_type": "code",
   "execution_count": 7,
   "metadata": {},
   "outputs": [
    {
     "data": {
      "text/html": [
       "<div><style>.chatlab-chat-details summary &gt; *  { display: inline; color: #27374D; }</style><details style=\"background: #DDE6ED; border-radius: 5px; padding: .5rem 1rem\" className=\"chatlab-chat-details\"><summary style=\"color: #27374D; cursor: pointer\"><span style=\"color: #9DB2BF; padding-left: 5px; padding-right: 5px\">𝑓</span><span style=\"color: #27374D; padding-left: 5px; padding-right: 5px\">Ran</span><span style=\"font-family: monospace; unicode-bidi: embed; white-space: pre\">create_notebook</span><span style=\"font-family: monospace; unicode-bidi: embed; white-space: pre\"></span></summary><div style=\"margin-left: 10px; margin-top: 10px\"><div><div style=\"color: #27374D; font-weight: 500; margin-bottom: 5px\">Input:</div><div style=\"background: #F7F9FA; color: #27374D; font-family: monospace; margin-bottom: 10px; overflow-x: auto; padding: 10px; unicode-bidi: embed; white-space: pre\">{&quot;file_name&quot;:&quot;Berkeley_311_Calls_Analysis&quot;}</div></div><div><div style=\"color: #27374D; font-weight: 500; margin-bottom: 5px\">Output:</div><div style=\"background: #F7F9FA; color: #27374D; font-family: monospace; margin-bottom: 10px; overflow-x: auto; padding: 10px; unicode-bidi: embed; white-space: pre\">Notebook created at https://app.noteable.io/f/603087ed-d88b-4d32-908d-78a80e7dc5f9</div></div></div></details></div>"
      ],
      "text/plain": [
       "<chatlab.display.ChatFunctionCall at 0x14c2e1fd0>"
      ]
     },
     "metadata": {},
     "output_type": "display_data"
    },
    {
     "name": "stderr",
     "output_type": "stream",
     "text": [
      "Received un-modeled RTU message msg.channel='files/28bafe03-cecc-4b7e-876a-7aedb1dfada0' msg.event='usage_metrics_event'\n"
     ]
    },
    {
     "data": {
      "text/markdown": [
       "I have created a notebook titled \"Berkeley 311 Calls Analysis\" where we will perform the full Exploratory Data Analysis (EDA) lifecycle on the Berkeley 311 calls dataset. The next steps will include:\n",
       "\n",
       "1. Data Acquisition: We will start by fetching the data from the provided URL.\n",
       "2. Data Cleaning: We will inspect the data for any inconsistencies, missing values, or outliers and clean it accordingly.\n",
       "3. Data Exploration: We will explore the data to understand the distribution of various features and look for any patterns or correlations.\n",
       "4. Data Visualization: We will create visualizations to help us better understand the data and to communicate our findings.\n",
       "5. Analysis: We will analyze the data to answer specific questions or to extract meaningful insights.\n",
       "\n",
       "Let's begin by fetching the data from the provided URL. I will write and execute the code to load the data into our notebook."
      ],
      "text/plain": [
       "I have created a notebook titled \"Berkeley 311 Calls Analysis\" where we will perform the full Exploratory Data Analysis (EDA) lifecycle on the Berkeley 311 calls dataset. The next steps will include:\n",
       "\n",
       "1. Data Acquisition: We will start by fetching the data from the provided URL.\n",
       "2. Data Cleaning: We will inspect the data for any inconsistencies, missing values, or outliers and clean it accordingly.\n",
       "3. Data Exploration: We will explore the data to understand the distribution of various features and look for any patterns or correlations.\n",
       "4. Data Visualization: We will create visualizations to help us better understand the data and to communicate our findings.\n",
       "5. Analysis: We will analyze the data to answer specific questions or to extract meaningful insights.\n",
       "\n",
       "Let's begin by fetching the data from the provided URL. I will write and execute the code to load the data into our notebook."
      ]
     },
     "metadata": {
      "text/markdown": {
       "chatlab": {
        "default": true
       }
      }
     },
     "output_type": "display_data"
    },
    {
     "data": {
      "text/html": [
       "<div><style>.chatlab-chat-details summary &gt; *  { display: inline; color: #27374D; }</style><details style=\"background: #DDE6ED; border-radius: 5px; padding: .5rem 1rem\" className=\"chatlab-chat-details\"><summary style=\"color: #27374D; cursor: pointer\"><span style=\"color: #9DB2BF; padding-left: 5px; padding-right: 5px\">𝑓</span><span style=\"color: #27374D; padding-left: 5px; padding-right: 5px\">Ran</span><span style=\"font-family: monospace; unicode-bidi: embed; white-space: pre\">create_cell</span><span style=\"font-family: monospace; unicode-bidi: embed; white-space: pre\"></span></summary><div style=\"margin-left: 10px; margin-top: 10px\"><div><div style=\"color: #27374D; font-weight: 500; margin-bottom: 5px\">Input:</div><div style=\"background: #F7F9FA; color: #27374D; font-family: monospace; margin-bottom: 10px; overflow-x: auto; padding: 10px; unicode-bidi: embed; white-space: pre\">{&quot;source&quot;:&quot;import pandas as pd\\nimport requests\\n\\n# Fetch the data from the provided URL\\nurl = &#x27;https://data.cityofberkeley.info/resource/bscu-qpbu.json&#x27;\\ndata_response = requests.get(url)\\n\\n# Check if the request was successful\\nif data_response.status_code == 200:\\n    # Load the data into a pandas DataFrame\\n    data = pd.read_json(data_response.text)\\n    # Display the first few rows of the DataFrame\\n    display(data.head())\\nelse:\\n    print(&#x27;Failed to retrieve data: Status code&#x27;, data_response.status_code)&quot;,&quot;cell_type&quot;:&quot;code&quot;,&quot;and_run&quot;:true}</div></div><div><div style=\"color: #27374D; font-weight: 500; margin-bottom: 5px\">Output:</div><div style=\"background: #F7F9FA; color: #27374D; font-family: monospace; margin-bottom: 10px; overflow-x: auto; padding: 10px; unicode-bidi: embed; white-space: pre\">Out:\n",
       "## Dataframe Summary\n",
       "\n",
       "Number of Rows: 5\n",
       "\n",
       "Number of Columns: 23\n",
       "\n",
       "### Column Information\n",
       "\n",
       "|    | Column Name                 | Data Type   |   Missing Values |   % Missing |\n",
       "|----|-----------------------------|-------------|------------------|-------------|\n",
       "|  0 | case_id                     | int64       |                0 |           0 |\n",
       "|  1 | date_opened                 | object      |                0 |           0 |\n",
       "|  2 | case_status                 | object      |                0 |           0 |\n",
       "|  3 | date_closed                 | object      |                1 |          20 |\n",
       "|  4 | request_category            | object      |                0 |           0 |\n",
       "|  5 | request_subcategory         | object      |                0 |           0 |\n",
       "|  6 | request_detail              | object      |                0 |           0 |\n",
       "|  7 | object_type                 | object      |                0 |           0 |\n",
       "|  8 | street_address              | object      |                2 |          40 |\n",
       "|  9 | city                        | object      |                0 |           0 |\n",
       "| 10 | state                       | object      |                0 |           0 |\n",
       "| 11 | neighborhood                | object      |                0 |           0 |\n",
       "| 12 | apn                         | object      |                3 |          60 |\n",
       "| 13 | latitude                    | float64     |                3 |          60 |\n",
       "| 14 | longitude                   | float64     |                3 |          60 |\n",
       "| 15 | location                    | object      |                3 |          60 |\n",
       "| 16 | :@computed_region_b3wi_w8ix | float64     |                3 |          60 |\n",
       "| 17 | :@computed_region_fhmw_rucx | float64     |                3 |          60 |\n",
       "| 18 | :@computed_region_u3y2_d2ws | float64     |                3 |          60 |\n",
       "| 19 | :@computed_region_5s6d_2f32 | float64     |                3 |          60 |\n",
       "| 20 | :@computed_region_3ini_iehf | float64     |                3 |          60 |\n",
       "| 21 | :@computed_region_5bih_7r3y | float64     |                3 |          60 |\n",
       "| 22 | :@computed_region_x3q3_gi3e | float64     |                3 |          60 |\n",
       "\n",
       "### Categorical Summary\n",
       "\n",
       "| Column Name   |\n",
       "|---------------|\n",
       "\n",
       "### Sample Data (5x16)\n",
       "\n",
       "|    | date_opened             |      case_id | request_category                             | apn           | request_subcategory            |   longitude | date_closed             | state   | city     | street_address                                     | request_detail                | case_status   |   latitude | object_type   | neighborhood   | location                                                                                                                                          |\n",
       "|----|-------------------------|--------------|----------------------------------------------|---------------|--------------------------------|-------------|-------------------------|---------|----------|----------------------------------------------------|-------------------------------|---------------|------------|---------------|----------------|---------------------------------------------------------------------------------------------------------------------------------------------------|\n",
       "|  0 | 2021-09-16T06:23:23.000 | 121000877593 | Facilities, Electrical &amp; Property Management | nan           | Parks/Marina Building Services |     nan     | 2021-09-20T11:22:22.000 | CA      | Berkeley | Intersection of Browning and Addison, BERKELEY, CA | Keys / Locks                  | Closed        |   nan      | Property      | Berkeley       | nan                                                                                                                                               |\n",
       "|  1 | 2021-09-13T10:50:00.000 | 121000876647 | Refuse and Recycling                         | 054 180702800 | Residential                    |    -122.275 | nan                     | CA      | Berkeley | 1722 DWIGHT WAY                                    | Residential Bulky Pickup      | Open          |    37.8627 | Property      | Berkeley       | {&quot;latitude&quot;: &quot;37.86265624&quot;, &quot;longitude&quot;: &quot;-122.27546088&quot;, &quot;human_address&quot;: &quot;{\\&quot;address\\&quot;: \\&quot;\\&quot;, \\&quot;city\\&quot;: \\&quot;\\&quot;, \\&quot;state\\&quot;: \\&quot;\\&quot;, \\&quot;zip\\&quot;: \\&quot;\\&quot;}&quot;} |\n",
       "|  4 | 2020-09-01T11:32:00.000 | 121000793663 | Other Account Services and Billing           | nan           | Marina                         |     nan     | 2020-09-01T11:36:00.000 | CA      | Berkeley | nan                                                | Payment Collection - Marina   | Closed        |   nan      | Individual    | Berkeley       | nan                                                                                                                                               |\n",
       "|  3 | 2020-11-06T16:38:00.000 | 121000809739 | General Questions/information                | 060 249305600 | Miscellaneous                  |    -122.248 | 2020-11-09T01:41:12.000 | CA      | Berkeley | 1411 GRIZZLY PEAK BLVD                             | Miscellaneous Service Request | Closed        |    37.8848 | Property      | Berkeley       | {&quot;latitude&quot;: &quot;37.88479918&quot;, &quot;longitude&quot;: &quot;-122.24787412&quot;, &quot;human_address&quot;: &quot;{\\&quot;address\\&quot;: \\&quot;\\&quot;, \\&quot;city\\&quot;: \\&quot;\\&quot;, \\&quot;state\\&quot;: \\&quot;\\&quot;, \\&quot;zip\\&quot;: \\&quot;\\&quot;}&quot;} |\n",
       "|  2 | 2020-11-06T16:51:00.000 | 121000809740 | General Questions/information                | nan           | Miscellaneous                  |     nan     | 2020-11-09T01:52:57.000 | CA      | Berkeley | nan                                                | Miscellaneous Service Request | Closed        |   nan      | Individual    | Berkeley       | nan                                                                                                                                               |</div></div></div></details></div>"
      ],
      "text/plain": [
       "<chatlab.display.ChatFunctionCall at 0x1199cd610>"
      ]
     },
     "metadata": {},
     "output_type": "display_data"
    },
    {
     "name": "stderr",
     "output_type": "stream",
     "text": [
      "Received un-modeled RTU message msg.channel='files/28bafe03-cecc-4b7e-876a-7aedb1dfada0' msg.event='usage_metrics_event'\n"
     ]
    },
    {
     "data": {
      "text/markdown": [
       "The data has been successfully loaded into a pandas DataFrame, and we have a preview of the first few rows. Here's a summary of the dataset:\n",
       "\n",
       "- Number of Rows: 5 (sample preview)\n",
       "- Number of Columns: 23\n",
       "- There are several columns with missing values, particularly `date_closed`, `street_address`, `apn`, `latitude`, `longitude`, and `location`, among others.\n",
       "- The dataset contains a mix of numerical and categorical data, including identifiers, dates, location information, and various categories related to the 311 calls.\n",
       "\n",
       "Next, I will perform data cleaning to handle missing values and ensure the data types are appropriate for each column. After that, we will proceed with a more detailed exploration and visualization of the data. Let's start with the data cleaning process."
      ],
      "text/plain": [
       "The data has been successfully loaded into a pandas DataFrame, and we have a preview of the first few rows. Here's a summary of the dataset:\n",
       "\n",
       "- Number of Rows: 5 (sample preview)\n",
       "- Number of Columns: 23\n",
       "- There are several columns with missing values, particularly `date_closed`, `street_address`, `apn`, `latitude`, `longitude`, and `location`, among others.\n",
       "- The dataset contains a mix of numerical and categorical data, including identifiers, dates, location information, and various categories related to the 311 calls.\n",
       "\n",
       "Next, I will perform data cleaning to handle missing values and ensure the data types are appropriate for each column. After that, we will proceed with a more detailed exploration and visualization of the data. Let's start with the data cleaning process."
      ]
     },
     "metadata": {
      "text/markdown": {
       "chatlab": {
        "default": true
       }
      }
     },
     "output_type": "display_data"
    },
    {
     "data": {
      "text/html": [
       "<div><style>.chatlab-chat-details summary &gt; *  { display: inline; color: #27374D; }</style><details style=\"background: #DDE6ED; border-radius: 5px; padding: .5rem 1rem\" className=\"chatlab-chat-details\"><summary style=\"color: #27374D; cursor: pointer\"><span style=\"color: #9DB2BF; padding-left: 5px; padding-right: 5px\">𝑓</span><span style=\"color: #27374D; padding-left: 5px; padding-right: 5px\">Ran</span><span style=\"font-family: monospace; unicode-bidi: embed; white-space: pre\">create_cell</span><span style=\"font-family: monospace; unicode-bidi: embed; white-space: pre\"></span></summary><div style=\"margin-left: 10px; margin-top: 10px\"><div><div style=\"color: #27374D; font-weight: 500; margin-bottom: 5px\">Input:</div><div style=\"background: #F7F9FA; color: #27374D; font-family: monospace; margin-bottom: 10px; overflow-x: auto; padding: 10px; unicode-bidi: embed; white-space: pre\">{&quot;source&quot;:&quot;# Data Cleaning\\n\\ndef clean_data(df):\\n    # Convert &#x27;date_opened&#x27; and &#x27;date_closed&#x27; to datetime\\n    df[&#x27;date_opened&#x27;] = pd.to_datetime(df[&#x27;date_opened&#x27;])\\n    df[&#x27;date_closed&#x27;] = pd.to_datetime(df[&#x27;date_closed&#x27;])\\n    \\n    # Fill missing &#x27;street_address&#x27; with &#x27;Unknown&#x27;\\n    df[&#x27;street_address&#x27;] = df[&#x27;street_address&#x27;].fillna(&#x27;Unknown&#x27;)\\n    \\n    # Drop columns with high percentage of missing values or irrelevant information\\n    columns_to_drop = [col for col in df.columns if col.startswith(&#x27;:@computed_region&#x27;) or col == &#x27;apn&#x27;]\\n    df = df.drop(columns=columns_to_drop)\\n    \\n    # Fill missing &#x27;latitude&#x27; and &#x27;longitude&#x27; with the mean value\\n    df[&#x27;latitude&#x27;] = df[&#x27;latitude&#x27;].fillna(df[&#x27;latitude&#x27;].mean())\\n    df[&#x27;longitude&#x27;] = df[&#x27;longitude&#x27;].fillna(df[&#x27;longitude&#x27;].mean())\\n    \\n    return df\\n\\ndata_cleaned = clean_data(data)\\ndisplay(data_cleaned.head())&quot;,&quot;cell_type&quot;:&quot;code&quot;,&quot;and_run&quot;:true}</div></div><div><div style=\"color: #27374D; font-weight: 500; margin-bottom: 5px\">Output:</div><div style=\"background: #F7F9FA; color: #27374D; font-family: monospace; margin-bottom: 10px; overflow-x: auto; padding: 10px; unicode-bidi: embed; white-space: pre\">Out:\n",
       "## Dataframe Summary\n",
       "\n",
       "Number of Rows: 5\n",
       "\n",
       "Number of Columns: 15\n",
       "\n",
       "### Column Information\n",
       "\n",
       "|    | Column Name         | Data Type      |   Missing Values |   % Missing |\n",
       "|----|---------------------|----------------|------------------|-------------|\n",
       "|  0 | case_id             | int64          |                0 |           0 |\n",
       "|  1 | date_opened         | datetime64[ns] |                0 |           0 |\n",
       "|  2 | case_status         | object         |                0 |           0 |\n",
       "|  3 | date_closed         | datetime64[ns] |                1 |          20 |\n",
       "|  4 | request_category    | object         |                0 |           0 |\n",
       "|  5 | request_subcategory | object         |                0 |           0 |\n",
       "|  6 | request_detail      | object         |                0 |           0 |\n",
       "|  7 | object_type         | object         |                0 |           0 |\n",
       "|  8 | street_address      | object         |                0 |           0 |\n",
       "|  9 | city                | object         |                0 |           0 |\n",
       "| 10 | state               | object         |                0 |           0 |\n",
       "| 11 | neighborhood        | object         |                0 |           0 |\n",
       "| 12 | latitude            | float64        |                0 |           0 |\n",
       "| 13 | longitude           | float64        |                0 |           0 |\n",
       "| 14 | location            | object         |                3 |          60 |\n",
       "\n",
       "### Categorical Summary\n",
       "\n",
       "|    | Column Name   |   count |   unique | top                 |   freq | first               | last                |\n",
       "|----|---------------|---------|----------|---------------------|--------|---------------------|---------------------|\n",
       "|  0 | date_opened   |       5 |        5 | 2021-09-16 06:23:23 |      1 | 2020-09-01 11:32:00 | 2021-09-16 06:23:23 |\n",
       "|  1 | date_closed   |       4 |        4 | 2021-09-20 11:22:22 |      1 | 2020-09-01 11:36:00 | 2021-09-20 11:22:22 |\n",
       "\n",
       "### Sample Data (5x15)\n",
       "\n",
       "|    | location                                                                                                                                          | street_address                                     | date_closed         | neighborhood   |   longitude | city     |      case_id | date_opened         | case_status   | object_type   | state   | request_category                             | request_subcategory            | request_detail                |   latitude |\n",
       "|----|---------------------------------------------------------------------------------------------------------------------------------------------------|----------------------------------------------------|---------------------|----------------|-------------|----------|--------------|---------------------|---------------|---------------|---------|----------------------------------------------|--------------------------------|-------------------------------|------------|\n",
       "|  1 | {&quot;latitude&quot;: &quot;37.86265624&quot;, &quot;longitude&quot;: &quot;-122.27546088&quot;, &quot;human_address&quot;: &quot;{\\&quot;address\\&quot;: \\&quot;\\&quot;, \\&quot;city\\&quot;: \\&quot;\\&quot;, \\&quot;state\\&quot;: \\&quot;\\&quot;, \\&quot;zip\\&quot;: \\&quot;\\&quot;}&quot;} | 1722 DWIGHT WAY                                    | NaT                 | Berkeley       |    -122.275 | Berkeley | 121000876647 | 2021-09-13 10:50:00 | Open          | Property      | CA      | Refuse and Recycling                         | Residential                    | Residential Bulky Pickup      |    37.8627 |\n",
       "|  0 | nan                                                                                                                                               | Intersection of Browning and Addison, BERKELEY, CA | 2021-09-20 11:22:22 | Berkeley       |    -122.275 | Berkeley | 121000877593 | 2021-09-16 06:23:23 | Closed        | Property      | CA      | Facilities, Electrical &amp; Property Management | Parks/Marina Building Services | Keys / Locks                  |    37.8685 |\n",
       "|  2 | nan                                                                                                                                               | Unknown                                            | 2020-11-09 01:52:57 | Berkeley       |    -122.275 | Berkeley | 121000809740 | 2020-11-06 16:51:00 | Closed        | Individual    | CA      | General Questions/information                | Miscellaneous                  | Miscellaneous Service Request |    37.8685 |\n",
       "|  4 | nan                                                                                                                                               | Unknown                                            | 2020-09-01 11:36:00 | Berkeley       |    -122.275 | Berkeley | 121000793663 | 2020-09-01 11:32:00 | Closed        | Individual    | CA      | Other Account Services and Billing           | Marina                         | Payment Collection - Marina   |    37.8685 |\n",
       "|  3 | {&quot;latitude&quot;: &quot;37.88479918&quot;, &quot;longitude&quot;: &quot;-122.24787412&quot;, &quot;human_address&quot;: &quot;{\\&quot;address\\&quot;: \\&quot;\\&quot;, \\&quot;city\\&quot;: \\&quot;\\&quot;, \\&quot;state\\&quot;: \\&quot;\\&quot;, \\&quot;zip\\&quot;: \\&quot;\\&quot;}&quot;} | 1411 GRIZZLY PEAK BLVD                             | 2020-11-09 01:41:12 | Berkeley       |    -122.248 | Berkeley | 121000809739 | 2020-11-06 16:38:00 | Closed        | Property      | CA      | General Questions/information                | Miscellaneous                  | Miscellaneous Service Request |    37.8848 |</div></div></div></details></div>"
      ],
      "text/plain": [
       "<chatlab.display.ChatFunctionCall at 0x14c5655d0>"
      ]
     },
     "metadata": {},
     "output_type": "display_data"
    },
    {
     "name": "stderr",
     "output_type": "stream",
     "text": [
      "Received un-modeled RTU message msg.channel='files/28bafe03-cecc-4b7e-876a-7aedb1dfada0' msg.event='usage_metrics_event'\n",
      "Received un-modeled RTU message msg.channel='files/603087ed-d88b-4d32-908d-78a80e7dc5f9' msg.event='usage_metrics_event'\n"
     ]
    },
    {
     "data": {
      "text/markdown": [
       "The data has been cleaned with the following steps:\n",
       "\n",
       "1. Converted 'date_opened' and 'date_closed' to datetime format.\n",
       "2. Filled missing 'street_address' values with 'Unknown'.\n",
       "3. Dropped columns with a high percentage of missing values or irrelevant information (computed regions and APN).\n",
       "4. Filled missing 'latitude' and 'longitude' values with their mean values.\n",
       "\n",
       "We now have a cleaner dataset with 15 columns, and we're ready to proceed with a more detailed exploration and visualization. Let's start by getting a general sense of the data distribution and any potential outliers. I will create visualizations for this purpose."
      ],
      "text/plain": [
       "The data has been cleaned with the following steps:\n",
       "\n",
       "1. Converted 'date_opened' and 'date_closed' to datetime format.\n",
       "2. Filled missing 'street_address' values with 'Unknown'.\n",
       "3. Dropped columns with a high percentage of missing values or irrelevant information (computed regions and APN).\n",
       "4. Filled missing 'latitude' and 'longitude' values with their mean values.\n",
       "\n",
       "We now have a cleaner dataset with 15 columns, and we're ready to proceed with a more detailed exploration and visualization. Let's start by getting a general sense of the data distribution and any potential outliers. I will create visualizations for this purpose."
      ]
     },
     "metadata": {
      "text/markdown": {
       "chatlab": {
        "default": true
       }
      }
     },
     "output_type": "display_data"
    },
    {
     "name": "stderr",
     "output_type": "stream",
     "text": [
      "Received un-modeled RTU message msg.channel='files/28bafe03-cecc-4b7e-876a-7aedb1dfada0' msg.event='usage_metrics_event'\n",
      "Received un-modeled RTU message msg.channel='files/603087ed-d88b-4d32-908d-78a80e7dc5f9' msg.event='usage_metrics_event'\n"
     ]
    },
    {
     "data": {
      "text/html": [
       "<div><style>.chatlab-chat-details summary &gt; *  { display: inline; color: #27374D; }</style><details style=\"background: #DDE6ED; border-radius: 5px; padding: .5rem 1rem\" className=\"chatlab-chat-details\"><summary style=\"color: #27374D; cursor: pointer\"><span style=\"color: #9DB2BF; padding-left: 5px; padding-right: 5px\">𝑓</span><span style=\"color: #27374D; padding-left: 5px; padding-right: 5px\">Ran</span><span style=\"font-family: monospace; unicode-bidi: embed; white-space: pre\">create_cell</span><span style=\"font-family: monospace; unicode-bidi: embed; white-space: pre\"></span></summary><div style=\"margin-left: 10px; margin-top: 10px\"><div><div style=\"color: #27374D; font-weight: 500; margin-bottom: 5px\">Input:</div><div style=\"background: #F7F9FA; color: #27374D; font-family: monospace; margin-bottom: 10px; overflow-x: auto; padding: 10px; unicode-bidi: embed; white-space: pre\">{&quot;source&quot;:&quot;import matplotlib.pyplot as plt\\nimport seaborn as sns\\n\\n# Set the aesthetic style of the plots\\nsns.set_style(&#x27;whitegrid&#x27;)\\n\\n# Function to create distribution plots for numerical data\\ndef plot_distributions(df, numerical_columns):\\n    fig, axes = plt.subplots(len(numerical_columns), 1, figsize=(10, 5 * len(numerical_columns)))\\n    for ax, col in zip(axes, numerical_columns):\\n        sns.histplot(df[col], ax=ax, kde=True)\\n        ax.set_title(f&#x27;Distribution of {col}&#x27;, fontsize=14)\\n        ax.set_xlabel(&#x27;&#x27;)\\n        ax.set_ylabel(&#x27;&#x27;)\\n    plt.tight_layout()\\n    plt.show()\\n\\n# Function to create count plots for categorical data\\ndef plot_counts(df, categorical_columns):\\n    fig, axes = plt.subplots(len(categorical_columns), 1, figsize=(10, 5 * len(categorical_columns)))\\n    for ax, col in zip(axes, categorical_columns):\\n        sns.countplot(y=df[col], ax=ax, order=df[col].value_counts().index)\\n        ax.set_title(f&#x27;Count of {col}&#x27;, fontsize=14)\\n        ax.set_xlabel(&#x27;&#x27;)\\n        ax.set_ylabel(&#x27;&#x27;)\\n    plt.tight_layout()\\n    plt.show()\\n\\n# Identify numerical and categorical columns\\nnumerical_columns = [&#x27;latitude&#x27;, &#x27;longitude&#x27;]\\ncategorical_columns = [&#x27;case_status&#x27;, &#x27;request_category&#x27;, &#x27;request_subcategory&#x27;, &#x27;object_type&#x27;, &#x27;neighborhood&#x27;]\\n\\n# Plot distributions for numerical columns\\nplot_distributions(data_cleaned, numerical_columns)\\n\\n# Plot counts for categorical columns\\nplot_counts(data_cleaned, categorical_columns)&quot;,&quot;cell_type&quot;:&quot;code&quot;,&quot;and_run&quot;:true}</div></div><div><div style=\"color: #27374D; font-weight: 500; margin-bottom: 5px\">Output:</div><div style=\"background: #F7F9FA; color: #27374D; font-family: monospace; margin-bottom: 10px; overflow-x: auto; padding: 10px; unicode-bidi: embed; white-space: pre\">Out:\n",
       "&lt;Figure size 1000x1000 with 2 Axes&gt;\n",
       "&lt;Figure size 1000x2500 with 5 Axes&gt;</div></div></div></details></div>"
      ],
      "text/plain": [
       "<chatlab.display.ChatFunctionCall at 0x14c461ad0>"
      ]
     },
     "metadata": {},
     "output_type": "display_data"
    },
    {
     "name": "stderr",
     "output_type": "stream",
     "text": [
      "Received un-modeled RTU message msg.channel='files/28bafe03-cecc-4b7e-876a-7aedb1dfada0' msg.event='usage_metrics_event'\n",
      "Received un-modeled RTU message msg.channel='files/603087ed-d88b-4d32-908d-78a80e7dc5f9' msg.event='usage_metrics_event'\n",
      "Received un-modeled RTU message msg.channel='files/28bafe03-cecc-4b7e-876a-7aedb1dfada0' msg.event='usage_metrics_event'\n",
      "Received un-modeled RTU message msg.channel='files/603087ed-d88b-4d32-908d-78a80e7dc5f9' msg.event='usage_metrics_event'\n"
     ]
    },
    {
     "data": {
      "text/markdown": [
       "The visualizations have been created to provide an overview of the data distribution:\n",
       "\n",
       "1. Histograms for numerical columns (latitude and longitude) show the distribution of these values, including the central tendency and spread.\n",
       "2. Count plots for categorical columns (case_status, request_category, request_subcategory, object_type, neighborhood) show the frequency of each category within these columns.\n",
       "\n",
       "These visualizations help us understand the range and commonality of the data points in our dataset. Unfortunately, the actual plots cannot be displayed here, but you can view them directly in the notebook.\n",
       "\n",
       "Next, we can dive deeper into specific questions or areas of interest. For example, we might want to know the most common request categories, the average time to close a case, or if there are any trends over time. Let's proceed with this analysis. What specific aspect would you like to explore further?"
      ],
      "text/plain": [
       "The visualizations have been created to provide an overview of the data distribution:\n",
       "\n",
       "1. Histograms for numerical columns (latitude and longitude) show the distribution of these values, including the central tendency and spread.\n",
       "2. Count plots for categorical columns (case_status, request_category, request_subcategory, object_type, neighborhood) show the frequency of each category within these columns.\n",
       "\n",
       "These visualizations help us understand the range and commonality of the data points in our dataset. Unfortunately, the actual plots cannot be displayed here, but you can view them directly in the notebook.\n",
       "\n",
       "Next, we can dive deeper into specific questions or areas of interest. For example, we might want to know the most common request categories, the average time to close a case, or if there are any trends over time. Let's proceed with this analysis. What specific aspect would you like to explore further?"
      ]
     },
     "metadata": {
      "text/markdown": {
       "chatlab": {
        "default": true
       }
      }
     },
     "output_type": "display_data"
    },
    {
     "name": "stderr",
     "output_type": "stream",
     "text": [
      "Received un-modeled RTU message msg.channel='files/28bafe03-cecc-4b7e-876a-7aedb1dfada0' msg.event='usage_metrics_event'\n"
     ]
    }
   ],
   "source": [
    "await chat(\n",
    "    \"Let's make a notebook to analyze the Berkeley 311 calls from https://data.cityofberkeley.info/resource/bscu-qpbu.json. Please run code, perform analysis, and do the full EDA lifecycle for me. I recommend running the cells yourself as I want you to make sure to work based on the actual data format. Show me your best data scientist.\"\n",
    ")"
   ]
  },
  {
   "cell_type": "code",
   "execution_count": 8,
   "metadata": {},
   "outputs": [
    {
     "name": "stderr",
     "output_type": "stream",
     "text": [
      "Received un-modeled RTU message msg.channel='files/603087ed-d88b-4d32-908d-78a80e7dc5f9' msg.event='usage_metrics_event'\n"
     ]
    },
    {
     "data": {
      "text/html": [
       "<div><style>.chatlab-chat-details summary &gt; *  { display: inline; color: #27374D; }</style><details style=\"background: #DDE6ED; border-radius: 5px; padding: .5rem 1rem\" className=\"chatlab-chat-details\"><summary style=\"color: #27374D; cursor: pointer\"><span style=\"color: #9DB2BF; padding-left: 5px; padding-right: 5px\">𝑓</span><span style=\"color: #27374D; padding-left: 5px; padding-right: 5px\">Ran</span><span style=\"font-family: monospace; unicode-bidi: embed; white-space: pre\">create_cell</span><span style=\"font-family: monospace; unicode-bidi: embed; white-space: pre\"></span></summary><div style=\"margin-left: 10px; margin-top: 10px\"><div><div style=\"color: #27374D; font-weight: 500; margin-bottom: 5px\">Input:</div><div style=\"background: #F7F9FA; color: #27374D; font-family: monospace; margin-bottom: 10px; overflow-x: auto; padding: 10px; unicode-bidi: embed; white-space: pre\">{&quot;source&quot;:&quot;# Berkeley 311 Calls Analysis\\n\\nThis notebook is dedicated to performing an exploratory data analysis (EDA) on the dataset of 311 calls from the city of Berkeley. The dataset contains information about various non-emergency requests or complaints made by the citizens of Berkeley to the city&#x27;s 311 service.\\n\\n## Data Acquisition\\nThe data was acquired from the City of Berkeley&#x27;s open data portal. It includes various fields such as case ID, dates when the case was opened and closed, request categories, subcategories, details, and location information among others.\\n\\n## Data Cleaning\\nThe data cleaning process involved converting date fields to datetime objects, handling missing values, and dropping columns with a high percentage of missing data or those that are not relevant to our analysis.\\n\\n## Data Exploration and Visualization\\nWe have created visualizations to understand the distribution of numerical and categorical data. This helps in identifying patterns, trends, and outliers in the dataset.\\n\\nThe next steps will involve a deeper analysis to uncover insights such as the most common request categories, the average resolution time for cases, and any temporal trends in the data.&quot;,&quot;cell_type&quot;:&quot;markdown&quot;}</div></div><div><div style=\"color: #27374D; font-weight: 500; margin-bottom: 5px\">Output:</div><div style=\"background: #F7F9FA; color: #27374D; font-family: monospace; margin-bottom: 10px; overflow-x: auto; padding: 10px; unicode-bidi: embed; white-space: pre\">Cell ID `01HEVTHKS4ZV8GD2NEH99FM5F7` created successfully.</div></div></div></details></div>"
      ],
      "text/plain": [
       "<chatlab.display.ChatFunctionCall at 0x14c460bd0>"
      ]
     },
     "metadata": {},
     "output_type": "display_data"
    },
    {
     "data": {
      "text/markdown": [
       "I have added a narrative markdown cell to the notebook that outlines the steps we have taken so far, including data acquisition, cleaning, exploration, and visualization. This narrative provides context and explains the process we are following in our analysis of the Berkeley 311 calls dataset.\n",
       "\n",
       "You can view and interact with the notebook to see the markdown and the analysis we have performed up to this point. If you have any specific aspects you would like to explore further or any other requests, please let me know, and I'll be happy to continue the analysis."
      ],
      "text/plain": [
       "I have added a narrative markdown cell to the notebook that outlines the steps we have taken so far, including data acquisition, cleaning, exploration, and visualization. This narrative provides context and explains the process we are following in our analysis of the Berkeley 311 calls dataset.\n",
       "\n",
       "You can view and interact with the notebook to see the markdown and the analysis we have performed up to this point. If you have any specific aspects you would like to explore further or any other requests, please let me know, and I'll be happy to continue the analysis."
      ]
     },
     "metadata": {
      "text/markdown": {
       "chatlab": {
        "default": true
       }
      }
     },
     "output_type": "display_data"
    },
    {
     "name": "stderr",
     "output_type": "stream",
     "text": [
      "Received un-modeled RTU message msg.channel='files/28bafe03-cecc-4b7e-876a-7aedb1dfada0' msg.event='usage_metrics_event'\n",
      "Received un-modeled RTU message msg.channel='files/603087ed-d88b-4d32-908d-78a80e7dc5f9' msg.event='usage_metrics_event'\n"
     ]
    },
    {
     "name": "stderr",
     "output_type": "stream",
     "text": [
      "Received un-modeled RTU message msg.channel='files/28bafe03-cecc-4b7e-876a-7aedb1dfada0' msg.event='usage_metrics_event'\n",
      "Received un-modeled RTU message msg.channel='files/603087ed-d88b-4d32-908d-78a80e7dc5f9' msg.event='usage_metrics_event'\n",
      "Received un-modeled RTU message msg.channel='files/28bafe03-cecc-4b7e-876a-7aedb1dfada0' msg.event='usage_metrics_event'\n",
      "Received un-modeled RTU message msg.channel='files/603087ed-d88b-4d32-908d-78a80e7dc5f9' msg.event='usage_metrics_event'\n"
     ]
    }
   ],
   "source": [
    "await chat(\"Please add some narrative markdown cells to the notebook too.\")"
   ]
  }
 ],
 "metadata": {
  "kernelspec": {
   "display_name": "chatlab-3kMKfU-i-py3.11",
   "language": "python",
   "name": "python3"
  },
  "language_info": {
   "codemirror_mode": {
    "name": "ipython",
    "version": 3
   },
   "file_extension": ".py",
   "mimetype": "text/x-python",
   "name": "python",
   "nbconvert_exporter": "python",
   "pygments_lexer": "ipython3",
   "version": "3.11.1"
  },
  "orig_nbformat": 4
 },
 "nbformat": 4,
 "nbformat_minor": 2
}
